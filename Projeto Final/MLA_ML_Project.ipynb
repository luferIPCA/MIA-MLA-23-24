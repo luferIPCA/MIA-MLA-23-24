{
  "nbformat": 4,
  "nbformat_minor": 0,
  "metadata": {
    "colab": {
      "provenance": []
    },
    "kernelspec": {
      "name": "python3",
      "display_name": "Python 3"
    },
    "language_info": {
      "name": "python"
    }
  },
  "cells": [
    {
      "cell_type": "markdown",
      "metadata": {
        "id": "c1kf9qddTM4D"
      },
      "source": [
        "# Masters' in Applied Artificial Intelligence\n",
        "## Machine Learning Algorithms Course\n",
        "\n",
        "Machine Learning Project Template Report\n",
        "\n",
        "by [*lufer*](mailto:lufer@ipca.pt)\n",
        "\n",
        "---\n",
        "\n"
      ]
    },
    {
      "cell_type": "markdown",
      "metadata": {
        "id": "3yc6mD0jVeWN"
      },
      "source": [
        "# Project Template Report for ML Evaluation and Validation\n",
        "\n",
        "## Project: `Title`\n",
        "\n",
        "### Project Overview\n",
        "\n",
        "```\n",
        "# This project applys the basic machine learning concepts on data collected for ... to predict the ....\n",
        "Firstly the data is explored to obtain important features and descriptive statistics about the dataset.\n",
        "Next, the data is prepared and splited accordingly on testing and training subsets, and suitable performance metric for this problem are determined.\n",
        "Follow the performance analysis the used learning algorithm with varying parameters and training set sizes.\n",
        "Finally, the optimal model will be tested on a new sample and compare the predicted ....\n",
        "The idea is to get model that best generalizes for unseen data.\n",
        "```\n"
      ]
    },
    {
      "cell_type": "markdown",
      "source": [
        "###Problem Description\n",
        "\n",
        "```\n",
        "The Dataset of....\n",
        "(describe and sustain well the problem, dataset, goals, etc...)\n",
        "```\n",
        "\n"
      ],
      "metadata": {
        "id": "UDBKQ8rmMa5Q"
      }
    },
    {
      "cell_type": "markdown",
      "source": [
        "### Software and Libraries\n",
        "\n",
        "```\n",
        "This project explored the following software and Python libraries:\n",
        "- [Python](https://www.python.org/download/releases/3.0/)\n",
        "- [NumPy](http://www.numpy.org/)\n",
        "- etc.....\n",
        "```"
      ],
      "metadata": {
        "id": "kyjMymsSM90G"
      }
    },
    {
      "cell_type": "markdown",
      "source": [
        "### Training Data\n",
        "\n",
        "```\n",
        "- Load Libraries\n",
        "- Load dataset\n",
        "- Dataset Attributes/Metadata\n",
        "\n",
        "Explore:\n",
        "- Summarizing Data\n",
        "- Descriptive statistics\n",
        "- Data visualizations\n",
        "```\n",
        "\n"
      ],
      "metadata": {
        "id": "1Gjq0RO9m3fb"
      }
    },
    {
      "cell_type": "markdown",
      "source": [
        "### Data Preparation\n",
        "\n",
        "```\n",
        "- Data Understanding\n",
        "- Data Indentication\n",
        "- Data Augmentation\n",
        "- Data Agregation\n",
        "- Feature Engineering:\n",
        "  - Normalization; Standardization; Data Cleansing; Stratification;\n",
        "  - Missing Values; Invalid Values;\n",
        "  - Features selection; Data imbanlance; Addressing bias; etc.\n",
        "\n",
        "Explore:\n",
        "- Data Cleaning\n",
        "- Feature Selection\n",
        "- Feature Engineering\n",
        "```\n"
      ],
      "metadata": {
        "id": "umJC78BLY66q"
      }
    },
    {
      "cell_type": "markdown",
      "source": [
        "### Modelling\n",
        "\n",
        "```\n",
        "# Modelling involves selecting and training a suitable model to address the problem at hand.\n",
        "\n",
        "Choose the more appropriate model, considering:\n",
        "- strengths and weaknesses,\n",
        "- nature of the problem,\n",
        "- the size and quality of the available data,\n",
        "- interpretability requirements,\n",
        "- computational resources,\n",
        "- time constraints.\n",
        "\n",
        "Explore:\n",
        "- decisions about model selection,\n",
        "- addressing overfitting and regularization,\n",
        "- conducting the training process,\n",
        "- mitigating risks.\n",
        "\n",
        "```\n"
      ],
      "metadata": {
        "id": "3nDMkuM8Zif3"
      }
    },
    {
      "cell_type": "markdown",
      "source": [
        "### Modelling Evaluation\n",
        "\n",
        "```\n",
        "The modelling phase focuses on assessing the performance and effectiveness of the trained models using consistent evaluation techniques. Consistency is crucial to ensure fair comparisons across different models and iterations.\n",
        "\n",
        "- Choose appropriate metrics\n",
        "- Model debugging techniques\n",
        "- Explore multiple models\n",
        "\n",
        "Explore:\n",
        "- Split-out validation dataset\n",
        "- Test options and evaluation metric\n",
        "- Spot Check Algorithms\n",
        "- Compare Algorithms\n",
        "```\n",
        "\n",
        "\n"
      ],
      "metadata": {
        "id": "uVgoc2fbZmm-"
      }
    },
    {
      "cell_type": "markdown",
      "source": [
        "### Model Improvement\n",
        "\n",
        "```\n",
        "Model improvement tend to get bettter accuracy of models:\n",
        "- finding patterns in data,\n",
        "- identifying outliers and anomalies,\n",
        "- making better predictions.\n",
        "\n",
        "Explore:\n",
        "- Hyperparameter optimization\n",
        "- Algorithm Tuning\n",
        "- Ensembles\n",
        "```\n"
      ],
      "metadata": {
        "id": "K4iPLJBtZ-KT"
      }
    },
    {
      "cell_type": "markdown",
      "source": [
        "### Finaize Model\n",
        "\n",
        "\n",
        "```\n",
        "- Predictions on validation dataset\n",
        "- Create standalone model on entire training dataset\n",
        "- Report predictions\n",
        "- Preserve the model\n",
        "```\n",
        "\n"
      ],
      "metadata": {
        "id": "7Wc4YJ79oDG4"
      }
    },
    {
      "cell_type": "markdown",
      "source": [
        "### References\n",
        "\n",
        "Cite references used on this project\n",
        "\n",
        "```\n",
        "References that should help:\n",
        "- Designing Machine Learning Systems: An Iterative Process for Production-Ready Applications by Chip Huyen\n",
        "\n",
        "- Machine Learning Design Patterns: Solutions to Common Challenges in Data Preparation, Model Building, and MLOps by Valliappa Lakshmanan\n",
        "```\n"
      ],
      "metadata": {
        "id": "cV63oEEQYZEW"
      }
    },
    {
      "cell_type": "markdown",
      "source": [
        "### Source Code\n",
        "\n",
        "\n",
        "```\n",
        "# Git Repositoriy\n",
        "```\n",
        "\n"
      ],
      "metadata": {
        "id": "Ty2zBwG_jDmE"
      }
    },
    {
      "cell_type": "markdown",
      "source": [
        "### Finally\n",
        "\n",
        "```\n",
        "Prepare the Dataset to be published in Kaggle\n",
        "```\n",
        "\n"
      ],
      "metadata": {
        "id": "MBvYcKp8P2v5"
      }
    }
  ]
}