{
  "nbformat": 4,
  "nbformat_minor": 0,
  "metadata": {
    "colab": {
      "provenance": []
    },
    "kernelspec": {
      "name": "python3",
      "display_name": "Python 3"
    },
    "language_info": {
      "name": "python"
    }
  },
  "cells": [
    {
      "cell_type": "code",
      "execution_count": null,
      "metadata": {
        "id": "Llv8YkS02gxs"
      },
      "outputs": [],
      "source": [
        "#!Begin"
      ]
    },
    {
      "cell_type": "markdown",
      "metadata": {
        "id": "c1kf9qddTM4D"
      },
      "source": [
        "# Masters' in Applied Artificial Intelligence\n",
        "## Machine Learning Algorithms Course\n",
        "\n",
        "Notebooks for the MLA course\n",
        "\n",
        "by [*lufer*](mailto:lufer@ipca.pt)\n",
        "\n",
        "---\n",
        "\n"
      ]
    },
    {
      "cell_type": "markdown",
      "metadata": {
        "id": "3yc6mD0jVeWN"
      },
      "source": [
        "# ML Modelling - Part VIII - Ensemble Machine Learning Models (Exercise)\n",
        "\\\n",
        "**Contents**:\n",
        "\n",
        "1. **Ensamble model using Boosting technique**\n",
        "2. **Solution of the Exercise 4**\n",
        "\n",
        "\\\n",
        "Tasks to be performed:\n",
        "1. Load the data\n",
        "2. Split the data into training and testing sets\n",
        "3. Build a Decision Tree Classifier and get its Accuracy Score\n",
        "4. Build an AdaBoost Model and get its Accuracy Score\n",
        "5. Compare the Accuracy Scores\n",
        "\n"
      ]
    },
    {
      "cell_type": "markdown",
      "source": [
        "### Load Dataset"
      ],
      "metadata": {
        "id": "JrMrf_raCm9J"
      }
    },
    {
      "cell_type": "code",
      "source": [
        "#see https://scikit-learn.org/stable/modules/generated/sklearn.datasets.load_breast_cancer.html\n",
        "from sklearn.datasets import load_breast_cancer\n",
        "\n",
        "#Load the breast cancer dataset\n",
        "x, y = load_breast_cancer(return_X_y=True)"
      ],
      "metadata": {
        "id": "OeEO8ZcA3frv"
      },
      "execution_count": 1,
      "outputs": []
    },
    {
      "cell_type": "markdown",
      "source": [
        "### Split the data into training and testing sets"
      ],
      "metadata": {
        "id": "lrbUkOjM4xY-"
      }
    },
    {
      "cell_type": "code",
      "source": [
        "from sklearn.model_selection import train_test_split\n",
        "\n",
        "#Split the dataset into 70% training set and 30% testing set\n",
        "x_train, x_test, y_train, y_test = train_test_split(x, y, test_size=0.3,   random_state=23)"
      ],
      "metadata": {
        "id": "5BhzCA7A3jSQ"
      },
      "execution_count": 2,
      "outputs": []
    },
    {
      "cell_type": "markdown",
      "source": [
        "### Build a Decision Tree Classifier and get its Accuracy Score"
      ],
      "metadata": {
        "id": "rr2az2tR41CT"
      }
    },
    {
      "cell_type": "code",
      "source": [
        "#Decision tree classifier\n",
        "from sklearn.tree import DecisionTreeClassifier\n",
        "from sklearn.metrics import accuracy_score\n",
        "\n",
        "#Train a Decision tree classifier\n",
        "dtree = DecisionTreeClassifier(max_depth=1, random_state=23)\n",
        "dtree.fit(x_train,y_train)\n",
        "dt_pred = dtree.predict(x_test)\n",
        "\n",
        "dt_acc = round(accuracy_score(y_test,dt_pred),3)\n",
        "print(f\"Decision Tree Classifier Accuracy Score: \", dt_acc)"
      ],
      "metadata": {
        "id": "ID8em4V23mb8",
        "colab": {
          "base_uri": "https://localhost:8080/"
        },
        "outputId": "4c0a4c81-6283-4576-cd1a-3798120b9bf3"
      },
      "execution_count": 3,
      "outputs": [
        {
          "output_type": "stream",
          "name": "stdout",
          "text": [
            "Decision Tree Classifier Accuracy Score:  0.924\n"
          ]
        }
      ]
    },
    {
      "cell_type": "markdown",
      "source": [
        "### Build an AdaBoost Model and get its Accuracy Score"
      ],
      "metadata": {
        "id": "0AzoHDfZDEDp"
      }
    },
    {
      "cell_type": "markdown",
      "source": [
        "The AdaBoost ensemble model is initialized with the following parameters:\n",
        "\n",
        "* base_estimator = Decision Tree (default)\n",
        "* n_estimators = 50 (create 50 samples to train 50 decision tree base models)\n",
        "* learning_rate = 0.6 (shrinks the contribution of each learner model by the value given)\n",
        "\n",
        "\n",
        "```\n",
        "Note: AdaBoost explores Squencial Decison Trees where  each tree adjusts its weights based on prior knowledge of accuracies. Hence, the training in such technique is a sequential (rather than parallel - like happens in Bagging Random Forest) process.\n",
        "```\n",
        "\n"
      ],
      "metadata": {
        "id": "YJOhk3GY31aO"
      }
    },
    {
      "cell_type": "code",
      "source": [
        "from sklearn.ensemble import AdaBoostClassifier\n",
        "\n",
        "#AdaBoost Model using Decision Tree Classifier\n",
        "ada = AdaBoostClassifier(n_estimators=50,learning_rate=0.6)\n",
        "ada.fit(x_train,y_train)\n",
        "ada_pred = ada.predict(x_test)\n",
        "\n",
        "ada_acc = round(accuracy_score(y_test,ada_pred),3)\n",
        "print(f\"Decision Tree AdaBoost Model Accuracy Score: \", ada_acc)\n"
      ],
      "metadata": {
        "id": "0j1d6sK13ppT",
        "colab": {
          "base_uri": "https://localhost:8080/"
        },
        "outputId": "3b92179e-6ef5-4017-ca30-9e1c76a5bc9a"
      },
      "execution_count": 4,
      "outputs": [
        {
          "output_type": "stream",
          "name": "stdout",
          "text": [
            "Decision Tree AdaBoost Model Accuracy Score:  0.982\n"
          ]
        }
      ]
    },
    {
      "cell_type": "markdown",
      "source": [
        "### Compare the Accuracy Scores"
      ],
      "metadata": {
        "id": "d3x-zAFvDh6m"
      }
    },
    {
      "cell_type": "code",
      "source": [
        "import numpy as np\n",
        "import matplotlib.pyplot as plt\n",
        "\n",
        "#Compare the Accuracy Scores through Visualization\n",
        "plt.figure(figsize=(5,2))\n",
        "plt.barh(np.arange(2),[dt_acc,ada_acc],\n",
        "         tick_label=['Decision Tree','AdaBoost'])"
      ],
      "metadata": {
        "colab": {
          "base_uri": "https://localhost:8080/",
          "height": 231
        },
        "id": "l7IzhE2iDis4",
        "outputId": "116b2c82-ac5f-4f3e-8802-17b16fc65d98"
      },
      "execution_count": 6,
      "outputs": [
        {
          "output_type": "execute_result",
          "data": {
            "text/plain": [
              "<BarContainer object of 2 artists>"
            ]
          },
          "metadata": {},
          "execution_count": 6
        },
        {
          "output_type": "display_data",
          "data": {
            "text/plain": [
              "<Figure size 500x200 with 1 Axes>"
            ],
            "image/png": "[encoded data removed]"
          },
          "metadata": {}
        }
      ]
    },
    {
      "cell_type": "markdown",
      "source": [
        "*Observation*:  AdaBoost improves the performance and accuracy of the above Decision Tree Classifier."
      ],
      "metadata": {
        "id": "oxMspBNuDvc2"
      }
    },
    {
      "cell_type": "code",
      "source": [
        "#!End"
      ],
      "metadata": {
        "id": "g6u4dkR45UrM"
      },
      "execution_count": null,
      "outputs": []
    }
  ]
}