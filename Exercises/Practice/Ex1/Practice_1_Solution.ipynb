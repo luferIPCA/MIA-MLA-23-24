{
  "cells": [
    {
      "cell_type": "markdown",
      "metadata": {
        "id": "1yE1ar-m5yEv"
      },
      "source": [
        "# Masters' in Applied Artificial Intelligence\n",
        "## Machine Learning Algorithms Course\n",
        "\n",
        "Notebooks to solve Practice 1 Exercise\n",
        "\n",
        "by [*lufer*](mailto:lufer@ipca.pt)\n",
        "\n",
        "---\n"
      ]
    },
    {
      "cell_type": "markdown",
      "metadata": {
        "id": "cOX1HBNA6BwG"
      },
      "source": [
        "## 0. Setup\n",
        "\n",
        "Importing necessary libraries\n",
        "\n",
        "Mount google drive"
      ]
    },
    {
      "cell_type": "code",
      "execution_count": null,
      "metadata": {
        "id": "dcQjdg4D5qwc"
      },
      "outputs": [],
      "source": [
        "import numpy as np\n",
        "import pandas as pd\n",
        "from matplotlib import pyplot as plt"
      ]
    },
    {
      "cell_type": "code",
      "execution_count": null,
      "metadata": {
        "id": "WyzD2uVb7sIz"
      },
      "outputs": [],
      "source": [
        "#mounting google drive\n",
        "from google.colab import drive\n",
        "\n",
        "# it will ask for your google drive credentiaals\n",
        "drive.mount('/content/gDrive/', force_remount=True)"
      ]
    },
    {
      "cell_type": "markdown",
      "metadata": {
        "id": "rBKm1n0h6mWx"
      },
      "source": [
        "## Handle the Exercise Questions\n",
        "### 1. Load the dataset\n",
        "\n",
        "Car Sales Datatset"
      ]
    },
    {
      "cell_type": "code",
      "execution_count": null,
      "metadata": {
        "id": "4AtPNv0mJ-1G"
      },
      "outputs": [],
      "source": [
        "# load the data\n",
        "filePath=\"/content/gDrive/MyDrive/MIA/ColabNotebooks/Datasets/\"\n",
        "ds = pd.read_csv(filePath+\"car_sales.csv\")\n",
        "# ds = pd.read_csv(url)\n",
        "# ds.head()\n",
        "\n",
        "#download from a github url\n",
        "#the link must pooint for the \"raw version\" of the intended file\n",
        "#ds1 = pd.read_csv('https://raw.githubusercontent.com/luferIPCA/MIA-MLA-23-24/master/Exercises/Ex3-DatasetsManipulation/ExampleDataset/test.csv')\n",
        "#ds1"
      ]
    },
    {
      "cell_type": "markdown",
      "metadata": {
        "id": "NLnaUlxT7_Ej"
      },
      "source": [
        "### 2.\tCheck its shape! Create manually a new dataframe with similar shape"
      ]
    },
    {
      "cell_type": "code",
      "execution_count": null,
      "metadata": {
        "id": "LOnh9R5XLa5N"
      },
      "outputs": [],
      "source": [
        "ds.shape"
      ]
    },
    {
      "cell_type": "markdown",
      "metadata": {
        "id": "EhfNB3WSLqio"
      },
      "source": [
        "*Dataframe* is a 2-dimension data structure. *Series* is a one dimension!"
      ]
    },
    {
      "cell_type": "code",
      "execution_count": null,
      "metadata": {
        "id": "vOhsyRt5LiEb"
      },
      "outputs": [],
      "source": [
        "#Review:\n",
        "#create a series (array)\n",
        "marks = pd.Series([\"Toyota\",\"Ford\",\"Fiat\",\"Mazda\", \"BMW\"])\n",
        "#marks\n",
        "colours = pd.Series([\"Red\",\"Red\",\"Blue\",\"Green\",\"White\"])\n",
        "#colours\""
      ]
    },
    {
      "cell_type": "code",
      "execution_count": null,
      "metadata": {
        "id": "9kD-H_CWMIPn"
      },
      "outputs": [],
      "source": [
        "#create manually a dataframe\n",
        "#option 1\n",
        "df = pd.DataFrame({\"Car Make\":[\"Toyota\",\"Ford\"],\"Car Colour\":[\"Red\",\"Blue\"]})\n",
        "df"
      ]
    },
    {
      "cell_type": "code",
      "execution_count": null,
      "metadata": {
        "id": "P5OQYy-lMx7o"
      },
      "outputs": [],
      "source": [
        "#what dows this command do? why?\n",
        "#df = pd.DataFrame({\"Car Make\":[\"Toyota\",\"Ford\"],\"Car Colour\":[\"Red\",\"Blue\",\"Yellow\"]})\n",
        "#Correct it!"
      ]
    },
    {
      "cell_type": "code",
      "execution_count": null,
      "metadata": {
        "id": "1Med6lDKNELB"
      },
      "outputs": [],
      "source": [
        "#create manually a dataframe\n",
        "#option 2\n",
        "df = pd.DataFrame({\"Car Make\":marks,\"Car Colour\":colours})\n",
        "df"
      ]
    },
    {
      "cell_type": "markdown",
      "metadata": {
        "id": "egSQneGZSNBH"
      },
      "source": [
        "### 3.\tCheck its data types and its basic statistics"
      ]
    },
    {
      "cell_type": "code",
      "execution_count": null,
      "metadata": {
        "id": "-0udlsUKSPIo"
      },
      "outputs": [],
      "source": [
        "ds.dtypes\n",
        "pd.set_option(\"display.precision\", 2)\n",
        "ds.describe()\n",
        "#Why descrive explors only Odometer and Doors?\n",
        "\n",
        "#Note: \"describe\" works only in numeric values. How to change that?"
      ]
    },
    {
      "cell_type": "markdown",
      "metadata": {
        "id": "JtnWAaqaS6nT"
      },
      "source": [
        "### 4.\tShow graphically the number of kilometres for each car mark"
      ]
    },
    {
      "cell_type": "code",
      "execution_count": null,
      "metadata": {
        "id": "-0g4WFcISeL3"
      },
      "outputs": [],
      "source": [
        "# importing library to plot\n",
        "import matplotlib.pyplot as plt\n",
        "#or\n",
        "#%matplotlib inline\n",
        "\n",
        "#see\n",
        "#https://pandas.pydata.org/docs/reference/api/pandas.DataFrame.plot.html\n",
        "#https://pythonguides.com/matplotlib-bar-chart-labels/\n",
        "\n",
        "#option 1\n",
        "ds.columns\n",
        "ds['Make'].value_counts().plot(kind='bar',xlabel='Car Marks', ylabel='kilometres', title='Odometer',grid=True,figsize=(5,5))\n",
        "plt.show()\n",
        "\n",
        "#option 2\n",
        "#auxChart = ds['Doors'].plot(kind='bar',xlabel='Car Marks', ylabel='kilometres', title='Odometer',legend=True,grid=True,figsize=(5,5))\n",
        "#or\n",
        "#auxChart.set(xlabel=\"Car Marks\", ylabel=\"Kilometers\")"
      ]
    },
    {
      "cell_type": "markdown",
      "metadata": {
        "id": "8J8fQqSx8OLb"
      },
      "source": [
        "### 5.\tCheck if there is null values"
      ]
    },
    {
      "cell_type": "code",
      "execution_count": null,
      "metadata": {
        "id": "6NVZluN5S8Oa"
      },
      "outputs": [],
      "source": [
        "#Check it\n",
        "#option 1 - with info()\n",
        "#ds.info()\n",
        "\n",
        "#option 2 - with \"describe()\"\n",
        "#ds.describe()\n",
        "\n",
        "#option 3 - with \"value\"\n",
        "ds.values\n",
        "\n",
        "#Answer: yes, there is! Price and Odometer have null values\n"
      ]
    },
    {
      "cell_type": "markdown",
      "metadata": {
        "id": "jBcrUXkM90AK"
      },
      "source": [
        "## 6.\tCorrect the null values with default values"
      ]
    },
    {
      "cell_type": "markdown",
      "metadata": {
        "id": "3d37YuCjeYij"
      },
      "source": [
        "There are three type of null values (*Null/None/ Nan Values*)"
      ]
    },
    {
      "cell_type": "code",
      "execution_count": null,
      "metadata": {
        "id": "4ucIu4aGgWJ-"
      },
      "outputs": [],
      "source": [
        "#see all null values\n",
        "dsNulls = ds.isnull()\n",
        "dsNulls"
      ]
    },
    {
      "cell_type": "markdown",
      "metadata": {
        "id": "uPrPssOrhg_4"
      },
      "source": [
        "Replace \"Colour\" null values by default color (\"White\")"
      ]
    },
    {
      "cell_type": "code",
      "execution_count": null,
      "metadata": {
        "id": "EALPz40dhpb2"
      },
      "outputs": [],
      "source": [
        "dfNulls = ds.copy()"
      ]
    },
    {
      "cell_type": "code",
      "execution_count": null,
      "metadata": {
        "id": "nwvHX-TJhFlB"
      },
      "outputs": [],
      "source": [
        "dfNulls['Colour'].fillna(value=\"White\", inplace=True)\n",
        "dfNulls\n"
      ]
    },
    {
      "cell_type": "markdown",
      "metadata": {
        "id": "g0iW_fSG979T"
      },
      "source": [
        "## 7.\tCreate a new feature corresponding to the cost of the car, but in Euros. Chek the actual dollars rate."
      ]
    },
    {
      "cell_type": "code",
      "execution_count": null,
      "metadata": {
        "id": "Oj_xDT5g8QXI"
      },
      "outputs": [],
      "source": [
        "#reset ds\n",
        "#ds=ds.drop(columns=['C','B','PriceInt2','PriceInt'])\n",
        "#ds=ds.drop(columns=['B'])\n",
        "dsc=ds.copy()\n",
        "\n",
        "#Note: the column datatype is \"object\"\n",
        "#step 1: convert object  to string\n",
        "dsc['B'] = dsc['Price'].astype(\"string\")\n",
        "\n",
        "#step 2: remove character '$'\n",
        "dsc['C'] = dsc['B'].str.replace(r'$', '', regex=True)\n",
        "\n",
        "#step 3: change ',' by '.'\n",
        "dsc['C'] = dsc['C'].str.replace(r'\\,', '.', regex=True)\n",
        "\n",
        "#step 4: convert em euros: rate=0.95\n",
        "try:\n",
        "  #dsc['D']=pd.to_numeric(dsc['C'])\n",
        "  dsc['PriceEuros']=pd.to_numeric(dsc['C'])*0.95\n",
        "except Exception as e:\n",
        "        print('Cannot convert string to float')\n",
        "        print (e)\n",
        "try:\n",
        "  #delete temporary columns\n",
        "  dsc= dsc.drop(columns=['B','C'])\n",
        "except:\n",
        "  print(\"Error\")\n",
        "#AQUI"
      ]
    },
    {
      "cell_type": "code",
      "execution_count": null,
      "metadata": {
        "id": "w1IE3a01k10e"
      },
      "outputs": [],
      "source": [
        "dsc\n",
        "\n"
      ]
    },
    {
      "cell_type": "code",
      "execution_count": null,
      "metadata": {
        "id": "ok_tFPYVhaqP"
      },
      "outputs": [],
      "source": [
        "\n",
        "dsc.info()\n"
      ]
    },
    {
      "cell_type": "code",
      "execution_count": null,
      "metadata": {
        "id": "quviuFB1posy"
      },
      "outputs": [],
      "source": [
        "#converting currency values\n",
        "from re import sub\n",
        "from decimal import Decimal\n",
        "\n",
        "money = '$6,150,593.22'\n",
        "value = Decimal(sub(r'[^\\d.]', '', money))"
      ]
    },
    {
      "cell_type": "code",
      "execution_count": null,
      "metadata": {
        "id": "BKGJHy0aiy2Z"
      },
      "outputs": [],
      "source": [
        "value"
      ]
    },
    {
      "cell_type": "markdown",
      "metadata": {
        "id": "uBhOGPCAnyp_"
      },
      "source": [
        "## 8.\tExpand the dataset with more records."
      ]
    },
    {
      "cell_type": "markdown",
      "metadata": {
        "id": "y4w6uvAFox_5"
      },
      "source": [
        "See https://medium.com/analytics-vidhya/dummy-dataframes-5672216d636"
      ]
    },
    {
      "cell_type": "markdown",
      "metadata": {
        "id": "_i1zjTLtHzSH"
      },
      "source": [
        "### Overview"
      ]
    },
    {
      "cell_type": "code",
      "execution_count": null,
      "metadata": {
        "id": "qGefyMKRn12I"
      },
      "outputs": [],
      "source": [
        "pd.util.testing.makeDataFrame()"
      ]
    },
    {
      "cell_type": "code",
      "execution_count": null,
      "metadata": {
        "id": "aFik4hbpn_TJ"
      },
      "outputs": [],
      "source": [
        "pd.util.testing.makeMixedDataFrame()"
      ]
    },
    {
      "cell_type": "code",
      "execution_count": null,
      "metadata": {
        "id": "BcBnQ2LAoI7D"
      },
      "outputs": [],
      "source": [
        "pd.util.testing.makeMissingDataframe()"
      ]
    },
    {
      "cell_type": "code",
      "execution_count": null,
      "metadata": {
        "id": "E6fRulPIp5gN"
      },
      "outputs": [],
      "source": [
        "#add new records (rows)\n",
        "\n",
        "numberRecords=20\n",
        "colors=[\"Red\",\"White\",\"Blue\",\"Yellow\",\"Green\",\"Black\",\"Rose\",\"Pink\",\"Gray\",\"Brown\"]\n",
        "marks=[\"Toyota\",\"Ford\",\"Fiat\",\"Citroen\"]\n",
        "dsDummy = pd.DataFrame({\n",
        "                      \"Make\": np.random.choice(marks,size=numberRecords),  #size=len(ds)\n",
        "                      \"Odometer\" : np.random.randint(low=1000, high=100000, size=numberRecords),\n",
        "                      \"Colour\": np.random.choice(colors,size=numberRecords), #size=len(ds)),\n",
        "                      \"Doors\": np.random.choice(range(3,6), numberRecords, replace=True),\n",
        "                      \"Price\": np.random.choice(np.random.uniform(size = numberRecords, low = 1000, high = 10000),size=numberRecords) #size=len(ds))\n",
        "                      },\n",
        "                     columns=ds.columns)"
      ]
    },
    {
      "cell_type": "code",
      "execution_count": null,
      "metadata": {
        "id": "iezZulvnqlkc"
      },
      "outputs": [],
      "source": [
        "dsDummy"
      ]
    },
    {
      "cell_type": "code",
      "execution_count": null,
      "metadata": {
        "id": "7CE1o9LpEFDW"
      },
      "outputs": [],
      "source": [
        "ds3=pd.concat([ds,dsDummy])"
      ]
    },
    {
      "cell_type": "code",
      "execution_count": null,
      "metadata": {
        "id": "uaGvTL1wETaT"
      },
      "outputs": [],
      "source": [
        "ds3"
      ]
    },
    {
      "cell_type": "markdown",
      "metadata": {
        "id": "oucJ3nv7Gc0R"
      },
      "source": [
        "## 9.\tExport the resulting datatset to a new file, without indexes."
      ]
    },
    {
      "cell_type": "code",
      "execution_count": null,
      "metadata": {
        "id": "eH6Loi5kEt0o"
      },
      "outputs": [],
      "source": [
        "ds3.to_csv(filePath+'Ex2newDataSet.csv')"
      ]
    },
    {
      "cell_type": "code",
      "execution_count": null,
      "metadata": {
        "id": "0d1qjSttIDtD"
      },
      "outputs": [],
      "source": []
    }
  ],
  "metadata": {
    "colab": {
      "provenance": []
    },
    "kernelspec": {
      "display_name": "Python 3",
      "name": "python3"
    }
  },
  "nbformat": 4,
  "nbformat_minor": 0
}
