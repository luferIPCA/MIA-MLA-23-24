{
  "cells": [
    {
      "cell_type": "markdown",
      "metadata": {
        "id": "c1kf9qddTM4D"
      },
      "source": [
        "# Masters' in Applied Artificial Intelligence\n",
        "## Machine Learning Algorithms Course\n",
        "\n",
        "Notebooks for MLA course\n",
        "\n",
        "by [*lufer*](mailto:lufer@ipca.pt)\n",
        "\n",
        "---\n",
        "\n"
      ]
    },
    {
      "cell_type": "markdown",
      "metadata": {
        "id": "3yc6mD0jVeWN"
      },
      "source": [
        "# Datasets on ML Modelling - Part II\n",
        "\n",
        "**Contents**:\n",
        "\n",
        "1.   Python essencial\n",
        "2.   Working with Datasets\n",
        "3.   **Features Manipulation**\n",
        "4.   **Cleaning Data**\n",
        "5.  Data Visualization\n"
      ]
    },
    {
      "cell_type": "markdown",
      "metadata": {
        "id": "GP-NymupVL02"
      },
      "source": [
        "## Environment preparation\n"
      ]
    },
    {
      "cell_type": "markdown",
      "metadata": {
        "id": "-3Rm857IVoPe"
      },
      "source": [
        "### Importing necessary Libraries"
      ]
    },
    {
      "cell_type": "code",
      "execution_count": 1,
      "metadata": {
        "id": "vA1MzNI4TU_q"
      },
      "outputs": [],
      "source": [
        "import pandas as pd\n",
        "import numpy as np"
      ]
    },
    {
      "cell_type": "markdown",
      "metadata": {
        "id": "bDLxcgMwJEYA"
      },
      "source": [
        "Mounting Drive"
      ]
    },
    {
      "cell_type": "code",
      "execution_count": null,
      "metadata": {
        "colab": {
          "base_uri": "https://localhost:8080/"
        },
        "id": "qxFY0ypTJJK9",
        "outputId": "6807696f-ec1a-4bee-8b68-6be7ae7a065b"
      },
      "outputs": [
        {
          "output_type": "stream",
          "name": "stdout",
          "text": [
            "Mounted at /content/gDrive/\n"
          ]
        }
      ],
      "source": [
        "\n",
        "from google.colab import drive\n",
        "\n",
        "# it will ask for your google drive credentiaals\n",
        "drive.mount('/content/gDrive/', force_remount=True)"
      ]
    },
    {
      "cell_type": "markdown",
      "metadata": {
        "id": "IrlsXAs4I0AZ"
      },
      "source": [
        "*Loading dataset*"
      ]
    },
    {
      "cell_type": "code",
      "execution_count": 2,
      "metadata": {
        "id": "IRpURt1tI2Sf",
        "colab": {
          "base_uri": "https://localhost:8080/"
        },
        "outputId": "c111a55d-8c32-4c1d-a9df-e934809b93cf"
      },
      "outputs": [
        {
          "output_type": "stream",
          "name": "stdout",
          "text": [
            "Download ready.\n"
          ]
        }
      ],
      "source": [
        "import requests\n",
        "\n",
        "download_url = \"https://raw.githubusercontent.com/fivethirtyeight/data/master/nba-elo/nbaallelo.csv\"\n",
        "target_csv_path = \"nbaAll.csv\"\n",
        "\n",
        "#create a local file with remote csv data\n",
        "response = requests.get(download_url)\n",
        "response.raise_for_status()\n",
        "with open(target_csv_path, \"wb\") as f:\n",
        "    f.write(response.content)\n",
        "print(\"Download ready.\")\n",
        "\n",
        "nba = pd.read_csv(\"nbaAll.csv\")"
      ]
    },
    {
      "cell_type": "code",
      "source": [
        "nba\n"
      ],
      "metadata": {
        "id": "XXdran7P74Ls"
      },
      "execution_count": null,
      "outputs": []
    },
    {
      "cell_type": "markdown",
      "metadata": {
        "id": "H3F4J7bkKVgF"
      },
      "source": [
        "## 3 - Features Manipulation"
      ]
    },
    {
      "cell_type": "code",
      "execution_count": null,
      "metadata": {
        "id": "1jNC8uv0KgHd"
      },
      "outputs": [],
      "source": [
        "#checking dataset structure\n",
        "nba.shape"
      ]
    },
    {
      "cell_type": "code",
      "source": [
        "nba.head()"
      ],
      "metadata": {
        "id": "RxZdMfFQ8RoL"
      },
      "execution_count": null,
      "outputs": []
    },
    {
      "cell_type": "markdown",
      "source": [
        "*Filtering columns with \"isin\"*"
      ],
      "metadata": {
        "id": "7VMLnNsgAUbP"
      }
    },
    {
      "cell_type": "code",
      "source": [
        "nbaYear = nba[nba[\"year_id\"].isin([1948, 1949])]\n",
        "nbaYear"
      ],
      "metadata": {
        "id": "YRRg1d3W8pbI"
      },
      "execution_count": null,
      "outputs": []
    },
    {
      "cell_type": "markdown",
      "source": [
        "*Get first N columns from a dataframe*"
      ],
      "metadata": {
        "id": "5jBNP6w2_8N8"
      }
    },
    {
      "cell_type": "code",
      "source": [
        "n=3\n",
        "aux = nba.iloc[:,:n]\n",
        "renamedNba\n",
        "aux"
      ],
      "metadata": {
        "id": "GvIW1dm--DhF"
      },
      "execution_count": null,
      "outputs": []
    },
    {
      "cell_type": "markdown",
      "source": [
        "*Get last N columns from a dataframe*"
      ],
      "metadata": {
        "id": "pqQolfQG_2un"
      }
    },
    {
      "cell_type": "code",
      "source": [
        "aux = nba.iloc[:,-3:]\n",
        "aux"
      ],
      "metadata": {
        "id": "old4dp6q-nA7"
      },
      "execution_count": null,
      "outputs": []
    },
    {
      "cell_type": "markdown",
      "source": [],
      "metadata": {
        "id": "4T9ObazgArtO"
      }
    },
    {
      "cell_type": "markdown",
      "metadata": {
        "id": "d3iNajqoK6cA"
      },
      "source": [
        "### Deriving new Feature"
      ]
    },
    {
      "cell_type": "markdown",
      "source": [
        "*Create new Feature (column)*"
      ],
      "metadata": {
        "id": "E9TRIHxxBA-I"
      }
    },
    {
      "cell_type": "code",
      "source": [
        "nba[\"date_played\"] = pd.to_datetime(nba[\"date_game\"])\n",
        "nba\n",
        "nba.columns"
      ],
      "metadata": {
        "id": "Q9PVU1sfAsQX",
        "colab": {
          "base_uri": "https://localhost:8080/"
        },
        "outputId": "1b82084b-879c-46bb-958b-395c2aec2254"
      },
      "execution_count": 11,
      "outputs": [
        {
          "output_type": "execute_result",
          "data": {
            "text/plain": [
              "Index(['gameorder', 'game_id', 'lg_id', '_iscopy', 'year_id', 'date_game',\n",
              "       'seasongame', 'is_playoffs', 'team_id', 'fran_id', 'pts', 'elo_i',\n",
              "       'elo_n', 'win_equiv', 'opp_id', 'opp_fran', 'opp_pts', 'opp_elo_i',\n",
              "       'opp_elo_n', 'game_location', 'game_result', 'forecast', 'notes',\n",
              "       'date_played'],\n",
              "      dtype='object')"
            ]
          },
          "metadata": {},
          "execution_count": 11
        }
      ]
    },
    {
      "cell_type": "markdown",
      "source": [
        "*Create new Feature from calculus over others*"
      ],
      "metadata": {
        "id": "-tWwn2yUID6m"
      }
    },
    {
      "cell_type": "code",
      "source": [
        "#See https://www.plus2net.com/python/pandas-dt-timedelta64.php\n",
        "from datetime import date\n",
        "today = pd.to_datetime(date.today())\n",
        "nba['DaysCPassed'] = (today-nba['date_played']) / np.timedelta64(1, 'D')\n",
        "nba.shape"
      ],
      "metadata": {
        "colab": {
          "base_uri": "https://localhost:8080/"
        },
        "id": "QgFpbtN7CeES",
        "outputId": "c965d24c-8202-487a-d0eb-87c0d600cf9a"
      },
      "execution_count": null,
      "outputs": [
        {
          "output_type": "execute_result",
          "data": {
            "text/plain": [
              "(126314, 26)"
            ]
          },
          "metadata": {},
          "execution_count": 66
        }
      ]
    },
    {
      "cell_type": "code",
      "source": [
        "nba.DaysCPassed.max()"
      ],
      "metadata": {
        "colab": {
          "base_uri": "https://localhost:8080/"
        },
        "id": "SzFuecvUIn3B",
        "outputId": "e25e3452-89bf-4513-f818-44c2d8253b50"
      },
      "execution_count": null,
      "outputs": [
        {
          "output_type": "execute_result",
          "data": {
            "text/plain": [
              "28206.0"
            ]
          },
          "metadata": {},
          "execution_count": 52
        }
      ]
    },
    {
      "cell_type": "markdown",
      "metadata": {
        "id": "KdBp7-zKJ7pj"
      },
      "source": [
        "### Change features names"
      ]
    },
    {
      "cell_type": "code",
      "execution_count": null,
      "metadata": {
        "id": "xk7qiuoJLJgX"
      },
      "outputs": [],
      "source": [
        "renamedNba = nba.rename(columns={\"DaysCPassed\": \"DaysPassed\"})"
      ]
    },
    {
      "cell_type": "code",
      "execution_count": null,
      "metadata": {
        "id": "MwzdfQr_LbH0"
      },
      "outputs": [],
      "source": [
        "renamedNba.info()\n",
        "print('-'*50)\n",
        "nba.info()"
      ]
    },
    {
      "cell_type": "markdown",
      "metadata": {
        "id": "jxPJJYUmL5H2"
      },
      "source": [
        "### Deleting Features"
      ]
    },
    {
      "cell_type": "markdown",
      "source": [
        "*Delete a particular Feature (column)*"
      ],
      "metadata": {
        "id": "Mp9WUNTqBusH"
      }
    },
    {
      "cell_type": "code",
      "source": [
        "df = nba.drop(columns=['C'])\n",
        "df.shape\n",
        "df"
      ],
      "metadata": {
        "id": "z6Veu-NEBeI-"
      },
      "execution_count": null,
      "outputs": []
    },
    {
      "cell_type": "code",
      "execution_count": null,
      "metadata": {
        "id": "5xh1AqiDLct9"
      },
      "outputs": [],
      "source": [
        "#renamedNba.drop(['C'], inplace=True, axis=1)\n",
        "renamedNba.info()\n",
        "print('-'*50)\n",
        "renamedNba.shape"
      ]
    },
    {
      "cell_type": "markdown",
      "metadata": {
        "id": "laaIfiSfVPK9"
      },
      "source": [
        "### Changing the Data Type of Columns"
      ]
    },
    {
      "cell_type": "code",
      "execution_count": null,
      "metadata": {
        "id": "q9rtxPJPP5R-"
      },
      "outputs": [],
      "source": [
        "df = nba.copy()\n",
        "df.info()\n",
        "df"
      ]
    },
    {
      "cell_type": "markdown",
      "source": [
        "*Convert column types*"
      ],
      "metadata": {
        "id": "hECg4AoHVAdj"
      }
    },
    {
      "cell_type": "code",
      "source": [
        "nba[\"date_played\"] = pd.to_datetime(nba[\"date_game\"])"
      ],
      "metadata": {
        "id": "xVmY08NOUqid"
      },
      "execution_count": null,
      "outputs": []
    },
    {
      "cell_type": "markdown",
      "source": [
        "*Identify unique values*"
      ],
      "metadata": {
        "id": "k37Je0HzR-ME"
      }
    },
    {
      "cell_type": "code",
      "execution_count": null,
      "metadata": {
        "id": "I4yHpqz7VVM1",
        "colab": {
          "base_uri": "https://localhost:8080/"
        },
        "outputId": "52c742f6-136a-46c9-9636-0eb2b489ad9d"
      },
      "outputs": [
        {
          "output_type": "stream",
          "name": "stdout",
          "text": [
            "['H' 'A' 'N']\n"
          ]
        }
      ],
      "source": [
        "a=df[\"game_location\"].unique()\n",
        "print(a)"
      ]
    },
    {
      "cell_type": "markdown",
      "source": [
        "*Counting distinct values*"
      ],
      "metadata": {
        "id": "tmJG4UZWSdKz"
      }
    },
    {
      "cell_type": "code",
      "source": [
        "a=df[\"game_location\"].nunique()\n",
        "a"
      ],
      "metadata": {
        "colab": {
          "base_uri": "https://localhost:8080/"
        },
        "id": "Ff8UcOTYSgBq",
        "outputId": "a7aa9642-22d7-46a3-c2a1-59dbabd4647e"
      },
      "execution_count": null,
      "outputs": [
        {
          "output_type": "execute_result",
          "data": {
            "text/plain": [
              "3"
            ]
          },
          "metadata": {},
          "execution_count": 105
        }
      ]
    },
    {
      "cell_type": "markdown",
      "source": [
        "*Occurences*"
      ],
      "metadata": {
        "id": "nH8mnxzTS8Ky"
      }
    },
    {
      "cell_type": "code",
      "execution_count": null,
      "metadata": {
        "id": "OVLKL1J2Vhba",
        "colab": {
          "base_uri": "https://localhost:8080/"
        },
        "outputId": "d0fd5fbc-9e2a-44ae-a671-820c56d78d3a"
      },
      "outputs": [
        {
          "output_type": "execute_result",
          "data": {
            "text/plain": [
              "BOS    5997\n",
              "NYK    5769\n",
              "LAL    5078\n",
              "DET    4985\n",
              "PHI    4533\n",
              "       ... \n",
              "INJ      60\n",
              "PIT      60\n",
              "DTF      60\n",
              "TRH      60\n",
              "SDS      11\n",
              "Name: team_id, Length: 104, dtype: int64"
            ]
          },
          "metadata": {},
          "execution_count": 106
        }
      ],
      "source": [
        "df['team_id'].value_counts()"
      ]
    },
    {
      "cell_type": "markdown",
      "metadata": {
        "id": "3vf4jAgyXXs_"
      },
      "source": [
        "Make colunms Category type"
      ]
    },
    {
      "cell_type": "code",
      "execution_count": null,
      "metadata": {
        "id": "GNu2sTVQV0nK"
      },
      "outputs": [],
      "source": [
        "t= pd.Categorical(nba['team_id'] )"
      ]
    },
    {
      "cell_type": "code",
      "execution_count": null,
      "metadata": {
        "id": "JcabHdnYWUjb",
        "colab": {
          "base_uri": "https://localhost:8080/"
        },
        "outputId": "ffdff258-a9d8-43ae-9cf1-801ac2cf8a52"
      },
      "outputs": [
        {
          "output_type": "execute_result",
          "data": {
            "text/plain": [
              "['TRH', 'NYK', 'CHS', 'NYK', 'DTF', ..., 'CLE', 'GSW', 'CLE', 'CLE', 'GSW']\n",
              "Length: 126314\n",
              "Categories (104, object): ['ANA', 'AND', 'ATL', 'BAL', ..., 'WAT', 'WSA', 'WSB', 'WSC']"
            ]
          },
          "metadata": {},
          "execution_count": 108
        }
      ],
      "source": [
        "t"
      ]
    },
    {
      "cell_type": "code",
      "execution_count": null,
      "metadata": {
        "id": "XciES3d-WWG_"
      },
      "outputs": [],
      "source": [
        "df.info()"
      ]
    },
    {
      "cell_type": "code",
      "execution_count": null,
      "metadata": {
        "id": "9UnR8HIXWmZI"
      },
      "outputs": [],
      "source": [
        "df[\"game_location\"] = pd.Categorical(df[\"game_location\"])\n",
        "df[\"game_location\"].dtype"
      ]
    },
    {
      "cell_type": "code",
      "execution_count": null,
      "metadata": {
        "id": "KP5AAgR1WyDv"
      },
      "outputs": [],
      "source": [
        "df.info()"
      ]
    },
    {
      "cell_type": "markdown",
      "source": [
        "### Aggregations for `DataFrame`\n"
      ],
      "metadata": {
        "id": "5BJYtKcMetCC"
      }
    },
    {
      "cell_type": "code",
      "source": [
        "points = nba[\"pts\"]\n",
        "type(points)\n",
        "# Expected:\n",
        "# <class 'pandas.core.series.Series'>"
      ],
      "metadata": {
        "colab": {
          "base_uri": "https://localhost:8080/"
        },
        "id": "hMwkvAqRez6B",
        "outputId": "e9cdcdb2-2b93-49b9-a8ea-bcb819da3e2a"
      },
      "execution_count": null,
      "outputs": [
        {
          "output_type": "execute_result",
          "data": {
            "text/plain": [
              "pandas.core.series.Series"
            ]
          },
          "metadata": {},
          "execution_count": 151
        }
      ]
    },
    {
      "cell_type": "code",
      "source": [
        "points.sum()\n",
        "# Expected:\n",
        "# 12976235"
      ],
      "metadata": {
        "colab": {
          "base_uri": "https://localhost:8080/"
        },
        "id": "mab09Drbe7SU",
        "outputId": "32b4c13b-9876-42ba-85dc-2a9d996c1b27"
      },
      "execution_count": null,
      "outputs": [
        {
          "output_type": "execute_result",
          "data": {
            "text/plain": [
              "12976235"
            ]
          },
          "metadata": {},
          "execution_count": 152
        }
      ]
    },
    {
      "cell_type": "markdown",
      "source": [
        "### Grouping"
      ],
      "metadata": {
        "id": "bshH5MkZfB6-"
      }
    },
    {
      "cell_type": "code",
      "source": [
        "nba.groupby(\"fran_id\", sort=False)[\"pts\"].sum()\n",
        "# Expected:\n",
        "# fran_id\n",
        "# Huskies           3995\n",
        "# Knicks          582497\n",
        "# Stags            20398\n",
        "# Falcons           3797\n",
        "# Capitols         22387"
      ],
      "metadata": {
        "id": "R1HPN50afDCe"
      },
      "execution_count": null,
      "outputs": []
    },
    {
      "cell_type": "markdown",
      "metadata": {
        "id": "ziv3nXCrXgFY"
      },
      "source": [
        "## 4 - Cleaning Data"
      ]
    },
    {
      "cell_type": "markdown",
      "metadata": {
        "id": "mdmrgB_MXoxc"
      },
      "source": [
        "Cleaning, Normalizing, initializing are some of the required tasks over any Dataset"
      ]
    },
    {
      "cell_type": "code",
      "execution_count": null,
      "metadata": {
        "id": "DKk-sZnoXk5c",
        "colab": {
          "base_uri": "https://localhost:8080/"
        },
        "outputId": "938eaddd-4329-4fd4-ffa4-cdb09077f424"
      },
      "outputs": [
        {
          "output_type": "stream",
          "name": "stdout",
          "text": [
            "<class 'pandas.core.frame.DataFrame'>\n",
            "RangeIndex: 126314 entries, 0 to 126313\n",
            "Data columns (total 26 columns):\n",
            " #   Column         Non-Null Count   Dtype          \n",
            "---  ------         --------------   -----          \n",
            " 0   gameorder      126314 non-null  int64          \n",
            " 1   game_id        126314 non-null  object         \n",
            " 2   lg_id          126314 non-null  object         \n",
            " 3   _iscopy        126314 non-null  int64          \n",
            " 4   year_id        126314 non-null  int64          \n",
            " 5   date_game      126314 non-null  object         \n",
            " 6   seasongame     126314 non-null  int64          \n",
            " 7   is_playoffs    126314 non-null  int64          \n",
            " 8   team_id        126314 non-null  object         \n",
            " 9   fran_id        126314 non-null  object         \n",
            " 10  pts            126314 non-null  int64          \n",
            " 11  elo_i          126314 non-null  float64        \n",
            " 12  elo_n          126314 non-null  float64        \n",
            " 13  win_equiv      126314 non-null  float64        \n",
            " 14  opp_id         126314 non-null  object         \n",
            " 15  opp_fran       126314 non-null  object         \n",
            " 16  opp_pts        126314 non-null  int64          \n",
            " 17  opp_elo_i      126314 non-null  float64        \n",
            " 18  opp_elo_n      126314 non-null  float64        \n",
            " 19  game_location  126314 non-null  object         \n",
            " 20  game_result    126314 non-null  object         \n",
            " 21  forecast       126314 non-null  float64        \n",
            " 22  notes          5424 non-null    object         \n",
            " 23  date_played    126314 non-null  datetime64[ns] \n",
            " 24  C              126314 non-null  timedelta64[ns]\n",
            " 25  DaysCPassed    126314 non-null  float64        \n",
            "dtypes: datetime64[ns](1), float64(7), int64(7), object(10), timedelta64[ns](1)\n",
            "memory usage: 25.1+ MB\n"
          ]
        }
      ],
      "source": [
        "nba.info()"
      ]
    },
    {
      "cell_type": "markdown",
      "metadata": {
        "id": "27KLSA8iYUQl"
      },
      "source": [
        "### Missing Values"
      ]
    },
    {
      "cell_type": "markdown",
      "metadata": {
        "id": "Id31DXthYWbV"
      },
      "source": [
        "Avoid *null-values*\n",
        "\n",
        "The current nba dataset has null  values (*Null/None/ Nan Values*).\n",
        "\n",
        "The column \"*motes*\" has only 5424 *non-null* values. All remain columns have 126314 values..\n",
        "\n",
        "Let analythe the following example:"
      ]
    },
    {
      "cell_type": "code",
      "execution_count": 15,
      "metadata": {
        "id": "STRTIOVFX_St"
      },
      "outputs": [],
      "source": [
        "#import pandas as pd\n",
        "\n",
        "data = {'Name': ['Alice', 'Bob', 'Charlie', 'David', 'Eva'],\n",
        "        'Age': [25, 31, 22, None, 27],\n",
        "        'Gender': ['F', 'M', None, 'M', 'F'],\n",
        "        'Salary': [50000, None, 30000, 40000, 60000]}\n",
        "\n",
        "df = pd.DataFrame(data)"
      ]
    },
    {
      "cell_type": "code",
      "execution_count": null,
      "metadata": {
        "id": "-2YtG8fRZfmg",
        "colab": {
          "base_uri": "https://localhost:8080/"
        },
        "outputId": "a4638695-8921-4cd5-8589-d28e2ab6397b"
      },
      "outputs": [
        {
          "output_type": "stream",
          "name": "stdout",
          "text": [
            "<class 'pandas.core.frame.DataFrame'>\n",
            "RangeIndex: 5 entries, 0 to 4\n",
            "Data columns (total 4 columns):\n",
            " #   Column  Non-Null Count  Dtype  \n",
            "---  ------  --------------  -----  \n",
            " 0   Name    5 non-null      object \n",
            " 1   Age     4 non-null      float64\n",
            " 2   Gender  4 non-null      object \n",
            " 3   Salary  4 non-null      float64\n",
            "dtypes: float64(2), object(2)\n",
            "memory usage: 288.0+ bytes\n"
          ]
        }
      ],
      "source": [
        "df.info()"
      ]
    },
    {
      "cell_type": "markdown",
      "metadata": {
        "id": "SAf4U2YPlscW"
      },
      "source": [
        "*It* is easy to realize that *Name* has 5  *non-null* values, but the other columns have only 4."
      ]
    },
    {
      "cell_type": "code",
      "execution_count": 16,
      "metadata": {
        "id": "JRS3_eFZZiQn",
        "colab": {
          "base_uri": "https://localhost:8080/",
          "height": 206
        },
        "outputId": "3509a811-f02a-4cf2-c025-fafd40924327"
      },
      "outputs": [
        {
          "output_type": "execute_result",
          "data": {
            "text/plain": [
              "      Name   Age Gender   Salary\n",
              "0    Alice  25.0      F  50000.0\n",
              "1      Bob  31.0      M      NaN\n",
              "2  Charlie  22.0   None  30000.0\n",
              "3    David   NaN      M  40000.0\n",
              "4      Eva  27.0      F  60000.0"
            ],
            "text/html": [
              "\n",
              "  <div id=\"df-169a1a8f-d42b-4ee5-94c0-2c88a7345288\" class=\"colab-df-container\">\n",
              "    <div>\n",
              "<style scoped>\n",
              "    .dataframe tbody tr th:only-of-type {\n",
              "        vertical-align: middle;\n",
              "    }\n",
              "\n",
              "    .dataframe tbody tr th {\n",
              "        vertical-align: top;\n",
              "    }\n",
              "\n",
              "    .dataframe thead th {\n",
              "        text-align: right;\n",
              "    }\n",
              "</style>\n",
              "<table border=\"1\" class=\"dataframe\">\n",
              "  <thead>\n",
              "    <tr style=\"text-align: right;\">\n",
              "      <th></th>\n",
              "      <th>Name</th>\n",
              "      <th>Age</th>\n",
              "      <th>Gender</th>\n",
              "      <th>Salary</th>\n",
              "    </tr>\n",
              "  </thead>\n",
              "  <tbody>\n",
              "    <tr>\n",
              "      <th>0</th>\n",
              "      <td>Alice</td>\n",
              "      <td>25.0</td>\n",
              "      <td>F</td>\n",
              "      <td>50000.0</td>\n",
              "    </tr>\n",
              "    <tr>\n",
              "      <th>1</th>\n",
              "      <td>Bob</td>\n",
              "      <td>31.0</td>\n",
              "      <td>M</td>\n",
              "      <td>NaN</td>\n",
              "    </tr>\n",
              "    <tr>\n",
              "      <th>2</th>\n",
              "      <td>Charlie</td>\n",
              "      <td>22.0</td>\n",
              "      <td>None</td>\n",
              "      <td>30000.0</td>\n",
              "    </tr>\n",
              "    <tr>\n",
              "      <th>3</th>\n",
              "      <td>David</td>\n",
              "      <td>NaN</td>\n",
              "      <td>M</td>\n",
              "      <td>40000.0</td>\n",
              "    </tr>\n",
              "    <tr>\n",
              "      <th>4</th>\n",
              "      <td>Eva</td>\n",
              "      <td>27.0</td>\n",
              "      <td>F</td>\n",
              "      <td>60000.0</td>\n",
              "    </tr>\n",
              "  </tbody>\n",
              "</table>\n",
              "</div>\n",
              "    <div class=\"colab-df-buttons\">\n",
              "\n",
              "  <div class=\"colab-df-container\">\n",
              "    <button class=\"colab-df-convert\" onclick=\"convertToInteractive('df-169a1a8f-d42b-4ee5-94c0-2c88a7345288')\"\n",
              "            title=\"Convert this dataframe to an interactive table.\"\n",
              "            style=\"display:none;\">\n",
              "\n",
              "  <svg xmlns=\"http://www.w3.org/2000/svg\" height=\"24px\" viewBox=\"0 -960 960 960\">\n",
              "    <path d=\"M120-120v-720h720v720H120Zm60-500h600v-160H180v160Zm220 220h160v-160H400v160Zm0 220h160v-160H400v160ZM180-400h160v-160H180v160Zm440 0h160v-160H620v160ZM180-180h160v-160H180v160Zm440 0h160v-160H620v160Z\"/>\n",
              "  </svg>\n",
              "    </button>\n",
              "\n",
              "  <style>\n",
              "    .colab-df-container {\n",
              "      display:flex;\n",
              "      gap: 12px;\n",
              "    }\n",
              "\n",
              "    .colab-df-convert {\n",
              "      background-color: #E8F0FE;\n",
              "      border: none;\n",
              "      border-radius: 50%;\n",
              "      cursor: pointer;\n",
              "      display: none;\n",
              "      fill: #1967D2;\n",
              "      height: 32px;\n",
              "      padding: 0 0 0 0;\n",
              "      width: 32px;\n",
              "    }\n",
              "\n",
              "    .colab-df-convert:hover {\n",
              "      background-color: #E2EBFA;\n",
              "      box-shadow: 0px 1px 2px rgba(60, 64, 67, 0.3), 0px 1px 3px 1px rgba(60, 64, 67, 0.15);\n",
              "      fill: #174EA6;\n",
              "    }\n",
              "\n",
              "    .colab-df-buttons div {\n",
              "      margin-bottom: 4px;\n",
              "    }\n",
              "\n",
              "    [theme=dark] .colab-df-convert {\n",
              "      background-color: #3B4455;\n",
              "      fill: #D2E3FC;\n",
              "    }\n",
              "\n",
              "    [theme=dark] .colab-df-convert:hover {\n",
              "      background-color: #434B5C;\n",
              "      box-shadow: 0px 1px 3px 1px rgba(0, 0, 0, 0.15);\n",
              "      filter: drop-shadow(0px 1px 2px rgba(0, 0, 0, 0.3));\n",
              "      fill: #FFFFFF;\n",
              "    }\n",
              "  </style>\n",
              "\n",
              "    <script>\n",
              "      const buttonEl =\n",
              "        document.querySelector('#df-169a1a8f-d42b-4ee5-94c0-2c88a7345288 button.colab-df-convert');\n",
              "      buttonEl.style.display =\n",
              "        google.colab.kernel.accessAllowed ? 'block' : 'none';\n",
              "\n",
              "      async function convertToInteractive(key) {\n",
              "        const element = document.querySelector('#df-169a1a8f-d42b-4ee5-94c0-2c88a7345288');\n",
              "        const dataTable =\n",
              "          await google.colab.kernel.invokeFunction('convertToInteractive',\n",
              "                                                    [key], {});\n",
              "        if (!dataTable) return;\n",
              "\n",
              "        const docLinkHtml = 'Like what you see? Visit the ' +\n",
              "          '<a target=\"_blank\" href=https://colab.research.google.com/notebooks/data_table.ipynb>data table notebook</a>'\n",
              "          + ' to learn more about interactive tables.';\n",
              "        element.innerHTML = '';\n",
              "        dataTable['output_type'] = 'display_data';\n",
              "        await google.colab.output.renderOutput(dataTable, element);\n",
              "        const docLink = document.createElement('div');\n",
              "        docLink.innerHTML = docLinkHtml;\n",
              "        element.appendChild(docLink);\n",
              "      }\n",
              "    </script>\n",
              "  </div>\n",
              "\n",
              "\n",
              "<div id=\"df-22d1bb27-7f3e-487b-a0c7-228b3dc3d115\">\n",
              "  <button class=\"colab-df-quickchart\" onclick=\"quickchart('df-22d1bb27-7f3e-487b-a0c7-228b3dc3d115')\"\n",
              "            title=\"Suggest charts\"\n",
              "            style=\"display:none;\">\n",
              "\n",
              "<svg xmlns=\"http://www.w3.org/2000/svg\" height=\"24px\"viewBox=\"0 0 24 24\"\n",
              "     width=\"24px\">\n",
              "    <g>\n",
              "        <path d=\"M19 3H5c-1.1 0-2 .9-2 2v14c0 1.1.9 2 2 2h14c1.1 0 2-.9 2-2V5c0-1.1-.9-2-2-2zM9 17H7v-7h2v7zm4 0h-2V7h2v10zm4 0h-2v-4h2v4z\"/>\n",
              "    </g>\n",
              "</svg>\n",
              "  </button>\n",
              "\n",
              "<style>\n",
              "  .colab-df-quickchart {\n",
              "      --bg-color: #E8F0FE;\n",
              "      --fill-color: #1967D2;\n",
              "      --hover-bg-color: #E2EBFA;\n",
              "      --hover-fill-color: #174EA6;\n",
              "      --disabled-fill-color: #AAA;\n",
              "      --disabled-bg-color: #DDD;\n",
              "  }\n",
              "\n",
              "  [theme=dark] .colab-df-quickchart {\n",
              "      --bg-color: #3B4455;\n",
              "      --fill-color: #D2E3FC;\n",
              "      --hover-bg-color: #434B5C;\n",
              "      --hover-fill-color: #FFFFFF;\n",
              "      --disabled-bg-color: #3B4455;\n",
              "      --disabled-fill-color: #666;\n",
              "  }\n",
              "\n",
              "  .colab-df-quickchart {\n",
              "    background-color: var(--bg-color);\n",
              "    border: none;\n",
              "    border-radius: 50%;\n",
              "    cursor: pointer;\n",
              "    display: none;\n",
              "    fill: var(--fill-color);\n",
              "    height: 32px;\n",
              "    padding: 0;\n",
              "    width: 32px;\n",
              "  }\n",
              "\n",
              "  .colab-df-quickchart:hover {\n",
              "    background-color: var(--hover-bg-color);\n",
              "    box-shadow: 0 1px 2px rgba(60, 64, 67, 0.3), 0 1px 3px 1px rgba(60, 64, 67, 0.15);\n",
              "    fill: var(--button-hover-fill-color);\n",
              "  }\n",
              "\n",
              "  .colab-df-quickchart-complete:disabled,\n",
              "  .colab-df-quickchart-complete:disabled:hover {\n",
              "    background-color: var(--disabled-bg-color);\n",
              "    fill: var(--disabled-fill-color);\n",
              "    box-shadow: none;\n",
              "  }\n",
              "\n",
              "  .colab-df-spinner {\n",
              "    border: 2px solid var(--fill-color);\n",
              "    border-color: transparent;\n",
              "    border-bottom-color: var(--fill-color);\n",
              "    animation:\n",
              "      spin 1s steps(1) infinite;\n",
              "  }\n",
              "\n",
              "  @keyframes spin {\n",
              "    0% {\n",
              "      border-color: transparent;\n",
              "      border-bottom-color: var(--fill-color);\n",
              "      border-left-color: var(--fill-color);\n",
              "    }\n",
              "    20% {\n",
              "      border-color: transparent;\n",
              "      border-left-color: var(--fill-color);\n",
              "      border-top-color: var(--fill-color);\n",
              "    }\n",
              "    30% {\n",
              "      border-color: transparent;\n",
              "      border-left-color: var(--fill-color);\n",
              "      border-top-color: var(--fill-color);\n",
              "      border-right-color: var(--fill-color);\n",
              "    }\n",
              "    40% {\n",
              "      border-color: transparent;\n",
              "      border-right-color: var(--fill-color);\n",
              "      border-top-color: var(--fill-color);\n",
              "    }\n",
              "    60% {\n",
              "      border-color: transparent;\n",
              "      border-right-color: var(--fill-color);\n",
              "    }\n",
              "    80% {\n",
              "      border-color: transparent;\n",
              "      border-right-color: var(--fill-color);\n",
              "      border-bottom-color: var(--fill-color);\n",
              "    }\n",
              "    90% {\n",
              "      border-color: transparent;\n",
              "      border-bottom-color: var(--fill-color);\n",
              "    }\n",
              "  }\n",
              "</style>\n",
              "\n",
              "  <script>\n",
              "    async function quickchart(key) {\n",
              "      const quickchartButtonEl =\n",
              "        document.querySelector('#' + key + ' button');\n",
              "      quickchartButtonEl.disabled = true;  // To prevent multiple clicks.\n",
              "      quickchartButtonEl.classList.add('colab-df-spinner');\n",
              "      try {\n",
              "        const charts = await google.colab.kernel.invokeFunction(\n",
              "            'suggestCharts', [key], {});\n",
              "      } catch (error) {\n",
              "        console.error('Error during call to suggestCharts:', error);\n",
              "      }\n",
              "      quickchartButtonEl.classList.remove('colab-df-spinner');\n",
              "      quickchartButtonEl.classList.add('colab-df-quickchart-complete');\n",
              "    }\n",
              "    (() => {\n",
              "      let quickchartButtonEl =\n",
              "        document.querySelector('#df-22d1bb27-7f3e-487b-a0c7-228b3dc3d115 button');\n",
              "      quickchartButtonEl.style.display =\n",
              "        google.colab.kernel.accessAllowed ? 'block' : 'none';\n",
              "    })();\n",
              "  </script>\n",
              "</div>\n",
              "    </div>\n",
              "  </div>\n"
            ]
          },
          "metadata": {},
          "execution_count": 16
        }
      ],
      "source": [
        "#preserve original datatset\n",
        "dfCopy = df.copy()\n",
        "dfCopy"
      ]
    },
    {
      "cell_type": "markdown",
      "source": [
        "*Identify Missing Values*\n",
        "\n",
        "The missing values are converted by default. The functions to identify these missing values are:\n",
        "\n",
        "*   **isnull()**\n",
        "*   **notnull()**\n",
        "\n",
        "\n",
        "The output is a boolean value indicating whether the value that is passed into the argument is in fact missing data.\n",
        "\n",
        "\"True\" means the value is a missing value while \"False\" means the value is not a missing value."
      ],
      "metadata": {
        "id": "W6U1ssbmSglq"
      }
    },
    {
      "cell_type": "code",
      "source": [
        "missing_data = dfCopy.isnull()\n",
        "missing_data.head(5)"
      ],
      "metadata": {
        "colab": {
          "base_uri": "https://localhost:8080/",
          "height": 206
        },
        "id": "0HC9YL7HTFd4",
        "outputId": "70d51996-7595-4178-e221-89fb74b06898"
      },
      "execution_count": 17,
      "outputs": [
        {
          "output_type": "execute_result",
          "data": {
            "text/plain": [
              "    Name    Age  Gender  Salary\n",
              "0  False  False   False   False\n",
              "1  False  False   False    True\n",
              "2  False  False    True   False\n",
              "3  False   True   False   False\n",
              "4  False  False   False   False"
            ],
            "text/html": [
              "\n",
              "  <div id=\"df-7dd89019-77d3-456d-b264-d50244f14896\" class=\"colab-df-container\">\n",
              "    <div>\n",
              "<style scoped>\n",
              "    .dataframe tbody tr th:only-of-type {\n",
              "        vertical-align: middle;\n",
              "    }\n",
              "\n",
              "    .dataframe tbody tr th {\n",
              "        vertical-align: top;\n",
              "    }\n",
              "\n",
              "    .dataframe thead th {\n",
              "        text-align: right;\n",
              "    }\n",
              "</style>\n",
              "<table border=\"1\" class=\"dataframe\">\n",
              "  <thead>\n",
              "    <tr style=\"text-align: right;\">\n",
              "      <th></th>\n",
              "      <th>Name</th>\n",
              "      <th>Age</th>\n",
              "      <th>Gender</th>\n",
              "      <th>Salary</th>\n",
              "    </tr>\n",
              "  </thead>\n",
              "  <tbody>\n",
              "    <tr>\n",
              "      <th>0</th>\n",
              "      <td>False</td>\n",
              "      <td>False</td>\n",
              "      <td>False</td>\n",
              "      <td>False</td>\n",
              "    </tr>\n",
              "    <tr>\n",
              "      <th>1</th>\n",
              "      <td>False</td>\n",
              "      <td>False</td>\n",
              "      <td>False</td>\n",
              "      <td>True</td>\n",
              "    </tr>\n",
              "    <tr>\n",
              "      <th>2</th>\n",
              "      <td>False</td>\n",
              "      <td>False</td>\n",
              "      <td>True</td>\n",
              "      <td>False</td>\n",
              "    </tr>\n",
              "    <tr>\n",
              "      <th>3</th>\n",
              "      <td>False</td>\n",
              "      <td>True</td>\n",
              "      <td>False</td>\n",
              "      <td>False</td>\n",
              "    </tr>\n",
              "    <tr>\n",
              "      <th>4</th>\n",
              "      <td>False</td>\n",
              "      <td>False</td>\n",
              "      <td>False</td>\n",
              "      <td>False</td>\n",
              "    </tr>\n",
              "  </tbody>\n",
              "</table>\n",
              "</div>\n",
              "    <div class=\"colab-df-buttons\">\n",
              "\n",
              "  <div class=\"colab-df-container\">\n",
              "    <button class=\"colab-df-convert\" onclick=\"convertToInteractive('df-7dd89019-77d3-456d-b264-d50244f14896')\"\n",
              "            title=\"Convert this dataframe to an interactive table.\"\n",
              "            style=\"display:none;\">\n",
              "\n",
              "  <svg xmlns=\"http://www.w3.org/2000/svg\" height=\"24px\" viewBox=\"0 -960 960 960\">\n",
              "    <path d=\"M120-120v-720h720v720H120Zm60-500h600v-160H180v160Zm220 220h160v-160H400v160Zm0 220h160v-160H400v160ZM180-400h160v-160H180v160Zm440 0h160v-160H620v160ZM180-180h160v-160H180v160Zm440 0h160v-160H620v160Z\"/>\n",
              "  </svg>\n",
              "    </button>\n",
              "\n",
              "  <style>\n",
              "    .colab-df-container {\n",
              "      display:flex;\n",
              "      gap: 12px;\n",
              "    }\n",
              "\n",
              "    .colab-df-convert {\n",
              "      background-color: #E8F0FE;\n",
              "      border: none;\n",
              "      border-radius: 50%;\n",
              "      cursor: pointer;\n",
              "      display: none;\n",
              "      fill: #1967D2;\n",
              "      height: 32px;\n",
              "      padding: 0 0 0 0;\n",
              "      width: 32px;\n",
              "    }\n",
              "\n",
              "    .colab-df-convert:hover {\n",
              "      background-color: #E2EBFA;\n",
              "      box-shadow: 0px 1px 2px rgba(60, 64, 67, 0.3), 0px 1px 3px 1px rgba(60, 64, 67, 0.15);\n",
              "      fill: #174EA6;\n",
              "    }\n",
              "\n",
              "    .colab-df-buttons div {\n",
              "      margin-bottom: 4px;\n",
              "    }\n",
              "\n",
              "    [theme=dark] .colab-df-convert {\n",
              "      background-color: #3B4455;\n",
              "      fill: #D2E3FC;\n",
              "    }\n",
              "\n",
              "    [theme=dark] .colab-df-convert:hover {\n",
              "      background-color: #434B5C;\n",
              "      box-shadow: 0px 1px 3px 1px rgba(0, 0, 0, 0.15);\n",
              "      filter: drop-shadow(0px 1px 2px rgba(0, 0, 0, 0.3));\n",
              "      fill: #FFFFFF;\n",
              "    }\n",
              "  </style>\n",
              "\n",
              "    <script>\n",
              "      const buttonEl =\n",
              "        document.querySelector('#df-7dd89019-77d3-456d-b264-d50244f14896 button.colab-df-convert');\n",
              "      buttonEl.style.display =\n",
              "        google.colab.kernel.accessAllowed ? 'block' : 'none';\n",
              "\n",
              "      async function convertToInteractive(key) {\n",
              "        const element = document.querySelector('#df-7dd89019-77d3-456d-b264-d50244f14896');\n",
              "        const dataTable =\n",
              "          await google.colab.kernel.invokeFunction('convertToInteractive',\n",
              "                                                    [key], {});\n",
              "        if (!dataTable) return;\n",
              "\n",
              "        const docLinkHtml = 'Like what you see? Visit the ' +\n",
              "          '<a target=\"_blank\" href=https://colab.research.google.com/notebooks/data_table.ipynb>data table notebook</a>'\n",
              "          + ' to learn more about interactive tables.';\n",
              "        element.innerHTML = '';\n",
              "        dataTable['output_type'] = 'display_data';\n",
              "        await google.colab.output.renderOutput(dataTable, element);\n",
              "        const docLink = document.createElement('div');\n",
              "        docLink.innerHTML = docLinkHtml;\n",
              "        element.appendChild(docLink);\n",
              "      }\n",
              "    </script>\n",
              "  </div>\n",
              "\n",
              "\n",
              "<div id=\"df-b020fe17-a07b-4df2-b786-df9946761aba\">\n",
              "  <button class=\"colab-df-quickchart\" onclick=\"quickchart('df-b020fe17-a07b-4df2-b786-df9946761aba')\"\n",
              "            title=\"Suggest charts\"\n",
              "            style=\"display:none;\">\n",
              "\n",
              "<svg xmlns=\"http://www.w3.org/2000/svg\" height=\"24px\"viewBox=\"0 0 24 24\"\n",
              "     width=\"24px\">\n",
              "    <g>\n",
              "        <path d=\"M19 3H5c-1.1 0-2 .9-2 2v14c0 1.1.9 2 2 2h14c1.1 0 2-.9 2-2V5c0-1.1-.9-2-2-2zM9 17H7v-7h2v7zm4 0h-2V7h2v10zm4 0h-2v-4h2v4z\"/>\n",
              "    </g>\n",
              "</svg>\n",
              "  </button>\n",
              "\n",
              "<style>\n",
              "  .colab-df-quickchart {\n",
              "      --bg-color: #E8F0FE;\n",
              "      --fill-color: #1967D2;\n",
              "      --hover-bg-color: #E2EBFA;\n",
              "      --hover-fill-color: #174EA6;\n",
              "      --disabled-fill-color: #AAA;\n",
              "      --disabled-bg-color: #DDD;\n",
              "  }\n",
              "\n",
              "  [theme=dark] .colab-df-quickchart {\n",
              "      --bg-color: #3B4455;\n",
              "      --fill-color: #D2E3FC;\n",
              "      --hover-bg-color: #434B5C;\n",
              "      --hover-fill-color: #FFFFFF;\n",
              "      --disabled-bg-color: #3B4455;\n",
              "      --disabled-fill-color: #666;\n",
              "  }\n",
              "\n",
              "  .colab-df-quickchart {\n",
              "    background-color: var(--bg-color);\n",
              "    border: none;\n",
              "    border-radius: 50%;\n",
              "    cursor: pointer;\n",
              "    display: none;\n",
              "    fill: var(--fill-color);\n",
              "    height: 32px;\n",
              "    padding: 0;\n",
              "    width: 32px;\n",
              "  }\n",
              "\n",
              "  .colab-df-quickchart:hover {\n",
              "    background-color: var(--hover-bg-color);\n",
              "    box-shadow: 0 1px 2px rgba(60, 64, 67, 0.3), 0 1px 3px 1px rgba(60, 64, 67, 0.15);\n",
              "    fill: var(--button-hover-fill-color);\n",
              "  }\n",
              "\n",
              "  .colab-df-quickchart-complete:disabled,\n",
              "  .colab-df-quickchart-complete:disabled:hover {\n",
              "    background-color: var(--disabled-bg-color);\n",
              "    fill: var(--disabled-fill-color);\n",
              "    box-shadow: none;\n",
              "  }\n",
              "\n",
              "  .colab-df-spinner {\n",
              "    border: 2px solid var(--fill-color);\n",
              "    border-color: transparent;\n",
              "    border-bottom-color: var(--fill-color);\n",
              "    animation:\n",
              "      spin 1s steps(1) infinite;\n",
              "  }\n",
              "\n",
              "  @keyframes spin {\n",
              "    0% {\n",
              "      border-color: transparent;\n",
              "      border-bottom-color: var(--fill-color);\n",
              "      border-left-color: var(--fill-color);\n",
              "    }\n",
              "    20% {\n",
              "      border-color: transparent;\n",
              "      border-left-color: var(--fill-color);\n",
              "      border-top-color: var(--fill-color);\n",
              "    }\n",
              "    30% {\n",
              "      border-color: transparent;\n",
              "      border-left-color: var(--fill-color);\n",
              "      border-top-color: var(--fill-color);\n",
              "      border-right-color: var(--fill-color);\n",
              "    }\n",
              "    40% {\n",
              "      border-color: transparent;\n",
              "      border-right-color: var(--fill-color);\n",
              "      border-top-color: var(--fill-color);\n",
              "    }\n",
              "    60% {\n",
              "      border-color: transparent;\n",
              "      border-right-color: var(--fill-color);\n",
              "    }\n",
              "    80% {\n",
              "      border-color: transparent;\n",
              "      border-right-color: var(--fill-color);\n",
              "      border-bottom-color: var(--fill-color);\n",
              "    }\n",
              "    90% {\n",
              "      border-color: transparent;\n",
              "      border-bottom-color: var(--fill-color);\n",
              "    }\n",
              "  }\n",
              "</style>\n",
              "\n",
              "  <script>\n",
              "    async function quickchart(key) {\n",
              "      const quickchartButtonEl =\n",
              "        document.querySelector('#' + key + ' button');\n",
              "      quickchartButtonEl.disabled = true;  // To prevent multiple clicks.\n",
              "      quickchartButtonEl.classList.add('colab-df-spinner');\n",
              "      try {\n",
              "        const charts = await google.colab.kernel.invokeFunction(\n",
              "            'suggestCharts', [key], {});\n",
              "      } catch (error) {\n",
              "        console.error('Error during call to suggestCharts:', error);\n",
              "      }\n",
              "      quickchartButtonEl.classList.remove('colab-df-spinner');\n",
              "      quickchartButtonEl.classList.add('colab-df-quickchart-complete');\n",
              "    }\n",
              "    (() => {\n",
              "      let quickchartButtonEl =\n",
              "        document.querySelector('#df-b020fe17-a07b-4df2-b786-df9946761aba button');\n",
              "      quickchartButtonEl.style.display =\n",
              "        google.colab.kernel.accessAllowed ? 'block' : 'none';\n",
              "    })();\n",
              "  </script>\n",
              "</div>\n",
              "    </div>\n",
              "  </div>\n"
            ]
          },
          "metadata": {},
          "execution_count": 17
        }
      ]
    },
    {
      "cell_type": "markdown",
      "metadata": {
        "id": "0cToibVApD5A"
      },
      "source": [
        "### Replacing mising values"
      ]
    },
    {
      "cell_type": "markdown",
      "source": [
        "When *inplace=True* is passed, the data is renamed in place (it returns nothing), so you'd use:\n",
        "\n",
        "*df.an_operation(inplace=True)*\n",
        "\n",
        "When *inplace=False* is passed (this is the default value, so isn't necessary), performs the operation and returns a copy of the object, so you'd use:\n",
        "\n",
        "*df = df.an_operation(inplace=False)*"
      ],
      "metadata": {
        "id": "3oby9Qo4R_tH"
      }
    },
    {
      "cell_type": "markdown",
      "source": [
        "Replace null values of *Age* feature by *Unknown*"
      ],
      "metadata": {
        "id": "8cVvTldwQhbF"
      }
    },
    {
      "cell_type": "code",
      "execution_count": null,
      "metadata": {
        "id": "PTKVzOg4jE6i"
      },
      "outputs": [],
      "source": [
        "dfCopy[\"Age\"].fillna(\\\n",
        "                     value=\"Unknown\",\\\n",
        "                     inplace=True)"
      ]
    },
    {
      "cell_type": "code",
      "execution_count": null,
      "metadata": {
        "id": "-vsRIhHXpvdW"
      },
      "outputs": [],
      "source": [
        "dfCopy"
      ]
    },
    {
      "cell_type": "markdown",
      "source": [
        "*Replace null values by a particular value*"
      ],
      "metadata": {
        "id": "synXoiD4QU4z"
      }
    },
    {
      "cell_type": "code",
      "execution_count": null,
      "metadata": {
        "id": "izXQ_wazqKYj"
      },
      "outputs": [],
      "source": [
        "dfCopy.fillna({'Age':'Unknown', 'Gender': 'Other'}, inplace=True)"
      ]
    },
    {
      "cell_type": "code",
      "execution_count": null,
      "metadata": {
        "id": "gog7rhpqrKUS"
      },
      "outputs": [],
      "source": [
        "dfCopy"
      ]
    },
    {
      "cell_type": "code",
      "execution_count": null,
      "metadata": {
        "id": "hIYTXPC2rLUw"
      },
      "outputs": [],
      "source": [
        "display(dfCopy)"
      ]
    },
    {
      "cell_type": "markdown",
      "source": [
        "Replace the \"?\" symbol with *NaN* so the dropna() can remove the missing values:"
      ],
      "metadata": {
        "id": "vtH-F78rQ2qL"
      }
    },
    {
      "cell_type": "code",
      "source": [
        "df1=dfCopy.replace('?',np.NaN)"
      ],
      "metadata": {
        "id": "mdYX9LKQQ2DK"
      },
      "execution_count": null,
      "outputs": []
    },
    {
      "cell_type": "markdown",
      "metadata": {
        "id": "su5dSqx7sY9V"
      },
      "source": [
        "Fill number features with the *mean* value"
      ]
    },
    {
      "cell_type": "code",
      "execution_count": null,
      "metadata": {
        "id": "I-DQ_LhKtNVn"
      },
      "outputs": [],
      "source": [
        "#reset dfCopy\n",
        "dfCopy = df.copy()\n",
        "#dfCopy\n",
        "#dfCopy.info()"
      ]
    },
    {
      "cell_type": "code",
      "execution_count": null,
      "metadata": {
        "id": "okbTfd5Osdgn"
      },
      "outputs": [],
      "source": [
        "#Using Mode() function to input the values using fillna\n",
        "dfCopy.fillna({'Salary':dfCopy['Salary'].mean()})"
      ]
    },
    {
      "cell_type": "code",
      "execution_count": null,
      "metadata": {
        "id": "hTHq7firtj5-"
      },
      "outputs": [],
      "source": [
        "dfCopy"
      ]
    },
    {
      "cell_type": "markdown",
      "metadata": {
        "id": "KF46HeHUr_5i"
      },
      "source": [
        "Fill number features with the *mode* value"
      ]
    },
    {
      "cell_type": "code",
      "execution_count": null,
      "metadata": {
        "id": "WJ7HUcLLrYiN"
      },
      "outputs": [],
      "source": [
        "#Using Mode() function to inpute the values using fillna\n",
        "dfCopy.fillna({'Salary':dfCopy['Salary'].mode()[0]}, inplace = True)"
      ]
    },
    {
      "cell_type": "code",
      "execution_count": null,
      "metadata": {
        "id": "7Y2DLLSMsMRk"
      },
      "outputs": [],
      "source": [
        "dfCopy"
      ]
    },
    {
      "cell_type": "code",
      "execution_count": null,
      "metadata": {
        "id": "K3fnKc6wsNxs"
      },
      "outputs": [],
      "source": [
        "dfCopy.fillna({'Age':-1, 'Gender':'Other'}, inplace = True)"
      ]
    },
    {
      "cell_type": "code",
      "execution_count": null,
      "metadata": {
        "id": "Z6yu1onBw1Gz"
      },
      "outputs": [],
      "source": [
        "dfCopy"
      ]
    },
    {
      "cell_type": "markdown",
      "metadata": {
        "id": "G_xLOgdhaIxL"
      },
      "source": [
        "### See the *null* values"
      ]
    },
    {
      "cell_type": "code",
      "execution_count": null,
      "metadata": {
        "id": "o5ldO84AZzUH",
        "colab": {
          "base_uri": "https://localhost:8080/"
        },
        "outputId": "e6e87825-ba48-4e4d-a5f4-f2b02155e5ce"
      },
      "outputs": [
        {
          "output_type": "execute_result",
          "data": {
            "text/plain": [
              "0    False\n",
              "1     True\n",
              "2     True\n",
              "3     True\n",
              "4    False\n",
              "dtype: bool"
            ]
          },
          "metadata": {},
          "execution_count": 117
        }
      ],
      "source": [
        "n1 = dfCopy.isnull().any(axis=1)\n",
        "n1"
      ]
    },
    {
      "cell_type": "markdown",
      "metadata": {
        "id": "uyaaQUqQahic"
      },
      "source": [
        "### Get only the *null* values"
      ]
    },
    {
      "cell_type": "code",
      "execution_count": null,
      "metadata": {
        "id": "NLWvOi7YaXF0",
        "colab": {
          "base_uri": "https://localhost:8080/",
          "height": 143
        },
        "outputId": "df9b39d2-3c1d-4fdb-87cc-e7e06260c6e4"
      },
      "outputs": [
        {
          "output_type": "execute_result",
          "data": {
            "text/plain": [
              "      Name   Age Gender   Salary\n",
              "1      Bob  31.0      M      NaN\n",
              "2  Charlie  22.0   None  30000.0\n",
              "3    David   NaN      M  40000.0"
            ],
            "text/html": [
              "\n",
              "  <div id=\"df-78ca123e-e6e1-4be5-b0b1-43fcafd9b810\" class=\"colab-df-container\">\n",
              "    <div>\n",
              "<style scoped>\n",
              "    .dataframe tbody tr th:only-of-type {\n",
              "        vertical-align: middle;\n",
              "    }\n",
              "\n",
              "    .dataframe tbody tr th {\n",
              "        vertical-align: top;\n",
              "    }\n",
              "\n",
              "    .dataframe thead th {\n",
              "        text-align: right;\n",
              "    }\n",
              "</style>\n",
              "<table border=\"1\" class=\"dataframe\">\n",
              "  <thead>\n",
              "    <tr style=\"text-align: right;\">\n",
              "      <th></th>\n",
              "      <th>Name</th>\n",
              "      <th>Age</th>\n",
              "      <th>Gender</th>\n",
              "      <th>Salary</th>\n",
              "    </tr>\n",
              "  </thead>\n",
              "  <tbody>\n",
              "    <tr>\n",
              "      <th>1</th>\n",
              "      <td>Bob</td>\n",
              "      <td>31.0</td>\n",
              "      <td>M</td>\n",
              "      <td>NaN</td>\n",
              "    </tr>\n",
              "    <tr>\n",
              "      <th>2</th>\n",
              "      <td>Charlie</td>\n",
              "      <td>22.0</td>\n",
              "      <td>None</td>\n",
              "      <td>30000.0</td>\n",
              "    </tr>\n",
              "    <tr>\n",
              "      <th>3</th>\n",
              "      <td>David</td>\n",
              "      <td>NaN</td>\n",
              "      <td>M</td>\n",
              "      <td>40000.0</td>\n",
              "    </tr>\n",
              "  </tbody>\n",
              "</table>\n",
              "</div>\n",
              "    <div class=\"colab-df-buttons\">\n",
              "\n",
              "  <div class=\"colab-df-container\">\n",
              "    <button class=\"colab-df-convert\" onclick=\"convertToInteractive('df-78ca123e-e6e1-4be5-b0b1-43fcafd9b810')\"\n",
              "            title=\"Convert this dataframe to an interactive table.\"\n",
              "            style=\"display:none;\">\n",
              "\n",
              "  <svg xmlns=\"http://www.w3.org/2000/svg\" height=\"24px\" viewBox=\"0 -960 960 960\">\n",
              "    <path d=\"M120-120v-720h720v720H120Zm60-500h600v-160H180v160Zm220 220h160v-160H400v160Zm0 220h160v-160H400v160ZM180-400h160v-160H180v160Zm440 0h160v-160H620v160ZM180-180h160v-160H180v160Zm440 0h160v-160H620v160Z\"/>\n",
              "  </svg>\n",
              "    </button>\n",
              "\n",
              "  <style>\n",
              "    .colab-df-container {\n",
              "      display:flex;\n",
              "      gap: 12px;\n",
              "    }\n",
              "\n",
              "    .colab-df-convert {\n",
              "      background-color: #E8F0FE;\n",
              "      border: none;\n",
              "      border-radius: 50%;\n",
              "      cursor: pointer;\n",
              "      display: none;\n",
              "      fill: #1967D2;\n",
              "      height: 32px;\n",
              "      padding: 0 0 0 0;\n",
              "      width: 32px;\n",
              "    }\n",
              "\n",
              "    .colab-df-convert:hover {\n",
              "      background-color: #E2EBFA;\n",
              "      box-shadow: 0px 1px 2px rgba(60, 64, 67, 0.3), 0px 1px 3px 1px rgba(60, 64, 67, 0.15);\n",
              "      fill: #174EA6;\n",
              "    }\n",
              "\n",
              "    .colab-df-buttons div {\n",
              "      margin-bottom: 4px;\n",
              "    }\n",
              "\n",
              "    [theme=dark] .colab-df-convert {\n",
              "      background-color: #3B4455;\n",
              "      fill: #D2E3FC;\n",
              "    }\n",
              "\n",
              "    [theme=dark] .colab-df-convert:hover {\n",
              "      background-color: #434B5C;\n",
              "      box-shadow: 0px 1px 3px 1px rgba(0, 0, 0, 0.15);\n",
              "      filter: drop-shadow(0px 1px 2px rgba(0, 0, 0, 0.3));\n",
              "      fill: #FFFFFF;\n",
              "    }\n",
              "  </style>\n",
              "\n",
              "    <script>\n",
              "      const buttonEl =\n",
              "        document.querySelector('#df-78ca123e-e6e1-4be5-b0b1-43fcafd9b810 button.colab-df-convert');\n",
              "      buttonEl.style.display =\n",
              "        google.colab.kernel.accessAllowed ? 'block' : 'none';\n",
              "\n",
              "      async function convertToInteractive(key) {\n",
              "        const element = document.querySelector('#df-78ca123e-e6e1-4be5-b0b1-43fcafd9b810');\n",
              "        const dataTable =\n",
              "          await google.colab.kernel.invokeFunction('convertToInteractive',\n",
              "                                                    [key], {});\n",
              "        if (!dataTable) return;\n",
              "\n",
              "        const docLinkHtml = 'Like what you see? Visit the ' +\n",
              "          '<a target=\"_blank\" href=https://colab.research.google.com/notebooks/data_table.ipynb>data table notebook</a>'\n",
              "          + ' to learn more about interactive tables.';\n",
              "        element.innerHTML = '';\n",
              "        dataTable['output_type'] = 'display_data';\n",
              "        await google.colab.output.renderOutput(dataTable, element);\n",
              "        const docLink = document.createElement('div');\n",
              "        docLink.innerHTML = docLinkHtml;\n",
              "        element.appendChild(docLink);\n",
              "      }\n",
              "    </script>\n",
              "  </div>\n",
              "\n",
              "\n",
              "<div id=\"df-d83b160c-7ea4-4b83-8488-3ff91464fef1\">\n",
              "  <button class=\"colab-df-quickchart\" onclick=\"quickchart('df-d83b160c-7ea4-4b83-8488-3ff91464fef1')\"\n",
              "            title=\"Suggest charts\"\n",
              "            style=\"display:none;\">\n",
              "\n",
              "<svg xmlns=\"http://www.w3.org/2000/svg\" height=\"24px\"viewBox=\"0 0 24 24\"\n",
              "     width=\"24px\">\n",
              "    <g>\n",
              "        <path d=\"M19 3H5c-1.1 0-2 .9-2 2v14c0 1.1.9 2 2 2h14c1.1 0 2-.9 2-2V5c0-1.1-.9-2-2-2zM9 17H7v-7h2v7zm4 0h-2V7h2v10zm4 0h-2v-4h2v4z\"/>\n",
              "    </g>\n",
              "</svg>\n",
              "  </button>\n",
              "\n",
              "<style>\n",
              "  .colab-df-quickchart {\n",
              "      --bg-color: #E8F0FE;\n",
              "      --fill-color: #1967D2;\n",
              "      --hover-bg-color: #E2EBFA;\n",
              "      --hover-fill-color: #174EA6;\n",
              "      --disabled-fill-color: #AAA;\n",
              "      --disabled-bg-color: #DDD;\n",
              "  }\n",
              "\n",
              "  [theme=dark] .colab-df-quickchart {\n",
              "      --bg-color: #3B4455;\n",
              "      --fill-color: #D2E3FC;\n",
              "      --hover-bg-color: #434B5C;\n",
              "      --hover-fill-color: #FFFFFF;\n",
              "      --disabled-bg-color: #3B4455;\n",
              "      --disabled-fill-color: #666;\n",
              "  }\n",
              "\n",
              "  .colab-df-quickchart {\n",
              "    background-color: var(--bg-color);\n",
              "    border: none;\n",
              "    border-radius: 50%;\n",
              "    cursor: pointer;\n",
              "    display: none;\n",
              "    fill: var(--fill-color);\n",
              "    height: 32px;\n",
              "    padding: 0;\n",
              "    width: 32px;\n",
              "  }\n",
              "\n",
              "  .colab-df-quickchart:hover {\n",
              "    background-color: var(--hover-bg-color);\n",
              "    box-shadow: 0 1px 2px rgba(60, 64, 67, 0.3), 0 1px 3px 1px rgba(60, 64, 67, 0.15);\n",
              "    fill: var(--button-hover-fill-color);\n",
              "  }\n",
              "\n",
              "  .colab-df-quickchart-complete:disabled,\n",
              "  .colab-df-quickchart-complete:disabled:hover {\n",
              "    background-color: var(--disabled-bg-color);\n",
              "    fill: var(--disabled-fill-color);\n",
              "    box-shadow: none;\n",
              "  }\n",
              "\n",
              "  .colab-df-spinner {\n",
              "    border: 2px solid var(--fill-color);\n",
              "    border-color: transparent;\n",
              "    border-bottom-color: var(--fill-color);\n",
              "    animation:\n",
              "      spin 1s steps(1) infinite;\n",
              "  }\n",
              "\n",
              "  @keyframes spin {\n",
              "    0% {\n",
              "      border-color: transparent;\n",
              "      border-bottom-color: var(--fill-color);\n",
              "      border-left-color: var(--fill-color);\n",
              "    }\n",
              "    20% {\n",
              "      border-color: transparent;\n",
              "      border-left-color: var(--fill-color);\n",
              "      border-top-color: var(--fill-color);\n",
              "    }\n",
              "    30% {\n",
              "      border-color: transparent;\n",
              "      border-left-color: var(--fill-color);\n",
              "      border-top-color: var(--fill-color);\n",
              "      border-right-color: var(--fill-color);\n",
              "    }\n",
              "    40% {\n",
              "      border-color: transparent;\n",
              "      border-right-color: var(--fill-color);\n",
              "      border-top-color: var(--fill-color);\n",
              "    }\n",
              "    60% {\n",
              "      border-color: transparent;\n",
              "      border-right-color: var(--fill-color);\n",
              "    }\n",
              "    80% {\n",
              "      border-color: transparent;\n",
              "      border-right-color: var(--fill-color);\n",
              "      border-bottom-color: var(--fill-color);\n",
              "    }\n",
              "    90% {\n",
              "      border-color: transparent;\n",
              "      border-bottom-color: var(--fill-color);\n",
              "    }\n",
              "  }\n",
              "</style>\n",
              "\n",
              "  <script>\n",
              "    async function quickchart(key) {\n",
              "      const quickchartButtonEl =\n",
              "        document.querySelector('#' + key + ' button');\n",
              "      quickchartButtonEl.disabled = true;  // To prevent multiple clicks.\n",
              "      quickchartButtonEl.classList.add('colab-df-spinner');\n",
              "      try {\n",
              "        const charts = await google.colab.kernel.invokeFunction(\n",
              "            'suggestCharts', [key], {});\n",
              "      } catch (error) {\n",
              "        console.error('Error during call to suggestCharts:', error);\n",
              "      }\n",
              "      quickchartButtonEl.classList.remove('colab-df-spinner');\n",
              "      quickchartButtonEl.classList.add('colab-df-quickchart-complete');\n",
              "    }\n",
              "    (() => {\n",
              "      let quickchartButtonEl =\n",
              "        document.querySelector('#df-d83b160c-7ea4-4b83-8488-3ff91464fef1 button');\n",
              "      quickchartButtonEl.style.display =\n",
              "        google.colab.kernel.accessAllowed ? 'block' : 'none';\n",
              "    })();\n",
              "  </script>\n",
              "</div>\n",
              "    </div>\n",
              "  </div>\n"
            ]
          },
          "metadata": {},
          "execution_count": 119
        }
      ],
      "source": [
        "nullRows = dfCopy[n1]\n",
        "nullRows"
      ]
    },
    {
      "cell_type": "markdown",
      "metadata": {
        "id": "XwJP-OENbDcQ"
      },
      "source": [
        "### Get only the *non-null* values"
      ]
    },
    {
      "cell_type": "code",
      "execution_count": null,
      "metadata": {
        "id": "ke1ydhkQax6L",
        "colab": {
          "base_uri": "https://localhost:8080/"
        },
        "outputId": "1f3db40b-363c-4ad4-d8d9-be718454a26e"
      },
      "outputs": [
        {
          "output_type": "execute_result",
          "data": {
            "text/plain": [
              "0     True\n",
              "1    False\n",
              "2    False\n",
              "3    False\n",
              "4     True\n",
              "dtype: bool"
            ]
          },
          "metadata": {},
          "execution_count": 120
        }
      ],
      "source": [
        "n2 = dfCopy.notnull().all(axis=1)\n",
        "n2"
      ]
    },
    {
      "cell_type": "code",
      "execution_count": null,
      "metadata": {
        "id": "47ZclJ8DbYm_",
        "colab": {
          "base_uri": "https://localhost:8080/",
          "height": 112
        },
        "outputId": "985f28dd-7038-431e-f75f-c3254c874d0c"
      },
      "outputs": [
        {
          "output_type": "execute_result",
          "data": {
            "text/plain": [
              "    Name   Age Gender   Salary\n",
              "0  Alice  25.0      F  50000.0\n",
              "4    Eva  27.0      F  60000.0"
            ],
            "text/html": [
              "\n",
              "  <div id=\"df-5236a1ae-09f7-4d72-97a9-44df39dd4048\" class=\"colab-df-container\">\n",
              "    <div>\n",
              "<style scoped>\n",
              "    .dataframe tbody tr th:only-of-type {\n",
              "        vertical-align: middle;\n",
              "    }\n",
              "\n",
              "    .dataframe tbody tr th {\n",
              "        vertical-align: top;\n",
              "    }\n",
              "\n",
              "    .dataframe thead th {\n",
              "        text-align: right;\n",
              "    }\n",
              "</style>\n",
              "<table border=\"1\" class=\"dataframe\">\n",
              "  <thead>\n",
              "    <tr style=\"text-align: right;\">\n",
              "      <th></th>\n",
              "      <th>Name</th>\n",
              "      <th>Age</th>\n",
              "      <th>Gender</th>\n",
              "      <th>Salary</th>\n",
              "    </tr>\n",
              "  </thead>\n",
              "  <tbody>\n",
              "    <tr>\n",
              "      <th>0</th>\n",
              "      <td>Alice</td>\n",
              "      <td>25.0</td>\n",
              "      <td>F</td>\n",
              "      <td>50000.0</td>\n",
              "    </tr>\n",
              "    <tr>\n",
              "      <th>4</th>\n",
              "      <td>Eva</td>\n",
              "      <td>27.0</td>\n",
              "      <td>F</td>\n",
              "      <td>60000.0</td>\n",
              "    </tr>\n",
              "  </tbody>\n",
              "</table>\n",
              "</div>\n",
              "    <div class=\"colab-df-buttons\">\n",
              "\n",
              "  <div class=\"colab-df-container\">\n",
              "    <button class=\"colab-df-convert\" onclick=\"convertToInteractive('df-5236a1ae-09f7-4d72-97a9-44df39dd4048')\"\n",
              "            title=\"Convert this dataframe to an interactive table.\"\n",
              "            style=\"display:none;\">\n",
              "\n",
              "  <svg xmlns=\"http://www.w3.org/2000/svg\" height=\"24px\" viewBox=\"0 -960 960 960\">\n",
              "    <path d=\"M120-120v-720h720v720H120Zm60-500h600v-160H180v160Zm220 220h160v-160H400v160Zm0 220h160v-160H400v160ZM180-400h160v-160H180v160Zm440 0h160v-160H620v160ZM180-180h160v-160H180v160Zm440 0h160v-160H620v160Z\"/>\n",
              "  </svg>\n",
              "    </button>\n",
              "\n",
              "  <style>\n",
              "    .colab-df-container {\n",
              "      display:flex;\n",
              "      gap: 12px;\n",
              "    }\n",
              "\n",
              "    .colab-df-convert {\n",
              "      background-color: #E8F0FE;\n",
              "      border: none;\n",
              "      border-radius: 50%;\n",
              "      cursor: pointer;\n",
              "      display: none;\n",
              "      fill: #1967D2;\n",
              "      height: 32px;\n",
              "      padding: 0 0 0 0;\n",
              "      width: 32px;\n",
              "    }\n",
              "\n",
              "    .colab-df-convert:hover {\n",
              "      background-color: #E2EBFA;\n",
              "      box-shadow: 0px 1px 2px rgba(60, 64, 67, 0.3), 0px 1px 3px 1px rgba(60, 64, 67, 0.15);\n",
              "      fill: #174EA6;\n",
              "    }\n",
              "\n",
              "    .colab-df-buttons div {\n",
              "      margin-bottom: 4px;\n",
              "    }\n",
              "\n",
              "    [theme=dark] .colab-df-convert {\n",
              "      background-color: #3B4455;\n",
              "      fill: #D2E3FC;\n",
              "    }\n",
              "\n",
              "    [theme=dark] .colab-df-convert:hover {\n",
              "      background-color: #434B5C;\n",
              "      box-shadow: 0px 1px 3px 1px rgba(0, 0, 0, 0.15);\n",
              "      filter: drop-shadow(0px 1px 2px rgba(0, 0, 0, 0.3));\n",
              "      fill: #FFFFFF;\n",
              "    }\n",
              "  </style>\n",
              "\n",
              "    <script>\n",
              "      const buttonEl =\n",
              "        document.querySelector('#df-5236a1ae-09f7-4d72-97a9-44df39dd4048 button.colab-df-convert');\n",
              "      buttonEl.style.display =\n",
              "        google.colab.kernel.accessAllowed ? 'block' : 'none';\n",
              "\n",
              "      async function convertToInteractive(key) {\n",
              "        const element = document.querySelector('#df-5236a1ae-09f7-4d72-97a9-44df39dd4048');\n",
              "        const dataTable =\n",
              "          await google.colab.kernel.invokeFunction('convertToInteractive',\n",
              "                                                    [key], {});\n",
              "        if (!dataTable) return;\n",
              "\n",
              "        const docLinkHtml = 'Like what you see? Visit the ' +\n",
              "          '<a target=\"_blank\" href=https://colab.research.google.com/notebooks/data_table.ipynb>data table notebook</a>'\n",
              "          + ' to learn more about interactive tables.';\n",
              "        element.innerHTML = '';\n",
              "        dataTable['output_type'] = 'display_data';\n",
              "        await google.colab.output.renderOutput(dataTable, element);\n",
              "        const docLink = document.createElement('div');\n",
              "        docLink.innerHTML = docLinkHtml;\n",
              "        element.appendChild(docLink);\n",
              "      }\n",
              "    </script>\n",
              "  </div>\n",
              "\n",
              "\n",
              "<div id=\"df-41fac7e7-9698-4cf4-a183-4e101bb8579b\">\n",
              "  <button class=\"colab-df-quickchart\" onclick=\"quickchart('df-41fac7e7-9698-4cf4-a183-4e101bb8579b')\"\n",
              "            title=\"Suggest charts\"\n",
              "            style=\"display:none;\">\n",
              "\n",
              "<svg xmlns=\"http://www.w3.org/2000/svg\" height=\"24px\"viewBox=\"0 0 24 24\"\n",
              "     width=\"24px\">\n",
              "    <g>\n",
              "        <path d=\"M19 3H5c-1.1 0-2 .9-2 2v14c0 1.1.9 2 2 2h14c1.1 0 2-.9 2-2V5c0-1.1-.9-2-2-2zM9 17H7v-7h2v7zm4 0h-2V7h2v10zm4 0h-2v-4h2v4z\"/>\n",
              "    </g>\n",
              "</svg>\n",
              "  </button>\n",
              "\n",
              "<style>\n",
              "  .colab-df-quickchart {\n",
              "      --bg-color: #E8F0FE;\n",
              "      --fill-color: #1967D2;\n",
              "      --hover-bg-color: #E2EBFA;\n",
              "      --hover-fill-color: #174EA6;\n",
              "      --disabled-fill-color: #AAA;\n",
              "      --disabled-bg-color: #DDD;\n",
              "  }\n",
              "\n",
              "  [theme=dark] .colab-df-quickchart {\n",
              "      --bg-color: #3B4455;\n",
              "      --fill-color: #D2E3FC;\n",
              "      --hover-bg-color: #434B5C;\n",
              "      --hover-fill-color: #FFFFFF;\n",
              "      --disabled-bg-color: #3B4455;\n",
              "      --disabled-fill-color: #666;\n",
              "  }\n",
              "\n",
              "  .colab-df-quickchart {\n",
              "    background-color: var(--bg-color);\n",
              "    border: none;\n",
              "    border-radius: 50%;\n",
              "    cursor: pointer;\n",
              "    display: none;\n",
              "    fill: var(--fill-color);\n",
              "    height: 32px;\n",
              "    padding: 0;\n",
              "    width: 32px;\n",
              "  }\n",
              "\n",
              "  .colab-df-quickchart:hover {\n",
              "    background-color: var(--hover-bg-color);\n",
              "    box-shadow: 0 1px 2px rgba(60, 64, 67, 0.3), 0 1px 3px 1px rgba(60, 64, 67, 0.15);\n",
              "    fill: var(--button-hover-fill-color);\n",
              "  }\n",
              "\n",
              "  .colab-df-quickchart-complete:disabled,\n",
              "  .colab-df-quickchart-complete:disabled:hover {\n",
              "    background-color: var(--disabled-bg-color);\n",
              "    fill: var(--disabled-fill-color);\n",
              "    box-shadow: none;\n",
              "  }\n",
              "\n",
              "  .colab-df-spinner {\n",
              "    border: 2px solid var(--fill-color);\n",
              "    border-color: transparent;\n",
              "    border-bottom-color: var(--fill-color);\n",
              "    animation:\n",
              "      spin 1s steps(1) infinite;\n",
              "  }\n",
              "\n",
              "  @keyframes spin {\n",
              "    0% {\n",
              "      border-color: transparent;\n",
              "      border-bottom-color: var(--fill-color);\n",
              "      border-left-color: var(--fill-color);\n",
              "    }\n",
              "    20% {\n",
              "      border-color: transparent;\n",
              "      border-left-color: var(--fill-color);\n",
              "      border-top-color: var(--fill-color);\n",
              "    }\n",
              "    30% {\n",
              "      border-color: transparent;\n",
              "      border-left-color: var(--fill-color);\n",
              "      border-top-color: var(--fill-color);\n",
              "      border-right-color: var(--fill-color);\n",
              "    }\n",
              "    40% {\n",
              "      border-color: transparent;\n",
              "      border-right-color: var(--fill-color);\n",
              "      border-top-color: var(--fill-color);\n",
              "    }\n",
              "    60% {\n",
              "      border-color: transparent;\n",
              "      border-right-color: var(--fill-color);\n",
              "    }\n",
              "    80% {\n",
              "      border-color: transparent;\n",
              "      border-right-color: var(--fill-color);\n",
              "      border-bottom-color: var(--fill-color);\n",
              "    }\n",
              "    90% {\n",
              "      border-color: transparent;\n",
              "      border-bottom-color: var(--fill-color);\n",
              "    }\n",
              "  }\n",
              "</style>\n",
              "\n",
              "  <script>\n",
              "    async function quickchart(key) {\n",
              "      const quickchartButtonEl =\n",
              "        document.querySelector('#' + key + ' button');\n",
              "      quickchartButtonEl.disabled = true;  // To prevent multiple clicks.\n",
              "      quickchartButtonEl.classList.add('colab-df-spinner');\n",
              "      try {\n",
              "        const charts = await google.colab.kernel.invokeFunction(\n",
              "            'suggestCharts', [key], {});\n",
              "      } catch (error) {\n",
              "        console.error('Error during call to suggestCharts:', error);\n",
              "      }\n",
              "      quickchartButtonEl.classList.remove('colab-df-spinner');\n",
              "      quickchartButtonEl.classList.add('colab-df-quickchart-complete');\n",
              "    }\n",
              "    (() => {\n",
              "      let quickchartButtonEl =\n",
              "        document.querySelector('#df-41fac7e7-9698-4cf4-a183-4e101bb8579b button');\n",
              "      quickchartButtonEl.style.display =\n",
              "        google.colab.kernel.accessAllowed ? 'block' : 'none';\n",
              "    })();\n",
              "  </script>\n",
              "</div>\n",
              "    </div>\n",
              "  </div>\n"
            ]
          },
          "metadata": {},
          "execution_count": 121
        }
      ],
      "source": [
        "nonNullRows = dfCopy[n2]\n",
        "nonNullRows"
      ]
    },
    {
      "cell_type": "markdown",
      "metadata": {
        "id": "4ZHJjI-7cL28"
      },
      "source": [
        "### Checking *Null Values* using Query Method"
      ]
    },
    {
      "cell_type": "markdown",
      "metadata": {
        "id": "Dc6qrjibcuqU"
      },
      "source": [
        "In this example, the != operator compare the column values with themselves, which returns *True* if the value is *null*."
      ]
    },
    {
      "cell_type": "code",
      "execution_count": null,
      "metadata": {
        "id": "HTswCuLBbr-0"
      },
      "outputs": [],
      "source": [
        "nullRows = dfCopy.query('Age != Age or Gender != Gender or Salary != Salary')"
      ]
    },
    {
      "cell_type": "code",
      "execution_count": null,
      "metadata": {
        "id": "SHnjalClcU9K",
        "colab": {
          "base_uri": "https://localhost:8080/",
          "height": 143
        },
        "outputId": "313769d4-a83c-4965-9500-3a51c05b2ec9"
      },
      "outputs": [
        {
          "output_type": "execute_result",
          "data": {
            "text/plain": [
              "      Name   Age Gender   Salary\n",
              "1      Bob  31.0      M      NaN\n",
              "2  Charlie  22.0   None  30000.0\n",
              "3    David   NaN      M  40000.0"
            ],
            "text/html": [
              "\n",
              "  <div id=\"df-1dd74da5-eb95-4b45-b2ae-471fdd567671\" class=\"colab-df-container\">\n",
              "    <div>\n",
              "<style scoped>\n",
              "    .dataframe tbody tr th:only-of-type {\n",
              "        vertical-align: middle;\n",
              "    }\n",
              "\n",
              "    .dataframe tbody tr th {\n",
              "        vertical-align: top;\n",
              "    }\n",
              "\n",
              "    .dataframe thead th {\n",
              "        text-align: right;\n",
              "    }\n",
              "</style>\n",
              "<table border=\"1\" class=\"dataframe\">\n",
              "  <thead>\n",
              "    <tr style=\"text-align: right;\">\n",
              "      <th></th>\n",
              "      <th>Name</th>\n",
              "      <th>Age</th>\n",
              "      <th>Gender</th>\n",
              "      <th>Salary</th>\n",
              "    </tr>\n",
              "  </thead>\n",
              "  <tbody>\n",
              "    <tr>\n",
              "      <th>1</th>\n",
              "      <td>Bob</td>\n",
              "      <td>31.0</td>\n",
              "      <td>M</td>\n",
              "      <td>NaN</td>\n",
              "    </tr>\n",
              "    <tr>\n",
              "      <th>2</th>\n",
              "      <td>Charlie</td>\n",
              "      <td>22.0</td>\n",
              "      <td>None</td>\n",
              "      <td>30000.0</td>\n",
              "    </tr>\n",
              "    <tr>\n",
              "      <th>3</th>\n",
              "      <td>David</td>\n",
              "      <td>NaN</td>\n",
              "      <td>M</td>\n",
              "      <td>40000.0</td>\n",
              "    </tr>\n",
              "  </tbody>\n",
              "</table>\n",
              "</div>\n",
              "    <div class=\"colab-df-buttons\">\n",
              "\n",
              "  <div class=\"colab-df-container\">\n",
              "    <button class=\"colab-df-convert\" onclick=\"convertToInteractive('df-1dd74da5-eb95-4b45-b2ae-471fdd567671')\"\n",
              "            title=\"Convert this dataframe to an interactive table.\"\n",
              "            style=\"display:none;\">\n",
              "\n",
              "  <svg xmlns=\"http://www.w3.org/2000/svg\" height=\"24px\" viewBox=\"0 -960 960 960\">\n",
              "    <path d=\"M120-120v-720h720v720H120Zm60-500h600v-160H180v160Zm220 220h160v-160H400v160Zm0 220h160v-160H400v160ZM180-400h160v-160H180v160Zm440 0h160v-160H620v160ZM180-180h160v-160H180v160Zm440 0h160v-160H620v160Z\"/>\n",
              "  </svg>\n",
              "    </button>\n",
              "\n",
              "  <style>\n",
              "    .colab-df-container {\n",
              "      display:flex;\n",
              "      gap: 12px;\n",
              "    }\n",
              "\n",
              "    .colab-df-convert {\n",
              "      background-color: #E8F0FE;\n",
              "      border: none;\n",
              "      border-radius: 50%;\n",
              "      cursor: pointer;\n",
              "      display: none;\n",
              "      fill: #1967D2;\n",
              "      height: 32px;\n",
              "      padding: 0 0 0 0;\n",
              "      width: 32px;\n",
              "    }\n",
              "\n",
              "    .colab-df-convert:hover {\n",
              "      background-color: #E2EBFA;\n",
              "      box-shadow: 0px 1px 2px rgba(60, 64, 67, 0.3), 0px 1px 3px 1px rgba(60, 64, 67, 0.15);\n",
              "      fill: #174EA6;\n",
              "    }\n",
              "\n",
              "    .colab-df-buttons div {\n",
              "      margin-bottom: 4px;\n",
              "    }\n",
              "\n",
              "    [theme=dark] .colab-df-convert {\n",
              "      background-color: #3B4455;\n",
              "      fill: #D2E3FC;\n",
              "    }\n",
              "\n",
              "    [theme=dark] .colab-df-convert:hover {\n",
              "      background-color: #434B5C;\n",
              "      box-shadow: 0px 1px 3px 1px rgba(0, 0, 0, 0.15);\n",
              "      filter: drop-shadow(0px 1px 2px rgba(0, 0, 0, 0.3));\n",
              "      fill: #FFFFFF;\n",
              "    }\n",
              "  </style>\n",
              "\n",
              "    <script>\n",
              "      const buttonEl =\n",
              "        document.querySelector('#df-1dd74da5-eb95-4b45-b2ae-471fdd567671 button.colab-df-convert');\n",
              "      buttonEl.style.display =\n",
              "        google.colab.kernel.accessAllowed ? 'block' : 'none';\n",
              "\n",
              "      async function convertToInteractive(key) {\n",
              "        const element = document.querySelector('#df-1dd74da5-eb95-4b45-b2ae-471fdd567671');\n",
              "        const dataTable =\n",
              "          await google.colab.kernel.invokeFunction('convertToInteractive',\n",
              "                                                    [key], {});\n",
              "        if (!dataTable) return;\n",
              "\n",
              "        const docLinkHtml = 'Like what you see? Visit the ' +\n",
              "          '<a target=\"_blank\" href=https://colab.research.google.com/notebooks/data_table.ipynb>data table notebook</a>'\n",
              "          + ' to learn more about interactive tables.';\n",
              "        element.innerHTML = '';\n",
              "        dataTable['output_type'] = 'display_data';\n",
              "        await google.colab.output.renderOutput(dataTable, element);\n",
              "        const docLink = document.createElement('div');\n",
              "        docLink.innerHTML = docLinkHtml;\n",
              "        element.appendChild(docLink);\n",
              "      }\n",
              "    </script>\n",
              "  </div>\n",
              "\n",
              "\n",
              "<div id=\"df-9cd0a039-72c4-4f01-95e0-77208a2105df\">\n",
              "  <button class=\"colab-df-quickchart\" onclick=\"quickchart('df-9cd0a039-72c4-4f01-95e0-77208a2105df')\"\n",
              "            title=\"Suggest charts\"\n",
              "            style=\"display:none;\">\n",
              "\n",
              "<svg xmlns=\"http://www.w3.org/2000/svg\" height=\"24px\"viewBox=\"0 0 24 24\"\n",
              "     width=\"24px\">\n",
              "    <g>\n",
              "        <path d=\"M19 3H5c-1.1 0-2 .9-2 2v14c0 1.1.9 2 2 2h14c1.1 0 2-.9 2-2V5c0-1.1-.9-2-2-2zM9 17H7v-7h2v7zm4 0h-2V7h2v10zm4 0h-2v-4h2v4z\"/>\n",
              "    </g>\n",
              "</svg>\n",
              "  </button>\n",
              "\n",
              "<style>\n",
              "  .colab-df-quickchart {\n",
              "      --bg-color: #E8F0FE;\n",
              "      --fill-color: #1967D2;\n",
              "      --hover-bg-color: #E2EBFA;\n",
              "      --hover-fill-color: #174EA6;\n",
              "      --disabled-fill-color: #AAA;\n",
              "      --disabled-bg-color: #DDD;\n",
              "  }\n",
              "\n",
              "  [theme=dark] .colab-df-quickchart {\n",
              "      --bg-color: #3B4455;\n",
              "      --fill-color: #D2E3FC;\n",
              "      --hover-bg-color: #434B5C;\n",
              "      --hover-fill-color: #FFFFFF;\n",
              "      --disabled-bg-color: #3B4455;\n",
              "      --disabled-fill-color: #666;\n",
              "  }\n",
              "\n",
              "  .colab-df-quickchart {\n",
              "    background-color: var(--bg-color);\n",
              "    border: none;\n",
              "    border-radius: 50%;\n",
              "    cursor: pointer;\n",
              "    display: none;\n",
              "    fill: var(--fill-color);\n",
              "    height: 32px;\n",
              "    padding: 0;\n",
              "    width: 32px;\n",
              "  }\n",
              "\n",
              "  .colab-df-quickchart:hover {\n",
              "    background-color: var(--hover-bg-color);\n",
              "    box-shadow: 0 1px 2px rgba(60, 64, 67, 0.3), 0 1px 3px 1px rgba(60, 64, 67, 0.15);\n",
              "    fill: var(--button-hover-fill-color);\n",
              "  }\n",
              "\n",
              "  .colab-df-quickchart-complete:disabled,\n",
              "  .colab-df-quickchart-complete:disabled:hover {\n",
              "    background-color: var(--disabled-bg-color);\n",
              "    fill: var(--disabled-fill-color);\n",
              "    box-shadow: none;\n",
              "  }\n",
              "\n",
              "  .colab-df-spinner {\n",
              "    border: 2px solid var(--fill-color);\n",
              "    border-color: transparent;\n",
              "    border-bottom-color: var(--fill-color);\n",
              "    animation:\n",
              "      spin 1s steps(1) infinite;\n",
              "  }\n",
              "\n",
              "  @keyframes spin {\n",
              "    0% {\n",
              "      border-color: transparent;\n",
              "      border-bottom-color: var(--fill-color);\n",
              "      border-left-color: var(--fill-color);\n",
              "    }\n",
              "    20% {\n",
              "      border-color: transparent;\n",
              "      border-left-color: var(--fill-color);\n",
              "      border-top-color: var(--fill-color);\n",
              "    }\n",
              "    30% {\n",
              "      border-color: transparent;\n",
              "      border-left-color: var(--fill-color);\n",
              "      border-top-color: var(--fill-color);\n",
              "      border-right-color: var(--fill-color);\n",
              "    }\n",
              "    40% {\n",
              "      border-color: transparent;\n",
              "      border-right-color: var(--fill-color);\n",
              "      border-top-color: var(--fill-color);\n",
              "    }\n",
              "    60% {\n",
              "      border-color: transparent;\n",
              "      border-right-color: var(--fill-color);\n",
              "    }\n",
              "    80% {\n",
              "      border-color: transparent;\n",
              "      border-right-color: var(--fill-color);\n",
              "      border-bottom-color: var(--fill-color);\n",
              "    }\n",
              "    90% {\n",
              "      border-color: transparent;\n",
              "      border-bottom-color: var(--fill-color);\n",
              "    }\n",
              "  }\n",
              "</style>\n",
              "\n",
              "  <script>\n",
              "    async function quickchart(key) {\n",
              "      const quickchartButtonEl =\n",
              "        document.querySelector('#' + key + ' button');\n",
              "      quickchartButtonEl.disabled = true;  // To prevent multiple clicks.\n",
              "      quickchartButtonEl.classList.add('colab-df-spinner');\n",
              "      try {\n",
              "        const charts = await google.colab.kernel.invokeFunction(\n",
              "            'suggestCharts', [key], {});\n",
              "      } catch (error) {\n",
              "        console.error('Error during call to suggestCharts:', error);\n",
              "      }\n",
              "      quickchartButtonEl.classList.remove('colab-df-spinner');\n",
              "      quickchartButtonEl.classList.add('colab-df-quickchart-complete');\n",
              "    }\n",
              "    (() => {\n",
              "      let quickchartButtonEl =\n",
              "        document.querySelector('#df-9cd0a039-72c4-4f01-95e0-77208a2105df button');\n",
              "      quickchartButtonEl.style.display =\n",
              "        google.colab.kernel.accessAllowed ? 'block' : 'none';\n",
              "    })();\n",
              "  </script>\n",
              "</div>\n",
              "    </div>\n",
              "  </div>\n"
            ]
          },
          "metadata": {},
          "execution_count": 134
        }
      ],
      "source": [
        "nullRows"
      ]
    },
    {
      "cell_type": "markdown",
      "metadata": {
        "id": "DsXDSybLmMRx"
      },
      "source": [
        "###  Remove rows with missing values\n",
        "\n",
        "The easiest way to deal with records containing missing values (incomplete records) is to ignore them!\n"
      ]
    },
    {
      "cell_type": "code",
      "execution_count": null,
      "metadata": {
        "id": "T4KHHBF4mQOR",
        "colab": {
          "base_uri": "https://localhost:8080/"
        },
        "outputId": "d5529c7d-1923-4a9d-a8a8-b3bb912ac432"
      },
      "outputs": [
        {
          "output_type": "execute_result",
          "data": {
            "text/plain": [
              "(5, 4)"
            ]
          },
          "metadata": {},
          "execution_count": 124
        }
      ],
      "source": [
        "dfCopy.shape\n",
        "#dfCopy"
      ]
    },
    {
      "cell_type": "code",
      "execution_count": null,
      "metadata": {
        "id": "Z7cg7CB-mX7-"
      },
      "outputs": [],
      "source": [
        "#default axis=0 (index==rows)\n",
        "rowsWithoutMissingData = dfCopy.dropna()"
      ]
    },
    {
      "cell_type": "code",
      "execution_count": null,
      "metadata": {
        "id": "wm1_87IOmlEJ",
        "colab": {
          "base_uri": "https://localhost:8080/"
        },
        "outputId": "d8c4ae24-66e5-4608-9004-723a6c659683"
      },
      "outputs": [
        {
          "output_type": "execute_result",
          "data": {
            "text/plain": [
              "(2, 4)"
            ]
          },
          "metadata": {},
          "execution_count": 126
        }
      ],
      "source": [
        "rowsWithoutMissingData.shape"
      ]
    },
    {
      "cell_type": "code",
      "source": [
        "rowsWithoutMissingData"
      ],
      "metadata": {
        "colab": {
          "base_uri": "https://localhost:8080/",
          "height": 112
        },
        "id": "NuxCBkliX4jm",
        "outputId": "a62e98a2-288b-4b54-aa03-99191266b729"
      },
      "execution_count": null,
      "outputs": [
        {
          "output_type": "execute_result",
          "data": {
            "text/plain": [
              "    Name   Age Gender   Salary\n",
              "0  Alice  25.0      F  50000.0\n",
              "4    Eva  27.0      F  60000.0"
            ],
            "text/html": [
              "\n",
              "  <div id=\"df-8cccacf0-af84-4630-a53d-3020e02baedf\" class=\"colab-df-container\">\n",
              "    <div>\n",
              "<style scoped>\n",
              "    .dataframe tbody tr th:only-of-type {\n",
              "        vertical-align: middle;\n",
              "    }\n",
              "\n",
              "    .dataframe tbody tr th {\n",
              "        vertical-align: top;\n",
              "    }\n",
              "\n",
              "    .dataframe thead th {\n",
              "        text-align: right;\n",
              "    }\n",
              "</style>\n",
              "<table border=\"1\" class=\"dataframe\">\n",
              "  <thead>\n",
              "    <tr style=\"text-align: right;\">\n",
              "      <th></th>\n",
              "      <th>Name</th>\n",
              "      <th>Age</th>\n",
              "      <th>Gender</th>\n",
              "      <th>Salary</th>\n",
              "    </tr>\n",
              "  </thead>\n",
              "  <tbody>\n",
              "    <tr>\n",
              "      <th>0</th>\n",
              "      <td>Alice</td>\n",
              "      <td>25.0</td>\n",
              "      <td>F</td>\n",
              "      <td>50000.0</td>\n",
              "    </tr>\n",
              "    <tr>\n",
              "      <th>4</th>\n",
              "      <td>Eva</td>\n",
              "      <td>27.0</td>\n",
              "      <td>F</td>\n",
              "      <td>60000.0</td>\n",
              "    </tr>\n",
              "  </tbody>\n",
              "</table>\n",
              "</div>\n",
              "    <div class=\"colab-df-buttons\">\n",
              "\n",
              "  <div class=\"colab-df-container\">\n",
              "    <button class=\"colab-df-convert\" onclick=\"convertToInteractive('df-8cccacf0-af84-4630-a53d-3020e02baedf')\"\n",
              "            title=\"Convert this dataframe to an interactive table.\"\n",
              "            style=\"display:none;\">\n",
              "\n",
              "  <svg xmlns=\"http://www.w3.org/2000/svg\" height=\"24px\" viewBox=\"0 -960 960 960\">\n",
              "    <path d=\"M120-120v-720h720v720H120Zm60-500h600v-160H180v160Zm220 220h160v-160H400v160Zm0 220h160v-160H400v160ZM180-400h160v-160H180v160Zm440 0h160v-160H620v160ZM180-180h160v-160H180v160Zm440 0h160v-160H620v160Z\"/>\n",
              "  </svg>\n",
              "    </button>\n",
              "\n",
              "  <style>\n",
              "    .colab-df-container {\n",
              "      display:flex;\n",
              "      gap: 12px;\n",
              "    }\n",
              "\n",
              "    .colab-df-convert {\n",
              "      background-color: #E8F0FE;\n",
              "      border: none;\n",
              "      border-radius: 50%;\n",
              "      cursor: pointer;\n",
              "      display: none;\n",
              "      fill: #1967D2;\n",
              "      height: 32px;\n",
              "      padding: 0 0 0 0;\n",
              "      width: 32px;\n",
              "    }\n",
              "\n",
              "    .colab-df-convert:hover {\n",
              "      background-color: #E2EBFA;\n",
              "      box-shadow: 0px 1px 2px rgba(60, 64, 67, 0.3), 0px 1px 3px 1px rgba(60, 64, 67, 0.15);\n",
              "      fill: #174EA6;\n",
              "    }\n",
              "\n",
              "    .colab-df-buttons div {\n",
              "      margin-bottom: 4px;\n",
              "    }\n",
              "\n",
              "    [theme=dark] .colab-df-convert {\n",
              "      background-color: #3B4455;\n",
              "      fill: #D2E3FC;\n",
              "    }\n",
              "\n",
              "    [theme=dark] .colab-df-convert:hover {\n",
              "      background-color: #434B5C;\n",
              "      box-shadow: 0px 1px 3px 1px rgba(0, 0, 0, 0.15);\n",
              "      filter: drop-shadow(0px 1px 2px rgba(0, 0, 0, 0.3));\n",
              "      fill: #FFFFFF;\n",
              "    }\n",
              "  </style>\n",
              "\n",
              "    <script>\n",
              "      const buttonEl =\n",
              "        document.querySelector('#df-8cccacf0-af84-4630-a53d-3020e02baedf button.colab-df-convert');\n",
              "      buttonEl.style.display =\n",
              "        google.colab.kernel.accessAllowed ? 'block' : 'none';\n",
              "\n",
              "      async function convertToInteractive(key) {\n",
              "        const element = document.querySelector('#df-8cccacf0-af84-4630-a53d-3020e02baedf');\n",
              "        const dataTable =\n",
              "          await google.colab.kernel.invokeFunction('convertToInteractive',\n",
              "                                                    [key], {});\n",
              "        if (!dataTable) return;\n",
              "\n",
              "        const docLinkHtml = 'Like what you see? Visit the ' +\n",
              "          '<a target=\"_blank\" href=https://colab.research.google.com/notebooks/data_table.ipynb>data table notebook</a>'\n",
              "          + ' to learn more about interactive tables.';\n",
              "        element.innerHTML = '';\n",
              "        dataTable['output_type'] = 'display_data';\n",
              "        await google.colab.output.renderOutput(dataTable, element);\n",
              "        const docLink = document.createElement('div');\n",
              "        docLink.innerHTML = docLinkHtml;\n",
              "        element.appendChild(docLink);\n",
              "      }\n",
              "    </script>\n",
              "  </div>\n",
              "\n",
              "\n",
              "<div id=\"df-e034997b-4065-4e00-88f4-40d8881acf4e\">\n",
              "  <button class=\"colab-df-quickchart\" onclick=\"quickchart('df-e034997b-4065-4e00-88f4-40d8881acf4e')\"\n",
              "            title=\"Suggest charts\"\n",
              "            style=\"display:none;\">\n",
              "\n",
              "<svg xmlns=\"http://www.w3.org/2000/svg\" height=\"24px\"viewBox=\"0 0 24 24\"\n",
              "     width=\"24px\">\n",
              "    <g>\n",
              "        <path d=\"M19 3H5c-1.1 0-2 .9-2 2v14c0 1.1.9 2 2 2h14c1.1 0 2-.9 2-2V5c0-1.1-.9-2-2-2zM9 17H7v-7h2v7zm4 0h-2V7h2v10zm4 0h-2v-4h2v4z\"/>\n",
              "    </g>\n",
              "</svg>\n",
              "  </button>\n",
              "\n",
              "<style>\n",
              "  .colab-df-quickchart {\n",
              "      --bg-color: #E8F0FE;\n",
              "      --fill-color: #1967D2;\n",
              "      --hover-bg-color: #E2EBFA;\n",
              "      --hover-fill-color: #174EA6;\n",
              "      --disabled-fill-color: #AAA;\n",
              "      --disabled-bg-color: #DDD;\n",
              "  }\n",
              "\n",
              "  [theme=dark] .colab-df-quickchart {\n",
              "      --bg-color: #3B4455;\n",
              "      --fill-color: #D2E3FC;\n",
              "      --hover-bg-color: #434B5C;\n",
              "      --hover-fill-color: #FFFFFF;\n",
              "      --disabled-bg-color: #3B4455;\n",
              "      --disabled-fill-color: #666;\n",
              "  }\n",
              "\n",
              "  .colab-df-quickchart {\n",
              "    background-color: var(--bg-color);\n",
              "    border: none;\n",
              "    border-radius: 50%;\n",
              "    cursor: pointer;\n",
              "    display: none;\n",
              "    fill: var(--fill-color);\n",
              "    height: 32px;\n",
              "    padding: 0;\n",
              "    width: 32px;\n",
              "  }\n",
              "\n",
              "  .colab-df-quickchart:hover {\n",
              "    background-color: var(--hover-bg-color);\n",
              "    box-shadow: 0 1px 2px rgba(60, 64, 67, 0.3), 0 1px 3px 1px rgba(60, 64, 67, 0.15);\n",
              "    fill: var(--button-hover-fill-color);\n",
              "  }\n",
              "\n",
              "  .colab-df-quickchart-complete:disabled,\n",
              "  .colab-df-quickchart-complete:disabled:hover {\n",
              "    background-color: var(--disabled-bg-color);\n",
              "    fill: var(--disabled-fill-color);\n",
              "    box-shadow: none;\n",
              "  }\n",
              "\n",
              "  .colab-df-spinner {\n",
              "    border: 2px solid var(--fill-color);\n",
              "    border-color: transparent;\n",
              "    border-bottom-color: var(--fill-color);\n",
              "    animation:\n",
              "      spin 1s steps(1) infinite;\n",
              "  }\n",
              "\n",
              "  @keyframes spin {\n",
              "    0% {\n",
              "      border-color: transparent;\n",
              "      border-bottom-color: var(--fill-color);\n",
              "      border-left-color: var(--fill-color);\n",
              "    }\n",
              "    20% {\n",
              "      border-color: transparent;\n",
              "      border-left-color: var(--fill-color);\n",
              "      border-top-color: var(--fill-color);\n",
              "    }\n",
              "    30% {\n",
              "      border-color: transparent;\n",
              "      border-left-color: var(--fill-color);\n",
              "      border-top-color: var(--fill-color);\n",
              "      border-right-color: var(--fill-color);\n",
              "    }\n",
              "    40% {\n",
              "      border-color: transparent;\n",
              "      border-right-color: var(--fill-color);\n",
              "      border-top-color: var(--fill-color);\n",
              "    }\n",
              "    60% {\n",
              "      border-color: transparent;\n",
              "      border-right-color: var(--fill-color);\n",
              "    }\n",
              "    80% {\n",
              "      border-color: transparent;\n",
              "      border-right-color: var(--fill-color);\n",
              "      border-bottom-color: var(--fill-color);\n",
              "    }\n",
              "    90% {\n",
              "      border-color: transparent;\n",
              "      border-bottom-color: var(--fill-color);\n",
              "    }\n",
              "  }\n",
              "</style>\n",
              "\n",
              "  <script>\n",
              "    async function quickchart(key) {\n",
              "      const quickchartButtonEl =\n",
              "        document.querySelector('#' + key + ' button');\n",
              "      quickchartButtonEl.disabled = true;  // To prevent multiple clicks.\n",
              "      quickchartButtonEl.classList.add('colab-df-spinner');\n",
              "      try {\n",
              "        const charts = await google.colab.kernel.invokeFunction(\n",
              "            'suggestCharts', [key], {});\n",
              "      } catch (error) {\n",
              "        console.error('Error during call to suggestCharts:', error);\n",
              "      }\n",
              "      quickchartButtonEl.classList.remove('colab-df-spinner');\n",
              "      quickchartButtonEl.classList.add('colab-df-quickchart-complete');\n",
              "    }\n",
              "    (() => {\n",
              "      let quickchartButtonEl =\n",
              "        document.querySelector('#df-e034997b-4065-4e00-88f4-40d8881acf4e button');\n",
              "      quickchartButtonEl.style.display =\n",
              "        google.colab.kernel.accessAllowed ? 'block' : 'none';\n",
              "    })();\n",
              "  </script>\n",
              "</div>\n",
              "    </div>\n",
              "  </div>\n"
            ]
          },
          "metadata": {},
          "execution_count": 127
        }
      ]
    },
    {
      "cell_type": "markdown",
      "metadata": {
        "id": "mcL7oHBYnm4o"
      },
      "source": [
        "### Remove *Features* with null-values"
      ]
    },
    {
      "cell_type": "markdown",
      "metadata": {
        "id": "5vca3PHzoA9o"
      },
      "source": [
        "Remove problematic columns if they’re not relevant for your analysis."
      ]
    },
    {
      "cell_type": "code",
      "execution_count": null,
      "metadata": {
        "id": "SVMKkkcPnmpZ"
      },
      "outputs": [],
      "source": [
        "#Features==Columns (axis 1)\n",
        "dataWithoutMissingColumns = dfCopy.dropna(axis=1)"
      ]
    },
    {
      "cell_type": "code",
      "execution_count": null,
      "metadata": {
        "id": "KUgTeZ99okwn",
        "colab": {
          "base_uri": "https://localhost:8080/",
          "height": 206
        },
        "outputId": "6ea3d54a-3c45-419c-de03-1b5f5dee0c63"
      },
      "outputs": [
        {
          "output_type": "execute_result",
          "data": {
            "text/plain": [
              "      Name\n",
              "0    Alice\n",
              "1      Bob\n",
              "2  Charlie\n",
              "3    David\n",
              "4      Eva"
            ],
            "text/html": [
              "\n",
              "  <div id=\"df-71e61c42-251e-4e35-aa13-1b4a47790654\" class=\"colab-df-container\">\n",
              "    <div>\n",
              "<style scoped>\n",
              "    .dataframe tbody tr th:only-of-type {\n",
              "        vertical-align: middle;\n",
              "    }\n",
              "\n",
              "    .dataframe tbody tr th {\n",
              "        vertical-align: top;\n",
              "    }\n",
              "\n",
              "    .dataframe thead th {\n",
              "        text-align: right;\n",
              "    }\n",
              "</style>\n",
              "<table border=\"1\" class=\"dataframe\">\n",
              "  <thead>\n",
              "    <tr style=\"text-align: right;\">\n",
              "      <th></th>\n",
              "      <th>Name</th>\n",
              "    </tr>\n",
              "  </thead>\n",
              "  <tbody>\n",
              "    <tr>\n",
              "      <th>0</th>\n",
              "      <td>Alice</td>\n",
              "    </tr>\n",
              "    <tr>\n",
              "      <th>1</th>\n",
              "      <td>Bob</td>\n",
              "    </tr>\n",
              "    <tr>\n",
              "      <th>2</th>\n",
              "      <td>Charlie</td>\n",
              "    </tr>\n",
              "    <tr>\n",
              "      <th>3</th>\n",
              "      <td>David</td>\n",
              "    </tr>\n",
              "    <tr>\n",
              "      <th>4</th>\n",
              "      <td>Eva</td>\n",
              "    </tr>\n",
              "  </tbody>\n",
              "</table>\n",
              "</div>\n",
              "    <div class=\"colab-df-buttons\">\n",
              "\n",
              "  <div class=\"colab-df-container\">\n",
              "    <button class=\"colab-df-convert\" onclick=\"convertToInteractive('df-71e61c42-251e-4e35-aa13-1b4a47790654')\"\n",
              "            title=\"Convert this dataframe to an interactive table.\"\n",
              "            style=\"display:none;\">\n",
              "\n",
              "  <svg xmlns=\"http://www.w3.org/2000/svg\" height=\"24px\" viewBox=\"0 -960 960 960\">\n",
              "    <path d=\"M120-120v-720h720v720H120Zm60-500h600v-160H180v160Zm220 220h160v-160H400v160Zm0 220h160v-160H400v160ZM180-400h160v-160H180v160Zm440 0h160v-160H620v160ZM180-180h160v-160H180v160Zm440 0h160v-160H620v160Z\"/>\n",
              "  </svg>\n",
              "    </button>\n",
              "\n",
              "  <style>\n",
              "    .colab-df-container {\n",
              "      display:flex;\n",
              "      gap: 12px;\n",
              "    }\n",
              "\n",
              "    .colab-df-convert {\n",
              "      background-color: #E8F0FE;\n",
              "      border: none;\n",
              "      border-radius: 50%;\n",
              "      cursor: pointer;\n",
              "      display: none;\n",
              "      fill: #1967D2;\n",
              "      height: 32px;\n",
              "      padding: 0 0 0 0;\n",
              "      width: 32px;\n",
              "    }\n",
              "\n",
              "    .colab-df-convert:hover {\n",
              "      background-color: #E2EBFA;\n",
              "      box-shadow: 0px 1px 2px rgba(60, 64, 67, 0.3), 0px 1px 3px 1px rgba(60, 64, 67, 0.15);\n",
              "      fill: #174EA6;\n",
              "    }\n",
              "\n",
              "    .colab-df-buttons div {\n",
              "      margin-bottom: 4px;\n",
              "    }\n",
              "\n",
              "    [theme=dark] .colab-df-convert {\n",
              "      background-color: #3B4455;\n",
              "      fill: #D2E3FC;\n",
              "    }\n",
              "\n",
              "    [theme=dark] .colab-df-convert:hover {\n",
              "      background-color: #434B5C;\n",
              "      box-shadow: 0px 1px 3px 1px rgba(0, 0, 0, 0.15);\n",
              "      filter: drop-shadow(0px 1px 2px rgba(0, 0, 0, 0.3));\n",
              "      fill: #FFFFFF;\n",
              "    }\n",
              "  </style>\n",
              "\n",
              "    <script>\n",
              "      const buttonEl =\n",
              "        document.querySelector('#df-71e61c42-251e-4e35-aa13-1b4a47790654 button.colab-df-convert');\n",
              "      buttonEl.style.display =\n",
              "        google.colab.kernel.accessAllowed ? 'block' : 'none';\n",
              "\n",
              "      async function convertToInteractive(key) {\n",
              "        const element = document.querySelector('#df-71e61c42-251e-4e35-aa13-1b4a47790654');\n",
              "        const dataTable =\n",
              "          await google.colab.kernel.invokeFunction('convertToInteractive',\n",
              "                                                    [key], {});\n",
              "        if (!dataTable) return;\n",
              "\n",
              "        const docLinkHtml = 'Like what you see? Visit the ' +\n",
              "          '<a target=\"_blank\" href=https://colab.research.google.com/notebooks/data_table.ipynb>data table notebook</a>'\n",
              "          + ' to learn more about interactive tables.';\n",
              "        element.innerHTML = '';\n",
              "        dataTable['output_type'] = 'display_data';\n",
              "        await google.colab.output.renderOutput(dataTable, element);\n",
              "        const docLink = document.createElement('div');\n",
              "        docLink.innerHTML = docLinkHtml;\n",
              "        element.appendChild(docLink);\n",
              "      }\n",
              "    </script>\n",
              "  </div>\n",
              "\n",
              "\n",
              "<div id=\"df-ac5ae626-e176-4db4-9eed-b6cc346a33d7\">\n",
              "  <button class=\"colab-df-quickchart\" onclick=\"quickchart('df-ac5ae626-e176-4db4-9eed-b6cc346a33d7')\"\n",
              "            title=\"Suggest charts\"\n",
              "            style=\"display:none;\">\n",
              "\n",
              "<svg xmlns=\"http://www.w3.org/2000/svg\" height=\"24px\"viewBox=\"0 0 24 24\"\n",
              "     width=\"24px\">\n",
              "    <g>\n",
              "        <path d=\"M19 3H5c-1.1 0-2 .9-2 2v14c0 1.1.9 2 2 2h14c1.1 0 2-.9 2-2V5c0-1.1-.9-2-2-2zM9 17H7v-7h2v7zm4 0h-2V7h2v10zm4 0h-2v-4h2v4z\"/>\n",
              "    </g>\n",
              "</svg>\n",
              "  </button>\n",
              "\n",
              "<style>\n",
              "  .colab-df-quickchart {\n",
              "      --bg-color: #E8F0FE;\n",
              "      --fill-color: #1967D2;\n",
              "      --hover-bg-color: #E2EBFA;\n",
              "      --hover-fill-color: #174EA6;\n",
              "      --disabled-fill-color: #AAA;\n",
              "      --disabled-bg-color: #DDD;\n",
              "  }\n",
              "\n",
              "  [theme=dark] .colab-df-quickchart {\n",
              "      --bg-color: #3B4455;\n",
              "      --fill-color: #D2E3FC;\n",
              "      --hover-bg-color: #434B5C;\n",
              "      --hover-fill-color: #FFFFFF;\n",
              "      --disabled-bg-color: #3B4455;\n",
              "      --disabled-fill-color: #666;\n",
              "  }\n",
              "\n",
              "  .colab-df-quickchart {\n",
              "    background-color: var(--bg-color);\n",
              "    border: none;\n",
              "    border-radius: 50%;\n",
              "    cursor: pointer;\n",
              "    display: none;\n",
              "    fill: var(--fill-color);\n",
              "    height: 32px;\n",
              "    padding: 0;\n",
              "    width: 32px;\n",
              "  }\n",
              "\n",
              "  .colab-df-quickchart:hover {\n",
              "    background-color: var(--hover-bg-color);\n",
              "    box-shadow: 0 1px 2px rgba(60, 64, 67, 0.3), 0 1px 3px 1px rgba(60, 64, 67, 0.15);\n",
              "    fill: var(--button-hover-fill-color);\n",
              "  }\n",
              "\n",
              "  .colab-df-quickchart-complete:disabled,\n",
              "  .colab-df-quickchart-complete:disabled:hover {\n",
              "    background-color: var(--disabled-bg-color);\n",
              "    fill: var(--disabled-fill-color);\n",
              "    box-shadow: none;\n",
              "  }\n",
              "\n",
              "  .colab-df-spinner {\n",
              "    border: 2px solid var(--fill-color);\n",
              "    border-color: transparent;\n",
              "    border-bottom-color: var(--fill-color);\n",
              "    animation:\n",
              "      spin 1s steps(1) infinite;\n",
              "  }\n",
              "\n",
              "  @keyframes spin {\n",
              "    0% {\n",
              "      border-color: transparent;\n",
              "      border-bottom-color: var(--fill-color);\n",
              "      border-left-color: var(--fill-color);\n",
              "    }\n",
              "    20% {\n",
              "      border-color: transparent;\n",
              "      border-left-color: var(--fill-color);\n",
              "      border-top-color: var(--fill-color);\n",
              "    }\n",
              "    30% {\n",
              "      border-color: transparent;\n",
              "      border-left-color: var(--fill-color);\n",
              "      border-top-color: var(--fill-color);\n",
              "      border-right-color: var(--fill-color);\n",
              "    }\n",
              "    40% {\n",
              "      border-color: transparent;\n",
              "      border-right-color: var(--fill-color);\n",
              "      border-top-color: var(--fill-color);\n",
              "    }\n",
              "    60% {\n",
              "      border-color: transparent;\n",
              "      border-right-color: var(--fill-color);\n",
              "    }\n",
              "    80% {\n",
              "      border-color: transparent;\n",
              "      border-right-color: var(--fill-color);\n",
              "      border-bottom-color: var(--fill-color);\n",
              "    }\n",
              "    90% {\n",
              "      border-color: transparent;\n",
              "      border-bottom-color: var(--fill-color);\n",
              "    }\n",
              "  }\n",
              "</style>\n",
              "\n",
              "  <script>\n",
              "    async function quickchart(key) {\n",
              "      const quickchartButtonEl =\n",
              "        document.querySelector('#' + key + ' button');\n",
              "      quickchartButtonEl.disabled = true;  // To prevent multiple clicks.\n",
              "      quickchartButtonEl.classList.add('colab-df-spinner');\n",
              "      try {\n",
              "        const charts = await google.colab.kernel.invokeFunction(\n",
              "            'suggestCharts', [key], {});\n",
              "      } catch (error) {\n",
              "        console.error('Error during call to suggestCharts:', error);\n",
              "      }\n",
              "      quickchartButtonEl.classList.remove('colab-df-spinner');\n",
              "      quickchartButtonEl.classList.add('colab-df-quickchart-complete');\n",
              "    }\n",
              "    (() => {\n",
              "      let quickchartButtonEl =\n",
              "        document.querySelector('#df-ac5ae626-e176-4db4-9eed-b6cc346a33d7 button');\n",
              "      quickchartButtonEl.style.display =\n",
              "        google.colab.kernel.accessAllowed ? 'block' : 'none';\n",
              "    })();\n",
              "  </script>\n",
              "</div>\n",
              "    </div>\n",
              "  </div>\n"
            ]
          },
          "metadata": {},
          "execution_count": 129
        }
      ],
      "source": [
        "dataWithoutMissingColumns"
      ]
    },
    {
      "cell_type": "code",
      "source": [
        "nba.info()"
      ],
      "metadata": {
        "id": "Xe13iGdsYrPB"
      },
      "execution_count": null,
      "outputs": []
    },
    {
      "cell_type": "markdown",
      "source": [
        "### Change *Null Values*"
      ],
      "metadata": {
        "id": "bO-9MNMHZbtS"
      }
    },
    {
      "cell_type": "code",
      "source": [
        "#see https://pandas.pydata.org/docs/reference/api/pandas.DataFrame.fillna.html\n",
        "data_with_default_notes = nba.copy()\n",
        "data_with_default_notes[\"notes\"].fillna(value=\"no notes at all\", inplace=True)\n",
        "data_with_default_notes[\"notes\"].describe()\n",
        "# Expected:\n",
        "# count              126314\n",
        "# unique                232\n",
        "# top       no notes at all\n",
        "# freq               120890\n",
        "# Name: notes, dtype: object"
      ],
      "metadata": {
        "colab": {
          "base_uri": "https://localhost:8080/"
        },
        "id": "MDWtLtbLYjbQ",
        "outputId": "6223f50f-0535-4b2e-e29b-8800a5af07c4"
      },
      "execution_count": null,
      "outputs": [
        {
          "output_type": "execute_result",
          "data": {
            "text/plain": [
              "count              126314\n",
              "unique                232\n",
              "top       no notes at all\n",
              "freq               120890\n",
              "Name: notes, dtype: object"
            ]
          },
          "metadata": {},
          "execution_count": 135
        }
      ]
    },
    {
      "cell_type": "markdown",
      "source": [
        "### Invalid Values"
      ],
      "metadata": {
        "id": "4qOosR2TaUkQ"
      }
    },
    {
      "cell_type": "code",
      "source": [
        "nba[nba[\"pts\"] == 0]"
      ],
      "metadata": {
        "colab": {
          "base_uri": "https://localhost:8080/",
          "height": 182
        },
        "id": "3cJg5HTHaXqC",
        "outputId": "91b290ed-3105-4a3f-ade6-ac2d6763d9e4"
      },
      "execution_count": null,
      "outputs": [
        {
          "output_type": "execute_result",
          "data": {
            "text/plain": [
              "       gameorder       game_id lg_id  _iscopy  year_id   date_game  \\\n",
              "26684      13343  197210260VIR   ABA        1     1973  10/26/1972   \n",
              "\n",
              "       seasongame  is_playoffs team_id  fran_id  ...  opp_pts  opp_elo_i  \\\n",
              "26684           7            0     DNR  Nuggets  ...        2  1484.1907   \n",
              "\n",
              "       opp_elo_n  game_location game_result  forecast  \\\n",
              "26684   1487.083              A           L  0.328948   \n",
              "\n",
              "                                notes  date_played          C DaysCPassed  \n",
              "26684  at Richmond VA; forfeit to VIR   1972-10-26 18715 days     18715.0  \n",
              "\n",
              "[1 rows x 26 columns]"
            ],
            "text/html": [
              "\n",
              "  <div id=\"df-8c6f9279-6ced-4d3c-96a5-def47608ba39\" class=\"colab-df-container\">\n",
              "    <div>\n",
              "<style scoped>\n",
              "    .dataframe tbody tr th:only-of-type {\n",
              "        vertical-align: middle;\n",
              "    }\n",
              "\n",
              "    .dataframe tbody tr th {\n",
              "        vertical-align: top;\n",
              "    }\n",
              "\n",
              "    .dataframe thead th {\n",
              "        text-align: right;\n",
              "    }\n",
              "</style>\n",
              "<table border=\"1\" class=\"dataframe\">\n",
              "  <thead>\n",
              "    <tr style=\"text-align: right;\">\n",
              "      <th></th>\n",
              "      <th>gameorder</th>\n",
              "      <th>game_id</th>\n",
              "      <th>lg_id</th>\n",
              "      <th>_iscopy</th>\n",
              "      <th>year_id</th>\n",
              "      <th>date_game</th>\n",
              "      <th>seasongame</th>\n",
              "      <th>is_playoffs</th>\n",
              "      <th>team_id</th>\n",
              "      <th>fran_id</th>\n",
              "      <th>...</th>\n",
              "      <th>opp_pts</th>\n",
              "      <th>opp_elo_i</th>\n",
              "      <th>opp_elo_n</th>\n",
              "      <th>game_location</th>\n",
              "      <th>game_result</th>\n",
              "      <th>forecast</th>\n",
              "      <th>notes</th>\n",
              "      <th>date_played</th>\n",
              "      <th>C</th>\n",
              "      <th>DaysCPassed</th>\n",
              "    </tr>\n",
              "  </thead>\n",
              "  <tbody>\n",
              "    <tr>\n",
              "      <th>26684</th>\n",
              "      <td>13343</td>\n",
              "      <td>197210260VIR</td>\n",
              "      <td>ABA</td>\n",
              "      <td>1</td>\n",
              "      <td>1973</td>\n",
              "      <td>10/26/1972</td>\n",
              "      <td>7</td>\n",
              "      <td>0</td>\n",
              "      <td>DNR</td>\n",
              "      <td>Nuggets</td>\n",
              "      <td>...</td>\n",
              "      <td>2</td>\n",
              "      <td>1484.1907</td>\n",
              "      <td>1487.083</td>\n",
              "      <td>A</td>\n",
              "      <td>L</td>\n",
              "      <td>0.328948</td>\n",
              "      <td>at Richmond VA; forfeit to VIR</td>\n",
              "      <td>1972-10-26</td>\n",
              "      <td>18715 days</td>\n",
              "      <td>18715.0</td>\n",
              "    </tr>\n",
              "  </tbody>\n",
              "</table>\n",
              "<p>1 rows × 26 columns</p>\n",
              "</div>\n",
              "    <div class=\"colab-df-buttons\">\n",
              "\n",
              "  <div class=\"colab-df-container\">\n",
              "    <button class=\"colab-df-convert\" onclick=\"convertToInteractive('df-8c6f9279-6ced-4d3c-96a5-def47608ba39')\"\n",
              "            title=\"Convert this dataframe to an interactive table.\"\n",
              "            style=\"display:none;\">\n",
              "\n",
              "  <svg xmlns=\"http://www.w3.org/2000/svg\" height=\"24px\" viewBox=\"0 -960 960 960\">\n",
              "    <path d=\"M120-120v-720h720v720H120Zm60-500h600v-160H180v160Zm220 220h160v-160H400v160Zm0 220h160v-160H400v160ZM180-400h160v-160H180v160Zm440 0h160v-160H620v160ZM180-180h160v-160H180v160Zm440 0h160v-160H620v160Z\"/>\n",
              "  </svg>\n",
              "    </button>\n",
              "\n",
              "  <style>\n",
              "    .colab-df-container {\n",
              "      display:flex;\n",
              "      gap: 12px;\n",
              "    }\n",
              "\n",
              "    .colab-df-convert {\n",
              "      background-color: #E8F0FE;\n",
              "      border: none;\n",
              "      border-radius: 50%;\n",
              "      cursor: pointer;\n",
              "      display: none;\n",
              "      fill: #1967D2;\n",
              "      height: 32px;\n",
              "      padding: 0 0 0 0;\n",
              "      width: 32px;\n",
              "    }\n",
              "\n",
              "    .colab-df-convert:hover {\n",
              "      background-color: #E2EBFA;\n",
              "      box-shadow: 0px 1px 2px rgba(60, 64, 67, 0.3), 0px 1px 3px 1px rgba(60, 64, 67, 0.15);\n",
              "      fill: #174EA6;\n",
              "    }\n",
              "\n",
              "    .colab-df-buttons div {\n",
              "      margin-bottom: 4px;\n",
              "    }\n",
              "\n",
              "    [theme=dark] .colab-df-convert {\n",
              "      background-color: #3B4455;\n",
              "      fill: #D2E3FC;\n",
              "    }\n",
              "\n",
              "    [theme=dark] .colab-df-convert:hover {\n",
              "      background-color: #434B5C;\n",
              "      box-shadow: 0px 1px 3px 1px rgba(0, 0, 0, 0.15);\n",
              "      filter: drop-shadow(0px 1px 2px rgba(0, 0, 0, 0.3));\n",
              "      fill: #FFFFFF;\n",
              "    }\n",
              "  </style>\n",
              "\n",
              "    <script>\n",
              "      const buttonEl =\n",
              "        document.querySelector('#df-8c6f9279-6ced-4d3c-96a5-def47608ba39 button.colab-df-convert');\n",
              "      buttonEl.style.display =\n",
              "        google.colab.kernel.accessAllowed ? 'block' : 'none';\n",
              "\n",
              "      async function convertToInteractive(key) {\n",
              "        const element = document.querySelector('#df-8c6f9279-6ced-4d3c-96a5-def47608ba39');\n",
              "        const dataTable =\n",
              "          await google.colab.kernel.invokeFunction('convertToInteractive',\n",
              "                                                    [key], {});\n",
              "        if (!dataTable) return;\n",
              "\n",
              "        const docLinkHtml = 'Like what you see? Visit the ' +\n",
              "          '<a target=\"_blank\" href=https://colab.research.google.com/notebooks/data_table.ipynb>data table notebook</a>'\n",
              "          + ' to learn more about interactive tables.';\n",
              "        element.innerHTML = '';\n",
              "        dataTable['output_type'] = 'display_data';\n",
              "        await google.colab.output.renderOutput(dataTable, element);\n",
              "        const docLink = document.createElement('div');\n",
              "        docLink.innerHTML = docLinkHtml;\n",
              "        element.appendChild(docLink);\n",
              "      }\n",
              "    </script>\n",
              "  </div>\n",
              "\n",
              "    </div>\n",
              "  </div>\n"
            ]
          },
          "metadata": {},
          "execution_count": 136
        }
      ]
    },
    {
      "cell_type": "markdown",
      "source": [
        "### Inconsistencies Between Values in Different Columns"
      ],
      "metadata": {
        "id": "H3DxJlYBamSL"
      }
    },
    {
      "cell_type": "code",
      "source": [
        "nba[(nba[\"pts\"] > nba[\"opp_pts\"]) & (nba[\"game_result\"] != \"W\")].empty\n",
        "# Expected:\n",
        "# True"
      ],
      "metadata": {
        "colab": {
          "base_uri": "https://localhost:8080/"
        },
        "id": "1rb58BuEapS9",
        "outputId": "a0095695-b373-41a0-f343-bae1b09945ff"
      },
      "execution_count": null,
      "outputs": [
        {
          "output_type": "execute_result",
          "data": {
            "text/plain": [
              "True"
            ]
          },
          "metadata": {},
          "execution_count": 137
        }
      ]
    },
    {
      "cell_type": "code",
      "source": [
        "nba[(nba[\"pts\"] < nba[\"opp_pts\"]) & (nba[\"game_result\"] != \"L\")].empty\n",
        "# Expected:\n",
        "# True"
      ],
      "metadata": {
        "colab": {
          "base_uri": "https://localhost:8080/"
        },
        "id": "-E7rlFxsaz1p",
        "outputId": "213f63f9-abdf-4352-af35-1a434d562295"
      },
      "execution_count": null,
      "outputs": [
        {
          "output_type": "execute_result",
          "data": {
            "text/plain": [
              "True"
            ]
          },
          "metadata": {},
          "execution_count": 138
        }
      ]
    },
    {
      "cell_type": "markdown",
      "metadata": {
        "id": "3JsSvY0qYqrp"
      },
      "source": [
        "### Spliting Datasets"
      ]
    },
    {
      "cell_type": "markdown",
      "source": [
        "\n",
        "\n",
        "---\n",
        "\n"
      ],
      "metadata": {
        "id": "-6SOUHZ7czJN"
      }
    },
    {
      "cell_type": "markdown",
      "metadata": {
        "id": "kdcwXqppEQjJ"
      },
      "source": [
        "***Slicing Data (essential)***"
      ]
    },
    {
      "cell_type": "code",
      "execution_count": null,
      "metadata": {
        "id": "F9ZKE1u4ESOR"
      },
      "outputs": [],
      "source": [
        "a = [7, 2, 3, 7, 5, 6, 0, 1]"
      ]
    },
    {
      "cell_type": "markdown",
      "metadata": {
        "id": "zGZ9A6ABFpdI"
      },
      "source": [
        "the instruction *[start:stop]* includes the value in the position *start*, but not in the position *stop*. Both are optional."
      ]
    },
    {
      "cell_type": "markdown",
      "metadata": {
        "id": "aVd1Rj2eFfBy"
      },
      "source": [
        "Part of the data"
      ]
    },
    {
      "cell_type": "code",
      "execution_count": null,
      "metadata": {
        "id": "azjgZAj-Y3dQ"
      },
      "outputs": [],
      "source": [
        "a[1:5]"
      ]
    },
    {
      "cell_type": "code",
      "execution_count": null,
      "metadata": {
        "id": "c2HUWWidGIU-"
      },
      "outputs": [],
      "source": [
        "a[:5]"
      ]
    },
    {
      "cell_type": "code",
      "execution_count": null,
      "metadata": {
        "id": "OAFwpDLuGJg1"
      },
      "outputs": [],
      "source": [
        "a[3:]"
      ]
    },
    {
      "cell_type": "markdown",
      "metadata": {
        "id": "dj9FvhEcGT-o"
      },
      "source": [
        "Start from the end of the data"
      ]
    },
    {
      "cell_type": "code",
      "execution_count": null,
      "metadata": {
        "id": "3g9YHQ6wGTF-"
      },
      "outputs": [],
      "source": [
        "a[-4:]"
      ]
    },
    {
      "cell_type": "code",
      "execution_count": null,
      "metadata": {
        "id": "_CKBZqLtGaUK"
      },
      "outputs": [],
      "source": [
        "a[-6:-2]"
      ]
    },
    {
      "cell_type": "markdown",
      "metadata": {
        "id": "J70NX5EdFbEp"
      },
      "source": [
        "*Values substituition*"
      ]
    },
    {
      "cell_type": "code",
      "execution_count": null,
      "metadata": {
        "id": "uFoLqxaxFHtK"
      },
      "outputs": [],
      "source": [
        "a[3:4] = [6, 3]\n",
        "a"
      ]
    },
    {
      "cell_type": "markdown",
      "metadata": {
        "id": "qAhStZgwGdzk"
      },
      "source": [
        "*Change the step using [start:stop:step]*"
      ]
    },
    {
      "cell_type": "code",
      "execution_count": null,
      "metadata": {
        "id": "yHrrDB63GfNb"
      },
      "outputs": [],
      "source": [
        "a[::2]"
      ]
    },
    {
      "cell_type": "markdown",
      "metadata": {
        "id": "oAnJHdiZHANT"
      },
      "source": [
        "*Special case: Inverting a sequence*"
      ]
    },
    {
      "cell_type": "code",
      "execution_count": null,
      "metadata": {
        "id": "3DEE0clpHDz4"
      },
      "outputs": [],
      "source": [
        "a[::-1]"
      ]
    },
    {
      "cell_type": "markdown",
      "source": [
        "\n",
        "\n",
        "---\n",
        "\n"
      ],
      "metadata": {
        "id": "vIeun8V8c2Tv"
      }
    },
    {
      "cell_type": "markdown",
      "metadata": {
        "id": "SVqPwIAxG63i"
      },
      "source": [
        "**Considering Datasets**"
      ]
    },
    {
      "cell_type": "markdown",
      "metadata": {
        "id": "p_Rl8tGzIOnT"
      },
      "source": [
        "*Spliting the Dataset by Row*"
      ]
    },
    {
      "cell_type": "code",
      "source": [
        "len(nba)"
      ],
      "metadata": {
        "colab": {
          "base_uri": "https://localhost:8080/"
        },
        "id": "Ww18rc5Jbfw0",
        "outputId": "c45c1f5e-8c66-410e-caa8-cfe4cd395adc"
      },
      "execution_count": null,
      "outputs": [
        {
          "output_type": "execute_result",
          "data": {
            "text/plain": [
              "126314"
            ]
          },
          "metadata": {},
          "execution_count": 141
        }
      ]
    },
    {
      "cell_type": "markdown",
      "metadata": {
        "id": "_sDrFlb8Z53T"
      },
      "source": [
        "*Splitting  Dataframe by groups*"
      ]
    },
    {
      "cell_type": "markdown",
      "metadata": {
        "id": "k24W6mCVac3a"
      },
      "source": [
        "Group the data by column value *year_id*. The newly formed dataframe consists of grouped data with *year_id* = 1947."
      ]
    },
    {
      "cell_type": "code",
      "source": [
        "nba.info()\n"
      ],
      "metadata": {
        "id": "ux8XWfbUeCdZ",
        "colab": {
          "base_uri": "https://localhost:8080/"
        },
        "outputId": "53e4db93-24b2-469d-9ac9-81e1762f40de"
      },
      "execution_count": 4,
      "outputs": [
        {
          "output_type": "stream",
          "name": "stdout",
          "text": [
            "<class 'pandas.core.frame.DataFrame'>\n",
            "RangeIndex: 126314 entries, 0 to 126313\n",
            "Data columns (total 23 columns):\n",
            " #   Column         Non-Null Count   Dtype  \n",
            "---  ------         --------------   -----  \n",
            " 0   gameorder      126314 non-null  int64  \n",
            " 1   game_id        126314 non-null  object \n",
            " 2   lg_id          126314 non-null  object \n",
            " 3   _iscopy        126314 non-null  int64  \n",
            " 4   year_id        126314 non-null  int64  \n",
            " 5   date_game      126314 non-null  object \n",
            " 6   seasongame     126314 non-null  int64  \n",
            " 7   is_playoffs    126314 non-null  int64  \n",
            " 8   team_id        126314 non-null  object \n",
            " 9   fran_id        126314 non-null  object \n",
            " 10  pts            126314 non-null  int64  \n",
            " 11  elo_i          126314 non-null  float64\n",
            " 12  elo_n          126314 non-null  float64\n",
            " 13  win_equiv      126314 non-null  float64\n",
            " 14  opp_id         126314 non-null  object \n",
            " 15  opp_fran       126314 non-null  object \n",
            " 16  opp_pts        126314 non-null  int64  \n",
            " 17  opp_elo_i      126314 non-null  float64\n",
            " 18  opp_elo_n      126314 non-null  float64\n",
            " 19  game_location  126314 non-null  object \n",
            " 20  game_result    126314 non-null  object \n",
            " 21  forecast       126314 non-null  float64\n",
            " 22  notes          5424 non-null    object \n",
            "dtypes: float64(6), int64(7), object(10)\n",
            "memory usage: 22.2+ MB\n"
          ]
        }
      ]
    },
    {
      "cell_type": "code",
      "execution_count": 5,
      "metadata": {
        "id": "jHqqGLGWbQsl",
        "colab": {
          "base_uri": "https://localhost:8080/",
          "height": 444
        },
        "outputId": "3c0bf8ba-9713-4763-9ef2-4b8dd548f260"
      },
      "outputs": [
        {
          "output_type": "execute_result",
          "data": {
            "text/plain": [
              "     gameorder       game_id lg_id  _iscopy  year_id  date_game  seasongame  \\\n",
              "0            1  194611010TRH   NBA        0     1947  11/1/1946           1   \n",
              "1            1  194611010TRH   NBA        1     1947  11/1/1946           1   \n",
              "2            2  194611020CHS   NBA        0     1947  11/2/1946           1   \n",
              "3            2  194611020CHS   NBA        1     1947  11/2/1946           2   \n",
              "4            3  194611020DTF   NBA        0     1947  11/2/1946           1   \n",
              "..         ...           ...   ...      ...      ...        ...         ...   \n",
              "695        348  194704190CHS   NBA        1     1947  4/19/1947          68   \n",
              "696        349  194704200CHS   NBA        1     1947  4/20/1947          69   \n",
              "697        349  194704200CHS   NBA        0     1947  4/20/1947          71   \n",
              "698        350  194704220GSW   NBA        1     1947  4/22/1947          72   \n",
              "699        350  194704220GSW   NBA        0     1947  4/22/1947          70   \n",
              "\n",
              "     is_playoffs team_id   fran_id  ...  win_equiv  opp_id  opp_fran  opp_pts  \\\n",
              "0              0     TRH   Huskies  ...  40.294830     NYK    Knicks       68   \n",
              "1              0     NYK    Knicks  ...  41.705170     TRH   Huskies       66   \n",
              "2              0     CHS     Stags  ...  42.012257     NYK    Knicks       47   \n",
              "3              0     NYK    Knicks  ...  40.692783     CHS     Stags       63   \n",
              "4              0     DTF   Falcons  ...  38.864048     WSC  Capitols       50   \n",
              "..           ...     ...       ...  ...        ...     ...       ...      ...   \n",
              "695            1     PHW  Warriors  ...  55.649139     CHS     Stags       72   \n",
              "696            1     PHW  Warriors  ...  55.359722     CHS     Stags       74   \n",
              "697            1     CHS     Stags  ...  52.490616     PHW  Warriors       73   \n",
              "698            1     CHS     Stags  ...  52.176041     PHW  Warriors       83   \n",
              "699            1     PHW  Warriors  ...  55.657673     CHS     Stags       80   \n",
              "\n",
              "     opp_elo_i  opp_elo_n  game_location  game_result  forecast notes  \n",
              "0    1300.0000  1306.7233              H            L  0.640065   NaN  \n",
              "1    1300.0000  1293.2767              A            W  0.359935   NaN  \n",
              "2    1306.7233  1297.0712              H            W  0.631101   NaN  \n",
              "3    1300.0000  1309.6521              A            L  0.368899   NaN  \n",
              "4    1300.0000  1320.3811              H            L  0.640065   NaN  \n",
              "..         ...        ...            ...          ...       ...   ...  \n",
              "695  1416.6769  1409.4009              A            W  0.389797   NaN  \n",
              "696  1409.4009  1412.5547              A            L  0.409896   NaN  \n",
              "697  1446.0986  1442.9448              H            W  0.590104   NaN  \n",
              "698  1442.9448  1446.1919              A            L  0.320694   NaN  \n",
              "699  1412.5547  1409.3076              H            W  0.679306   NaN  \n",
              "\n",
              "[700 rows x 23 columns]"
            ],
            "text/html": [
              "\n",
              "  <div id=\"df-8560d6d6-9fc2-4755-9f61-7637e3ea9d12\" class=\"colab-df-container\">\n",
              "    <div>\n",
              "<style scoped>\n",
              "    .dataframe tbody tr th:only-of-type {\n",
              "        vertical-align: middle;\n",
              "    }\n",
              "\n",
              "    .dataframe tbody tr th {\n",
              "        vertical-align: top;\n",
              "    }\n",
              "\n",
              "    .dataframe thead th {\n",
              "        text-align: right;\n",
              "    }\n",
              "</style>\n",
              "<table border=\"1\" class=\"dataframe\">\n",
              "  <thead>\n",
              "    <tr style=\"text-align: right;\">\n",
              "      <th></th>\n",
              "      <th>gameorder</th>\n",
              "      <th>game_id</th>\n",
              "      <th>lg_id</th>\n",
              "      <th>_iscopy</th>\n",
              "      <th>year_id</th>\n",
              "      <th>date_game</th>\n",
              "      <th>seasongame</th>\n",
              "      <th>is_playoffs</th>\n",
              "      <th>team_id</th>\n",
              "      <th>fran_id</th>\n",
              "      <th>...</th>\n",
              "      <th>win_equiv</th>\n",
              "      <th>opp_id</th>\n",
              "      <th>opp_fran</th>\n",
              "      <th>opp_pts</th>\n",
              "      <th>opp_elo_i</th>\n",
              "      <th>opp_elo_n</th>\n",
              "      <th>game_location</th>\n",
              "      <th>game_result</th>\n",
              "      <th>forecast</th>\n",
              "      <th>notes</th>\n",
              "    </tr>\n",
              "  </thead>\n",
              "  <tbody>\n",
              "    <tr>\n",
              "      <th>0</th>\n",
              "      <td>1</td>\n",
              "      <td>194611010TRH</td>\n",
              "      <td>NBA</td>\n",
              "      <td>0</td>\n",
              "      <td>1947</td>\n",
              "      <td>11/1/1946</td>\n",
              "      <td>1</td>\n",
              "      <td>0</td>\n",
              "      <td>TRH</td>\n",
              "      <td>Huskies</td>\n",
              "      <td>...</td>\n",
              "      <td>40.294830</td>\n",
              "      <td>NYK</td>\n",
              "      <td>Knicks</td>\n",
              "      <td>68</td>\n",
              "      <td>1300.0000</td>\n",
              "      <td>1306.7233</td>\n",
              "      <td>H</td>\n",
              "      <td>L</td>\n",
              "      <td>0.640065</td>\n",
              "      <td>NaN</td>\n",
              "    </tr>\n",
              "    <tr>\n",
              "      <th>1</th>\n",
              "      <td>1</td>\n",
              "      <td>194611010TRH</td>\n",
              "      <td>NBA</td>\n",
              "      <td>1</td>\n",
              "      <td>1947</td>\n",
              "      <td>11/1/1946</td>\n",
              "      <td>1</td>\n",
              "      <td>0</td>\n",
              "      <td>NYK</td>\n",
              "      <td>Knicks</td>\n",
              "      <td>...</td>\n",
              "      <td>41.705170</td>\n",
              "      <td>TRH</td>\n",
              "      <td>Huskies</td>\n",
              "      <td>66</td>\n",
              "      <td>1300.0000</td>\n",
              "      <td>1293.2767</td>\n",
              "      <td>A</td>\n",
              "      <td>W</td>\n",
              "      <td>0.359935</td>\n",
              "      <td>NaN</td>\n",
              "    </tr>\n",
              "    <tr>\n",
              "      <th>2</th>\n",
              "      <td>2</td>\n",
              "      <td>194611020CHS</td>\n",
              "      <td>NBA</td>\n",
              "      <td>0</td>\n",
              "      <td>1947</td>\n",
              "      <td>11/2/1946</td>\n",
              "      <td>1</td>\n",
              "      <td>0</td>\n",
              "      <td>CHS</td>\n",
              "      <td>Stags</td>\n",
              "      <td>...</td>\n",
              "      <td>42.012257</td>\n",
              "      <td>NYK</td>\n",
              "      <td>Knicks</td>\n",
              "      <td>47</td>\n",
              "      <td>1306.7233</td>\n",
              "      <td>1297.0712</td>\n",
              "      <td>H</td>\n",
              "      <td>W</td>\n",
              "      <td>0.631101</td>\n",
              "      <td>NaN</td>\n",
              "    </tr>\n",
              "    <tr>\n",
              "      <th>3</th>\n",
              "      <td>2</td>\n",
              "      <td>194611020CHS</td>\n",
              "      <td>NBA</td>\n",
              "      <td>1</td>\n",
              "      <td>1947</td>\n",
              "      <td>11/2/1946</td>\n",
              "      <td>2</td>\n",
              "      <td>0</td>\n",
              "      <td>NYK</td>\n",
              "      <td>Knicks</td>\n",
              "      <td>...</td>\n",
              "      <td>40.692783</td>\n",
              "      <td>CHS</td>\n",
              "      <td>Stags</td>\n",
              "      <td>63</td>\n",
              "      <td>1300.0000</td>\n",
              "      <td>1309.6521</td>\n",
              "      <td>A</td>\n",
              "      <td>L</td>\n",
              "      <td>0.368899</td>\n",
              "      <td>NaN</td>\n",
              "    </tr>\n",
              "    <tr>\n",
              "      <th>4</th>\n",
              "      <td>3</td>\n",
              "      <td>194611020DTF</td>\n",
              "      <td>NBA</td>\n",
              "      <td>0</td>\n",
              "      <td>1947</td>\n",
              "      <td>11/2/1946</td>\n",
              "      <td>1</td>\n",
              "      <td>0</td>\n",
              "      <td>DTF</td>\n",
              "      <td>Falcons</td>\n",
              "      <td>...</td>\n",
              "      <td>38.864048</td>\n",
              "      <td>WSC</td>\n",
              "      <td>Capitols</td>\n",
              "      <td>50</td>\n",
              "      <td>1300.0000</td>\n",
              "      <td>1320.3811</td>\n",
              "      <td>H</td>\n",
              "      <td>L</td>\n",
              "      <td>0.640065</td>\n",
              "      <td>NaN</td>\n",
              "    </tr>\n",
              "    <tr>\n",
              "      <th>...</th>\n",
              "      <td>...</td>\n",
              "      <td>...</td>\n",
              "      <td>...</td>\n",
              "      <td>...</td>\n",
              "      <td>...</td>\n",
              "      <td>...</td>\n",
              "      <td>...</td>\n",
              "      <td>...</td>\n",
              "      <td>...</td>\n",
              "      <td>...</td>\n",
              "      <td>...</td>\n",
              "      <td>...</td>\n",
              "      <td>...</td>\n",
              "      <td>...</td>\n",
              "      <td>...</td>\n",
              "      <td>...</td>\n",
              "      <td>...</td>\n",
              "      <td>...</td>\n",
              "      <td>...</td>\n",
              "      <td>...</td>\n",
              "      <td>...</td>\n",
              "    </tr>\n",
              "    <tr>\n",
              "      <th>695</th>\n",
              "      <td>348</td>\n",
              "      <td>194704190CHS</td>\n",
              "      <td>NBA</td>\n",
              "      <td>1</td>\n",
              "      <td>1947</td>\n",
              "      <td>4/19/1947</td>\n",
              "      <td>68</td>\n",
              "      <td>1</td>\n",
              "      <td>PHW</td>\n",
              "      <td>Warriors</td>\n",
              "      <td>...</td>\n",
              "      <td>55.649139</td>\n",
              "      <td>CHS</td>\n",
              "      <td>Stags</td>\n",
              "      <td>72</td>\n",
              "      <td>1416.6769</td>\n",
              "      <td>1409.4009</td>\n",
              "      <td>A</td>\n",
              "      <td>W</td>\n",
              "      <td>0.389797</td>\n",
              "      <td>NaN</td>\n",
              "    </tr>\n",
              "    <tr>\n",
              "      <th>696</th>\n",
              "      <td>349</td>\n",
              "      <td>194704200CHS</td>\n",
              "      <td>NBA</td>\n",
              "      <td>1</td>\n",
              "      <td>1947</td>\n",
              "      <td>4/20/1947</td>\n",
              "      <td>69</td>\n",
              "      <td>1</td>\n",
              "      <td>PHW</td>\n",
              "      <td>Warriors</td>\n",
              "      <td>...</td>\n",
              "      <td>55.359722</td>\n",
              "      <td>CHS</td>\n",
              "      <td>Stags</td>\n",
              "      <td>74</td>\n",
              "      <td>1409.4009</td>\n",
              "      <td>1412.5547</td>\n",
              "      <td>A</td>\n",
              "      <td>L</td>\n",
              "      <td>0.409896</td>\n",
              "      <td>NaN</td>\n",
              "    </tr>\n",
              "    <tr>\n",
              "      <th>697</th>\n",
              "      <td>349</td>\n",
              "      <td>194704200CHS</td>\n",
              "      <td>NBA</td>\n",
              "      <td>0</td>\n",
              "      <td>1947</td>\n",
              "      <td>4/20/1947</td>\n",
              "      <td>71</td>\n",
              "      <td>1</td>\n",
              "      <td>CHS</td>\n",
              "      <td>Stags</td>\n",
              "      <td>...</td>\n",
              "      <td>52.490616</td>\n",
              "      <td>PHW</td>\n",
              "      <td>Warriors</td>\n",
              "      <td>73</td>\n",
              "      <td>1446.0986</td>\n",
              "      <td>1442.9448</td>\n",
              "      <td>H</td>\n",
              "      <td>W</td>\n",
              "      <td>0.590104</td>\n",
              "      <td>NaN</td>\n",
              "    </tr>\n",
              "    <tr>\n",
              "      <th>698</th>\n",
              "      <td>350</td>\n",
              "      <td>194704220GSW</td>\n",
              "      <td>NBA</td>\n",
              "      <td>1</td>\n",
              "      <td>1947</td>\n",
              "      <td>4/22/1947</td>\n",
              "      <td>72</td>\n",
              "      <td>1</td>\n",
              "      <td>CHS</td>\n",
              "      <td>Stags</td>\n",
              "      <td>...</td>\n",
              "      <td>52.176041</td>\n",
              "      <td>PHW</td>\n",
              "      <td>Warriors</td>\n",
              "      <td>83</td>\n",
              "      <td>1442.9448</td>\n",
              "      <td>1446.1919</td>\n",
              "      <td>A</td>\n",
              "      <td>L</td>\n",
              "      <td>0.320694</td>\n",
              "      <td>NaN</td>\n",
              "    </tr>\n",
              "    <tr>\n",
              "      <th>699</th>\n",
              "      <td>350</td>\n",
              "      <td>194704220GSW</td>\n",
              "      <td>NBA</td>\n",
              "      <td>0</td>\n",
              "      <td>1947</td>\n",
              "      <td>4/22/1947</td>\n",
              "      <td>70</td>\n",
              "      <td>1</td>\n",
              "      <td>PHW</td>\n",
              "      <td>Warriors</td>\n",
              "      <td>...</td>\n",
              "      <td>55.657673</td>\n",
              "      <td>CHS</td>\n",
              "      <td>Stags</td>\n",
              "      <td>80</td>\n",
              "      <td>1412.5547</td>\n",
              "      <td>1409.3076</td>\n",
              "      <td>H</td>\n",
              "      <td>W</td>\n",
              "      <td>0.679306</td>\n",
              "      <td>NaN</td>\n",
              "    </tr>\n",
              "  </tbody>\n",
              "</table>\n",
              "<p>700 rows × 23 columns</p>\n",
              "</div>\n",
              "    <div class=\"colab-df-buttons\">\n",
              "\n",
              "  <div class=\"colab-df-container\">\n",
              "    <button class=\"colab-df-convert\" onclick=\"convertToInteractive('df-8560d6d6-9fc2-4755-9f61-7637e3ea9d12')\"\n",
              "            title=\"Convert this dataframe to an interactive table.\"\n",
              "            style=\"display:none;\">\n",
              "\n",
              "  <svg xmlns=\"http://www.w3.org/2000/svg\" height=\"24px\" viewBox=\"0 -960 960 960\">\n",
              "    <path d=\"M120-120v-720h720v720H120Zm60-500h600v-160H180v160Zm220 220h160v-160H400v160Zm0 220h160v-160H400v160ZM180-400h160v-160H180v160Zm440 0h160v-160H620v160ZM180-180h160v-160H180v160Zm440 0h160v-160H620v160Z\"/>\n",
              "  </svg>\n",
              "    </button>\n",
              "\n",
              "  <style>\n",
              "    .colab-df-container {\n",
              "      display:flex;\n",
              "      gap: 12px;\n",
              "    }\n",
              "\n",
              "    .colab-df-convert {\n",
              "      background-color: #E8F0FE;\n",
              "      border: none;\n",
              "      border-radius: 50%;\n",
              "      cursor: pointer;\n",
              "      display: none;\n",
              "      fill: #1967D2;\n",
              "      height: 32px;\n",
              "      padding: 0 0 0 0;\n",
              "      width: 32px;\n",
              "    }\n",
              "\n",
              "    .colab-df-convert:hover {\n",
              "      background-color: #E2EBFA;\n",
              "      box-shadow: 0px 1px 2px rgba(60, 64, 67, 0.3), 0px 1px 3px 1px rgba(60, 64, 67, 0.15);\n",
              "      fill: #174EA6;\n",
              "    }\n",
              "\n",
              "    .colab-df-buttons div {\n",
              "      margin-bottom: 4px;\n",
              "    }\n",
              "\n",
              "    [theme=dark] .colab-df-convert {\n",
              "      background-color: #3B4455;\n",
              "      fill: #D2E3FC;\n",
              "    }\n",
              "\n",
              "    [theme=dark] .colab-df-convert:hover {\n",
              "      background-color: #434B5C;\n",
              "      box-shadow: 0px 1px 3px 1px rgba(0, 0, 0, 0.15);\n",
              "      filter: drop-shadow(0px 1px 2px rgba(0, 0, 0, 0.3));\n",
              "      fill: #FFFFFF;\n",
              "    }\n",
              "  </style>\n",
              "\n",
              "    <script>\n",
              "      const buttonEl =\n",
              "        document.querySelector('#df-8560d6d6-9fc2-4755-9f61-7637e3ea9d12 button.colab-df-convert');\n",
              "      buttonEl.style.display =\n",
              "        google.colab.kernel.accessAllowed ? 'block' : 'none';\n",
              "\n",
              "      async function convertToInteractive(key) {\n",
              "        const element = document.querySelector('#df-8560d6d6-9fc2-4755-9f61-7637e3ea9d12');\n",
              "        const dataTable =\n",
              "          await google.colab.kernel.invokeFunction('convertToInteractive',\n",
              "                                                    [key], {});\n",
              "        if (!dataTable) return;\n",
              "\n",
              "        const docLinkHtml = 'Like what you see? Visit the ' +\n",
              "          '<a target=\"_blank\" href=https://colab.research.google.com/notebooks/data_table.ipynb>data table notebook</a>'\n",
              "          + ' to learn more about interactive tables.';\n",
              "        element.innerHTML = '';\n",
              "        dataTable['output_type'] = 'display_data';\n",
              "        await google.colab.output.renderOutput(dataTable, element);\n",
              "        const docLink = document.createElement('div');\n",
              "        docLink.innerHTML = docLinkHtml;\n",
              "        element.appendChild(docLink);\n",
              "      }\n",
              "    </script>\n",
              "  </div>\n",
              "\n",
              "\n",
              "<div id=\"df-802da523-dbd1-48cd-bbd8-be2821e1544b\">\n",
              "  <button class=\"colab-df-quickchart\" onclick=\"quickchart('df-802da523-dbd1-48cd-bbd8-be2821e1544b')\"\n",
              "            title=\"Suggest charts\"\n",
              "            style=\"display:none;\">\n",
              "\n",
              "<svg xmlns=\"http://www.w3.org/2000/svg\" height=\"24px\"viewBox=\"0 0 24 24\"\n",
              "     width=\"24px\">\n",
              "    <g>\n",
              "        <path d=\"M19 3H5c-1.1 0-2 .9-2 2v14c0 1.1.9 2 2 2h14c1.1 0 2-.9 2-2V5c0-1.1-.9-2-2-2zM9 17H7v-7h2v7zm4 0h-2V7h2v10zm4 0h-2v-4h2v4z\"/>\n",
              "    </g>\n",
              "</svg>\n",
              "  </button>\n",
              "\n",
              "<style>\n",
              "  .colab-df-quickchart {\n",
              "      --bg-color: #E8F0FE;\n",
              "      --fill-color: #1967D2;\n",
              "      --hover-bg-color: #E2EBFA;\n",
              "      --hover-fill-color: #174EA6;\n",
              "      --disabled-fill-color: #AAA;\n",
              "      --disabled-bg-color: #DDD;\n",
              "  }\n",
              "\n",
              "  [theme=dark] .colab-df-quickchart {\n",
              "      --bg-color: #3B4455;\n",
              "      --fill-color: #D2E3FC;\n",
              "      --hover-bg-color: #434B5C;\n",
              "      --hover-fill-color: #FFFFFF;\n",
              "      --disabled-bg-color: #3B4455;\n",
              "      --disabled-fill-color: #666;\n",
              "  }\n",
              "\n",
              "  .colab-df-quickchart {\n",
              "    background-color: var(--bg-color);\n",
              "    border: none;\n",
              "    border-radius: 50%;\n",
              "    cursor: pointer;\n",
              "    display: none;\n",
              "    fill: var(--fill-color);\n",
              "    height: 32px;\n",
              "    padding: 0;\n",
              "    width: 32px;\n",
              "  }\n",
              "\n",
              "  .colab-df-quickchart:hover {\n",
              "    background-color: var(--hover-bg-color);\n",
              "    box-shadow: 0 1px 2px rgba(60, 64, 67, 0.3), 0 1px 3px 1px rgba(60, 64, 67, 0.15);\n",
              "    fill: var(--button-hover-fill-color);\n",
              "  }\n",
              "\n",
              "  .colab-df-quickchart-complete:disabled,\n",
              "  .colab-df-quickchart-complete:disabled:hover {\n",
              "    background-color: var(--disabled-bg-color);\n",
              "    fill: var(--disabled-fill-color);\n",
              "    box-shadow: none;\n",
              "  }\n",
              "\n",
              "  .colab-df-spinner {\n",
              "    border: 2px solid var(--fill-color);\n",
              "    border-color: transparent;\n",
              "    border-bottom-color: var(--fill-color);\n",
              "    animation:\n",
              "      spin 1s steps(1) infinite;\n",
              "  }\n",
              "\n",
              "  @keyframes spin {\n",
              "    0% {\n",
              "      border-color: transparent;\n",
              "      border-bottom-color: var(--fill-color);\n",
              "      border-left-color: var(--fill-color);\n",
              "    }\n",
              "    20% {\n",
              "      border-color: transparent;\n",
              "      border-left-color: var(--fill-color);\n",
              "      border-top-color: var(--fill-color);\n",
              "    }\n",
              "    30% {\n",
              "      border-color: transparent;\n",
              "      border-left-color: var(--fill-color);\n",
              "      border-top-color: var(--fill-color);\n",
              "      border-right-color: var(--fill-color);\n",
              "    }\n",
              "    40% {\n",
              "      border-color: transparent;\n",
              "      border-right-color: var(--fill-color);\n",
              "      border-top-color: var(--fill-color);\n",
              "    }\n",
              "    60% {\n",
              "      border-color: transparent;\n",
              "      border-right-color: var(--fill-color);\n",
              "    }\n",
              "    80% {\n",
              "      border-color: transparent;\n",
              "      border-right-color: var(--fill-color);\n",
              "      border-bottom-color: var(--fill-color);\n",
              "    }\n",
              "    90% {\n",
              "      border-color: transparent;\n",
              "      border-bottom-color: var(--fill-color);\n",
              "    }\n",
              "  }\n",
              "</style>\n",
              "\n",
              "  <script>\n",
              "    async function quickchart(key) {\n",
              "      const quickchartButtonEl =\n",
              "        document.querySelector('#' + key + ' button');\n",
              "      quickchartButtonEl.disabled = true;  // To prevent multiple clicks.\n",
              "      quickchartButtonEl.classList.add('colab-df-spinner');\n",
              "      try {\n",
              "        const charts = await google.colab.kernel.invokeFunction(\n",
              "            'suggestCharts', [key], {});\n",
              "      } catch (error) {\n",
              "        console.error('Error during call to suggestCharts:', error);\n",
              "      }\n",
              "      quickchartButtonEl.classList.remove('colab-df-spinner');\n",
              "      quickchartButtonEl.classList.add('colab-df-quickchart-complete');\n",
              "    }\n",
              "    (() => {\n",
              "      let quickchartButtonEl =\n",
              "        document.querySelector('#df-802da523-dbd1-48cd-bbd8-be2821e1544b button');\n",
              "      quickchartButtonEl.style.display =\n",
              "        google.colab.kernel.accessAllowed ? 'block' : 'none';\n",
              "    })();\n",
              "  </script>\n",
              "</div>\n",
              "    </div>\n",
              "  </div>\n"
            ]
          },
          "metadata": {},
          "execution_count": 5
        }
      ],
      "source": [
        "# splitting dataframe by groups\n",
        "# grouping by year\n",
        "grouped = nba.groupby(nba.year_id)\n",
        "#get the group of 1947\n",
        "df_new=grouped.get_group(1947)\n",
        "df_new"
      ]
    },
    {
      "cell_type": "code",
      "execution_count": null,
      "metadata": {
        "id": "_6jho6zxcI7f"
      },
      "outputs": [],
      "source": [
        "df_new.count()"
      ]
    },
    {
      "cell_type": "markdown",
      "metadata": {
        "id": "D6BTf5FHbqRX"
      },
      "source": [
        "*Splitting Pandas Dataframe by sized chunks*"
      ]
    },
    {
      "cell_type": "markdown",
      "metadata": {
        "id": "2gmA9spld7_G"
      },
      "source": [
        "Randon 60%"
      ]
    },
    {
      "cell_type": "code",
      "execution_count": 6,
      "metadata": {
        "id": "-Ayxlf4Rb5ef",
        "colab": {
          "base_uri": "https://localhost:8080/"
        },
        "outputId": "3faac922-184c-4773-a05d-ebfede13647b"
      },
      "outputs": [
        {
          "output_type": "execute_result",
          "data": {
            "text/plain": [
              "75788"
            ]
          },
          "metadata": {},
          "execution_count": 6
        }
      ],
      "source": [
        "# splitting dataframe in a particular size\n",
        "df_split = nba.sample(frac=.6)\n",
        "df_split.reset_index()\n",
        "#df_split\n",
        "len(df_split)"
      ]
    },
    {
      "cell_type": "markdown",
      "metadata": {
        "id": "mcPHP9LheAiq"
      },
      "source": [
        "Split  dataframe in different sets"
      ]
    },
    {
      "cell_type": "code",
      "execution_count": 7,
      "metadata": {
        "id": "Nr8QklDpeRmJ",
        "colab": {
          "base_uri": "https://localhost:8080/",
          "height": 496
        },
        "outputId": "dab1eca6-23fe-4043-9fe7-20e3d478ab70"
      },
      "outputs": [
        {
          "output_type": "execute_result",
          "data": {
            "text/plain": [
              "        gameorder       game_id lg_id  _iscopy  year_id   date_game  \\\n",
              "37090       18546  197702020NYN   NBA        0     1977    2/2/1977   \n",
              "7984         3993  195712030GSW   NBA        0     1958   12/3/1957   \n",
              "74114       37058  199412030SEA   NBA        0     1995   12/3/1994   \n",
              "94323       47162  200302180ORL   NBA        1     2003   2/18/2003   \n",
              "37000       18501  197701230WSB   NBA        0     1977   1/23/1977   \n",
              "...           ...           ...   ...      ...      ...         ...   \n",
              "119879      59940  201302060OKC   NBA        0     2013    2/6/2013   \n",
              "103694      51848  200612070NJN   NBA        1     2007   12/7/2006   \n",
              "860           431  194801060BLB   NBA        1     1948    1/6/1948   \n",
              "15795        7898  196712130DET   NBA        1     1968  12/13/1967   \n",
              "121958      60980  201312300DET   NBA        1     2014  12/30/2013   \n",
              "\n",
              "        seasongame  is_playoffs team_id       fran_id  ...  win_equiv  opp_id  \\\n",
              "37090           48            0     NYN          Nets  ...  26.130209     BOS   \n",
              "7984            17            0     PHW      Warriors  ...  39.511757     SYR   \n",
              "74114           15            0     SEA       Thunder  ...  55.135208     MIL   \n",
              "94323           55            0     NOH      Pelicans  ...  41.482147     ORL   \n",
              "37000           43            0     WSB       Wizards  ...  45.782440     DET   \n",
              "...            ...          ...     ...           ...  ...        ...     ...   \n",
              "119879          49            0     OKC       Thunder  ...  60.441074     GSW   \n",
              "103694          17            0     PHO          Suns  ...  52.250179     NJN   \n",
              "860             21            0     PRO  Steamrollers  ...  24.548496     BLB   \n",
              "15795           31            0     NYK        Knicks  ...  35.066292     DET   \n",
              "121958          28            0     WAS       Wizards  ...  39.550888     DET   \n",
              "\n",
              "         opp_fran  opp_pts  opp_elo_i  opp_elo_n  game_location  game_result  \\\n",
              "37090     Celtics       89  1454.9109  1444.0807              H            W   \n",
              "7984       Sixers      119  1532.4493  1557.2676              H            L   \n",
              "74114       Bucks      108  1357.6219  1356.7598              H            W   \n",
              "94323       Magic       99  1455.0071  1460.9988              A            L   \n",
              "37000     Pistons      108  1518.8035  1512.1829              H            W   \n",
              "...           ...      ...        ...        ...            ...          ...   \n",
              "119879   Warriors       98  1551.1230  1545.6824              H            W   \n",
              "103694       Nets      157  1479.3242  1473.5780              A            W   \n",
              "860     Baltimore       82  1433.5667  1437.2885              A            L   \n",
              "15795     Pistons      129  1430.0306  1436.9717              A            L   \n",
              "121958    Pistons       99  1427.9385  1418.0118              A            W   \n",
              "\n",
              "        forecast           notes  \n",
              "37090   0.483096             NaN  \n",
              "7984    0.634248  at New York NY  \n",
              "74114   0.899416             NaN  \n",
              "94323   0.439981             NaN  \n",
              "37000   0.669820             NaN  \n",
              "...          ...             ...  \n",
              "119879  0.807499             NaN  \n",
              "103694  0.536483             NaN  \n",
              "860     0.151443             NaN  \n",
              "15795   0.327986             NaN  \n",
              "121958  0.432347             NaN  \n",
              "\n",
              "[126314 rows x 23 columns]"
            ],
            "text/html": [
              "\n",
              "  <div id=\"df-a6d10f76-7136-4a55-9184-63bc9a7a0916\" class=\"colab-df-container\">\n",
              "    <div>\n",
              "<style scoped>\n",
              "    .dataframe tbody tr th:only-of-type {\n",
              "        vertical-align: middle;\n",
              "    }\n",
              "\n",
              "    .dataframe tbody tr th {\n",
              "        vertical-align: top;\n",
              "    }\n",
              "\n",
              "    .dataframe thead th {\n",
              "        text-align: right;\n",
              "    }\n",
              "</style>\n",
              "<table border=\"1\" class=\"dataframe\">\n",
              "  <thead>\n",
              "    <tr style=\"text-align: right;\">\n",
              "      <th></th>\n",
              "      <th>gameorder</th>\n",
              "      <th>game_id</th>\n",
              "      <th>lg_id</th>\n",
              "      <th>_iscopy</th>\n",
              "      <th>year_id</th>\n",
              "      <th>date_game</th>\n",
              "      <th>seasongame</th>\n",
              "      <th>is_playoffs</th>\n",
              "      <th>team_id</th>\n",
              "      <th>fran_id</th>\n",
              "      <th>...</th>\n",
              "      <th>win_equiv</th>\n",
              "      <th>opp_id</th>\n",
              "      <th>opp_fran</th>\n",
              "      <th>opp_pts</th>\n",
              "      <th>opp_elo_i</th>\n",
              "      <th>opp_elo_n</th>\n",
              "      <th>game_location</th>\n",
              "      <th>game_result</th>\n",
              "      <th>forecast</th>\n",
              "      <th>notes</th>\n",
              "    </tr>\n",
              "  </thead>\n",
              "  <tbody>\n",
              "    <tr>\n",
              "      <th>37090</th>\n",
              "      <td>18546</td>\n",
              "      <td>197702020NYN</td>\n",
              "      <td>NBA</td>\n",
              "      <td>0</td>\n",
              "      <td>1977</td>\n",
              "      <td>2/2/1977</td>\n",
              "      <td>48</td>\n",
              "      <td>0</td>\n",
              "      <td>NYN</td>\n",
              "      <td>Nets</td>\n",
              "      <td>...</td>\n",
              "      <td>26.130209</td>\n",
              "      <td>BOS</td>\n",
              "      <td>Celtics</td>\n",
              "      <td>89</td>\n",
              "      <td>1454.9109</td>\n",
              "      <td>1444.0807</td>\n",
              "      <td>H</td>\n",
              "      <td>W</td>\n",
              "      <td>0.483096</td>\n",
              "      <td>NaN</td>\n",
              "    </tr>\n",
              "    <tr>\n",
              "      <th>7984</th>\n",
              "      <td>3993</td>\n",
              "      <td>195712030GSW</td>\n",
              "      <td>NBA</td>\n",
              "      <td>0</td>\n",
              "      <td>1958</td>\n",
              "      <td>12/3/1957</td>\n",
              "      <td>17</td>\n",
              "      <td>0</td>\n",
              "      <td>PHW</td>\n",
              "      <td>Warriors</td>\n",
              "      <td>...</td>\n",
              "      <td>39.511757</td>\n",
              "      <td>SYR</td>\n",
              "      <td>Sixers</td>\n",
              "      <td>119</td>\n",
              "      <td>1532.4493</td>\n",
              "      <td>1557.2676</td>\n",
              "      <td>H</td>\n",
              "      <td>L</td>\n",
              "      <td>0.634248</td>\n",
              "      <td>at New York NY</td>\n",
              "    </tr>\n",
              "    <tr>\n",
              "      <th>74114</th>\n",
              "      <td>37058</td>\n",
              "      <td>199412030SEA</td>\n",
              "      <td>NBA</td>\n",
              "      <td>0</td>\n",
              "      <td>1995</td>\n",
              "      <td>12/3/1994</td>\n",
              "      <td>15</td>\n",
              "      <td>0</td>\n",
              "      <td>SEA</td>\n",
              "      <td>Thunder</td>\n",
              "      <td>...</td>\n",
              "      <td>55.135208</td>\n",
              "      <td>MIL</td>\n",
              "      <td>Bucks</td>\n",
              "      <td>108</td>\n",
              "      <td>1357.6219</td>\n",
              "      <td>1356.7598</td>\n",
              "      <td>H</td>\n",
              "      <td>W</td>\n",
              "      <td>0.899416</td>\n",
              "      <td>NaN</td>\n",
              "    </tr>\n",
              "    <tr>\n",
              "      <th>94323</th>\n",
              "      <td>47162</td>\n",
              "      <td>200302180ORL</td>\n",
              "      <td>NBA</td>\n",
              "      <td>1</td>\n",
              "      <td>2003</td>\n",
              "      <td>2/18/2003</td>\n",
              "      <td>55</td>\n",
              "      <td>0</td>\n",
              "      <td>NOH</td>\n",
              "      <td>Pelicans</td>\n",
              "      <td>...</td>\n",
              "      <td>41.482147</td>\n",
              "      <td>ORL</td>\n",
              "      <td>Magic</td>\n",
              "      <td>99</td>\n",
              "      <td>1455.0071</td>\n",
              "      <td>1460.9988</td>\n",
              "      <td>A</td>\n",
              "      <td>L</td>\n",
              "      <td>0.439981</td>\n",
              "      <td>NaN</td>\n",
              "    </tr>\n",
              "    <tr>\n",
              "      <th>37000</th>\n",
              "      <td>18501</td>\n",
              "      <td>197701230WSB</td>\n",
              "      <td>NBA</td>\n",
              "      <td>0</td>\n",
              "      <td>1977</td>\n",
              "      <td>1/23/1977</td>\n",
              "      <td>43</td>\n",
              "      <td>0</td>\n",
              "      <td>WSB</td>\n",
              "      <td>Wizards</td>\n",
              "      <td>...</td>\n",
              "      <td>45.782440</td>\n",
              "      <td>DET</td>\n",
              "      <td>Pistons</td>\n",
              "      <td>108</td>\n",
              "      <td>1518.8035</td>\n",
              "      <td>1512.1829</td>\n",
              "      <td>H</td>\n",
              "      <td>W</td>\n",
              "      <td>0.669820</td>\n",
              "      <td>NaN</td>\n",
              "    </tr>\n",
              "    <tr>\n",
              "      <th>...</th>\n",
              "      <td>...</td>\n",
              "      <td>...</td>\n",
              "      <td>...</td>\n",
              "      <td>...</td>\n",
              "      <td>...</td>\n",
              "      <td>...</td>\n",
              "      <td>...</td>\n",
              "      <td>...</td>\n",
              "      <td>...</td>\n",
              "      <td>...</td>\n",
              "      <td>...</td>\n",
              "      <td>...</td>\n",
              "      <td>...</td>\n",
              "      <td>...</td>\n",
              "      <td>...</td>\n",
              "      <td>...</td>\n",
              "      <td>...</td>\n",
              "      <td>...</td>\n",
              "      <td>...</td>\n",
              "      <td>...</td>\n",
              "      <td>...</td>\n",
              "    </tr>\n",
              "    <tr>\n",
              "      <th>119879</th>\n",
              "      <td>59940</td>\n",
              "      <td>201302060OKC</td>\n",
              "      <td>NBA</td>\n",
              "      <td>0</td>\n",
              "      <td>2013</td>\n",
              "      <td>2/6/2013</td>\n",
              "      <td>49</td>\n",
              "      <td>0</td>\n",
              "      <td>OKC</td>\n",
              "      <td>Thunder</td>\n",
              "      <td>...</td>\n",
              "      <td>60.441074</td>\n",
              "      <td>GSW</td>\n",
              "      <td>Warriors</td>\n",
              "      <td>98</td>\n",
              "      <td>1551.1230</td>\n",
              "      <td>1545.6824</td>\n",
              "      <td>H</td>\n",
              "      <td>W</td>\n",
              "      <td>0.807499</td>\n",
              "      <td>NaN</td>\n",
              "    </tr>\n",
              "    <tr>\n",
              "      <th>103694</th>\n",
              "      <td>51848</td>\n",
              "      <td>200612070NJN</td>\n",
              "      <td>NBA</td>\n",
              "      <td>1</td>\n",
              "      <td>2007</td>\n",
              "      <td>12/7/2006</td>\n",
              "      <td>17</td>\n",
              "      <td>0</td>\n",
              "      <td>PHO</td>\n",
              "      <td>Suns</td>\n",
              "      <td>...</td>\n",
              "      <td>52.250179</td>\n",
              "      <td>NJN</td>\n",
              "      <td>Nets</td>\n",
              "      <td>157</td>\n",
              "      <td>1479.3242</td>\n",
              "      <td>1473.5780</td>\n",
              "      <td>A</td>\n",
              "      <td>W</td>\n",
              "      <td>0.536483</td>\n",
              "      <td>NaN</td>\n",
              "    </tr>\n",
              "    <tr>\n",
              "      <th>860</th>\n",
              "      <td>431</td>\n",
              "      <td>194801060BLB</td>\n",
              "      <td>NBA</td>\n",
              "      <td>1</td>\n",
              "      <td>1948</td>\n",
              "      <td>1/6/1948</td>\n",
              "      <td>21</td>\n",
              "      <td>0</td>\n",
              "      <td>PRO</td>\n",
              "      <td>Steamrollers</td>\n",
              "      <td>...</td>\n",
              "      <td>24.548496</td>\n",
              "      <td>BLB</td>\n",
              "      <td>Baltimore</td>\n",
              "      <td>82</td>\n",
              "      <td>1433.5667</td>\n",
              "      <td>1437.2885</td>\n",
              "      <td>A</td>\n",
              "      <td>L</td>\n",
              "      <td>0.151443</td>\n",
              "      <td>NaN</td>\n",
              "    </tr>\n",
              "    <tr>\n",
              "      <th>15795</th>\n",
              "      <td>7898</td>\n",
              "      <td>196712130DET</td>\n",
              "      <td>NBA</td>\n",
              "      <td>1</td>\n",
              "      <td>1968</td>\n",
              "      <td>12/13/1967</td>\n",
              "      <td>31</td>\n",
              "      <td>0</td>\n",
              "      <td>NYK</td>\n",
              "      <td>Knicks</td>\n",
              "      <td>...</td>\n",
              "      <td>35.066292</td>\n",
              "      <td>DET</td>\n",
              "      <td>Pistons</td>\n",
              "      <td>129</td>\n",
              "      <td>1430.0306</td>\n",
              "      <td>1436.9717</td>\n",
              "      <td>A</td>\n",
              "      <td>L</td>\n",
              "      <td>0.327986</td>\n",
              "      <td>NaN</td>\n",
              "    </tr>\n",
              "    <tr>\n",
              "      <th>121958</th>\n",
              "      <td>60980</td>\n",
              "      <td>201312300DET</td>\n",
              "      <td>NBA</td>\n",
              "      <td>1</td>\n",
              "      <td>2014</td>\n",
              "      <td>12/30/2013</td>\n",
              "      <td>28</td>\n",
              "      <td>0</td>\n",
              "      <td>WAS</td>\n",
              "      <td>Wizards</td>\n",
              "      <td>...</td>\n",
              "      <td>39.550888</td>\n",
              "      <td>DET</td>\n",
              "      <td>Pistons</td>\n",
              "      <td>99</td>\n",
              "      <td>1427.9385</td>\n",
              "      <td>1418.0118</td>\n",
              "      <td>A</td>\n",
              "      <td>W</td>\n",
              "      <td>0.432347</td>\n",
              "      <td>NaN</td>\n",
              "    </tr>\n",
              "  </tbody>\n",
              "</table>\n",
              "<p>126314 rows × 23 columns</p>\n",
              "</div>\n",
              "    <div class=\"colab-df-buttons\">\n",
              "\n",
              "  <div class=\"colab-df-container\">\n",
              "    <button class=\"colab-df-convert\" onclick=\"convertToInteractive('df-a6d10f76-7136-4a55-9184-63bc9a7a0916')\"\n",
              "            title=\"Convert this dataframe to an interactive table.\"\n",
              "            style=\"display:none;\">\n",
              "\n",
              "  <svg xmlns=\"http://www.w3.org/2000/svg\" height=\"24px\" viewBox=\"0 -960 960 960\">\n",
              "    <path d=\"M120-120v-720h720v720H120Zm60-500h600v-160H180v160Zm220 220h160v-160H400v160Zm0 220h160v-160H400v160ZM180-400h160v-160H180v160Zm440 0h160v-160H620v160ZM180-180h160v-160H180v160Zm440 0h160v-160H620v160Z\"/>\n",
              "  </svg>\n",
              "    </button>\n",
              "\n",
              "  <style>\n",
              "    .colab-df-container {\n",
              "      display:flex;\n",
              "      gap: 12px;\n",
              "    }\n",
              "\n",
              "    .colab-df-convert {\n",
              "      background-color: #E8F0FE;\n",
              "      border: none;\n",
              "      border-radius: 50%;\n",
              "      cursor: pointer;\n",
              "      display: none;\n",
              "      fill: #1967D2;\n",
              "      height: 32px;\n",
              "      padding: 0 0 0 0;\n",
              "      width: 32px;\n",
              "    }\n",
              "\n",
              "    .colab-df-convert:hover {\n",
              "      background-color: #E2EBFA;\n",
              "      box-shadow: 0px 1px 2px rgba(60, 64, 67, 0.3), 0px 1px 3px 1px rgba(60, 64, 67, 0.15);\n",
              "      fill: #174EA6;\n",
              "    }\n",
              "\n",
              "    .colab-df-buttons div {\n",
              "      margin-bottom: 4px;\n",
              "    }\n",
              "\n",
              "    [theme=dark] .colab-df-convert {\n",
              "      background-color: #3B4455;\n",
              "      fill: #D2E3FC;\n",
              "    }\n",
              "\n",
              "    [theme=dark] .colab-df-convert:hover {\n",
              "      background-color: #434B5C;\n",
              "      box-shadow: 0px 1px 3px 1px rgba(0, 0, 0, 0.15);\n",
              "      filter: drop-shadow(0px 1px 2px rgba(0, 0, 0, 0.3));\n",
              "      fill: #FFFFFF;\n",
              "    }\n",
              "  </style>\n",
              "\n",
              "    <script>\n",
              "      const buttonEl =\n",
              "        document.querySelector('#df-a6d10f76-7136-4a55-9184-63bc9a7a0916 button.colab-df-convert');\n",
              "      buttonEl.style.display =\n",
              "        google.colab.kernel.accessAllowed ? 'block' : 'none';\n",
              "\n",
              "      async function convertToInteractive(key) {\n",
              "        const element = document.querySelector('#df-a6d10f76-7136-4a55-9184-63bc9a7a0916');\n",
              "        const dataTable =\n",
              "          await google.colab.kernel.invokeFunction('convertToInteractive',\n",
              "                                                    [key], {});\n",
              "        if (!dataTable) return;\n",
              "\n",
              "        const docLinkHtml = 'Like what you see? Visit the ' +\n",
              "          '<a target=\"_blank\" href=https://colab.research.google.com/notebooks/data_table.ipynb>data table notebook</a>'\n",
              "          + ' to learn more about interactive tables.';\n",
              "        element.innerHTML = '';\n",
              "        dataTable['output_type'] = 'display_data';\n",
              "        await google.colab.output.renderOutput(dataTable, element);\n",
              "        const docLink = document.createElement('div');\n",
              "        docLink.innerHTML = docLinkHtml;\n",
              "        element.appendChild(docLink);\n",
              "      }\n",
              "    </script>\n",
              "  </div>\n",
              "\n",
              "\n",
              "<div id=\"df-a5ea2556-2516-4063-82e7-f626fcbd1287\">\n",
              "  <button class=\"colab-df-quickchart\" onclick=\"quickchart('df-a5ea2556-2516-4063-82e7-f626fcbd1287')\"\n",
              "            title=\"Suggest charts\"\n",
              "            style=\"display:none;\">\n",
              "\n",
              "<svg xmlns=\"http://www.w3.org/2000/svg\" height=\"24px\"viewBox=\"0 0 24 24\"\n",
              "     width=\"24px\">\n",
              "    <g>\n",
              "        <path d=\"M19 3H5c-1.1 0-2 .9-2 2v14c0 1.1.9 2 2 2h14c1.1 0 2-.9 2-2V5c0-1.1-.9-2-2-2zM9 17H7v-7h2v7zm4 0h-2V7h2v10zm4 0h-2v-4h2v4z\"/>\n",
              "    </g>\n",
              "</svg>\n",
              "  </button>\n",
              "\n",
              "<style>\n",
              "  .colab-df-quickchart {\n",
              "      --bg-color: #E8F0FE;\n",
              "      --fill-color: #1967D2;\n",
              "      --hover-bg-color: #E2EBFA;\n",
              "      --hover-fill-color: #174EA6;\n",
              "      --disabled-fill-color: #AAA;\n",
              "      --disabled-bg-color: #DDD;\n",
              "  }\n",
              "\n",
              "  [theme=dark] .colab-df-quickchart {\n",
              "      --bg-color: #3B4455;\n",
              "      --fill-color: #D2E3FC;\n",
              "      --hover-bg-color: #434B5C;\n",
              "      --hover-fill-color: #FFFFFF;\n",
              "      --disabled-bg-color: #3B4455;\n",
              "      --disabled-fill-color: #666;\n",
              "  }\n",
              "\n",
              "  .colab-df-quickchart {\n",
              "    background-color: var(--bg-color);\n",
              "    border: none;\n",
              "    border-radius: 50%;\n",
              "    cursor: pointer;\n",
              "    display: none;\n",
              "    fill: var(--fill-color);\n",
              "    height: 32px;\n",
              "    padding: 0;\n",
              "    width: 32px;\n",
              "  }\n",
              "\n",
              "  .colab-df-quickchart:hover {\n",
              "    background-color: var(--hover-bg-color);\n",
              "    box-shadow: 0 1px 2px rgba(60, 64, 67, 0.3), 0 1px 3px 1px rgba(60, 64, 67, 0.15);\n",
              "    fill: var(--button-hover-fill-color);\n",
              "  }\n",
              "\n",
              "  .colab-df-quickchart-complete:disabled,\n",
              "  .colab-df-quickchart-complete:disabled:hover {\n",
              "    background-color: var(--disabled-bg-color);\n",
              "    fill: var(--disabled-fill-color);\n",
              "    box-shadow: none;\n",
              "  }\n",
              "\n",
              "  .colab-df-spinner {\n",
              "    border: 2px solid var(--fill-color);\n",
              "    border-color: transparent;\n",
              "    border-bottom-color: var(--fill-color);\n",
              "    animation:\n",
              "      spin 1s steps(1) infinite;\n",
              "  }\n",
              "\n",
              "  @keyframes spin {\n",
              "    0% {\n",
              "      border-color: transparent;\n",
              "      border-bottom-color: var(--fill-color);\n",
              "      border-left-color: var(--fill-color);\n",
              "    }\n",
              "    20% {\n",
              "      border-color: transparent;\n",
              "      border-left-color: var(--fill-color);\n",
              "      border-top-color: var(--fill-color);\n",
              "    }\n",
              "    30% {\n",
              "      border-color: transparent;\n",
              "      border-left-color: var(--fill-color);\n",
              "      border-top-color: var(--fill-color);\n",
              "      border-right-color: var(--fill-color);\n",
              "    }\n",
              "    40% {\n",
              "      border-color: transparent;\n",
              "      border-right-color: var(--fill-color);\n",
              "      border-top-color: var(--fill-color);\n",
              "    }\n",
              "    60% {\n",
              "      border-color: transparent;\n",
              "      border-right-color: var(--fill-color);\n",
              "    }\n",
              "    80% {\n",
              "      border-color: transparent;\n",
              "      border-right-color: var(--fill-color);\n",
              "      border-bottom-color: var(--fill-color);\n",
              "    }\n",
              "    90% {\n",
              "      border-color: transparent;\n",
              "      border-bottom-color: var(--fill-color);\n",
              "    }\n",
              "  }\n",
              "</style>\n",
              "\n",
              "  <script>\n",
              "    async function quickchart(key) {\n",
              "      const quickchartButtonEl =\n",
              "        document.querySelector('#' + key + ' button');\n",
              "      quickchartButtonEl.disabled = true;  // To prevent multiple clicks.\n",
              "      quickchartButtonEl.classList.add('colab-df-spinner');\n",
              "      try {\n",
              "        const charts = await google.colab.kernel.invokeFunction(\n",
              "            'suggestCharts', [key], {});\n",
              "      } catch (error) {\n",
              "        console.error('Error during call to suggestCharts:', error);\n",
              "      }\n",
              "      quickchartButtonEl.classList.remove('colab-df-spinner');\n",
              "      quickchartButtonEl.classList.add('colab-df-quickchart-complete');\n",
              "    }\n",
              "    (() => {\n",
              "      let quickchartButtonEl =\n",
              "        document.querySelector('#df-a5ea2556-2516-4063-82e7-f626fcbd1287 button');\n",
              "      quickchartButtonEl.style.display =\n",
              "        google.colab.kernel.accessAllowed ? 'block' : 'none';\n",
              "    })();\n",
              "  </script>\n",
              "</div>\n",
              "    </div>\n",
              "  </div>\n"
            ]
          },
          "metadata": {},
          "execution_count": 7
        }
      ],
      "source": [
        "#Shuffle the whole dataset first\n",
        "ds3 = nba.copy()\n",
        "ds3.sample(frac=1, random_state=42)"
      ]
    },
    {
      "cell_type": "code",
      "execution_count": null,
      "metadata": {
        "id": "2_Cu8r8pek_m"
      },
      "outputs": [],
      "source": [
        "ds3"
      ]
    },
    {
      "cell_type": "markdown",
      "metadata": {
        "id": "W2_PnY1unfuz"
      },
      "source": [
        "Split in two dataframes"
      ]
    },
    {
      "cell_type": "code",
      "execution_count": 8,
      "metadata": {
        "id": "6P72JpEvek5E",
        "colab": {
          "base_uri": "https://localhost:8080/",
          "height": 496
        },
        "outputId": "54cea36a-a708-44c1-c823-1717819eac92"
      },
      "outputs": [
        {
          "output_type": "stream",
          "name": "stdout",
          "text": [
            "First:\n",
            "----------------------------------------------------------------------------------------------------\n",
            "Second:\n"
          ]
        },
        {
          "output_type": "execute_result",
          "data": {
            "text/plain": [
              "        gameorder       game_id lg_id  _iscopy  year_id  date_game  \\\n",
              "63157       31579  199002060SAS   NBA        0     1990   2/6/1990   \n",
              "63158       31580  199002070BOS   NBA        1     1990   2/7/1990   \n",
              "63159       31580  199002070BOS   NBA        0     1990   2/7/1990   \n",
              "63160       31581  199002070LAL   NBA        1     1990   2/7/1990   \n",
              "63161       31581  199002070LAL   NBA        0     1990   2/7/1990   \n",
              "...           ...           ...   ...      ...      ...        ...   \n",
              "126309      63155  201506110CLE   NBA        0     2015  6/11/2015   \n",
              "126310      63156  201506140GSW   NBA        0     2015  6/14/2015   \n",
              "126311      63156  201506140GSW   NBA        1     2015  6/14/2015   \n",
              "126312      63157  201506170CLE   NBA        0     2015  6/16/2015   \n",
              "126313      63157  201506170CLE   NBA        1     2015  6/16/2015   \n",
              "\n",
              "        seasongame  is_playoffs team_id    fran_id  ...  win_equiv  opp_id  \\\n",
              "63157           45            0     SAS      Spurs  ...  46.433861     ATL   \n",
              "63158           44            0     CHH   Pelicans  ...  18.800606     BOS   \n",
              "63159           46            0     BOS    Celtics  ...  46.371326     CHH   \n",
              "63160           46            0     CHI      Bulls  ...  49.018215     LAL   \n",
              "63161           46            0     LAL     Lakers  ...  60.440876     CHI   \n",
              "...            ...          ...     ...        ...  ...        ...     ...   \n",
              "126309         100            1     CLE  Cavaliers  ...  60.309792     GSW   \n",
              "126310         102            1     GSW   Warriors  ...  68.013329     CLE   \n",
              "126311         101            1     CLE  Cavaliers  ...  60.010067     GSW   \n",
              "126312         102            1     CLE  Cavaliers  ...  59.290245     GSW   \n",
              "126313         103            1     GSW   Warriors  ...  68.519516     CLE   \n",
              "\n",
              "         opp_fran  opp_pts  opp_elo_i  opp_elo_n  game_location  game_result  \\\n",
              "63157       Hawks       94  1477.7819  1471.8431              H            W   \n",
              "63158     Celtics      146  1526.7374  1529.3101              A            L   \n",
              "63159    Pelicans      125  1243.4368  1240.8641              H            W   \n",
              "63160      Lakers      121  1673.3429  1679.2725              A            L   \n",
              "63161       Bulls      103  1561.1747  1555.2451              H            W   \n",
              "...           ...      ...        ...        ...            ...          ...   \n",
              "126309   Warriors      103  1790.9591  1809.9791              H            L   \n",
              "126310  Cavaliers       91  1704.3949  1700.7391              H            W   \n",
              "126311   Warriors      104  1809.9791  1813.6349              A            L   \n",
              "126312   Warriors      105  1813.6349  1822.2881              H            L   \n",
              "126313  Cavaliers       97  1700.7391  1692.0859              A            W   \n",
              "\n",
              "        forecast notes  \n",
              "63157   0.698796   NaN  \n",
              "63158   0.099172   NaN  \n",
              "63159   0.900828   NaN  \n",
              "63160   0.227701   NaN  \n",
              "63161   0.772299   NaN  \n",
              "...          ...   ...  \n",
              "126309  0.546572   NaN  \n",
              "126310  0.765565   NaN  \n",
              "126311  0.234435   NaN  \n",
              "126312  0.481450   NaN  \n",
              "126313  0.518550   NaN  \n",
              "\n",
              "[63157 rows x 23 columns]"
            ],
            "text/html": [
              "\n",
              "  <div id=\"df-35708271-43b0-4a36-9a52-1f23a453506a\" class=\"colab-df-container\">\n",
              "    <div>\n",
              "<style scoped>\n",
              "    .dataframe tbody tr th:only-of-type {\n",
              "        vertical-align: middle;\n",
              "    }\n",
              "\n",
              "    .dataframe tbody tr th {\n",
              "        vertical-align: top;\n",
              "    }\n",
              "\n",
              "    .dataframe thead th {\n",
              "        text-align: right;\n",
              "    }\n",
              "</style>\n",
              "<table border=\"1\" class=\"dataframe\">\n",
              "  <thead>\n",
              "    <tr style=\"text-align: right;\">\n",
              "      <th></th>\n",
              "      <th>gameorder</th>\n",
              "      <th>game_id</th>\n",
              "      <th>lg_id</th>\n",
              "      <th>_iscopy</th>\n",
              "      <th>year_id</th>\n",
              "      <th>date_game</th>\n",
              "      <th>seasongame</th>\n",
              "      <th>is_playoffs</th>\n",
              "      <th>team_id</th>\n",
              "      <th>fran_id</th>\n",
              "      <th>...</th>\n",
              "      <th>win_equiv</th>\n",
              "      <th>opp_id</th>\n",
              "      <th>opp_fran</th>\n",
              "      <th>opp_pts</th>\n",
              "      <th>opp_elo_i</th>\n",
              "      <th>opp_elo_n</th>\n",
              "      <th>game_location</th>\n",
              "      <th>game_result</th>\n",
              "      <th>forecast</th>\n",
              "      <th>notes</th>\n",
              "    </tr>\n",
              "  </thead>\n",
              "  <tbody>\n",
              "    <tr>\n",
              "      <th>63157</th>\n",
              "      <td>31579</td>\n",
              "      <td>199002060SAS</td>\n",
              "      <td>NBA</td>\n",
              "      <td>0</td>\n",
              "      <td>1990</td>\n",
              "      <td>2/6/1990</td>\n",
              "      <td>45</td>\n",
              "      <td>0</td>\n",
              "      <td>SAS</td>\n",
              "      <td>Spurs</td>\n",
              "      <td>...</td>\n",
              "      <td>46.433861</td>\n",
              "      <td>ATL</td>\n",
              "      <td>Hawks</td>\n",
              "      <td>94</td>\n",
              "      <td>1477.7819</td>\n",
              "      <td>1471.8431</td>\n",
              "      <td>H</td>\n",
              "      <td>W</td>\n",
              "      <td>0.698796</td>\n",
              "      <td>NaN</td>\n",
              "    </tr>\n",
              "    <tr>\n",
              "      <th>63158</th>\n",
              "      <td>31580</td>\n",
              "      <td>199002070BOS</td>\n",
              "      <td>NBA</td>\n",
              "      <td>1</td>\n",
              "      <td>1990</td>\n",
              "      <td>2/7/1990</td>\n",
              "      <td>44</td>\n",
              "      <td>0</td>\n",
              "      <td>CHH</td>\n",
              "      <td>Pelicans</td>\n",
              "      <td>...</td>\n",
              "      <td>18.800606</td>\n",
              "      <td>BOS</td>\n",
              "      <td>Celtics</td>\n",
              "      <td>146</td>\n",
              "      <td>1526.7374</td>\n",
              "      <td>1529.3101</td>\n",
              "      <td>A</td>\n",
              "      <td>L</td>\n",
              "      <td>0.099172</td>\n",
              "      <td>NaN</td>\n",
              "    </tr>\n",
              "    <tr>\n",
              "      <th>63159</th>\n",
              "      <td>31580</td>\n",
              "      <td>199002070BOS</td>\n",
              "      <td>NBA</td>\n",
              "      <td>0</td>\n",
              "      <td>1990</td>\n",
              "      <td>2/7/1990</td>\n",
              "      <td>46</td>\n",
              "      <td>0</td>\n",
              "      <td>BOS</td>\n",
              "      <td>Celtics</td>\n",
              "      <td>...</td>\n",
              "      <td>46.371326</td>\n",
              "      <td>CHH</td>\n",
              "      <td>Pelicans</td>\n",
              "      <td>125</td>\n",
              "      <td>1243.4368</td>\n",
              "      <td>1240.8641</td>\n",
              "      <td>H</td>\n",
              "      <td>W</td>\n",
              "      <td>0.900828</td>\n",
              "      <td>NaN</td>\n",
              "    </tr>\n",
              "    <tr>\n",
              "      <th>63160</th>\n",
              "      <td>31581</td>\n",
              "      <td>199002070LAL</td>\n",
              "      <td>NBA</td>\n",
              "      <td>1</td>\n",
              "      <td>1990</td>\n",
              "      <td>2/7/1990</td>\n",
              "      <td>46</td>\n",
              "      <td>0</td>\n",
              "      <td>CHI</td>\n",
              "      <td>Bulls</td>\n",
              "      <td>...</td>\n",
              "      <td>49.018215</td>\n",
              "      <td>LAL</td>\n",
              "      <td>Lakers</td>\n",
              "      <td>121</td>\n",
              "      <td>1673.3429</td>\n",
              "      <td>1679.2725</td>\n",
              "      <td>A</td>\n",
              "      <td>L</td>\n",
              "      <td>0.227701</td>\n",
              "      <td>NaN</td>\n",
              "    </tr>\n",
              "    <tr>\n",
              "      <th>63161</th>\n",
              "      <td>31581</td>\n",
              "      <td>199002070LAL</td>\n",
              "      <td>NBA</td>\n",
              "      <td>0</td>\n",
              "      <td>1990</td>\n",
              "      <td>2/7/1990</td>\n",
              "      <td>46</td>\n",
              "      <td>0</td>\n",
              "      <td>LAL</td>\n",
              "      <td>Lakers</td>\n",
              "      <td>...</td>\n",
              "      <td>60.440876</td>\n",
              "      <td>CHI</td>\n",
              "      <td>Bulls</td>\n",
              "      <td>103</td>\n",
              "      <td>1561.1747</td>\n",
              "      <td>1555.2451</td>\n",
              "      <td>H</td>\n",
              "      <td>W</td>\n",
              "      <td>0.772299</td>\n",
              "      <td>NaN</td>\n",
              "    </tr>\n",
              "    <tr>\n",
              "      <th>...</th>\n",
              "      <td>...</td>\n",
              "      <td>...</td>\n",
              "      <td>...</td>\n",
              "      <td>...</td>\n",
              "      <td>...</td>\n",
              "      <td>...</td>\n",
              "      <td>...</td>\n",
              "      <td>...</td>\n",
              "      <td>...</td>\n",
              "      <td>...</td>\n",
              "      <td>...</td>\n",
              "      <td>...</td>\n",
              "      <td>...</td>\n",
              "      <td>...</td>\n",
              "      <td>...</td>\n",
              "      <td>...</td>\n",
              "      <td>...</td>\n",
              "      <td>...</td>\n",
              "      <td>...</td>\n",
              "      <td>...</td>\n",
              "      <td>...</td>\n",
              "    </tr>\n",
              "    <tr>\n",
              "      <th>126309</th>\n",
              "      <td>63155</td>\n",
              "      <td>201506110CLE</td>\n",
              "      <td>NBA</td>\n",
              "      <td>0</td>\n",
              "      <td>2015</td>\n",
              "      <td>6/11/2015</td>\n",
              "      <td>100</td>\n",
              "      <td>1</td>\n",
              "      <td>CLE</td>\n",
              "      <td>Cavaliers</td>\n",
              "      <td>...</td>\n",
              "      <td>60.309792</td>\n",
              "      <td>GSW</td>\n",
              "      <td>Warriors</td>\n",
              "      <td>103</td>\n",
              "      <td>1790.9591</td>\n",
              "      <td>1809.9791</td>\n",
              "      <td>H</td>\n",
              "      <td>L</td>\n",
              "      <td>0.546572</td>\n",
              "      <td>NaN</td>\n",
              "    </tr>\n",
              "    <tr>\n",
              "      <th>126310</th>\n",
              "      <td>63156</td>\n",
              "      <td>201506140GSW</td>\n",
              "      <td>NBA</td>\n",
              "      <td>0</td>\n",
              "      <td>2015</td>\n",
              "      <td>6/14/2015</td>\n",
              "      <td>102</td>\n",
              "      <td>1</td>\n",
              "      <td>GSW</td>\n",
              "      <td>Warriors</td>\n",
              "      <td>...</td>\n",
              "      <td>68.013329</td>\n",
              "      <td>CLE</td>\n",
              "      <td>Cavaliers</td>\n",
              "      <td>91</td>\n",
              "      <td>1704.3949</td>\n",
              "      <td>1700.7391</td>\n",
              "      <td>H</td>\n",
              "      <td>W</td>\n",
              "      <td>0.765565</td>\n",
              "      <td>NaN</td>\n",
              "    </tr>\n",
              "    <tr>\n",
              "      <th>126311</th>\n",
              "      <td>63156</td>\n",
              "      <td>201506140GSW</td>\n",
              "      <td>NBA</td>\n",
              "      <td>1</td>\n",
              "      <td>2015</td>\n",
              "      <td>6/14/2015</td>\n",
              "      <td>101</td>\n",
              "      <td>1</td>\n",
              "      <td>CLE</td>\n",
              "      <td>Cavaliers</td>\n",
              "      <td>...</td>\n",
              "      <td>60.010067</td>\n",
              "      <td>GSW</td>\n",
              "      <td>Warriors</td>\n",
              "      <td>104</td>\n",
              "      <td>1809.9791</td>\n",
              "      <td>1813.6349</td>\n",
              "      <td>A</td>\n",
              "      <td>L</td>\n",
              "      <td>0.234435</td>\n",
              "      <td>NaN</td>\n",
              "    </tr>\n",
              "    <tr>\n",
              "      <th>126312</th>\n",
              "      <td>63157</td>\n",
              "      <td>201506170CLE</td>\n",
              "      <td>NBA</td>\n",
              "      <td>0</td>\n",
              "      <td>2015</td>\n",
              "      <td>6/16/2015</td>\n",
              "      <td>102</td>\n",
              "      <td>1</td>\n",
              "      <td>CLE</td>\n",
              "      <td>Cavaliers</td>\n",
              "      <td>...</td>\n",
              "      <td>59.290245</td>\n",
              "      <td>GSW</td>\n",
              "      <td>Warriors</td>\n",
              "      <td>105</td>\n",
              "      <td>1813.6349</td>\n",
              "      <td>1822.2881</td>\n",
              "      <td>H</td>\n",
              "      <td>L</td>\n",
              "      <td>0.481450</td>\n",
              "      <td>NaN</td>\n",
              "    </tr>\n",
              "    <tr>\n",
              "      <th>126313</th>\n",
              "      <td>63157</td>\n",
              "      <td>201506170CLE</td>\n",
              "      <td>NBA</td>\n",
              "      <td>1</td>\n",
              "      <td>2015</td>\n",
              "      <td>6/16/2015</td>\n",
              "      <td>103</td>\n",
              "      <td>1</td>\n",
              "      <td>GSW</td>\n",
              "      <td>Warriors</td>\n",
              "      <td>...</td>\n",
              "      <td>68.519516</td>\n",
              "      <td>CLE</td>\n",
              "      <td>Cavaliers</td>\n",
              "      <td>97</td>\n",
              "      <td>1700.7391</td>\n",
              "      <td>1692.0859</td>\n",
              "      <td>A</td>\n",
              "      <td>W</td>\n",
              "      <td>0.518550</td>\n",
              "      <td>NaN</td>\n",
              "    </tr>\n",
              "  </tbody>\n",
              "</table>\n",
              "<p>63157 rows × 23 columns</p>\n",
              "</div>\n",
              "    <div class=\"colab-df-buttons\">\n",
              "\n",
              "  <div class=\"colab-df-container\">\n",
              "    <button class=\"colab-df-convert\" onclick=\"convertToInteractive('df-35708271-43b0-4a36-9a52-1f23a453506a')\"\n",
              "            title=\"Convert this dataframe to an interactive table.\"\n",
              "            style=\"display:none;\">\n",
              "\n",
              "  <svg xmlns=\"http://www.w3.org/2000/svg\" height=\"24px\" viewBox=\"0 -960 960 960\">\n",
              "    <path d=\"M120-120v-720h720v720H120Zm60-500h600v-160H180v160Zm220 220h160v-160H400v160Zm0 220h160v-160H400v160ZM180-400h160v-160H180v160Zm440 0h160v-160H620v160ZM180-180h160v-160H180v160Zm440 0h160v-160H620v160Z\"/>\n",
              "  </svg>\n",
              "    </button>\n",
              "\n",
              "  <style>\n",
              "    .colab-df-container {\n",
              "      display:flex;\n",
              "      gap: 12px;\n",
              "    }\n",
              "\n",
              "    .colab-df-convert {\n",
              "      background-color: #E8F0FE;\n",
              "      border: none;\n",
              "      border-radius: 50%;\n",
              "      cursor: pointer;\n",
              "      display: none;\n",
              "      fill: #1967D2;\n",
              "      height: 32px;\n",
              "      padding: 0 0 0 0;\n",
              "      width: 32px;\n",
              "    }\n",
              "\n",
              "    .colab-df-convert:hover {\n",
              "      background-color: #E2EBFA;\n",
              "      box-shadow: 0px 1px 2px rgba(60, 64, 67, 0.3), 0px 1px 3px 1px rgba(60, 64, 67, 0.15);\n",
              "      fill: #174EA6;\n",
              "    }\n",
              "\n",
              "    .colab-df-buttons div {\n",
              "      margin-bottom: 4px;\n",
              "    }\n",
              "\n",
              "    [theme=dark] .colab-df-convert {\n",
              "      background-color: #3B4455;\n",
              "      fill: #D2E3FC;\n",
              "    }\n",
              "\n",
              "    [theme=dark] .colab-df-convert:hover {\n",
              "      background-color: #434B5C;\n",
              "      box-shadow: 0px 1px 3px 1px rgba(0, 0, 0, 0.15);\n",
              "      filter: drop-shadow(0px 1px 2px rgba(0, 0, 0, 0.3));\n",
              "      fill: #FFFFFF;\n",
              "    }\n",
              "  </style>\n",
              "\n",
              "    <script>\n",
              "      const buttonEl =\n",
              "        document.querySelector('#df-35708271-43b0-4a36-9a52-1f23a453506a button.colab-df-convert');\n",
              "      buttonEl.style.display =\n",
              "        google.colab.kernel.accessAllowed ? 'block' : 'none';\n",
              "\n",
              "      async function convertToInteractive(key) {\n",
              "        const element = document.querySelector('#df-35708271-43b0-4a36-9a52-1f23a453506a');\n",
              "        const dataTable =\n",
              "          await google.colab.kernel.invokeFunction('convertToInteractive',\n",
              "                                                    [key], {});\n",
              "        if (!dataTable) return;\n",
              "\n",
              "        const docLinkHtml = 'Like what you see? Visit the ' +\n",
              "          '<a target=\"_blank\" href=https://colab.research.google.com/notebooks/data_table.ipynb>data table notebook</a>'\n",
              "          + ' to learn more about interactive tables.';\n",
              "        element.innerHTML = '';\n",
              "        dataTable['output_type'] = 'display_data';\n",
              "        await google.colab.output.renderOutput(dataTable, element);\n",
              "        const docLink = document.createElement('div');\n",
              "        docLink.innerHTML = docLinkHtml;\n",
              "        element.appendChild(docLink);\n",
              "      }\n",
              "    </script>\n",
              "  </div>\n",
              "\n",
              "\n",
              "<div id=\"df-7cf2a97d-26ce-46bf-94ba-30e75fcf327a\">\n",
              "  <button class=\"colab-df-quickchart\" onclick=\"quickchart('df-7cf2a97d-26ce-46bf-94ba-30e75fcf327a')\"\n",
              "            title=\"Suggest charts\"\n",
              "            style=\"display:none;\">\n",
              "\n",
              "<svg xmlns=\"http://www.w3.org/2000/svg\" height=\"24px\"viewBox=\"0 0 24 24\"\n",
              "     width=\"24px\">\n",
              "    <g>\n",
              "        <path d=\"M19 3H5c-1.1 0-2 .9-2 2v14c0 1.1.9 2 2 2h14c1.1 0 2-.9 2-2V5c0-1.1-.9-2-2-2zM9 17H7v-7h2v7zm4 0h-2V7h2v10zm4 0h-2v-4h2v4z\"/>\n",
              "    </g>\n",
              "</svg>\n",
              "  </button>\n",
              "\n",
              "<style>\n",
              "  .colab-df-quickchart {\n",
              "      --bg-color: #E8F0FE;\n",
              "      --fill-color: #1967D2;\n",
              "      --hover-bg-color: #E2EBFA;\n",
              "      --hover-fill-color: #174EA6;\n",
              "      --disabled-fill-color: #AAA;\n",
              "      --disabled-bg-color: #DDD;\n",
              "  }\n",
              "\n",
              "  [theme=dark] .colab-df-quickchart {\n",
              "      --bg-color: #3B4455;\n",
              "      --fill-color: #D2E3FC;\n",
              "      --hover-bg-color: #434B5C;\n",
              "      --hover-fill-color: #FFFFFF;\n",
              "      --disabled-bg-color: #3B4455;\n",
              "      --disabled-fill-color: #666;\n",
              "  }\n",
              "\n",
              "  .colab-df-quickchart {\n",
              "    background-color: var(--bg-color);\n",
              "    border: none;\n",
              "    border-radius: 50%;\n",
              "    cursor: pointer;\n",
              "    display: none;\n",
              "    fill: var(--fill-color);\n",
              "    height: 32px;\n",
              "    padding: 0;\n",
              "    width: 32px;\n",
              "  }\n",
              "\n",
              "  .colab-df-quickchart:hover {\n",
              "    background-color: var(--hover-bg-color);\n",
              "    box-shadow: 0 1px 2px rgba(60, 64, 67, 0.3), 0 1px 3px 1px rgba(60, 64, 67, 0.15);\n",
              "    fill: var(--button-hover-fill-color);\n",
              "  }\n",
              "\n",
              "  .colab-df-quickchart-complete:disabled,\n",
              "  .colab-df-quickchart-complete:disabled:hover {\n",
              "    background-color: var(--disabled-bg-color);\n",
              "    fill: var(--disabled-fill-color);\n",
              "    box-shadow: none;\n",
              "  }\n",
              "\n",
              "  .colab-df-spinner {\n",
              "    border: 2px solid var(--fill-color);\n",
              "    border-color: transparent;\n",
              "    border-bottom-color: var(--fill-color);\n",
              "    animation:\n",
              "      spin 1s steps(1) infinite;\n",
              "  }\n",
              "\n",
              "  @keyframes spin {\n",
              "    0% {\n",
              "      border-color: transparent;\n",
              "      border-bottom-color: var(--fill-color);\n",
              "      border-left-color: var(--fill-color);\n",
              "    }\n",
              "    20% {\n",
              "      border-color: transparent;\n",
              "      border-left-color: var(--fill-color);\n",
              "      border-top-color: var(--fill-color);\n",
              "    }\n",
              "    30% {\n",
              "      border-color: transparent;\n",
              "      border-left-color: var(--fill-color);\n",
              "      border-top-color: var(--fill-color);\n",
              "      border-right-color: var(--fill-color);\n",
              "    }\n",
              "    40% {\n",
              "      border-color: transparent;\n",
              "      border-right-color: var(--fill-color);\n",
              "      border-top-color: var(--fill-color);\n",
              "    }\n",
              "    60% {\n",
              "      border-color: transparent;\n",
              "      border-right-color: var(--fill-color);\n",
              "    }\n",
              "    80% {\n",
              "      border-color: transparent;\n",
              "      border-right-color: var(--fill-color);\n",
              "      border-bottom-color: var(--fill-color);\n",
              "    }\n",
              "    90% {\n",
              "      border-color: transparent;\n",
              "      border-bottom-color: var(--fill-color);\n",
              "    }\n",
              "  }\n",
              "</style>\n",
              "\n",
              "  <script>\n",
              "    async function quickchart(key) {\n",
              "      const quickchartButtonEl =\n",
              "        document.querySelector('#' + key + ' button');\n",
              "      quickchartButtonEl.disabled = true;  // To prevent multiple clicks.\n",
              "      quickchartButtonEl.classList.add('colab-df-spinner');\n",
              "      try {\n",
              "        const charts = await google.colab.kernel.invokeFunction(\n",
              "            'suggestCharts', [key], {});\n",
              "      } catch (error) {\n",
              "        console.error('Error during call to suggestCharts:', error);\n",
              "      }\n",
              "      quickchartButtonEl.classList.remove('colab-df-spinner');\n",
              "      quickchartButtonEl.classList.add('colab-df-quickchart-complete');\n",
              "    }\n",
              "    (() => {\n",
              "      let quickchartButtonEl =\n",
              "        document.querySelector('#df-7cf2a97d-26ce-46bf-94ba-30e75fcf327a button');\n",
              "      quickchartButtonEl.style.display =\n",
              "        google.colab.kernel.accessAllowed ? 'block' : 'none';\n",
              "    })();\n",
              "  </script>\n",
              "</div>\n",
              "    </div>\n",
              "  </div>\n"
            ]
          },
          "metadata": {},
          "execution_count": 8
        }
      ],
      "source": [
        "\n",
        "list_of_dataframes = np.array_split(ds3, 2)\n",
        "print(\"First:\")\n",
        "list_of_dataframes[0]\n",
        "print('-'*100)\n",
        "print(\"Second:\")\n",
        "list_of_dataframes[1]"
      ]
    },
    {
      "cell_type": "code",
      "execution_count": 9,
      "metadata": {
        "id": "gpoOK0ppZAl7",
        "colab": {
          "base_uri": "https://localhost:8080/"
        },
        "outputId": "32381a45-c39e-4d2f-dec1-5f452e3db35d"
      },
      "outputs": [
        {
          "output_type": "stream",
          "name": "stdout",
          "text": [
            "     gameorder       game_id lg_id  _iscopy  year_id  date_game  seasongame  \\\n",
            "0            1  194611010TRH   NBA        0     1947  11/1/1946           1   \n",
            "1            1  194611010TRH   NBA        1     1947  11/1/1946           1   \n",
            "2            2  194611020CHS   NBA        0     1947  11/2/1946           1   \n",
            "3            2  194611020CHS   NBA        1     1947  11/2/1946           2   \n",
            "4            3  194611020DTF   NBA        0     1947  11/2/1946           1   \n",
            "..         ...           ...   ...      ...      ...        ...         ...   \n",
            "995        498  194802190GSW   NBA        1     1948  2/19/1948          36   \n",
            "996        499  194802190STB   NBA        1     1948  2/19/1948          39   \n",
            "997        499  194802190STB   NBA        0     1948  2/19/1948          36   \n",
            "998        500  194802210PRO   NBA        1     1948  2/21/1948          35   \n",
            "999        500  194802210PRO   NBA        0     1948  2/21/1948          40   \n",
            "\n",
            "     is_playoffs team_id       fran_id  ...  win_equiv  opp_id      opp_fran  \\\n",
            "0              0     TRH       Huskies  ...  40.294830     NYK        Knicks   \n",
            "1              0     NYK        Knicks  ...  41.705170     TRH       Huskies   \n",
            "2              0     CHS         Stags  ...  42.012257     NYK        Knicks   \n",
            "3              0     NYK        Knicks  ...  40.692783     CHS         Stags   \n",
            "4              0     DTF       Falcons  ...  38.864048     WSC      Capitols   \n",
            "..           ...     ...           ...  ...        ...     ...           ...   \n",
            "995            0     WSC      Capitols  ...  49.107174     PHW      Warriors   \n",
            "996            0     PRO  Steamrollers  ...  23.408215     STB       Bombers   \n",
            "997            0     STB       Bombers  ...  46.091694     PRO  Steamrollers   \n",
            "998            0     CHS         Stags  ...  47.143471     PRO  Steamrollers   \n",
            "999            0     PRO  Steamrollers  ...  22.625757     CHS         Stags   \n",
            "\n",
            "     opp_pts  opp_elo_i  opp_elo_n  game_location  game_result  forecast notes  \n",
            "0         68  1300.0000  1306.7233              H            L  0.640065   NaN  \n",
            "1         66  1300.0000  1293.2767              A            W  0.359935   NaN  \n",
            "2         47  1306.7233  1297.0712              H            W  0.631101   NaN  \n",
            "3         63  1300.0000  1309.6521              A            L  0.368899   NaN  \n",
            "4         50  1300.0000  1320.3811              H            L  0.640065   NaN  \n",
            "..       ...        ...        ...            ...          ...       ...   ...  \n",
            "995       84  1395.3289  1404.0222              A            L  0.483214   NaN  \n",
            "996       78  1443.3657  1445.4397              A            L  0.134140   NaN  \n",
            "997       69  1219.4104  1217.3364              H            W  0.865860   NaN  \n",
            "998       73  1217.3364  1208.0995              A            W  0.677668   NaN  \n",
            "999       92  1446.4221  1455.6591              H            L  0.322332   NaN  \n",
            "\n",
            "[1000 rows x 23 columns]\n",
            "---------------------------\n",
            "        gameorder       game_id lg_id  _iscopy  year_id  date_game  \\\n",
            "1000          501  194802210WSC   NBA        0     1948  2/21/1948   \n",
            "1001          501  194802210WSC   NBA        1     1948  2/21/1948   \n",
            "1002          502  194802220BOS   NBA        1     1948  2/22/1948   \n",
            "1003          502  194802220BOS   NBA        0     1948  2/22/1948   \n",
            "1004          503  194802220STB   NBA        1     1948  2/22/1948   \n",
            "...           ...           ...   ...      ...      ...        ...   \n",
            "126309      63155  201506110CLE   NBA        0     2015  6/11/2015   \n",
            "126310      63156  201506140GSW   NBA        0     2015  6/14/2015   \n",
            "126311      63156  201506140GSW   NBA        1     2015  6/14/2015   \n",
            "126312      63157  201506170CLE   NBA        0     2015  6/16/2015   \n",
            "126313      63157  201506170CLE   NBA        1     2015  6/16/2015   \n",
            "\n",
            "        seasongame  is_playoffs team_id    fran_id  ...  win_equiv  opp_id  \\\n",
            "1000            37            0     WSC   Capitols  ...  49.868153     BLB   \n",
            "1001            38            0     BLB  Baltimore  ...  46.638355     WSC   \n",
            "1002            36            0     CHS      Stags  ...  48.321709     BOS   \n",
            "1003            39            0     BOS    Celtics  ...  26.931097     CHS   \n",
            "1004            41            0     NYK     Knicks  ...  46.706791     STB   \n",
            "...            ...          ...     ...        ...  ...        ...     ...   \n",
            "126309         100            1     CLE  Cavaliers  ...  60.309792     GSW   \n",
            "126310         102            1     GSW   Warriors  ...  68.013329     CLE   \n",
            "126311         101            1     CLE  Cavaliers  ...  60.010067     GSW   \n",
            "126312         102            1     CLE  Cavaliers  ...  59.290245     GSW   \n",
            "126313         103            1     GSW   Warriors  ...  68.519516     CLE   \n",
            "\n",
            "         opp_fran  opp_pts  opp_elo_i  opp_elo_n  game_location  game_result  \\\n",
            "1000    Baltimore       72  1458.3218  1450.7421              H            W   \n",
            "1001     Capitols       85  1474.9669  1482.5466              A            L   \n",
            "1002      Celtics       77  1268.3983  1256.8536              A            W   \n",
            "1003        Stags       97  1455.6591  1467.2037              H            L   \n",
            "1004      Bombers       80  1445.4397  1452.3027              A            L   \n",
            "...           ...      ...        ...        ...            ...          ...   \n",
            "126309   Warriors      103  1790.9591  1809.9791              H            L   \n",
            "126310  Cavaliers       91  1704.3949  1700.7391              H            W   \n",
            "126311   Warriors      104  1809.9791  1813.6349              A            L   \n",
            "126312   Warriors      105  1813.6349  1822.2881              H            L   \n",
            "126313  Cavaliers       97  1700.7391  1692.0859              A            W   \n",
            "\n",
            "        forecast notes  \n",
            "1000    0.661831   NaN  \n",
            "1001    0.338169   NaN  \n",
            "1002    0.623003   NaN  \n",
            "1003    0.376997   NaN  \n",
            "1004    0.377121   NaN  \n",
            "...          ...   ...  \n",
            "126309  0.546572   NaN  \n",
            "126310  0.765565   NaN  \n",
            "126311  0.234435   NaN  \n",
            "126312  0.481450   NaN  \n",
            "126313  0.518550   NaN  \n",
            "\n",
            "[125314 rows x 23 columns]\n"
          ]
        }
      ],
      "source": [
        "# spliting dataframe by row index\n",
        "# last 1000 rows\n",
        "df1 = nba.iloc[:1000,:]\n",
        "# first 1000 rows\n",
        "df2 = nba.iloc[1000:,:]\n",
        "print(df1)\n",
        "print(\"---------------------------\")\n",
        "print(df2)"
      ]
    },
    {
      "cell_type": "code",
      "execution_count": null,
      "metadata": {
        "id": "FE2dNH3lZKLA"
      },
      "outputs": [],
      "source": [
        "ds_1"
      ]
    },
    {
      "cell_type": "markdown",
      "metadata": {
        "id": "dwWn_8DPi1WL"
      },
      "source": [
        "*Spliting by Columns (Features)*"
      ]
    },
    {
      "cell_type": "code",
      "execution_count": 10,
      "metadata": {
        "id": "mrPAG9dyi7xr",
        "colab": {
          "base_uri": "https://localhost:8080/"
        },
        "outputId": "33ed463d-feea-4e6f-8695-8fd0b32602d0"
      },
      "outputs": [
        {
          "output_type": "stream",
          "name": "stdout",
          "text": [
            "        gameorder       game_id lg_id\n",
            "0               1  194611010TRH   NBA\n",
            "1               1  194611010TRH   NBA\n",
            "2               2  194611020CHS   NBA\n",
            "3               2  194611020CHS   NBA\n",
            "4               3  194611020DTF   NBA\n",
            "...           ...           ...   ...\n",
            "126309      63155  201506110CLE   NBA\n",
            "126310      63156  201506140GSW   NBA\n",
            "126311      63156  201506140GSW   NBA\n",
            "126312      63157  201506170CLE   NBA\n",
            "126313      63157  201506170CLE   NBA\n",
            "\n",
            "[126314 rows x 3 columns]\n",
            "---------------------------\n",
            "        _iscopy  year_id  date_game  seasongame  is_playoffs team_id  \\\n",
            "0             0     1947  11/1/1946           1            0     TRH   \n",
            "1             1     1947  11/1/1946           1            0     NYK   \n",
            "2             0     1947  11/2/1946           1            0     CHS   \n",
            "3             1     1947  11/2/1946           2            0     NYK   \n",
            "4             0     1947  11/2/1946           1            0     DTF   \n",
            "...         ...      ...        ...         ...          ...     ...   \n",
            "126309        0     2015  6/11/2015         100            1     CLE   \n",
            "126310        0     2015  6/14/2015         102            1     GSW   \n",
            "126311        1     2015  6/14/2015         101            1     CLE   \n",
            "126312        0     2015  6/16/2015         102            1     CLE   \n",
            "126313        1     2015  6/16/2015         103            1     GSW   \n",
            "\n",
            "          fran_id  pts      elo_i      elo_n  win_equiv opp_id   opp_fran  \\\n",
            "0         Huskies   66  1300.0000  1293.2767  40.294830    NYK     Knicks   \n",
            "1          Knicks   68  1300.0000  1306.7233  41.705170    TRH    Huskies   \n",
            "2           Stags   63  1300.0000  1309.6521  42.012257    NYK     Knicks   \n",
            "3          Knicks   47  1306.7233  1297.0712  40.692783    CHS      Stags   \n",
            "4         Falcons   33  1300.0000  1279.6189  38.864048    WSC   Capitols   \n",
            "...           ...  ...        ...        ...        ...    ...        ...   \n",
            "126309  Cavaliers   82  1723.4149  1704.3949  60.309792    GSW   Warriors   \n",
            "126310   Warriors  104  1809.9791  1813.6349  68.013329    CLE  Cavaliers   \n",
            "126311  Cavaliers   91  1704.3949  1700.7391  60.010067    GSW   Warriors   \n",
            "126312  Cavaliers   97  1700.7391  1692.0859  59.290245    GSW   Warriors   \n",
            "126313   Warriors  105  1813.6349  1822.2881  68.519516    CLE  Cavaliers   \n",
            "\n",
            "        opp_pts  opp_elo_i  opp_elo_n game_location game_result  forecast  \\\n",
            "0            68  1300.0000  1306.7233             H           L  0.640065   \n",
            "1            66  1300.0000  1293.2767             A           W  0.359935   \n",
            "2            47  1306.7233  1297.0712             H           W  0.631101   \n",
            "3            63  1300.0000  1309.6521             A           L  0.368899   \n",
            "4            50  1300.0000  1320.3811             H           L  0.640065   \n",
            "...         ...        ...        ...           ...         ...       ...   \n",
            "126309      103  1790.9591  1809.9791             H           L  0.546572   \n",
            "126310       91  1704.3949  1700.7391             H           W  0.765565   \n",
            "126311      104  1809.9791  1813.6349             A           L  0.234435   \n",
            "126312      105  1813.6349  1822.2881             H           L  0.481450   \n",
            "126313       97  1700.7391  1692.0859             A           W  0.518550   \n",
            "\n",
            "       notes  \n",
            "0        NaN  \n",
            "1        NaN  \n",
            "2        NaN  \n",
            "3        NaN  \n",
            "4        NaN  \n",
            "...      ...  \n",
            "126309   NaN  \n",
            "126310   NaN  \n",
            "126311   NaN  \n",
            "126312   NaN  \n",
            "126313   NaN  \n",
            "\n",
            "[126314 rows x 20 columns]\n"
          ]
        }
      ],
      "source": [
        "# Split the DataFrame using iloc[] by columns\n",
        "# first 3 columns\n",
        "df1 = nba.iloc[:,:3]\n",
        "# last 3 columns\n",
        "df2 = nba.iloc[:,3:]\n",
        "print(df1)\n",
        "print(\"---------------------------\")\n",
        "print(df2)"
      ]
    },
    {
      "cell_type": "markdown",
      "metadata": {
        "id": "nzZP2hFTd7-5"
      },
      "source": [
        "### Generate a new Dataset\n",
        "After the dataset analysis it could be necessary to generate a new dataset."
      ]
    },
    {
      "cell_type": "code",
      "execution_count": null,
      "metadata": {
        "id": "V-3bqKBWcgGF"
      },
      "outputs": [],
      "source": [
        "#import os\n",
        "#print(os.getcwd())\n",
        "\n",
        "filePath='/content/gDrive/MyDrive/MIA/ColabNotebooks/Datasets'\n",
        "f=dfCopy.to_csv(filePath+'newDataSet.csv', sep=';', index=False)"
      ]
    },
    {
      "cell_type": "markdown",
      "metadata": {
        "id": "Ei13jtNCfgk_"
      },
      "source": [
        "### Exporting only a few features"
      ]
    },
    {
      "cell_type": "code",
      "execution_count": null,
      "metadata": {
        "id": "GjmkDHZNfHem"
      },
      "outputs": [],
      "source": [
        "#or\n",
        "dfCopy.to_csv(filePath+'newDataSet2.csv',columns=['Age','Salary'])"
      ]
    },
    {
      "cell_type": "markdown",
      "source": [
        "End!"
      ],
      "metadata": {
        "id": "AeB6WWkqj4-z"
      }
    }
  ],
  "metadata": {
    "colab": {
      "provenance": [],
      "toc_visible": true
    },
    "kernelspec": {
      "display_name": "Python 3",
      "name": "python3"
    },
    "language_info": {
      "name": "python"
    }
  },
  "nbformat": 4,
  "nbformat_minor": 0
}