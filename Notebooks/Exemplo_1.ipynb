{
  "cells": [
    {
      "cell_type": "markdown",
      "metadata": {
        "id": "c1kf9qddTM4D"
      },
      "source": [
        "# Masters' Artificial Intelligence Engineering\n",
        "\n",
        "Notebook for describing a model creation"
      ]
    },
    {
      "cell_type": "markdown",
      "metadata": {
        "id": "3yc6mD0jVeWN"
      },
      "source": [
        "## 1 - Machine Learning Algorithms"
      ]
    },
    {
      "attachments": {},
      "cell_type": "markdown",
      "metadata": {
        "id": "GP-NymupVL02"
      },
      "source": [
        "### Importar bibliotecas (alterado)"
      ]
    },
    {
      "cell_type": "code",
      "execution_count": 2,
      "metadata": {
        "id": "vA1MzNI4TU_q"
      },
      "outputs": [],
      "source": [
        "import pandas as pd\n",
        "import numpy as np"
      ]
    },
    {
      "cell_type": "markdown",
      "metadata": {
        "id": "OGeWrq4-UDP9"
      },
      "source": [
        "Para apresentar um resultado em python usa-se o comando \"print\""
      ]
    },
    {
      "cell_type": "code",
      "execution_count": null,
      "metadata": {
        "colab": {
          "base_uri": "https://localhost:8080/"
        },
        "id": "dYl1oH3cThKK",
        "outputId": "e63e308a-7a45-4ffd-d410-e5f31ffe7dd9"
      },
      "outputs": [],
      "source": [
        "print(\"Mostrar em python faz-se com \\\"print\\\"\")"
      ]
    },
    {
      "cell_type": "markdown",
      "metadata": {
        "id": "2XTExmneWF4n"
      },
      "source": [
        "## Functions\n"
      ]
    },
    {
      "cell_type": "code",
      "execution_count": 5,
      "metadata": {
        "id": "ky6BMYO1UIcz"
      },
      "outputs": [],
      "source": [
        "#Importing function"
      ]
    },
    {
      "cell_type": "code",
      "execution_count": null,
      "metadata": {
        "id": "0XCUulH3XQVP"
      },
      "outputs": [],
      "source": [
        "from google.colab import drive\n",
        "drive.mount('/content/drive')"
      ]
    },
    {
      "cell_type": "code",
      "execution_count": null,
      "metadata": {
        "id": "utMAEkTzWXmn"
      },
      "outputs": [],
      "source": []
    }
  ],
  "metadata": {
    "colab": {
      "provenance": []
    },
    "kernelspec": {
      "display_name": "Python 3",
      "language": "python",
      "name": "python3"
    },
    "language_info": {
      "codemirror_mode": {
        "name": "ipython",
        "version": 3
      },
      "file_extension": ".py",
      "mimetype": "text/x-python",
      "name": "python",
      "nbconvert_exporter": "python",
      "pygments_lexer": "ipython3",
      "version": "3.11.7"
    },
    "vscode": {
      "interpreter": {
        "hash": "1d562191bc75c87315faafbdb469fdafdbaf22dc8972697e65f1192d09d727b7"
      }
    }
  },
  "nbformat": 4,
  "nbformat_minor": 0
}
