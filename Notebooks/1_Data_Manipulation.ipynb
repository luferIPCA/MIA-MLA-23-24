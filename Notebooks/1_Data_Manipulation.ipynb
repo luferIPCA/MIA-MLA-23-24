{
  "cells": [
    {
      "cell_type": "markdown",
      "metadata": {
        "id": "c1kf9qddTM4D"
      },
      "source": [
        "# Masters' in Applied Artificial Intelligence\n",
        "## Machine Learning Algorithms Course\n",
        "\n",
        "Notebooks for MLA course\n",
        "\n",
        "by [*lufer*](mailto:lufer@ipca.pt)\n",
        "\n",
        "---\n",
        "\n"
      ]
    },
    {
      "cell_type": "markdown",
      "metadata": {
        "id": "3yc6mD0jVeWN"
      },
      "source": [
        "# Datasets on ML Modelling - Part I\n",
        "\n",
        "**Contents**:\n",
        "\n",
        "1.   **Python essencial**\n",
        "2.   **Working with Datasets**\n",
        "3.   Features Manipulation\n",
        "4.   Essencial Data Analysis\n",
        "5.   Data Visualization\n",
        "6.   References\n",
        "\n",
        "\n"
      ]
    },
    {
      "cell_type": "code",
      "source": [],
      "metadata": {
        "id": "HwhrCSXMU2au"
      },
      "execution_count": null,
      "outputs": []
    },
    {
      "cell_type": "markdown",
      "metadata": {
        "id": "GP-NymupVL02"
      },
      "source": [
        "## Environment preparation\n"
      ]
    },
    {
      "cell_type": "markdown",
      "source": [
        "### Import necessary Libraries"
      ],
      "metadata": {
        "id": "-3Rm857IVoPe"
      }
    },
    {
      "cell_type": "code",
      "execution_count": null,
      "metadata": {
        "id": "vA1MzNI4TU_q"
      },
      "outputs": [],
      "source": [
        "import pandas as pd\n",
        "import numpy as np"
      ]
    },
    {
      "cell_type": "markdown",
      "metadata": {
        "id": "2XTExmneWF4n"
      },
      "source": [
        "## 1 - Python Essential\n"
      ]
    },
    {
      "cell_type": "markdown",
      "source": [
        "### Mounting Google Drive"
      ],
      "metadata": {
        "id": "eLtQimsVjd_Z"
      }
    },
    {
      "cell_type": "code",
      "source": [
        "#see https://towardsdatascience.com/different-ways-to-connect-google-drive-to-a-google-colab-notebook-pt-1-de03433d2f7a\n",
        "#see https://adriandolinay.medium.com/an-introduction-to-google-colab-2023-6c26792827b3\n",
        "\n",
        "from google.colab import drive\n",
        "\n",
        "# it will ask for your google drive credentiaals\n",
        "drive.mount('/content/gDrive/', force_remount=True)"
      ],
      "metadata": {
        "id": "BpszC8Sgjg8T"
      },
      "execution_count": null,
      "outputs": []
    },
    {
      "cell_type": "markdown",
      "source": [
        "### Unmounting Google Drive"
      ],
      "metadata": {
        "id": "fDSn-pDWn0Ee"
      }
    },
    {
      "cell_type": "code",
      "source": [
        "#see https://www.geeksforgeeks.org/unmount-drive-in-google-colab-and-remount-to-another-drive/\n",
        "#!ls \"/content/MyDrive/\"\n",
        "#from google.colab import drive\n",
        "#drive.flush_and_unmount()"
      ],
      "metadata": {
        "id": "HXxT6hsEmZZ5"
      },
      "execution_count": null,
      "outputs": []
    },
    {
      "cell_type": "markdown",
      "source": [
        "### Python Functions Definition"
      ],
      "metadata": {
        "id": "uVQ9zTD8jXCx"
      }
    },
    {
      "cell_type": "code",
      "execution_count": null,
      "metadata": {
        "id": "ky6BMYO1UIcz"
      },
      "outputs": [],
      "source": [
        "#phyton functions definition\n",
        "def show(p): print (p)\n",
        "\n",
        "#using defined fucntions\n",
        "show(\"Lets start working with DataSets\")"
      ]
    },
    {
      "cell_type": "code",
      "execution_count": null,
      "metadata": {
        "id": "utMAEkTzWXmn"
      },
      "outputs": [],
      "source": [
        "#Importing external python scripts (models)\n",
        "%cd \"/content/gDrive/MyDrive/MIA/Python/\"\n",
        "!pwd\n",
        "#import\n",
        "import functions\n",
        "print(functions.addNumbers(2,3))\n",
        "print(functions.getCurrentTime())\n",
        "\n",
        "#Other example\n",
        "#import time\n",
        "#print(\"Sleeping\")\n",
        "#time.sleep(30) # sleep for a while; interrupt me!\n",
        "#print(\"Done Sleeping\")"
      ]
    },
    {
      "cell_type": "markdown",
      "source": [
        "### Python Classes and Objects"
      ],
      "metadata": {
        "id": "6tXQ8aNTtTSk"
      }
    },
    {
      "cell_type": "code",
      "source": [
        "#Class definition\n",
        "#lufer\n",
        "class Person:\n",
        "  name=\"\"\n",
        "  age=1\n",
        "  #-----\n",
        "  # assign values to object properties, or other operations that are necessary\n",
        "  # to do when the object is being created\n",
        "  def __init__(self, name, age):\n",
        "    self.name = name\n",
        "    self.age = age\n",
        "  #-----\n",
        "  #  controls what should be returned when the class object is represented as a string\n",
        "  def __str__(self):\n",
        "    return f\"{self.name}({self.age})\"\n",
        "  #-----\n",
        "  # other methods\n",
        "  def myfunc(self):\n",
        "    print(\"Hello my name is : \" + self.name)\n",
        "\n",
        "#Objects\n",
        "p1 = Person(\"Ana Gustavo\",\"12\")\n",
        "\n",
        "print(p1)\n",
        "print(p1.age)\n",
        "print (f\"Age: ({p1.age}) - Name: ({p1.name}) \" )\n",
        "p1.myfunc();"
      ],
      "metadata": {
        "id": "ZTLrVOCMtX3F"
      },
      "execution_count": null,
      "outputs": []
    },
    {
      "cell_type": "markdown",
      "metadata": {
        "id": "PUud-RAmcLae"
      },
      "source": [
        "### Código HTML"
      ]
    },
    {
      "cell_type": "code",
      "execution_count": null,
      "metadata": {
        "id": "nHMXRTRfbqiA"
      },
      "outputs": [],
      "source": [
        "%%html\n",
        "<marquee style='width: 30%; color: red;'><b>O Benfica é o maior!</b></marquee>"
      ]
    },
    {
      "cell_type": "markdown",
      "metadata": {
        "id": "nwyaSa1Rczfz"
      },
      "source": [
        "### HTML/SVG"
      ]
    },
    {
      "cell_type": "code",
      "execution_count": null,
      "metadata": {
        "id": "F0KOgnw2cPXl"
      },
      "outputs": [],
      "source": [
        "%%html\n",
        "<svg xmlns=\"http://www.w3.org/2000/svg\" viewBox=\"0 0 450 400\" width=\"200\" height=\"200\">\n",
        "  <rect x=\"80\" y=\"60\" width=\"250\" height=\"250\" rx=\"20\" style=\"fill:red; stroke:black; fill-opacity:0.7\" />\n",
        "  <rect x=\"180\" y=\"110\" width=\"250\" height=\"250\" rx=\"40\" style=\"fill:blue; stroke:black; fill-opacity:0.5;\" />\n",
        "</svg>"
      ]
    },
    {
      "cell_type": "markdown",
      "source": [
        "## 2 - Working with Datasets"
      ],
      "metadata": {
        "id": "PcMpLXdGyr5k"
      }
    },
    {
      "cell_type": "markdown",
      "source": [
        "### Prepare the environment"
      ],
      "metadata": {
        "id": "8yaTlMoDR4dR"
      }
    },
    {
      "cell_type": "code",
      "execution_count": null,
      "metadata": {
        "id": "zzrWD0_UcxGr"
      },
      "outputs": [],
      "source": [
        "#install phyton\n",
        "#check if python is installed\n",
        "!python --version # Python 3.9.18"
      ]
    },
    {
      "cell_type": "code",
      "source": [
        "#mount my google onedrive\n",
        "#from google.colab import drive\n",
        "#drive.mount('/content/drive')"
      ],
      "metadata": {
        "id": "_HopceSG1klL"
      },
      "execution_count": null,
      "outputs": []
    },
    {
      "cell_type": "markdown",
      "source": [
        "### Read a Dataset from a CSV file"
      ],
      "metadata": {
        "id": "fJUWdoh0w37U"
      }
    },
    {
      "cell_type": "code",
      "source": [
        "#option 1\n",
        "with open('/content/gDrive/MyDrive/MIA/ColabNotebooks/Datasets/test.csv', 'r') as f:\n",
        "    print(f.read())"
      ],
      "metadata": {
        "id": "V3q6zHwP1mq9"
      },
      "execution_count": null,
      "outputs": []
    },
    {
      "cell_type": "code",
      "source": [
        "#option 2\n",
        "dataset = pd.read_csv('/content/gDrive/MyDrive/MIA/ColabNotebooks/Datasets/test.csv')\n"
      ],
      "metadata": {
        "id": "dznrs1Aa3aC7"
      },
      "execution_count": null,
      "outputs": []
    },
    {
      "cell_type": "markdown",
      "source": [
        "**After read, the dataset is a Dataframe python type.Pandas DataFrame is Excel-like Data.**"
      ],
      "metadata": {
        "id": "HCj2lpdddh-n"
      }
    },
    {
      "cell_type": "code",
      "source": [
        "type(dataset)"
      ],
      "metadata": {
        "id": "CJZgw7Sf83wu"
      },
      "execution_count": null,
      "outputs": []
    },
    {
      "cell_type": "markdown",
      "source": [
        "**Number of records in the dataframe**"
      ],
      "metadata": {
        "id": "XsMYZuo8xn_9"
      }
    },
    {
      "cell_type": "code",
      "source": [
        "#number of records in the dataframe\n",
        "len(dataset)"
      ],
      "metadata": {
        "id": "gG0apGHt9dVU"
      },
      "execution_count": null,
      "outputs": []
    },
    {
      "cell_type": "markdown",
      "source": [
        "**Dataframe Structure (rows x columns)**"
      ],
      "metadata": {
        "id": "rH8QtOCnx10f"
      }
    },
    {
      "cell_type": "code",
      "source": [
        "#Structure (rows x columns) of the dataframe\n",
        "dataset.shape"
      ],
      "metadata": {
        "id": "53wINXVv9jgw"
      },
      "execution_count": null,
      "outputs": []
    },
    {
      "cell_type": "markdown",
      "source": [
        "**Dataframe Axis (0 and 1)**"
      ],
      "metadata": {
        "id": "G2derKkF2U2h"
      }
    },
    {
      "cell_type": "code",
      "source": [
        "dataset.axes"
      ],
      "metadata": {
        "id": "aQGctCmq2xxs"
      },
      "execution_count": null,
      "outputs": []
    },
    {
      "cell_type": "code",
      "source": [
        "dataset.axes[1]"
      ],
      "metadata": {
        "id": "Vn7Rgrxm3FI3"
      },
      "execution_count": null,
      "outputs": []
    },
    {
      "cell_type": "code",
      "source": [
        "dataset.index"
      ],
      "metadata": {
        "id": "Nz7dMC9X2Z0L"
      },
      "execution_count": null,
      "outputs": []
    },
    {
      "cell_type": "code",
      "source": [
        "dataset.values"
      ],
      "metadata": {
        "id": "7GkpqnZt2sYP"
      },
      "execution_count": null,
      "outputs": []
    },
    {
      "cell_type": "markdown",
      "source": [
        "**First 10 records**"
      ],
      "metadata": {
        "id": "jwuFM8gMx5fL"
      }
    },
    {
      "cell_type": "code",
      "source": [
        "#first 10 records\n",
        "dataset.head()"
      ],
      "metadata": {
        "id": "kHklUlr29oCi"
      },
      "execution_count": null,
      "outputs": []
    },
    {
      "cell_type": "markdown",
      "source": [
        "**Last 10 records**"
      ],
      "metadata": {
        "id": "ezVlYBZfyStD"
      }
    },
    {
      "cell_type": "code",
      "source": [
        "#last 10 records\n",
        "dataset.tail()"
      ],
      "metadata": {
        "id": "MvmVdi-S900L"
      },
      "execution_count": null,
      "outputs": []
    },
    {
      "cell_type": "markdown",
      "source": [
        "**Details about each column of the dataset**\n",
        "\n",
        "Count of *Data type* and *Non-Null* values *Texto em itálico*"
      ],
      "metadata": {
        "id": "gtMkvG_M8iwa"
      }
    },
    {
      "cell_type": "code",
      "source": [
        "#Details about each column\n",
        "dataset.info()"
      ],
      "metadata": {
        "id": "bWCQW9Tl-CRX"
      },
      "execution_count": null,
      "outputs": []
    },
    {
      "cell_type": "code",
      "source": [
        "pd.set_option(\"display.precision\", 2)"
      ],
      "metadata": {
        "id": "0CG-FgJs_GKx"
      },
      "execution_count": null,
      "outputs": []
    },
    {
      "cell_type": "markdown",
      "source": [
        "### Basic Statistics over the Dataset"
      ],
      "metadata": {
        "id": "InZySHPt_Bsz"
      }
    },
    {
      "cell_type": "markdown",
      "source": [
        "Basic statistics:\n",
        "\n",
        "*count, mean, staandard deviation (std), minimun, maximun, percentiles (25%,50%,75%)*"
      ],
      "metadata": {
        "id": "1Vgo6m9U9BGO"
      }
    },
    {
      "cell_type": "markdown",
      "source": [
        "**DataFrame.describe(percentiles=None, include=None, exclude=None)**\n",
        "\n",
        "Descriptive statistics that summarize the central tendency, dispersion and shape of a dataset’s distribution, excluding *NaN* values."
      ],
      "metadata": {
        "id": "DDVkQppTA4gv"
      }
    },
    {
      "cell_type": "code",
      "source": [
        "#see https://pandas.pydata.org/docs/reference/api/pandas.DataFrame.describe.html\n",
        "dataset.describe()"
      ],
      "metadata": {
        "id": "uVqRQRV0-wUq"
      },
      "execution_count": null,
      "outputs": []
    },
    {
      "cell_type": "code",
      "source": [
        "dataset.describe(percentiles=None, include=None, exclude=None)"
      ],
      "metadata": {
        "id": "zyJK9HFRBYTP"
      },
      "execution_count": null,
      "outputs": []
    },
    {
      "cell_type": "markdown",
      "source": [
        "Considering the percentiles of *battery_power* column:\n",
        "\n",
        "*   (25%) - 25% of the records have the value 895 or below\n",
        "*   (50%) - 50% of the records have the value 1246.5 or below\n",
        "*   (75%) - 75% of your records have the value 1629.25 or below"
      ],
      "metadata": {
        "id": "uVoSjOI__7sv"
      }
    },
    {
      "cell_type": "markdown",
      "source": [
        "**Statistical calculus for a particular column**"
      ],
      "metadata": {
        "id": "Y2asxOyP-n_E"
      }
    },
    {
      "cell_type": "markdown",
      "source": [
        "*Count number of non-NA/null observations.*"
      ],
      "metadata": {
        "id": "_f2dSeZ6CT9n"
      }
    },
    {
      "cell_type": "code",
      "source": [
        "dataset['battery_power'].count()"
      ],
      "metadata": {
        "id": "yd1AxvX1CQjw"
      },
      "execution_count": null,
      "outputs": []
    },
    {
      "cell_type": "markdown",
      "source": [
        "*Maximum of the battery_power values*"
      ],
      "metadata": {
        "id": "UDMRRICu_SBq"
      }
    },
    {
      "cell_type": "code",
      "source": [
        "dataset['battery_power'].max()"
      ],
      "metadata": {
        "id": "Z84N8iiLB5EQ"
      },
      "execution_count": null,
      "outputs": []
    },
    {
      "cell_type": "markdown",
      "source": [
        "*Mean of the battery_power values*"
      ],
      "metadata": {
        "id": "nRUaSo0u_OPW"
      }
    },
    {
      "cell_type": "code",
      "source": [
        "dataset['battery_power'].mean()"
      ],
      "metadata": {
        "id": "Xelbj5ozDLlH"
      },
      "execution_count": null,
      "outputs": []
    },
    {
      "cell_type": "markdown",
      "source": [
        "*Minimum value of battery_power*"
      ],
      "metadata": {
        "id": "l1eUikGo_Ks8"
      }
    },
    {
      "cell_type": "code",
      "source": [
        "dataset['battery_power'].min()"
      ],
      "metadata": {
        "id": "42sDJ5abDHmU"
      },
      "execution_count": null,
      "outputs": []
    },
    {
      "cell_type": "markdown",
      "source": [
        "*Median of battery_power column*"
      ],
      "metadata": {
        "id": "1pWpeXxP_Cft"
      }
    },
    {
      "cell_type": "code",
      "source": [
        "dataset['battery_power'].median()"
      ],
      "metadata": {
        "id": "vbP8Y275DsAL"
      },
      "execution_count": null,
      "outputs": []
    },
    {
      "cell_type": "markdown",
      "source": [
        "*Check how may occurences for each value of a particulaar column*"
      ],
      "metadata": {
        "id": "N8sNnvTOPuTd"
      }
    },
    {
      "cell_type": "code",
      "source": [
        "dataset['battery_power'].value_counts()"
      ],
      "metadata": {
        "id": "NWlYY37jBvNI"
      },
      "execution_count": null,
      "outputs": []
    },
    {
      "cell_type": "markdown",
      "source": [
        "*Select part of the columns*"
      ],
      "metadata": {
        "id": "k-7USEmyQAJn"
      }
    },
    {
      "cell_type": "code",
      "source": [
        "dataset[['battery_power','dual_sim']]"
      ],
      "metadata": {
        "id": "84djWSbQDv18"
      },
      "execution_count": null,
      "outputs": []
    },
    {
      "cell_type": "markdown",
      "source": [
        "*Details about part of the columns*"
      ],
      "metadata": {
        "id": "8qC0vpkbQSSd"
      }
    },
    {
      "cell_type": "code",
      "source": [
        "dataset[['battery_power','dual_sim']].describe(include=\"all\")"
      ],
      "metadata": {
        "id": "vDUqDhRLETTG"
      },
      "execution_count": null,
      "outputs": []
    },
    {
      "cell_type": "markdown",
      "source": [
        "*Details about a partivular column*"
      ],
      "metadata": {
        "id": "LlRUc48FQ2pd"
      }
    },
    {
      "cell_type": "code",
      "source": [
        "dataset.battery_power.describe()"
      ],
      "metadata": {
        "id": "1MRx6DFqLr23"
      },
      "execution_count": null,
      "outputs": []
    },
    {
      "cell_type": "markdown",
      "source": [
        "### Considering columns of type *objet* (text)"
      ],
      "metadata": {
        "id": "2J4bXjjF__NV"
      }
    },
    {
      "cell_type": "markdown",
      "source": [
        "By default, only numeric values are considered. To analyse objects columns (text values) use \"*dataset.describe(include=object)*\""
      ],
      "metadata": {
        "id": "7AB52dw0A2Kg"
      }
    },
    {
      "cell_type": "markdown",
      "source": [
        "*Example of Dataframe with objects:*"
      ],
      "metadata": {
        "id": "ZTzZxVK-NJzO"
      }
    },
    {
      "cell_type": "code",
      "source": [
        "df = pd.DataFrame({'gender': pd.Categorical(['Male', 'Female', 'Others']),\n",
        "                   'quantity': [12, 25, 3],\n",
        "                   'symbol': ['M', 'F', 'O']\n",
        "                   })\n",
        "df"
      ],
      "metadata": {
        "id": "CslmwoT0MVCE"
      },
      "execution_count": null,
      "outputs": []
    },
    {
      "cell_type": "markdown",
      "source": [
        "*Describing all columns of a DataFrame regardless of data type*"
      ],
      "metadata": {
        "id": "jyYuR9k9NDkX"
      }
    },
    {
      "cell_type": "code",
      "source": [
        "df.describe(include=\"all\")"
      ],
      "metadata": {
        "id": "7UBMA3oWMmZU"
      },
      "execution_count": null,
      "outputs": []
    },
    {
      "cell_type": "markdown",
      "source": [
        "*Including only string columns in the DataFrame description.*"
      ],
      "metadata": {
        "id": "AgLUYCErNoBd"
      }
    },
    {
      "cell_type": "code",
      "source": [
        "df.describe(include=object)"
      ],
      "metadata": {
        "id": "FyIhHfU2_OJ8"
      },
      "execution_count": null,
      "outputs": []
    },
    {
      "cell_type": "markdown",
      "source": [
        "*Excluding numeric columns from a DataFrame description.*"
      ],
      "metadata": {
        "id": "nwLEEeHXN76o"
      }
    },
    {
      "cell_type": "code",
      "source": [
        "df.describe(exclude=[np.number])"
      ],
      "metadata": {
        "id": "zA2_3ck-N7eo"
      },
      "execution_count": null,
      "outputs": []
    },
    {
      "cell_type": "markdown",
      "source": [
        "*Including only numeric columns in the DataFrame description.*"
      ],
      "metadata": {
        "id": "8mu6W6JaNcZF"
      }
    },
    {
      "cell_type": "code",
      "source": [
        "df.describe(include=[np.number])"
      ],
      "metadata": {
        "id": "ckv1Q253Nb9U"
      },
      "execution_count": null,
      "outputs": []
    },
    {
      "cell_type": "markdown",
      "source": [
        "### Filtering"
      ],
      "metadata": {
        "id": "7y0iOMbPHpiO"
      }
    },
    {
      "cell_type": "markdown",
      "source": [
        "*Get filtered data*"
      ],
      "metadata": {
        "id": "pW6fFw7Z61Ph"
      }
    },
    {
      "cell_type": "markdown",
      "source": [
        "Column value greater than..."
      ],
      "metadata": {
        "id": "slZPG3xA1OHb"
      }
    },
    {
      "cell_type": "code",
      "source": [
        "#Back to original dataset\n",
        "newdf = dataset.copy()\n",
        "newdf = dataset.query('battery_power>1000')\n",
        "newdf"
      ],
      "metadata": {
        "id": "ls5UpMScE575"
      },
      "execution_count": null,
      "outputs": []
    },
    {
      "cell_type": "markdown",
      "source": [
        "Filtering one column and compare with another"
      ],
      "metadata": {
        "id": "tUdVYwpm156k"
      }
    },
    {
      "cell_type": "code",
      "source": [
        "newdf.loc[newdf[\"battery_power\"] >1500, \"clock_speed\"].value_counts()"
      ],
      "metadata": {
        "id": "tJGY14Bk06X7"
      },
      "execution_count": null,
      "outputs": []
    },
    {
      "cell_type": "markdown",
      "source": [
        "Complex filtering"
      ],
      "metadata": {
        "id": "WXa2HT0A5ssJ"
      }
    },
    {
      "cell_type": "code",
      "source": [
        "newdf[(newdf[\"clock_speed\"] < 1) & (newdf[\"dual_sim\"] ==1)].groupby(\\\n",
        "\n",
        "    [\"battery_power\", \"mobile_wt\",\"clock_speed\"])[\"int_memory\"].count()"
      ],
      "metadata": {
        "id": "AMKk9SDS4SaL"
      },
      "execution_count": null,
      "outputs": []
    },
    {
      "cell_type": "markdown",
      "source": [
        "*Calculus over filtered data*"
      ],
      "metadata": {
        "id": "ux1teImP68wE"
      }
    },
    {
      "cell_type": "code",
      "source": [
        "dataset.groupby('dual_sim').sum()"
      ],
      "metadata": {
        "id": "vPlFsYO6HLUa"
      },
      "execution_count": null,
      "outputs": []
    },
    {
      "cell_type": "code",
      "source": [
        "dataset.groupby('dual_sim').count()"
      ],
      "metadata": {
        "id": "KLqM_T3gJJOg"
      },
      "execution_count": null,
      "outputs": []
    },
    {
      "cell_type": "code",
      "source": [
        "dataset.groupby(\"dual_sim\", sort=False)[\"n_cores\"].sum()"
      ],
      "metadata": {
        "id": "WMMRM-4_JXzu"
      },
      "execution_count": null,
      "outputs": []
    },
    {
      "cell_type": "markdown",
      "source": [
        "### References"
      ],
      "metadata": {
        "id": "IE9klG4UxYAX"
      }
    },
    {
      "cell_type": "markdown",
      "source": [
        "\n",
        "*   Using pandas and Python to Explore Your Dataset\n",
        "https://realpython.com/pandas-python-explore-dataset/\n",
        "\n",
        "\n"
      ],
      "metadata": {
        "id": "BWyAtUzXxbhq"
      }
    },
    {
      "cell_type": "markdown",
      "source": [
        "End!"
      ],
      "metadata": {
        "id": "e0KXkMsh9i9r"
      }
    }
  ],
  "metadata": {
    "colab": {
      "provenance": [],
      "collapsed_sections": [
        "fDSn-pDWn0Ee",
        "uVQ9zTD8jXCx",
        "6tXQ8aNTtTSk",
        "PUud-RAmcLae",
        "nwyaSa1Rczfz"
      ],
      "toc_visible": true
    },
    "kernelspec": {
      "display_name": "Python 3",
      "name": "python3"
    },
    "language_info": {
      "name": "python"
    }
  },
  "nbformat": 4,
  "nbformat_minor": 0
}