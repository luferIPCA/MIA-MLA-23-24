{
  "nbformat": 4,
  "nbformat_minor": 0,
  "metadata": {
    "colab": {
      "provenance": [],
      "toc_visible": true
    },
    "kernelspec": {
      "name": "python3",
      "display_name": "Python 3"
    },
    "language_info": {
      "name": "python"
    }
  },
  "cells": [
    {
      "cell_type": "markdown",
      "metadata": {
        "id": "c1kf9qddTM4D"
      },
      "source": [
        "# Masters' in Applied Artificial Intelligence\n",
        "## Machine Learning Algorithms Course\n",
        "\n",
        "Notebooks for the MLA course\n",
        "\n",
        "by [*lufer*](mailto:lufer@ipca.pt)\n",
        "\n",
        "---\n",
        "\n"
      ]
    },
    {
      "cell_type": "markdown",
      "metadata": {
        "id": "3yc6mD0jVeWN"
      },
      "source": [
        "# ML Modelling - Part VII - Improving a Model\n",
        "\\\n",
        "**Contents**:\n",
        "\n",
        "1.  **Model Improvement**\n",
        "\n"
      ]
    },
    {
      "cell_type": "markdown",
      "source": [
        "This notebook explores the reqyirements adn processes to improve a ML model."
      ],
      "metadata": {
        "id": "iAEg0vfdoiFr"
      }
    },
    {
      "cell_type": "markdown",
      "metadata": {
        "id": "GP-NymupVL02"
      },
      "source": [
        "# Environment preparation\n"
      ]
    },
    {
      "cell_type": "markdown",
      "metadata": {
        "id": "-3Rm857IVoPe"
      },
      "source": [
        "**Importing necessary Libraries**"
      ]
    },
    {
      "cell_type": "code",
      "execution_count": 81,
      "metadata": {
        "id": "vA1MzNI4TU_q"
      },
      "outputs": [],
      "source": [
        "import pandas as pd\n",
        "import numpy as np\n",
        "import seaborn as sns\n",
        "\n",
        "#import libraries for trainning\n",
        "from sklearn.model_selection import train_test_split\n"
      ]
    },
    {
      "cell_type": "code",
      "source": [
        "import datetime\n",
        "print(f\"Last updated: {datetime.datetime.now()}\")"
      ],
      "metadata": {
        "id": "wuXym8xInfIu",
        "colab": {
          "base_uri": "https://localhost:8080/"
        },
        "outputId": "b185006d-e42c-4f8e-a00e-bd1fc1476c08"
      },
      "execution_count": 20,
      "outputs": [
        {
          "output_type": "stream",
          "name": "stdout",
          "text": [
            "Last updated: 2024-03-08 17:26:25.771416\n"
          ]
        }
      ]
    },
    {
      "cell_type": "markdown",
      "metadata": {
        "id": "bDLxcgMwJEYA"
      },
      "source": [
        "**Mounting Drive**"
      ]
    },
    {
      "cell_type": "code",
      "execution_count": 21,
      "metadata": {
        "id": "qxFY0ypTJJK9",
        "colab": {
          "base_uri": "https://localhost:8080/"
        },
        "outputId": "dab991e8-2efe-48fc-9b6f-774b0c9cef91"
      },
      "outputs": [
        {
          "output_type": "stream",
          "name": "stdout",
          "text": [
            "Mounted at /content/gDrive/\n"
          ]
        }
      ],
      "source": [
        "\n",
        "from google.colab import drive\n",
        "\n",
        "# it will ask for your google drive credentiaals\n",
        "drive.mount('/content/gDrive/', force_remount=True)"
      ]
    },
    {
      "cell_type": "markdown",
      "source": [],
      "metadata": {
        "id": "LqOOL0uDgaqb"
      }
    },
    {
      "cell_type": "markdown",
      "source": [
        "# 1 - What ML Algorithms are there?"
      ],
      "metadata": {
        "id": "Ceu0N5uOmj2E"
      }
    },
    {
      "cell_type": "markdown",
      "source": [
        "Choose a Machine Learning algortihms depend of many factors, such as the size of the datatset, the type of the data in it, the goal of the model, and others."
      ],
      "metadata": {
        "id": "7jmjZq7lp3Zq"
      }
    },
    {
      "cell_type": "markdown",
      "source": [
        "Sklearn offers a graphical algorith that facilicates this selection.\n",
        "\n",
        "![picture](https://scikit-learn.org/stable/_static/ml_map.png)"
      ],
      "metadata": {
        "id": "_X9DskdMqdnE"
      }
    },
    {
      "cell_type": "markdown",
      "source": [
        "# 2 - Improving a Model\n",
        "\n",
        "\n",
        "RandomForest is one emsamble model that has very good performances."
      ],
      "metadata": {
        "id": "W-9uny3ilsmg"
      }
    },
    {
      "cell_type": "markdown",
      "source": [
        "**Note:**\n",
        "\\\n",
        "The first predictions for the first model, represents the initial results! Can it be improved?\n",
        "\n",
        "\\\n",
        "The improving can be done on data, model, parameters:\n",
        "\n",
        "* From the data perspective:\n",
        "\n",
        "> - Can the data be improved?\n",
        "> - Could we collect more data (the more data, the better, usually!)\n",
        "\n",
        "* From the model perspective\n",
        "\n",
        "> - Is there a better model?\n",
        "> - Can de current model be improved? (exploring hyperparameters)\n",
        "\n",
        "\n",
        "*Hyperparameters versus Parameters*\n",
        "\n",
        "* *Parameters* = correspond to patterns that model found in data\n",
        "* *Hyperparameters* = are model settings that we can try to adjust  \n",
        "\n",
        "\\\n",
        "How to manipulate Hyperparameters:\n",
        "1. Manually\n",
        "2. Randomly with [RandomSearchCV](https://scikit-learn.org/stable/modules/generated/sklearn.model_selection.RandomizedSearchCV.html)\n",
        "3. Exhaustively with [GridSearchCV](https://scikit-learn.org/stable/modules/generated/sklearn.model_selection.GridSearchCV.html)\n"
      ],
      "metadata": {
        "id": "Yhz9QWwupiCe"
      }
    },
    {
      "cell_type": "markdown",
      "source": [
        "### *Download Dataset*\n",
        "\n"
      ],
      "metadata": {
        "id": "VFv4l95wtjKT"
      }
    },
    {
      "cell_type": "code",
      "source": [
        "#Importing a real world dataset preparaed for Regression\n",
        "\n",
        "filePath='/content/gDrive/MyDrive/MIA/ColabNotebooks/Datasets/'\n",
        "hd = pd.read_csv(filePath+\"heart-disease.csv\")\n",
        "pd.set_option(\"display.precision\", 2)\n",
        "#answer: a dictionary"
      ],
      "metadata": {
        "id": "APRXNHdxoiV6"
      },
      "execution_count": 22,
      "outputs": []
    },
    {
      "cell_type": "code",
      "source": [
        "hd.head()"
      ],
      "metadata": {
        "id": "tJygnSC4n0iG",
        "colab": {
          "base_uri": "https://localhost:8080/",
          "height": 206
        },
        "outputId": "6469763d-20d9-4871-a2c5-562001c93c7d"
      },
      "execution_count": 23,
      "outputs": [
        {
          "output_type": "execute_result",
          "data": {
            "text/plain": [
              "   age  sex  cp  trestbps  chol  fbs  restecg  thalach  exang  oldpeak  slope  \\\n",
              "0   63    1   3       145   233    1        0      150      0      2.3      0   \n",
              "1   37    1   2       130   250    0        1      187      0      3.5      0   \n",
              "2   41    0   1       130   204    0        0      172      0      1.4      2   \n",
              "3   56    1   1       120   236    0        1      178      0      0.8      2   \n",
              "4   57    0   0       120   354    0        1      163      1      0.6      2   \n",
              "\n",
              "   ca  thal  target  \n",
              "0   0     1       1  \n",
              "1   0     2       1  \n",
              "2   0     2       1  \n",
              "3   0     2       1  \n",
              "4   0     2       1  "
            ],
            "text/html": [
              "\n",
              "  <div id=\"df-91f14dc6-0a23-466c-84c5-28eff397467d\" class=\"colab-df-container\">\n",
              "    <div>\n",
              "<style scoped>\n",
              "    .dataframe tbody tr th:only-of-type {\n",
              "        vertical-align: middle;\n",
              "    }\n",
              "\n",
              "    .dataframe tbody tr th {\n",
              "        vertical-align: top;\n",
              "    }\n",
              "\n",
              "    .dataframe thead th {\n",
              "        text-align: right;\n",
              "    }\n",
              "</style>\n",
              "<table border=\"1\" class=\"dataframe\">\n",
              "  <thead>\n",
              "    <tr style=\"text-align: right;\">\n",
              "      <th></th>\n",
              "      <th>age</th>\n",
              "      <th>sex</th>\n",
              "      <th>cp</th>\n",
              "      <th>trestbps</th>\n",
              "      <th>chol</th>\n",
              "      <th>fbs</th>\n",
              "      <th>restecg</th>\n",
              "      <th>thalach</th>\n",
              "      <th>exang</th>\n",
              "      <th>oldpeak</th>\n",
              "      <th>slope</th>\n",
              "      <th>ca</th>\n",
              "      <th>thal</th>\n",
              "      <th>target</th>\n",
              "    </tr>\n",
              "  </thead>\n",
              "  <tbody>\n",
              "    <tr>\n",
              "      <th>0</th>\n",
              "      <td>63</td>\n",
              "      <td>1</td>\n",
              "      <td>3</td>\n",
              "      <td>145</td>\n",
              "      <td>233</td>\n",
              "      <td>1</td>\n",
              "      <td>0</td>\n",
              "      <td>150</td>\n",
              "      <td>0</td>\n",
              "      <td>2.3</td>\n",
              "      <td>0</td>\n",
              "      <td>0</td>\n",
              "      <td>1</td>\n",
              "      <td>1</td>\n",
              "    </tr>\n",
              "    <tr>\n",
              "      <th>1</th>\n",
              "      <td>37</td>\n",
              "      <td>1</td>\n",
              "      <td>2</td>\n",
              "      <td>130</td>\n",
              "      <td>250</td>\n",
              "      <td>0</td>\n",
              "      <td>1</td>\n",
              "      <td>187</td>\n",
              "      <td>0</td>\n",
              "      <td>3.5</td>\n",
              "      <td>0</td>\n",
              "      <td>0</td>\n",
              "      <td>2</td>\n",
              "      <td>1</td>\n",
              "    </tr>\n",
              "    <tr>\n",
              "      <th>2</th>\n",
              "      <td>41</td>\n",
              "      <td>0</td>\n",
              "      <td>1</td>\n",
              "      <td>130</td>\n",
              "      <td>204</td>\n",
              "      <td>0</td>\n",
              "      <td>0</td>\n",
              "      <td>172</td>\n",
              "      <td>0</td>\n",
              "      <td>1.4</td>\n",
              "      <td>2</td>\n",
              "      <td>0</td>\n",
              "      <td>2</td>\n",
              "      <td>1</td>\n",
              "    </tr>\n",
              "    <tr>\n",
              "      <th>3</th>\n",
              "      <td>56</td>\n",
              "      <td>1</td>\n",
              "      <td>1</td>\n",
              "      <td>120</td>\n",
              "      <td>236</td>\n",
              "      <td>0</td>\n",
              "      <td>1</td>\n",
              "      <td>178</td>\n",
              "      <td>0</td>\n",
              "      <td>0.8</td>\n",
              "      <td>2</td>\n",
              "      <td>0</td>\n",
              "      <td>2</td>\n",
              "      <td>1</td>\n",
              "    </tr>\n",
              "    <tr>\n",
              "      <th>4</th>\n",
              "      <td>57</td>\n",
              "      <td>0</td>\n",
              "      <td>0</td>\n",
              "      <td>120</td>\n",
              "      <td>354</td>\n",
              "      <td>0</td>\n",
              "      <td>1</td>\n",
              "      <td>163</td>\n",
              "      <td>1</td>\n",
              "      <td>0.6</td>\n",
              "      <td>2</td>\n",
              "      <td>0</td>\n",
              "      <td>2</td>\n",
              "      <td>1</td>\n",
              "    </tr>\n",
              "  </tbody>\n",
              "</table>\n",
              "</div>\n",
              "    <div class=\"colab-df-buttons\">\n",
              "\n",
              "  <div class=\"colab-df-container\">\n",
              "    <button class=\"colab-df-convert\" onclick=\"convertToInteractive('df-91f14dc6-0a23-466c-84c5-28eff397467d')\"\n",
              "            title=\"Convert this dataframe to an interactive table.\"\n",
              "            style=\"display:none;\">\n",
              "\n",
              "  <svg xmlns=\"http://www.w3.org/2000/svg\" height=\"24px\" viewBox=\"0 -960 960 960\">\n",
              "    <path d=\"M120-120v-720h720v720H120Zm60-500h600v-160H180v160Zm220 220h160v-160H400v160Zm0 220h160v-160H400v160ZM180-400h160v-160H180v160Zm440 0h160v-160H620v160ZM180-180h160v-160H180v160Zm440 0h160v-160H620v160Z\"/>\n",
              "  </svg>\n",
              "    </button>\n",
              "\n",
              "  <style>\n",
              "    .colab-df-container {\n",
              "      display:flex;\n",
              "      gap: 12px;\n",
              "    }\n",
              "\n",
              "    .colab-df-convert {\n",
              "      background-color: #E8F0FE;\n",
              "      border: none;\n",
              "      border-radius: 50%;\n",
              "      cursor: pointer;\n",
              "      display: none;\n",
              "      fill: #1967D2;\n",
              "      height: 32px;\n",
              "      padding: 0 0 0 0;\n",
              "      width: 32px;\n",
              "    }\n",
              "\n",
              "    .colab-df-convert:hover {\n",
              "      background-color: #E2EBFA;\n",
              "      box-shadow: 0px 1px 2px rgba(60, 64, 67, 0.3), 0px 1px 3px 1px rgba(60, 64, 67, 0.15);\n",
              "      fill: #174EA6;\n",
              "    }\n",
              "\n",
              "    .colab-df-buttons div {\n",
              "      margin-bottom: 4px;\n",
              "    }\n",
              "\n",
              "    [theme=dark] .colab-df-convert {\n",
              "      background-color: #3B4455;\n",
              "      fill: #D2E3FC;\n",
              "    }\n",
              "\n",
              "    [theme=dark] .colab-df-convert:hover {\n",
              "      background-color: #434B5C;\n",
              "      box-shadow: 0px 1px 3px 1px rgba(0, 0, 0, 0.15);\n",
              "      filter: drop-shadow(0px 1px 2px rgba(0, 0, 0, 0.3));\n",
              "      fill: #FFFFFF;\n",
              "    }\n",
              "  </style>\n",
              "\n",
              "    <script>\n",
              "      const buttonEl =\n",
              "        document.querySelector('#df-91f14dc6-0a23-466c-84c5-28eff397467d button.colab-df-convert');\n",
              "      buttonEl.style.display =\n",
              "        google.colab.kernel.accessAllowed ? 'block' : 'none';\n",
              "\n",
              "      async function convertToInteractive(key) {\n",
              "        const element = document.querySelector('#df-91f14dc6-0a23-466c-84c5-28eff397467d');\n",
              "        const dataTable =\n",
              "          await google.colab.kernel.invokeFunction('convertToInteractive',\n",
              "                                                    [key], {});\n",
              "        if (!dataTable) return;\n",
              "\n",
              "        const docLinkHtml = 'Like what you see? Visit the ' +\n",
              "          '<a target=\"_blank\" href=https://colab.research.google.com/notebooks/data_table.ipynb>data table notebook</a>'\n",
              "          + ' to learn more about interactive tables.';\n",
              "        element.innerHTML = '';\n",
              "        dataTable['output_type'] = 'display_data';\n",
              "        await google.colab.output.renderOutput(dataTable, element);\n",
              "        const docLink = document.createElement('div');\n",
              "        docLink.innerHTML = docLinkHtml;\n",
              "        element.appendChild(docLink);\n",
              "      }\n",
              "    </script>\n",
              "  </div>\n",
              "\n",
              "\n",
              "<div id=\"df-4bb3a613-9524-48a8-9c20-3972289c1e19\">\n",
              "  <button class=\"colab-df-quickchart\" onclick=\"quickchart('df-4bb3a613-9524-48a8-9c20-3972289c1e19')\"\n",
              "            title=\"Suggest charts\"\n",
              "            style=\"display:none;\">\n",
              "\n",
              "<svg xmlns=\"http://www.w3.org/2000/svg\" height=\"24px\"viewBox=\"0 0 24 24\"\n",
              "     width=\"24px\">\n",
              "    <g>\n",
              "        <path d=\"M19 3H5c-1.1 0-2 .9-2 2v14c0 1.1.9 2 2 2h14c1.1 0 2-.9 2-2V5c0-1.1-.9-2-2-2zM9 17H7v-7h2v7zm4 0h-2V7h2v10zm4 0h-2v-4h2v4z\"/>\n",
              "    </g>\n",
              "</svg>\n",
              "  </button>\n",
              "\n",
              "<style>\n",
              "  .colab-df-quickchart {\n",
              "      --bg-color: #E8F0FE;\n",
              "      --fill-color: #1967D2;\n",
              "      --hover-bg-color: #E2EBFA;\n",
              "      --hover-fill-color: #174EA6;\n",
              "      --disabled-fill-color: #AAA;\n",
              "      --disabled-bg-color: #DDD;\n",
              "  }\n",
              "\n",
              "  [theme=dark] .colab-df-quickchart {\n",
              "      --bg-color: #3B4455;\n",
              "      --fill-color: #D2E3FC;\n",
              "      --hover-bg-color: #434B5C;\n",
              "      --hover-fill-color: #FFFFFF;\n",
              "      --disabled-bg-color: #3B4455;\n",
              "      --disabled-fill-color: #666;\n",
              "  }\n",
              "\n",
              "  .colab-df-quickchart {\n",
              "    background-color: var(--bg-color);\n",
              "    border: none;\n",
              "    border-radius: 50%;\n",
              "    cursor: pointer;\n",
              "    display: none;\n",
              "    fill: var(--fill-color);\n",
              "    height: 32px;\n",
              "    padding: 0;\n",
              "    width: 32px;\n",
              "  }\n",
              "\n",
              "  .colab-df-quickchart:hover {\n",
              "    background-color: var(--hover-bg-color);\n",
              "    box-shadow: 0 1px 2px rgba(60, 64, 67, 0.3), 0 1px 3px 1px rgba(60, 64, 67, 0.15);\n",
              "    fill: var(--button-hover-fill-color);\n",
              "  }\n",
              "\n",
              "  .colab-df-quickchart-complete:disabled,\n",
              "  .colab-df-quickchart-complete:disabled:hover {\n",
              "    background-color: var(--disabled-bg-color);\n",
              "    fill: var(--disabled-fill-color);\n",
              "    box-shadow: none;\n",
              "  }\n",
              "\n",
              "  .colab-df-spinner {\n",
              "    border: 2px solid var(--fill-color);\n",
              "    border-color: transparent;\n",
              "    border-bottom-color: var(--fill-color);\n",
              "    animation:\n",
              "      spin 1s steps(1) infinite;\n",
              "  }\n",
              "\n",
              "  @keyframes spin {\n",
              "    0% {\n",
              "      border-color: transparent;\n",
              "      border-bottom-color: var(--fill-color);\n",
              "      border-left-color: var(--fill-color);\n",
              "    }\n",
              "    20% {\n",
              "      border-color: transparent;\n",
              "      border-left-color: var(--fill-color);\n",
              "      border-top-color: var(--fill-color);\n",
              "    }\n",
              "    30% {\n",
              "      border-color: transparent;\n",
              "      border-left-color: var(--fill-color);\n",
              "      border-top-color: var(--fill-color);\n",
              "      border-right-color: var(--fill-color);\n",
              "    }\n",
              "    40% {\n",
              "      border-color: transparent;\n",
              "      border-right-color: var(--fill-color);\n",
              "      border-top-color: var(--fill-color);\n",
              "    }\n",
              "    60% {\n",
              "      border-color: transparent;\n",
              "      border-right-color: var(--fill-color);\n",
              "    }\n",
              "    80% {\n",
              "      border-color: transparent;\n",
              "      border-right-color: var(--fill-color);\n",
              "      border-bottom-color: var(--fill-color);\n",
              "    }\n",
              "    90% {\n",
              "      border-color: transparent;\n",
              "      border-bottom-color: var(--fill-color);\n",
              "    }\n",
              "  }\n",
              "</style>\n",
              "\n",
              "  <script>\n",
              "    async function quickchart(key) {\n",
              "      const quickchartButtonEl =\n",
              "        document.querySelector('#' + key + ' button');\n",
              "      quickchartButtonEl.disabled = true;  // To prevent multiple clicks.\n",
              "      quickchartButtonEl.classList.add('colab-df-spinner');\n",
              "      try {\n",
              "        const charts = await google.colab.kernel.invokeFunction(\n",
              "            'suggestCharts', [key], {});\n",
              "      } catch (error) {\n",
              "        console.error('Error during call to suggestCharts:', error);\n",
              "      }\n",
              "      quickchartButtonEl.classList.remove('colab-df-spinner');\n",
              "      quickchartButtonEl.classList.add('colab-df-quickchart-complete');\n",
              "    }\n",
              "    (() => {\n",
              "      let quickchartButtonEl =\n",
              "        document.querySelector('#df-4bb3a613-9524-48a8-9c20-3972289c1e19 button');\n",
              "      quickchartButtonEl.style.display =\n",
              "        google.colab.kernel.accessAllowed ? 'block' : 'none';\n",
              "    })();\n",
              "  </script>\n",
              "</div>\n",
              "    </div>\n",
              "  </div>\n"
            ],
            "application/vnd.google.colaboratory.intrinsic+json": {
              "type": "dataframe",
              "variable_name": "hd",
              "summary": "{\n  \"name\": \"hd\",\n  \"rows\": 303,\n  \"fields\": [\n    {\n      \"column\": \"age\",\n      \"properties\": {\n        \"dtype\": \"number\",\n        \"std\": 9,\n        \"min\": 29,\n        \"max\": 77,\n        \"num_unique_values\": 41,\n        \"samples\": [\n          46,\n          66,\n          48\n        ],\n        \"semantic_type\": \"\",\n        \"description\": \"\"\n      }\n    },\n    {\n      \"column\": \"sex\",\n      \"properties\": {\n        \"dtype\": \"number\",\n        \"std\": 0,\n        \"min\": 0,\n        \"max\": 1,\n        \"num_unique_values\": 2,\n        \"samples\": [\n          0,\n          1\n        ],\n        \"semantic_type\": \"\",\n        \"description\": \"\"\n      }\n    },\n    {\n      \"column\": \"cp\",\n      \"properties\": {\n        \"dtype\": \"number\",\n        \"std\": 1,\n        \"min\": 0,\n        \"max\": 3,\n        \"num_unique_values\": 4,\n        \"samples\": [\n          2,\n          0\n        ],\n        \"semantic_type\": \"\",\n        \"description\": \"\"\n      }\n    },\n    {\n      \"column\": \"trestbps\",\n      \"properties\": {\n        \"dtype\": \"number\",\n        \"std\": 17,\n        \"min\": 94,\n        \"max\": 200,\n        \"num_unique_values\": 49,\n        \"samples\": [\n          104,\n          123\n        ],\n        \"semantic_type\": \"\",\n        \"description\": \"\"\n      }\n    },\n    {\n      \"column\": \"chol\",\n      \"properties\": {\n        \"dtype\": \"number\",\n        \"std\": 51,\n        \"min\": 126,\n        \"max\": 564,\n        \"num_unique_values\": 152,\n        \"samples\": [\n          277,\n          169\n        ],\n        \"semantic_type\": \"\",\n        \"description\": \"\"\n      }\n    },\n    {\n      \"column\": \"fbs\",\n      \"properties\": {\n        \"dtype\": \"number\",\n        \"std\": 0,\n        \"min\": 0,\n        \"max\": 1,\n        \"num_unique_values\": 2,\n        \"samples\": [\n          0,\n          1\n        ],\n        \"semantic_type\": \"\",\n        \"description\": \"\"\n      }\n    },\n    {\n      \"column\": \"restecg\",\n      \"properties\": {\n        \"dtype\": \"number\",\n        \"std\": 0,\n        \"min\": 0,\n        \"max\": 2,\n        \"num_unique_values\": 3,\n        \"samples\": [\n          0,\n          1\n        ],\n        \"semantic_type\": \"\",\n        \"description\": \"\"\n      }\n    },\n    {\n      \"column\": \"thalach\",\n      \"properties\": {\n        \"dtype\": \"number\",\n        \"std\": 22,\n        \"min\": 71,\n        \"max\": 202,\n        \"num_unique_values\": 91,\n        \"samples\": [\n          159,\n          152\n        ],\n        \"semantic_type\": \"\",\n        \"description\": \"\"\n      }\n    },\n    {\n      \"column\": \"exang\",\n      \"properties\": {\n        \"dtype\": \"number\",\n        \"std\": 0,\n        \"min\": 0,\n        \"max\": 1,\n        \"num_unique_values\": 2,\n        \"samples\": [\n          1,\n          0\n        ],\n        \"semantic_type\": \"\",\n        \"description\": \"\"\n      }\n    },\n    {\n      \"column\": \"oldpeak\",\n      \"properties\": {\n        \"dtype\": \"number\",\n        \"std\": 1.1610750220686348,\n        \"min\": 0.0,\n        \"max\": 6.2,\n        \"num_unique_values\": 40,\n        \"samples\": [\n          1.9,\n          3.0\n        ],\n        \"semantic_type\": \"\",\n        \"description\": \"\"\n      }\n    },\n    {\n      \"column\": \"slope\",\n      \"properties\": {\n        \"dtype\": \"number\",\n        \"std\": 0,\n        \"min\": 0,\n        \"max\": 2,\n        \"num_unique_values\": 3,\n        \"samples\": [\n          0,\n          2\n        ],\n        \"semantic_type\": \"\",\n        \"description\": \"\"\n      }\n    },\n    {\n      \"column\": \"ca\",\n      \"properties\": {\n        \"dtype\": \"number\",\n        \"std\": 1,\n        \"min\": 0,\n        \"max\": 4,\n        \"num_unique_values\": 5,\n        \"samples\": [\n          2,\n          4\n        ],\n        \"semantic_type\": \"\",\n        \"description\": \"\"\n      }\n    },\n    {\n      \"column\": \"thal\",\n      \"properties\": {\n        \"dtype\": \"number\",\n        \"std\": 0,\n        \"min\": 0,\n        \"max\": 3,\n        \"num_unique_values\": 4,\n        \"samples\": [\n          2,\n          0\n        ],\n        \"semantic_type\": \"\",\n        \"description\": \"\"\n      }\n    },\n    {\n      \"column\": \"target\",\n      \"properties\": {\n        \"dtype\": \"number\",\n        \"std\": 0,\n        \"min\": 0,\n        \"max\": 1,\n        \"num_unique_values\": 2,\n        \"samples\": [\n          0,\n          1\n        ],\n        \"semantic_type\": \"\",\n        \"description\": \"\"\n      }\n    }\n  ]\n}"
            }
          },
          "metadata": {},
          "execution_count": 23
        }
      ]
    },
    {
      "cell_type": "markdown",
      "source": [
        "### Baseline Model"
      ],
      "metadata": {
        "id": "prz6hA8NqHa5"
      }
    },
    {
      "cell_type": "code",
      "source": [
        "#import model\n",
        "from sklearn.ensemble import RandomForestClassifier\n",
        "\n",
        "#importing metrics\n",
        "from sklearn.metrics import classification_report, confusion_matrix\n",
        "from sklearn.metrics import accuracy_score, precision_score, recall_score, f1_score\n"
      ],
      "metadata": {
        "id": "uO2pLsDp35e_"
      },
      "execution_count": 24,
      "outputs": []
    },
    {
      "cell_type": "markdown",
      "source": [
        "**Create Data for training - *Features* - (X) and Ground Truth Values - *Labels* (y)**"
      ],
      "metadata": {
        "id": "Vh_z_SS2DHtX"
      }
    },
    {
      "cell_type": "code",
      "source": [
        "# Create X (all the feature columns)\n",
        "X = hd.drop(\"target\", axis=1)\n",
        "\n",
        "# Create y (the target column)\n",
        "y = hd[\"target\"]\n",
        "\n",
        "# Check the head of the features DataFrame\n",
        "X.head()"
      ],
      "metadata": {
        "id": "foK6ChpJDD-x",
        "colab": {
          "base_uri": "https://localhost:8080/",
          "height": 206
        },
        "outputId": "73720b4a-c50d-4089-c6f2-31fe13b72b50"
      },
      "execution_count": 25,
      "outputs": [
        {
          "output_type": "execute_result",
          "data": {
            "text/plain": [
              "   age  sex  cp  trestbps  chol  fbs  restecg  thalach  exang  oldpeak  slope  \\\n",
              "0   63    1   3       145   233    1        0      150      0      2.3      0   \n",
              "1   37    1   2       130   250    0        1      187      0      3.5      0   \n",
              "2   41    0   1       130   204    0        0      172      0      1.4      2   \n",
              "3   56    1   1       120   236    0        1      178      0      0.8      2   \n",
              "4   57    0   0       120   354    0        1      163      1      0.6      2   \n",
              "\n",
              "   ca  thal  \n",
              "0   0     1  \n",
              "1   0     2  \n",
              "2   0     2  \n",
              "3   0     2  \n",
              "4   0     2  "
            ],
            "text/html": [
              "\n",
              "  <div id=\"df-8e79a0a8-71c2-4b54-8b41-ee8214fc13f1\" class=\"colab-df-container\">\n",
              "    <div>\n",
              "<style scoped>\n",
              "    .dataframe tbody tr th:only-of-type {\n",
              "        vertical-align: middle;\n",
              "    }\n",
              "\n",
              "    .dataframe tbody tr th {\n",
              "        vertical-align: top;\n",
              "    }\n",
              "\n",
              "    .dataframe thead th {\n",
              "        text-align: right;\n",
              "    }\n",
              "</style>\n",
              "<table border=\"1\" class=\"dataframe\">\n",
              "  <thead>\n",
              "    <tr style=\"text-align: right;\">\n",
              "      <th></th>\n",
              "      <th>age</th>\n",
              "      <th>sex</th>\n",
              "      <th>cp</th>\n",
              "      <th>trestbps</th>\n",
              "      <th>chol</th>\n",
              "      <th>fbs</th>\n",
              "      <th>restecg</th>\n",
              "      <th>thalach</th>\n",
              "      <th>exang</th>\n",
              "      <th>oldpeak</th>\n",
              "      <th>slope</th>\n",
              "      <th>ca</th>\n",
              "      <th>thal</th>\n",
              "    </tr>\n",
              "  </thead>\n",
              "  <tbody>\n",
              "    <tr>\n",
              "      <th>0</th>\n",
              "      <td>63</td>\n",
              "      <td>1</td>\n",
              "      <td>3</td>\n",
              "      <td>145</td>\n",
              "      <td>233</td>\n",
              "      <td>1</td>\n",
              "      <td>0</td>\n",
              "      <td>150</td>\n",
              "      <td>0</td>\n",
              "      <td>2.3</td>\n",
              "      <td>0</td>\n",
              "      <td>0</td>\n",
              "      <td>1</td>\n",
              "    </tr>\n",
              "    <tr>\n",
              "      <th>1</th>\n",
              "      <td>37</td>\n",
              "      <td>1</td>\n",
              "      <td>2</td>\n",
              "      <td>130</td>\n",
              "      <td>250</td>\n",
              "      <td>0</td>\n",
              "      <td>1</td>\n",
              "      <td>187</td>\n",
              "      <td>0</td>\n",
              "      <td>3.5</td>\n",
              "      <td>0</td>\n",
              "      <td>0</td>\n",
              "      <td>2</td>\n",
              "    </tr>\n",
              "    <tr>\n",
              "      <th>2</th>\n",
              "      <td>41</td>\n",
              "      <td>0</td>\n",
              "      <td>1</td>\n",
              "      <td>130</td>\n",
              "      <td>204</td>\n",
              "      <td>0</td>\n",
              "      <td>0</td>\n",
              "      <td>172</td>\n",
              "      <td>0</td>\n",
              "      <td>1.4</td>\n",
              "      <td>2</td>\n",
              "      <td>0</td>\n",
              "      <td>2</td>\n",
              "    </tr>\n",
              "    <tr>\n",
              "      <th>3</th>\n",
              "      <td>56</td>\n",
              "      <td>1</td>\n",
              "      <td>1</td>\n",
              "      <td>120</td>\n",
              "      <td>236</td>\n",
              "      <td>0</td>\n",
              "      <td>1</td>\n",
              "      <td>178</td>\n",
              "      <td>0</td>\n",
              "      <td>0.8</td>\n",
              "      <td>2</td>\n",
              "      <td>0</td>\n",
              "      <td>2</td>\n",
              "    </tr>\n",
              "    <tr>\n",
              "      <th>4</th>\n",
              "      <td>57</td>\n",
              "      <td>0</td>\n",
              "      <td>0</td>\n",
              "      <td>120</td>\n",
              "      <td>354</td>\n",
              "      <td>0</td>\n",
              "      <td>1</td>\n",
              "      <td>163</td>\n",
              "      <td>1</td>\n",
              "      <td>0.6</td>\n",
              "      <td>2</td>\n",
              "      <td>0</td>\n",
              "      <td>2</td>\n",
              "    </tr>\n",
              "  </tbody>\n",
              "</table>\n",
              "</div>\n",
              "    <div class=\"colab-df-buttons\">\n",
              "\n",
              "  <div class=\"colab-df-container\">\n",
              "    <button class=\"colab-df-convert\" onclick=\"convertToInteractive('df-8e79a0a8-71c2-4b54-8b41-ee8214fc13f1')\"\n",
              "            title=\"Convert this dataframe to an interactive table.\"\n",
              "            style=\"display:none;\">\n",
              "\n",
              "  <svg xmlns=\"http://www.w3.org/2000/svg\" height=\"24px\" viewBox=\"0 -960 960 960\">\n",
              "    <path d=\"M120-120v-720h720v720H120Zm60-500h600v-160H180v160Zm220 220h160v-160H400v160Zm0 220h160v-160H400v160ZM180-400h160v-160H180v160Zm440 0h160v-160H620v160ZM180-180h160v-160H180v160Zm440 0h160v-160H620v160Z\"/>\n",
              "  </svg>\n",
              "    </button>\n",
              "\n",
              "  <style>\n",
              "    .colab-df-container {\n",
              "      display:flex;\n",
              "      gap: 12px;\n",
              "    }\n",
              "\n",
              "    .colab-df-convert {\n",
              "      background-color: #E8F0FE;\n",
              "      border: none;\n",
              "      border-radius: 50%;\n",
              "      cursor: pointer;\n",
              "      display: none;\n",
              "      fill: #1967D2;\n",
              "      height: 32px;\n",
              "      padding: 0 0 0 0;\n",
              "      width: 32px;\n",
              "    }\n",
              "\n",
              "    .colab-df-convert:hover {\n",
              "      background-color: #E2EBFA;\n",
              "      box-shadow: 0px 1px 2px rgba(60, 64, 67, 0.3), 0px 1px 3px 1px rgba(60, 64, 67, 0.15);\n",
              "      fill: #174EA6;\n",
              "    }\n",
              "\n",
              "    .colab-df-buttons div {\n",
              "      margin-bottom: 4px;\n",
              "    }\n",
              "\n",
              "    [theme=dark] .colab-df-convert {\n",
              "      background-color: #3B4455;\n",
              "      fill: #D2E3FC;\n",
              "    }\n",
              "\n",
              "    [theme=dark] .colab-df-convert:hover {\n",
              "      background-color: #434B5C;\n",
              "      box-shadow: 0px 1px 3px 1px rgba(0, 0, 0, 0.15);\n",
              "      filter: drop-shadow(0px 1px 2px rgba(0, 0, 0, 0.3));\n",
              "      fill: #FFFFFF;\n",
              "    }\n",
              "  </style>\n",
              "\n",
              "    <script>\n",
              "      const buttonEl =\n",
              "        document.querySelector('#df-8e79a0a8-71c2-4b54-8b41-ee8214fc13f1 button.colab-df-convert');\n",
              "      buttonEl.style.display =\n",
              "        google.colab.kernel.accessAllowed ? 'block' : 'none';\n",
              "\n",
              "      async function convertToInteractive(key) {\n",
              "        const element = document.querySelector('#df-8e79a0a8-71c2-4b54-8b41-ee8214fc13f1');\n",
              "        const dataTable =\n",
              "          await google.colab.kernel.invokeFunction('convertToInteractive',\n",
              "                                                    [key], {});\n",
              "        if (!dataTable) return;\n",
              "\n",
              "        const docLinkHtml = 'Like what you see? Visit the ' +\n",
              "          '<a target=\"_blank\" href=https://colab.research.google.com/notebooks/data_table.ipynb>data table notebook</a>'\n",
              "          + ' to learn more about interactive tables.';\n",
              "        element.innerHTML = '';\n",
              "        dataTable['output_type'] = 'display_data';\n",
              "        await google.colab.output.renderOutput(dataTable, element);\n",
              "        const docLink = document.createElement('div');\n",
              "        docLink.innerHTML = docLinkHtml;\n",
              "        element.appendChild(docLink);\n",
              "      }\n",
              "    </script>\n",
              "  </div>\n",
              "\n",
              "\n",
              "<div id=\"df-6ea85d3e-78c2-4567-b056-40da80c2e60e\">\n",
              "  <button class=\"colab-df-quickchart\" onclick=\"quickchart('df-6ea85d3e-78c2-4567-b056-40da80c2e60e')\"\n",
              "            title=\"Suggest charts\"\n",
              "            style=\"display:none;\">\n",
              "\n",
              "<svg xmlns=\"http://www.w3.org/2000/svg\" height=\"24px\"viewBox=\"0 0 24 24\"\n",
              "     width=\"24px\">\n",
              "    <g>\n",
              "        <path d=\"M19 3H5c-1.1 0-2 .9-2 2v14c0 1.1.9 2 2 2h14c1.1 0 2-.9 2-2V5c0-1.1-.9-2-2-2zM9 17H7v-7h2v7zm4 0h-2V7h2v10zm4 0h-2v-4h2v4z\"/>\n",
              "    </g>\n",
              "</svg>\n",
              "  </button>\n",
              "\n",
              "<style>\n",
              "  .colab-df-quickchart {\n",
              "      --bg-color: #E8F0FE;\n",
              "      --fill-color: #1967D2;\n",
              "      --hover-bg-color: #E2EBFA;\n",
              "      --hover-fill-color: #174EA6;\n",
              "      --disabled-fill-color: #AAA;\n",
              "      --disabled-bg-color: #DDD;\n",
              "  }\n",
              "\n",
              "  [theme=dark] .colab-df-quickchart {\n",
              "      --bg-color: #3B4455;\n",
              "      --fill-color: #D2E3FC;\n",
              "      --hover-bg-color: #434B5C;\n",
              "      --hover-fill-color: #FFFFFF;\n",
              "      --disabled-bg-color: #3B4455;\n",
              "      --disabled-fill-color: #666;\n",
              "  }\n",
              "\n",
              "  .colab-df-quickchart {\n",
              "    background-color: var(--bg-color);\n",
              "    border: none;\n",
              "    border-radius: 50%;\n",
              "    cursor: pointer;\n",
              "    display: none;\n",
              "    fill: var(--fill-color);\n",
              "    height: 32px;\n",
              "    padding: 0;\n",
              "    width: 32px;\n",
              "  }\n",
              "\n",
              "  .colab-df-quickchart:hover {\n",
              "    background-color: var(--hover-bg-color);\n",
              "    box-shadow: 0 1px 2px rgba(60, 64, 67, 0.3), 0 1px 3px 1px rgba(60, 64, 67, 0.15);\n",
              "    fill: var(--button-hover-fill-color);\n",
              "  }\n",
              "\n",
              "  .colab-df-quickchart-complete:disabled,\n",
              "  .colab-df-quickchart-complete:disabled:hover {\n",
              "    background-color: var(--disabled-bg-color);\n",
              "    fill: var(--disabled-fill-color);\n",
              "    box-shadow: none;\n",
              "  }\n",
              "\n",
              "  .colab-df-spinner {\n",
              "    border: 2px solid var(--fill-color);\n",
              "    border-color: transparent;\n",
              "    border-bottom-color: var(--fill-color);\n",
              "    animation:\n",
              "      spin 1s steps(1) infinite;\n",
              "  }\n",
              "\n",
              "  @keyframes spin {\n",
              "    0% {\n",
              "      border-color: transparent;\n",
              "      border-bottom-color: var(--fill-color);\n",
              "      border-left-color: var(--fill-color);\n",
              "    }\n",
              "    20% {\n",
              "      border-color: transparent;\n",
              "      border-left-color: var(--fill-color);\n",
              "      border-top-color: var(--fill-color);\n",
              "    }\n",
              "    30% {\n",
              "      border-color: transparent;\n",
              "      border-left-color: var(--fill-color);\n",
              "      border-top-color: var(--fill-color);\n",
              "      border-right-color: var(--fill-color);\n",
              "    }\n",
              "    40% {\n",
              "      border-color: transparent;\n",
              "      border-right-color: var(--fill-color);\n",
              "      border-top-color: var(--fill-color);\n",
              "    }\n",
              "    60% {\n",
              "      border-color: transparent;\n",
              "      border-right-color: var(--fill-color);\n",
              "    }\n",
              "    80% {\n",
              "      border-color: transparent;\n",
              "      border-right-color: var(--fill-color);\n",
              "      border-bottom-color: var(--fill-color);\n",
              "    }\n",
              "    90% {\n",
              "      border-color: transparent;\n",
              "      border-bottom-color: var(--fill-color);\n",
              "    }\n",
              "  }\n",
              "</style>\n",
              "\n",
              "  <script>\n",
              "    async function quickchart(key) {\n",
              "      const quickchartButtonEl =\n",
              "        document.querySelector('#' + key + ' button');\n",
              "      quickchartButtonEl.disabled = true;  // To prevent multiple clicks.\n",
              "      quickchartButtonEl.classList.add('colab-df-spinner');\n",
              "      try {\n",
              "        const charts = await google.colab.kernel.invokeFunction(\n",
              "            'suggestCharts', [key], {});\n",
              "      } catch (error) {\n",
              "        console.error('Error during call to suggestCharts:', error);\n",
              "      }\n",
              "      quickchartButtonEl.classList.remove('colab-df-spinner');\n",
              "      quickchartButtonEl.classList.add('colab-df-quickchart-complete');\n",
              "    }\n",
              "    (() => {\n",
              "      let quickchartButtonEl =\n",
              "        document.querySelector('#df-6ea85d3e-78c2-4567-b056-40da80c2e60e button');\n",
              "      quickchartButtonEl.style.display =\n",
              "        google.colab.kernel.accessAllowed ? 'block' : 'none';\n",
              "    })();\n",
              "  </script>\n",
              "</div>\n",
              "    </div>\n",
              "  </div>\n"
            ],
            "application/vnd.google.colaboratory.intrinsic+json": {
              "type": "dataframe",
              "variable_name": "X",
              "summary": "{\n  \"name\": \"X\",\n  \"rows\": 303,\n  \"fields\": [\n    {\n      \"column\": \"age\",\n      \"properties\": {\n        \"dtype\": \"number\",\n        \"std\": 9,\n        \"min\": 29,\n        \"max\": 77,\n        \"num_unique_values\": 41,\n        \"samples\": [\n          46,\n          66,\n          48\n        ],\n        \"semantic_type\": \"\",\n        \"description\": \"\"\n      }\n    },\n    {\n      \"column\": \"sex\",\n      \"properties\": {\n        \"dtype\": \"number\",\n        \"std\": 0,\n        \"min\": 0,\n        \"max\": 1,\n        \"num_unique_values\": 2,\n        \"samples\": [\n          0,\n          1\n        ],\n        \"semantic_type\": \"\",\n        \"description\": \"\"\n      }\n    },\n    {\n      \"column\": \"cp\",\n      \"properties\": {\n        \"dtype\": \"number\",\n        \"std\": 1,\n        \"min\": 0,\n        \"max\": 3,\n        \"num_unique_values\": 4,\n        \"samples\": [\n          2,\n          0\n        ],\n        \"semantic_type\": \"\",\n        \"description\": \"\"\n      }\n    },\n    {\n      \"column\": \"trestbps\",\n      \"properties\": {\n        \"dtype\": \"number\",\n        \"std\": 17,\n        \"min\": 94,\n        \"max\": 200,\n        \"num_unique_values\": 49,\n        \"samples\": [\n          104,\n          123\n        ],\n        \"semantic_type\": \"\",\n        \"description\": \"\"\n      }\n    },\n    {\n      \"column\": \"chol\",\n      \"properties\": {\n        \"dtype\": \"number\",\n        \"std\": 51,\n        \"min\": 126,\n        \"max\": 564,\n        \"num_unique_values\": 152,\n        \"samples\": [\n          277,\n          169\n        ],\n        \"semantic_type\": \"\",\n        \"description\": \"\"\n      }\n    },\n    {\n      \"column\": \"fbs\",\n      \"properties\": {\n        \"dtype\": \"number\",\n        \"std\": 0,\n        \"min\": 0,\n        \"max\": 1,\n        \"num_unique_values\": 2,\n        \"samples\": [\n          0,\n          1\n        ],\n        \"semantic_type\": \"\",\n        \"description\": \"\"\n      }\n    },\n    {\n      \"column\": \"restecg\",\n      \"properties\": {\n        \"dtype\": \"number\",\n        \"std\": 0,\n        \"min\": 0,\n        \"max\": 2,\n        \"num_unique_values\": 3,\n        \"samples\": [\n          0,\n          1\n        ],\n        \"semantic_type\": \"\",\n        \"description\": \"\"\n      }\n    },\n    {\n      \"column\": \"thalach\",\n      \"properties\": {\n        \"dtype\": \"number\",\n        \"std\": 22,\n        \"min\": 71,\n        \"max\": 202,\n        \"num_unique_values\": 91,\n        \"samples\": [\n          159,\n          152\n        ],\n        \"semantic_type\": \"\",\n        \"description\": \"\"\n      }\n    },\n    {\n      \"column\": \"exang\",\n      \"properties\": {\n        \"dtype\": \"number\",\n        \"std\": 0,\n        \"min\": 0,\n        \"max\": 1,\n        \"num_unique_values\": 2,\n        \"samples\": [\n          1,\n          0\n        ],\n        \"semantic_type\": \"\",\n        \"description\": \"\"\n      }\n    },\n    {\n      \"column\": \"oldpeak\",\n      \"properties\": {\n        \"dtype\": \"number\",\n        \"std\": 1.1610750220686348,\n        \"min\": 0.0,\n        \"max\": 6.2,\n        \"num_unique_values\": 40,\n        \"samples\": [\n          1.9,\n          3.0\n        ],\n        \"semantic_type\": \"\",\n        \"description\": \"\"\n      }\n    },\n    {\n      \"column\": \"slope\",\n      \"properties\": {\n        \"dtype\": \"number\",\n        \"std\": 0,\n        \"min\": 0,\n        \"max\": 2,\n        \"num_unique_values\": 3,\n        \"samples\": [\n          0,\n          2\n        ],\n        \"semantic_type\": \"\",\n        \"description\": \"\"\n      }\n    },\n    {\n      \"column\": \"ca\",\n      \"properties\": {\n        \"dtype\": \"number\",\n        \"std\": 1,\n        \"min\": 0,\n        \"max\": 4,\n        \"num_unique_values\": 5,\n        \"samples\": [\n          2,\n          4\n        ],\n        \"semantic_type\": \"\",\n        \"description\": \"\"\n      }\n    },\n    {\n      \"column\": \"thal\",\n      \"properties\": {\n        \"dtype\": \"number\",\n        \"std\": 0,\n        \"min\": 0,\n        \"max\": 3,\n        \"num_unique_values\": 4,\n        \"samples\": [\n          2,\n          0\n        ],\n        \"semantic_type\": \"\",\n        \"description\": \"\"\n      }\n    }\n  ]\n}"
            }
          },
          "metadata": {},
          "execution_count": 25
        }
      ]
    },
    {
      "cell_type": "code",
      "source": [
        "# Check the head and the value counts of the labels\n",
        "y.head()"
      ],
      "metadata": {
        "id": "-k1DeLrBoEMC",
        "colab": {
          "base_uri": "https://localhost:8080/"
        },
        "outputId": "0e3f9e60-35d3-45e1-8ae7-9b30fbda06e0"
      },
      "execution_count": 26,
      "outputs": [
        {
          "output_type": "execute_result",
          "data": {
            "text/plain": [
              "0    1\n",
              "1    1\n",
              "2    1\n",
              "3    1\n",
              "4    1\n",
              "Name: target, dtype: int64"
            ]
          },
          "metadata": {},
          "execution_count": 26
        }
      ]
    },
    {
      "cell_type": "code",
      "source": [
        "y.value_counts()"
      ],
      "metadata": {
        "id": "QAbBd2QloFsj",
        "colab": {
          "base_uri": "https://localhost:8080/"
        },
        "outputId": "6b91ee74-89e6-4be9-9634-3493a0198b80"
      },
      "execution_count": 27,
      "outputs": [
        {
          "output_type": "execute_result",
          "data": {
            "text/plain": [
              "1    165\n",
              "0    138\n",
              "Name: target, dtype: int64"
            ]
          },
          "metadata": {},
          "execution_count": 27
        }
      ]
    },
    {
      "cell_type": "markdown",
      "source": [
        "**Suppose modeling without split data (Don't do this!)!**"
      ],
      "metadata": {
        "id": "VKKJuDFRgIcf"
      }
    },
    {
      "cell_type": "code",
      "source": [
        "from sklearn.ensemble import RandomForestClassifier\n",
        "\n",
        "rf = RandomForestClassifier()\n",
        "\n",
        "# fit the model on one set of data\n",
        "rf.fit(X, y)\n",
        "\n",
        "# evaluate the model on the second set of data\n",
        "y_model = rf.predict(X)\n",
        "\n",
        "accuracy_score(y, y_model)"
      ],
      "metadata": {
        "id": "lx2UzpaCgHWU",
        "colab": {
          "base_uri": "https://localhost:8080/"
        },
        "outputId": "e1a32bee-7558-475c-8059-a4a989de13f2"
      },
      "execution_count": 28,
      "outputs": [
        {
          "output_type": "execute_result",
          "data": {
            "text/plain": [
              "1.0"
            ]
          },
          "metadata": {},
          "execution_count": 28
        }
      ]
    },
    {
      "cell_type": "markdown",
      "source": [
        "**Split dataset**"
      ],
      "metadata": {
        "id": "t5sTWBbHrQAO"
      }
    },
    {
      "cell_type": "code",
      "source": [
        "# Split the data into training and test sets\n",
        "from sklearn.model_selection import train_test_split\n",
        "\n",
        "X_train, X_test, y_train, y_test = train_test_split(X,\n",
        "                                                    y,\n",
        "                                                    test_size=0.3) # by default train_test_split uses 25% of the data for the test set\n",
        "\n",
        "X_train.shape, X_test.shape, y_train.shape, y_test.shape"
      ],
      "metadata": {
        "id": "RBQsuIGQrSYz",
        "colab": {
          "base_uri": "https://localhost:8080/"
        },
        "outputId": "deb2534f-73af-4292-c563-1748f82474e9"
      },
      "execution_count": 29,
      "outputs": [
        {
          "output_type": "execute_result",
          "data": {
            "text/plain": [
              "((212, 13), (91, 13), (212,), (91,))"
            ]
          },
          "metadata": {},
          "execution_count": 29
        }
      ]
    },
    {
      "cell_type": "code",
      "source": [
        "# Check the sizes of the splits\n",
        "print(f\"Training data: {len(X_train)} samples, {len(y_train)} labels\")\n",
        "print(f\"Validation data: {len(X_test)} samples, {len(y_test)} labels\")"
      ],
      "metadata": {
        "id": "xtHiEUwzaT_X",
        "colab": {
          "base_uri": "https://localhost:8080/"
        },
        "outputId": "ea0143b0-ad85-4aea-aa02-434b73b5372f"
      },
      "execution_count": 30,
      "outputs": [
        {
          "output_type": "stream",
          "name": "stdout",
          "text": [
            "Training data: 212 samples, 212 labels\n",
            "Validation data: 91 samples, 91 labels\n"
          ]
        }
      ]
    },
    {
      "cell_type": "markdown",
      "source": [
        "**Get the Model**"
      ],
      "metadata": {
        "id": "u8Yo_7lerpM1"
      }
    },
    {
      "cell_type": "code",
      "source": [
        "# Since we're working on a classification problem, we'll use a RandomForestClassifier\n",
        "from sklearn.ensemble import RandomForestClassifier\n",
        "\n",
        "rf = RandomForestClassifier()\n"
      ],
      "metadata": {
        "id": "6Qkn0OiQrCPl"
      },
      "execution_count": 31,
      "outputs": []
    },
    {
      "cell_type": "markdown",
      "source": [
        "**Train the Model**"
      ],
      "metadata": {
        "id": "0BjccztAd0Qe"
      }
    },
    {
      "cell_type": "code",
      "source": [
        "rf.fit(X_train,y_train)"
      ],
      "metadata": {
        "id": "lYqMeYgId7Nh",
        "colab": {
          "base_uri": "https://localhost:8080/",
          "height": 75
        },
        "outputId": "ee3a6df1-c553-4a32-c52b-fd712068dc9d"
      },
      "execution_count": 32,
      "outputs": [
        {
          "output_type": "execute_result",
          "data": {
            "text/plain": [
              "RandomForestClassifier()"
            ],
            "text/html": [
              "<style>#sk-container-id-1 {color: black;background-color: white;}#sk-container-id-1 pre{padding: 0;}#sk-container-id-1 div.sk-toggleable {background-color: white;}#sk-container-id-1 label.sk-toggleable__label {cursor: pointer;display: block;width: 100%;margin-bottom: 0;padding: 0.3em;box-sizing: border-box;text-align: center;}#sk-container-id-1 label.sk-toggleable__label-arrow:before {content: \"▸\";float: left;margin-right: 0.25em;color: #696969;}#sk-container-id-1 label.sk-toggleable__label-arrow:hover:before {color: black;}#sk-container-id-1 div.sk-estimator:hover label.sk-toggleable__label-arrow:before {color: black;}#sk-container-id-1 div.sk-toggleable__content {max-height: 0;max-width: 0;overflow: hidden;text-align: left;background-color: #f0f8ff;}#sk-container-id-1 div.sk-toggleable__content pre {margin: 0.2em;color: black;border-radius: 0.25em;background-color: #f0f8ff;}#sk-container-id-1 input.sk-toggleable__control:checked~div.sk-toggleable__content {max-height: 200px;max-width: 100%;overflow: auto;}#sk-container-id-1 input.sk-toggleable__control:checked~label.sk-toggleable__label-arrow:before {content: \"▾\";}#sk-container-id-1 div.sk-estimator input.sk-toggleable__control:checked~label.sk-toggleable__label {background-color: #d4ebff;}#sk-container-id-1 div.sk-label input.sk-toggleable__control:checked~label.sk-toggleable__label {background-color: #d4ebff;}#sk-container-id-1 input.sk-hidden--visually {border: 0;clip: rect(1px 1px 1px 1px);clip: rect(1px, 1px, 1px, 1px);height: 1px;margin: -1px;overflow: hidden;padding: 0;position: absolute;width: 1px;}#sk-container-id-1 div.sk-estimator {font-family: monospace;background-color: #f0f8ff;border: 1px dotted black;border-radius: 0.25em;box-sizing: border-box;margin-bottom: 0.5em;}#sk-container-id-1 div.sk-estimator:hover {background-color: #d4ebff;}#sk-container-id-1 div.sk-parallel-item::after {content: \"\";width: 100%;border-bottom: 1px solid gray;flex-grow: 1;}#sk-container-id-1 div.sk-label:hover label.sk-toggleable__label {background-color: #d4ebff;}#sk-container-id-1 div.sk-serial::before {content: \"\";position: absolute;border-left: 1px solid gray;box-sizing: border-box;top: 0;bottom: 0;left: 50%;z-index: 0;}#sk-container-id-1 div.sk-serial {display: flex;flex-direction: column;align-items: center;background-color: white;padding-right: 0.2em;padding-left: 0.2em;position: relative;}#sk-container-id-1 div.sk-item {position: relative;z-index: 1;}#sk-container-id-1 div.sk-parallel {display: flex;align-items: stretch;justify-content: center;background-color: white;position: relative;}#sk-container-id-1 div.sk-item::before, #sk-container-id-1 div.sk-parallel-item::before {content: \"\";position: absolute;border-left: 1px solid gray;box-sizing: border-box;top: 0;bottom: 0;left: 50%;z-index: -1;}#sk-container-id-1 div.sk-parallel-item {display: flex;flex-direction: column;z-index: 1;position: relative;background-color: white;}#sk-container-id-1 div.sk-parallel-item:first-child::after {align-self: flex-end;width: 50%;}#sk-container-id-1 div.sk-parallel-item:last-child::after {align-self: flex-start;width: 50%;}#sk-container-id-1 div.sk-parallel-item:only-child::after {width: 0;}#sk-container-id-1 div.sk-dashed-wrapped {border: 1px dashed gray;margin: 0 0.4em 0.5em 0.4em;box-sizing: border-box;padding-bottom: 0.4em;background-color: white;}#sk-container-id-1 div.sk-label label {font-family: monospace;font-weight: bold;display: inline-block;line-height: 1.2em;}#sk-container-id-1 div.sk-label-container {text-align: center;}#sk-container-id-1 div.sk-container {/* jupyter's `normalize.less` sets `[hidden] { display: none; }` but bootstrap.min.css set `[hidden] { display: none !important; }` so we also need the `!important` here to be able to override the default hidden behavior on the sphinx rendered scikit-learn.org. See: https://github.com/scikit-learn/scikit-learn/issues/21755 */display: inline-block !important;position: relative;}#sk-container-id-1 div.sk-text-repr-fallback {display: none;}</style><div id=\"sk-container-id-1\" class=\"sk-top-container\"><div class=\"sk-text-repr-fallback\"><pre>RandomForestClassifier()</pre><b>In a Jupyter environment, please rerun this cell to show the HTML representation or trust the notebook. <br />On GitHub, the HTML representation is unable to render, please try loading this page with nbviewer.org.</b></div><div class=\"sk-container\" hidden><div class=\"sk-item\"><div class=\"sk-estimator sk-toggleable\"><input class=\"sk-toggleable__control sk-hidden--visually\" id=\"sk-estimator-id-1\" type=\"checkbox\" checked><label for=\"sk-estimator-id-1\" class=\"sk-toggleable__label sk-toggleable__label-arrow\">RandomForestClassifier</label><div class=\"sk-toggleable__content\"><pre>RandomForestClassifier()</pre></div></div></div></div></div>"
            ]
          },
          "metadata": {},
          "execution_count": 32
        }
      ]
    },
    {
      "cell_type": "code",
      "source": [
        "X_test.head()"
      ],
      "metadata": {
        "id": "mX9wRRbha8zJ",
        "colab": {
          "base_uri": "https://localhost:8080/",
          "height": 206
        },
        "outputId": "a48f0550-528b-4d6b-9d86-4cbcef9e3548"
      },
      "execution_count": 33,
      "outputs": [
        {
          "output_type": "execute_result",
          "data": {
            "text/plain": [
              "     age  sex  cp  trestbps  chol  fbs  restecg  thalach  exang  oldpeak  \\\n",
              "199   65    1   0       110   248    0        0      158      0      0.6   \n",
              "25    71    0   1       160   302    0        1      162      0      0.4   \n",
              "16    58    0   2       120   340    0        1      172      0      0.0   \n",
              "245   48    1   0       124   274    0        0      166      0      0.5   \n",
              "176   60    1   0       117   230    1        1      160      1      1.4   \n",
              "\n",
              "     slope  ca  thal  \n",
              "199      2   2     1  \n",
              "25       2   2     2  \n",
              "16       2   0     2  \n",
              "245      1   0     3  \n",
              "176      2   2     3  "
            ],
            "text/html": [
              "\n",
              "  <div id=\"df-a6205d64-1a05-4069-86bf-a1f21b74408b\" class=\"colab-df-container\">\n",
              "    <div>\n",
              "<style scoped>\n",
              "    .dataframe tbody tr th:only-of-type {\n",
              "        vertical-align: middle;\n",
              "    }\n",
              "\n",
              "    .dataframe tbody tr th {\n",
              "        vertical-align: top;\n",
              "    }\n",
              "\n",
              "    .dataframe thead th {\n",
              "        text-align: right;\n",
              "    }\n",
              "</style>\n",
              "<table border=\"1\" class=\"dataframe\">\n",
              "  <thead>\n",
              "    <tr style=\"text-align: right;\">\n",
              "      <th></th>\n",
              "      <th>age</th>\n",
              "      <th>sex</th>\n",
              "      <th>cp</th>\n",
              "      <th>trestbps</th>\n",
              "      <th>chol</th>\n",
              "      <th>fbs</th>\n",
              "      <th>restecg</th>\n",
              "      <th>thalach</th>\n",
              "      <th>exang</th>\n",
              "      <th>oldpeak</th>\n",
              "      <th>slope</th>\n",
              "      <th>ca</th>\n",
              "      <th>thal</th>\n",
              "    </tr>\n",
              "  </thead>\n",
              "  <tbody>\n",
              "    <tr>\n",
              "      <th>199</th>\n",
              "      <td>65</td>\n",
              "      <td>1</td>\n",
              "      <td>0</td>\n",
              "      <td>110</td>\n",
              "      <td>248</td>\n",
              "      <td>0</td>\n",
              "      <td>0</td>\n",
              "      <td>158</td>\n",
              "      <td>0</td>\n",
              "      <td>0.6</td>\n",
              "      <td>2</td>\n",
              "      <td>2</td>\n",
              "      <td>1</td>\n",
              "    </tr>\n",
              "    <tr>\n",
              "      <th>25</th>\n",
              "      <td>71</td>\n",
              "      <td>0</td>\n",
              "      <td>1</td>\n",
              "      <td>160</td>\n",
              "      <td>302</td>\n",
              "      <td>0</td>\n",
              "      <td>1</td>\n",
              "      <td>162</td>\n",
              "      <td>0</td>\n",
              "      <td>0.4</td>\n",
              "      <td>2</td>\n",
              "      <td>2</td>\n",
              "      <td>2</td>\n",
              "    </tr>\n",
              "    <tr>\n",
              "      <th>16</th>\n",
              "      <td>58</td>\n",
              "      <td>0</td>\n",
              "      <td>2</td>\n",
              "      <td>120</td>\n",
              "      <td>340</td>\n",
              "      <td>0</td>\n",
              "      <td>1</td>\n",
              "      <td>172</td>\n",
              "      <td>0</td>\n",
              "      <td>0.0</td>\n",
              "      <td>2</td>\n",
              "      <td>0</td>\n",
              "      <td>2</td>\n",
              "    </tr>\n",
              "    <tr>\n",
              "      <th>245</th>\n",
              "      <td>48</td>\n",
              "      <td>1</td>\n",
              "      <td>0</td>\n",
              "      <td>124</td>\n",
              "      <td>274</td>\n",
              "      <td>0</td>\n",
              "      <td>0</td>\n",
              "      <td>166</td>\n",
              "      <td>0</td>\n",
              "      <td>0.5</td>\n",
              "      <td>1</td>\n",
              "      <td>0</td>\n",
              "      <td>3</td>\n",
              "    </tr>\n",
              "    <tr>\n",
              "      <th>176</th>\n",
              "      <td>60</td>\n",
              "      <td>1</td>\n",
              "      <td>0</td>\n",
              "      <td>117</td>\n",
              "      <td>230</td>\n",
              "      <td>1</td>\n",
              "      <td>1</td>\n",
              "      <td>160</td>\n",
              "      <td>1</td>\n",
              "      <td>1.4</td>\n",
              "      <td>2</td>\n",
              "      <td>2</td>\n",
              "      <td>3</td>\n",
              "    </tr>\n",
              "  </tbody>\n",
              "</table>\n",
              "</div>\n",
              "    <div class=\"colab-df-buttons\">\n",
              "\n",
              "  <div class=\"colab-df-container\">\n",
              "    <button class=\"colab-df-convert\" onclick=\"convertToInteractive('df-a6205d64-1a05-4069-86bf-a1f21b74408b')\"\n",
              "            title=\"Convert this dataframe to an interactive table.\"\n",
              "            style=\"display:none;\">\n",
              "\n",
              "  <svg xmlns=\"http://www.w3.org/2000/svg\" height=\"24px\" viewBox=\"0 -960 960 960\">\n",
              "    <path d=\"M120-120v-720h720v720H120Zm60-500h600v-160H180v160Zm220 220h160v-160H400v160Zm0 220h160v-160H400v160ZM180-400h160v-160H180v160Zm440 0h160v-160H620v160ZM180-180h160v-160H180v160Zm440 0h160v-160H620v160Z\"/>\n",
              "  </svg>\n",
              "    </button>\n",
              "\n",
              "  <style>\n",
              "    .colab-df-container {\n",
              "      display:flex;\n",
              "      gap: 12px;\n",
              "    }\n",
              "\n",
              "    .colab-df-convert {\n",
              "      background-color: #E8F0FE;\n",
              "      border: none;\n",
              "      border-radius: 50%;\n",
              "      cursor: pointer;\n",
              "      display: none;\n",
              "      fill: #1967D2;\n",
              "      height: 32px;\n",
              "      padding: 0 0 0 0;\n",
              "      width: 32px;\n",
              "    }\n",
              "\n",
              "    .colab-df-convert:hover {\n",
              "      background-color: #E2EBFA;\n",
              "      box-shadow: 0px 1px 2px rgba(60, 64, 67, 0.3), 0px 1px 3px 1px rgba(60, 64, 67, 0.15);\n",
              "      fill: #174EA6;\n",
              "    }\n",
              "\n",
              "    .colab-df-buttons div {\n",
              "      margin-bottom: 4px;\n",
              "    }\n",
              "\n",
              "    [theme=dark] .colab-df-convert {\n",
              "      background-color: #3B4455;\n",
              "      fill: #D2E3FC;\n",
              "    }\n",
              "\n",
              "    [theme=dark] .colab-df-convert:hover {\n",
              "      background-color: #434B5C;\n",
              "      box-shadow: 0px 1px 3px 1px rgba(0, 0, 0, 0.15);\n",
              "      filter: drop-shadow(0px 1px 2px rgba(0, 0, 0, 0.3));\n",
              "      fill: #FFFFFF;\n",
              "    }\n",
              "  </style>\n",
              "\n",
              "    <script>\n",
              "      const buttonEl =\n",
              "        document.querySelector('#df-a6205d64-1a05-4069-86bf-a1f21b74408b button.colab-df-convert');\n",
              "      buttonEl.style.display =\n",
              "        google.colab.kernel.accessAllowed ? 'block' : 'none';\n",
              "\n",
              "      async function convertToInteractive(key) {\n",
              "        const element = document.querySelector('#df-a6205d64-1a05-4069-86bf-a1f21b74408b');\n",
              "        const dataTable =\n",
              "          await google.colab.kernel.invokeFunction('convertToInteractive',\n",
              "                                                    [key], {});\n",
              "        if (!dataTable) return;\n",
              "\n",
              "        const docLinkHtml = 'Like what you see? Visit the ' +\n",
              "          '<a target=\"_blank\" href=https://colab.research.google.com/notebooks/data_table.ipynb>data table notebook</a>'\n",
              "          + ' to learn more about interactive tables.';\n",
              "        element.innerHTML = '';\n",
              "        dataTable['output_type'] = 'display_data';\n",
              "        await google.colab.output.renderOutput(dataTable, element);\n",
              "        const docLink = document.createElement('div');\n",
              "        docLink.innerHTML = docLinkHtml;\n",
              "        element.appendChild(docLink);\n",
              "      }\n",
              "    </script>\n",
              "  </div>\n",
              "\n",
              "\n",
              "<div id=\"df-43d5c6ca-66ab-4f50-8b09-8496e6acb0b4\">\n",
              "  <button class=\"colab-df-quickchart\" onclick=\"quickchart('df-43d5c6ca-66ab-4f50-8b09-8496e6acb0b4')\"\n",
              "            title=\"Suggest charts\"\n",
              "            style=\"display:none;\">\n",
              "\n",
              "<svg xmlns=\"http://www.w3.org/2000/svg\" height=\"24px\"viewBox=\"0 0 24 24\"\n",
              "     width=\"24px\">\n",
              "    <g>\n",
              "        <path d=\"M19 3H5c-1.1 0-2 .9-2 2v14c0 1.1.9 2 2 2h14c1.1 0 2-.9 2-2V5c0-1.1-.9-2-2-2zM9 17H7v-7h2v7zm4 0h-2V7h2v10zm4 0h-2v-4h2v4z\"/>\n",
              "    </g>\n",
              "</svg>\n",
              "  </button>\n",
              "\n",
              "<style>\n",
              "  .colab-df-quickchart {\n",
              "      --bg-color: #E8F0FE;\n",
              "      --fill-color: #1967D2;\n",
              "      --hover-bg-color: #E2EBFA;\n",
              "      --hover-fill-color: #174EA6;\n",
              "      --disabled-fill-color: #AAA;\n",
              "      --disabled-bg-color: #DDD;\n",
              "  }\n",
              "\n",
              "  [theme=dark] .colab-df-quickchart {\n",
              "      --bg-color: #3B4455;\n",
              "      --fill-color: #D2E3FC;\n",
              "      --hover-bg-color: #434B5C;\n",
              "      --hover-fill-color: #FFFFFF;\n",
              "      --disabled-bg-color: #3B4455;\n",
              "      --disabled-fill-color: #666;\n",
              "  }\n",
              "\n",
              "  .colab-df-quickchart {\n",
              "    background-color: var(--bg-color);\n",
              "    border: none;\n",
              "    border-radius: 50%;\n",
              "    cursor: pointer;\n",
              "    display: none;\n",
              "    fill: var(--fill-color);\n",
              "    height: 32px;\n",
              "    padding: 0;\n",
              "    width: 32px;\n",
              "  }\n",
              "\n",
              "  .colab-df-quickchart:hover {\n",
              "    background-color: var(--hover-bg-color);\n",
              "    box-shadow: 0 1px 2px rgba(60, 64, 67, 0.3), 0 1px 3px 1px rgba(60, 64, 67, 0.15);\n",
              "    fill: var(--button-hover-fill-color);\n",
              "  }\n",
              "\n",
              "  .colab-df-quickchart-complete:disabled,\n",
              "  .colab-df-quickchart-complete:disabled:hover {\n",
              "    background-color: var(--disabled-bg-color);\n",
              "    fill: var(--disabled-fill-color);\n",
              "    box-shadow: none;\n",
              "  }\n",
              "\n",
              "  .colab-df-spinner {\n",
              "    border: 2px solid var(--fill-color);\n",
              "    border-color: transparent;\n",
              "    border-bottom-color: var(--fill-color);\n",
              "    animation:\n",
              "      spin 1s steps(1) infinite;\n",
              "  }\n",
              "\n",
              "  @keyframes spin {\n",
              "    0% {\n",
              "      border-color: transparent;\n",
              "      border-bottom-color: var(--fill-color);\n",
              "      border-left-color: var(--fill-color);\n",
              "    }\n",
              "    20% {\n",
              "      border-color: transparent;\n",
              "      border-left-color: var(--fill-color);\n",
              "      border-top-color: var(--fill-color);\n",
              "    }\n",
              "    30% {\n",
              "      border-color: transparent;\n",
              "      border-left-color: var(--fill-color);\n",
              "      border-top-color: var(--fill-color);\n",
              "      border-right-color: var(--fill-color);\n",
              "    }\n",
              "    40% {\n",
              "      border-color: transparent;\n",
              "      border-right-color: var(--fill-color);\n",
              "      border-top-color: var(--fill-color);\n",
              "    }\n",
              "    60% {\n",
              "      border-color: transparent;\n",
              "      border-right-color: var(--fill-color);\n",
              "    }\n",
              "    80% {\n",
              "      border-color: transparent;\n",
              "      border-right-color: var(--fill-color);\n",
              "      border-bottom-color: var(--fill-color);\n",
              "    }\n",
              "    90% {\n",
              "      border-color: transparent;\n",
              "      border-bottom-color: var(--fill-color);\n",
              "    }\n",
              "  }\n",
              "</style>\n",
              "\n",
              "  <script>\n",
              "    async function quickchart(key) {\n",
              "      const quickchartButtonEl =\n",
              "        document.querySelector('#' + key + ' button');\n",
              "      quickchartButtonEl.disabled = true;  // To prevent multiple clicks.\n",
              "      quickchartButtonEl.classList.add('colab-df-spinner');\n",
              "      try {\n",
              "        const charts = await google.colab.kernel.invokeFunction(\n",
              "            'suggestCharts', [key], {});\n",
              "      } catch (error) {\n",
              "        console.error('Error during call to suggestCharts:', error);\n",
              "      }\n",
              "      quickchartButtonEl.classList.remove('colab-df-spinner');\n",
              "      quickchartButtonEl.classList.add('colab-df-quickchart-complete');\n",
              "    }\n",
              "    (() => {\n",
              "      let quickchartButtonEl =\n",
              "        document.querySelector('#df-43d5c6ca-66ab-4f50-8b09-8496e6acb0b4 button');\n",
              "      quickchartButtonEl.style.display =\n",
              "        google.colab.kernel.accessAllowed ? 'block' : 'none';\n",
              "    })();\n",
              "  </script>\n",
              "</div>\n",
              "    </div>\n",
              "  </div>\n"
            ],
            "application/vnd.google.colaboratory.intrinsic+json": {
              "type": "dataframe",
              "variable_name": "X_test",
              "summary": "{\n  \"name\": \"X_test\",\n  \"rows\": 91,\n  \"fields\": [\n    {\n      \"column\": \"age\",\n      \"properties\": {\n        \"dtype\": \"number\",\n        \"std\": 8,\n        \"min\": 29,\n        \"max\": 71,\n        \"num_unique_values\": 31,\n        \"samples\": [\n          63,\n          29,\n          42\n        ],\n        \"semantic_type\": \"\",\n        \"description\": \"\"\n      }\n    },\n    {\n      \"column\": \"sex\",\n      \"properties\": {\n        \"dtype\": \"number\",\n        \"std\": 0,\n        \"min\": 0,\n        \"max\": 1,\n        \"num_unique_values\": 2,\n        \"samples\": [\n          0,\n          1\n        ],\n        \"semantic_type\": \"\",\n        \"description\": \"\"\n      }\n    },\n    {\n      \"column\": \"cp\",\n      \"properties\": {\n        \"dtype\": \"number\",\n        \"std\": 1,\n        \"min\": 0,\n        \"max\": 3,\n        \"num_unique_values\": 4,\n        \"samples\": [\n          1,\n          3\n        ],\n        \"semantic_type\": \"\",\n        \"description\": \"\"\n      }\n    },\n    {\n      \"column\": \"trestbps\",\n      \"properties\": {\n        \"dtype\": \"number\",\n        \"std\": 18,\n        \"min\": 100,\n        \"max\": 200,\n        \"num_unique_values\": 31,\n        \"samples\": [\n          170,\n          150\n        ],\n        \"semantic_type\": \"\",\n        \"description\": \"\"\n      }\n    },\n    {\n      \"column\": \"chol\",\n      \"properties\": {\n        \"dtype\": \"number\",\n        \"std\": 54,\n        \"min\": 131,\n        \"max\": 564,\n        \"num_unique_values\": 72,\n        \"samples\": [\n          230,\n          254\n        ],\n        \"semantic_type\": \"\",\n        \"description\": \"\"\n      }\n    },\n    {\n      \"column\": \"fbs\",\n      \"properties\": {\n        \"dtype\": \"number\",\n        \"std\": 0,\n        \"min\": 0,\n        \"max\": 1,\n        \"num_unique_values\": 2,\n        \"samples\": [\n          1,\n          0\n        ],\n        \"semantic_type\": \"\",\n        \"description\": \"\"\n      }\n    },\n    {\n      \"column\": \"restecg\",\n      \"properties\": {\n        \"dtype\": \"number\",\n        \"std\": 0,\n        \"min\": 0,\n        \"max\": 1,\n        \"num_unique_values\": 2,\n        \"samples\": [\n          1,\n          0\n        ],\n        \"semantic_type\": \"\",\n        \"description\": \"\"\n      }\n    },\n    {\n      \"column\": \"thalach\",\n      \"properties\": {\n        \"dtype\": \"number\",\n        \"std\": 24,\n        \"min\": 71,\n        \"max\": 202,\n        \"num_unique_values\": 51,\n        \"samples\": [\n          122,\n          145\n        ],\n        \"semantic_type\": \"\",\n        \"description\": \"\"\n      }\n    },\n    {\n      \"column\": \"exang\",\n      \"properties\": {\n        \"dtype\": \"number\",\n        \"std\": 0,\n        \"min\": 0,\n        \"max\": 1,\n        \"num_unique_values\": 2,\n        \"samples\": [\n          1,\n          0\n        ],\n        \"semantic_type\": \"\",\n        \"description\": \"\"\n      }\n    },\n    {\n      \"column\": \"oldpeak\",\n      \"properties\": {\n        \"dtype\": \"number\",\n        \"std\": 1.2123499617653435,\n        \"min\": 0.0,\n        \"max\": 5.6,\n        \"num_unique_values\": 29,\n        \"samples\": [\n          3.4,\n          1.5\n        ],\n        \"semantic_type\": \"\",\n        \"description\": \"\"\n      }\n    },\n    {\n      \"column\": \"slope\",\n      \"properties\": {\n        \"dtype\": \"number\",\n        \"std\": 0,\n        \"min\": 0,\n        \"max\": 2,\n        \"num_unique_values\": 3,\n        \"samples\": [\n          2,\n          1\n        ],\n        \"semantic_type\": \"\",\n        \"description\": \"\"\n      }\n    },\n    {\n      \"column\": \"ca\",\n      \"properties\": {\n        \"dtype\": \"number\",\n        \"std\": 0,\n        \"min\": 0,\n        \"max\": 4,\n        \"num_unique_values\": 5,\n        \"samples\": [\n          0,\n          4\n        ],\n        \"semantic_type\": \"\",\n        \"description\": \"\"\n      }\n    },\n    {\n      \"column\": \"thal\",\n      \"properties\": {\n        \"dtype\": \"number\",\n        \"std\": 0,\n        \"min\": 1,\n        \"max\": 3,\n        \"num_unique_values\": 3,\n        \"samples\": [\n          1,\n          2\n        ],\n        \"semantic_type\": \"\",\n        \"description\": \"\"\n      }\n    }\n  ]\n}"
            }
          },
          "metadata": {},
          "execution_count": 33
        }
      ]
    },
    {
      "cell_type": "markdown",
      "source": [
        "**Predicting**"
      ],
      "metadata": {
        "id": "SGaoHpM9rs0W"
      }
    },
    {
      "cell_type": "code",
      "source": [
        "# Use the model to make a prediction on the test data (further evaluation)\n",
        "y_preds = rf.predict(X_test)\n",
        "y_preds"
      ],
      "metadata": {
        "id": "mq-hvHQBrvHw",
        "colab": {
          "base_uri": "https://localhost:8080/"
        },
        "outputId": "277e03a9-9d3a-4b4c-8b61-ba15d1d9a539"
      },
      "execution_count": 34,
      "outputs": [
        {
          "output_type": "execute_result",
          "data": {
            "text/plain": [
              "array([0, 1, 1, 1, 0, 1, 1, 1, 0, 1, 1, 0, 1, 1, 1, 1, 1, 1, 1, 1, 1, 1,\n",
              "       1, 0, 1, 1, 0, 0, 1, 0, 0, 0, 0, 0, 1, 1, 1, 1, 1, 1, 1, 1, 1, 0,\n",
              "       0, 0, 0, 1, 0, 0, 0, 0, 1, 1, 1, 0, 0, 1, 1, 1, 1, 1, 1, 1, 0, 0,\n",
              "       1, 0, 0, 0, 1, 0, 0, 0, 1, 0, 0, 0, 1, 0, 1, 0, 0, 1, 1, 1, 0, 1,\n",
              "       1, 0, 0])"
            ]
          },
          "metadata": {},
          "execution_count": 34
        }
      ]
    },
    {
      "cell_type": "markdown",
      "source": [
        "**Evaluate**\n",
        "\n",
        "\\\n",
        "*Remember:*\n",
        "\n",
        "\n",
        "Each model  has a built-in `score()` method.\n",
        "\n",
        "- The `score()` method compares how well the model was able to learn the patterns between the features and labels.\n",
        "\n",
        "- The `score()` method uses a standard evaluation metric to measure the model's results.\n",
        "- The `score()`represents the `accuracy` of the model\n"
      ],
      "metadata": {
        "id": "Ra8EM7UUsPkx"
      }
    },
    {
      "cell_type": "code",
      "source": [
        "# Evaluate the model on the training set.\n",
        "train_acc = rf.score(X_train, y_train)\n",
        "print(f\"The model's accuracy on the training dataset is: {train_acc*100}%\")\n",
        "#perfect! why?"
      ],
      "metadata": {
        "id": "pokzpJIRsR6e",
        "colab": {
          "base_uri": "https://localhost:8080/"
        },
        "outputId": "effbff37-a8bf-4ced-e68d-06da534d052e"
      },
      "execution_count": 35,
      "outputs": [
        {
          "output_type": "stream",
          "name": "stdout",
          "text": [
            "The model's accuracy on the training dataset is: 100.0%\n"
          ]
        }
      ]
    },
    {
      "cell_type": "code",
      "source": [
        "# Evaluate the model on the test set\n",
        "test_acc = rf.score(X_test, y_test)\n",
        "print(f\"The model's accuracy on the testing dataset is: {test_acc*100:.2f}%\")\n",
        "#worst than previous prediction. Why?"
      ],
      "metadata": {
        "id": "5AK4Ep7Issz2",
        "colab": {
          "base_uri": "https://localhost:8080/"
        },
        "outputId": "fef8bc2d-3f22-47f8-c46d-72effb85b41c"
      },
      "execution_count": 36,
      "outputs": [
        {
          "output_type": "stream",
          "name": "stdout",
          "text": [
            "The model's accuracy on the testing dataset is: 81.32%\n"
          ]
        }
      ]
    },
    {
      "cell_type": "markdown",
      "source": [
        "\n",
        "Other evaluation methods;\n",
        "- `classification_report(y_true, y_pred)` - Builds a text report showing various classification metrics such as `precision`, `recall` and `F1-score`.\n",
        "- `confusion_matrix(y_true, y_pred)` - Create a confusion matrix to compare predictions to truth labels.\n",
        "- `accuracy_score(y_true, y_pred)`- Find the accuracy score (the default metric) for a classifier.\n",
        "\n",
        "\\\n",
        "**Note:** All metrics have the following in common: they compare a model's predictions (y_pred) to truth labels (y_true)."
      ],
      "metadata": {
        "id": "Dohb78rGtHcY"
      }
    },
    {
      "cell_type": "code",
      "source": [
        "from sklearn.metrics import classification_report, confusion_matrix, accuracy_score\n",
        "\n",
        "# Create a classification report\n",
        "print(classification_report(y_test, y_preds))"
      ],
      "metadata": {
        "id": "cAc9_VzFtoWg",
        "colab": {
          "base_uri": "https://localhost:8080/"
        },
        "outputId": "e9bc9926-f459-409a-e198-190e8cebd75c"
      },
      "execution_count": 37,
      "outputs": [
        {
          "output_type": "stream",
          "name": "stdout",
          "text": [
            "              precision    recall  f1-score   support\n",
            "\n",
            "           0       0.77      0.79      0.78        38\n",
            "           1       0.85      0.83      0.84        53\n",
            "\n",
            "    accuracy                           0.81        91\n",
            "   macro avg       0.81      0.81      0.81        91\n",
            "weighted avg       0.81      0.81      0.81        91\n",
            "\n"
          ]
        }
      ]
    },
    {
      "cell_type": "code",
      "source": [
        "# Create a confusion matrix\n",
        "conf_mat = confusion_matrix(y_test, y_preds)\n",
        "conf_mat"
      ],
      "metadata": {
        "id": "K1R7L8jstxOr",
        "colab": {
          "base_uri": "https://localhost:8080/"
        },
        "outputId": "c2edc940-b5b8-4259-a120-db77e8be13ea"
      },
      "execution_count": 38,
      "outputs": [
        {
          "output_type": "execute_result",
          "data": {
            "text/plain": [
              "array([[30,  8],\n",
              "       [ 9, 44]])"
            ]
          },
          "metadata": {},
          "execution_count": 38
        }
      ]
    },
    {
      "cell_type": "code",
      "source": [
        "# Compute the accuracy score (same as the score() method for classifiers)\n",
        "accuracy_score(y_test, y_preds), rf.score(X_test,y_test)"
      ],
      "metadata": {
        "id": "NLxkPa_Yt036",
        "colab": {
          "base_uri": "https://localhost:8080/"
        },
        "outputId": "007a9156-1a95-4407-a5fa-3ea31aa2ea14"
      },
      "execution_count": 39,
      "outputs": [
        {
          "output_type": "execute_result",
          "data": {
            "text/plain": [
              "(0.8131868131868132, 0.8131868131868132)"
            ]
          },
          "metadata": {},
          "execution_count": 39
        }
      ]
    },
    {
      "cell_type": "code",
      "source": [],
      "metadata": {
        "id": "JP1kCTw1h9se"
      },
      "execution_count": 39,
      "outputs": []
    },
    {
      "cell_type": "markdown",
      "source": [
        "**Create a function to help metrics calculation**"
      ],
      "metadata": {
        "id": "w9kTvRI594wu"
      }
    },
    {
      "cell_type": "code",
      "source": [
        "#show metrics\n",
        "def evaluate_preds(y_true, y_preds):\n",
        "    \"\"\"\n",
        "    Performs evaluation comparison on y_true labels vs. y_pred labels\n",
        "    \"\"\"\n",
        "    accuracy = accuracy_score(y_true, y_preds)\n",
        "    precision = precision_score(y_true, y_preds)\n",
        "    recall = recall_score(y_true, y_preds)\n",
        "    f1 = f1_score(y_true, y_preds)\n",
        "    metric_dict = {\"accuracy\": round(accuracy, 2),\n",
        "                   \"precision\": round(precision, 2),\n",
        "                   \"recall\": round(recall, 2),\n",
        "                   \"f1\": round(f1, 2)}\n",
        "    print(f\"Acc: {accuracy * 100:.2f}%\")\n",
        "    print(f\"Precision: {precision:.2f}\")\n",
        "    print(f\"Recall: {recall:.2f}\")\n",
        "    print(f\"F1 score: {f1:.2f}\")\n",
        "\n",
        "    return metric_dict"
      ],
      "metadata": {
        "id": "JHGok5e5jBmU"
      },
      "execution_count": 40,
      "outputs": []
    },
    {
      "cell_type": "code",
      "source": [
        "bs_metrics = evaluate_preds(y_test, y_preds)\n",
        "#bs_metrics"
      ],
      "metadata": {
        "id": "Dc2Cs-v5RMaY",
        "colab": {
          "base_uri": "https://localhost:8080/"
        },
        "outputId": "128d001b-76ed-4245-847b-b33e8e18b12e"
      },
      "execution_count": 41,
      "outputs": [
        {
          "output_type": "stream",
          "name": "stdout",
          "text": [
            "Acc: 81.32%\n",
            "Precision: 0.85\n",
            "Recall: 0.83\n",
            "F1 score: 0.84\n"
          ]
        }
      ]
    },
    {
      "cell_type": "markdown",
      "source": [
        "### Improving processes\n",
        "\n",
        "We can try changing each hyperparamater (hereafter abbreviated by parameter) value.\n",
        "\\\n",
        "For instance, we can try change `n_estimators` or `random-state`.\n",
        "\n",
        "\n",
        "**Notes**:\n",
        "- All experiments with different parameters should be cross-validated.\n",
        "  - **Attention:** Beware of cross-validation for time series problems (as for time series, you don't want to mix samples from the future with samples from the past).\n",
        "- All experiments will be applied over three datasets: Training, Validation and Testing.\n",
        "\n",
        "\\\n",
        "Has we saw above, there are three ways to manipulate Hyperparameters:\n",
        "\n",
        "- Manually\n",
        "- Randomly with RandomSearchCV\n",
        "- Exhaustively with GridSearchCV\n",
        "\n",
        "\n",
        "Where:\n",
        "\n",
        "- `RandomizedSearchCV` implements a “fit” and a “score” method. It also implements “score_samples”, “predict”, “predict_proba”, “decision_function”, “transform” and “inverse_transform” if they are implemented in the estimator used.\n",
        "\n",
        "- `GridSearchCV`, not all parameter values are tried out, but rather a fixed number of parameter settings is sampled from the specified distributions.\n",
        "\n",
        "\n",
        "[see more about in... ](https://scikit-learn.org/stable/modules/generated/sklearn.ensemble.RandomForestClassifier.html)\n"
      ],
      "metadata": {
        "id": "ZZ6C9qIdBaV2"
      }
    },
    {
      "cell_type": "markdown",
      "source": [
        "\n",
        "**Check existing Hyperparameters**"
      ],
      "metadata": {
        "id": "6pY2nSLK2Smk"
      }
    },
    {
      "cell_type": "code",
      "source": [
        "#craate a new instance\n",
        "#rf = RandomForestClassifier()\n",
        "rf.get_params()\n",
        "#Hyperparameters"
      ],
      "metadata": {
        "id": "lL8HmCOzyWgx",
        "colab": {
          "base_uri": "https://localhost:8080/"
        },
        "outputId": "24a71197-35d6-4aec-8c82-bdcd72824d24"
      },
      "execution_count": 42,
      "outputs": [
        {
          "output_type": "execute_result",
          "data": {
            "text/plain": [
              "{'bootstrap': True,\n",
              " 'ccp_alpha': 0.0,\n",
              " 'class_weight': None,\n",
              " 'criterion': 'gini',\n",
              " 'max_depth': None,\n",
              " 'max_features': 'sqrt',\n",
              " 'max_leaf_nodes': None,\n",
              " 'max_samples': None,\n",
              " 'min_impurity_decrease': 0.0,\n",
              " 'min_samples_leaf': 1,\n",
              " 'min_samples_split': 2,\n",
              " 'min_weight_fraction_leaf': 0.0,\n",
              " 'n_estimators': 100,\n",
              " 'n_jobs': None,\n",
              " 'oob_score': False,\n",
              " 'random_state': None,\n",
              " 'verbose': 0,\n",
              " 'warm_start': False}"
            ]
          },
          "metadata": {},
          "execution_count": 42
        }
      ]
    },
    {
      "cell_type": "markdown",
      "source": [
        "\n",
        "There are several (hyper)parameters can be explored. It is also possible to see the default values for each (hyper)parameter.\n",
        "\\\n"
      ],
      "metadata": {
        "id": "zEHWSiNN4S3p"
      }
    },
    {
      "cell_type": "markdown",
      "source": [
        "### **Explore Hyperparameters manually**\n",
        "\n",
        "\n",
        "Hyperparameter tuning introduces a third set, a validation set.\n",
        "\n",
        "So the process becomes:\n",
        "1. Train a model on the training data.\n",
        "2. (Try to) improve the model's hyperparameters on the validation set.\n",
        "3. Evaluate the model on the test set."
      ],
      "metadata": {
        "id": "o8Sb05ZVwoDM"
      }
    },
    {
      "cell_type": "markdown",
      "source": [
        "**Creating the Validation Set**"
      ],
      "metadata": {
        "id": "pV-rp3wMChsI"
      }
    },
    {
      "cell_type": "markdown",
      "source": [
        "Until now we worked with training and test datasets. We train a model on a training set and evaluate it on a test dataset.\n",
        "\n",
        "\\\n",
        "For that we split data into Train and Test Data, using the `train_test_split()`function.\n",
        "\n",
        "\\\n",
        "Now we repeat the process to split the Test Set in two new sets: Validation and Test set.\n",
        "\n",
        "\n",
        "```\n",
        "X = Train + Validation + Test\n",
        "```\n",
        "\n"
      ],
      "metadata": {
        "id": "XHCv6h_mCp20"
      }
    },
    {
      "cell_type": "code",
      "source": [
        "from sklearn.metrics import accuracy_score, precision_score, recall_score, f1_score\n",
        "from sklearn.model_selection import train_test_split\n",
        "from sklearn.ensemble import RandomForestClassifier\n",
        "\n",
        "# Set the seed\n",
        "np.random.seed(42)\n",
        "\n",
        "# Split into X (features) & y (labels)\n",
        "X = hd.drop(\"target\", axis=1)\n",
        "y = hd[\"target\"]\n",
        "\n",
        "# Training and test split (70% train, 30% test)\n",
        "X_train, X_test, y_train, y_test = train_test_split(X, y, test_size=0.3, shuffle=True)\n",
        "\n",
        "# Create validation and test split by spliting testing data in half (30% test -> 15% validation, 15% test)\n",
        "X_valid, X_test, y_valid, y_test = train_test_split(X_test, y_test, test_size=0.5)\n",
        "\n",
        "clf = RandomForestClassifier()\n",
        "clf.fit(X_train, y_train)\n",
        "\n",
        "# Make predictions in X_valid\n",
        "y_preds = clf.predict(X_valid)\n",
        "\n",
        "# Evaluate the classifier\n",
        "baseline_metrics = evaluate_preds(y_valid, y_preds)\n",
        "baseline_metrics"
      ],
      "metadata": {
        "id": "8Wu4t3TrZnt7",
        "colab": {
          "base_uri": "https://localhost:8080/"
        },
        "outputId": "2d563cf2-a351-4c70-9ed0-f7a6072ffea4"
      },
      "execution_count": 61,
      "outputs": [
        {
          "output_type": "stream",
          "name": "stdout",
          "text": [
            "Acc: 80.00%\n",
            "Precision: 0.78\n",
            "Recall: 0.88\n",
            "F1 score: 0.82\n"
          ]
        },
        {
          "output_type": "execute_result",
          "data": {
            "text/plain": [
              "{'accuracy': 0.8, 'precision': 0.78, 'recall': 0.88, 'f1': 0.82}"
            ]
          },
          "metadata": {},
          "execution_count": 61
        }
      ]
    },
    {
      "cell_type": "code",
      "source": [
        "# Check the sizes of the splits\n",
        "print(f\"Training data: {len(X_train)} samples, {len(y_train)} labels\")\n",
        "print(f\"Validation data: {len(X_valid)} samples, {len(y_valid)} labels\")\n",
        "print(f\"Testing data: {len(X_test)} samples, {len(y_test)} labels\")"
      ],
      "metadata": {
        "id": "MMMgf4jQI-hN",
        "colab": {
          "base_uri": "https://localhost:8080/"
        },
        "outputId": "8d14ac7a-8ab6-4151-836c-4c5b6e6f9045"
      },
      "execution_count": 26,
      "outputs": [
        {
          "output_type": "stream",
          "name": "stdout",
          "text": [
            "Training data: 212 samples, 212 labels\n",
            "Validation data: 45 samples, 45 labels\n",
            "Testing data: 46 samples, 46 labels\n"
          ]
        }
      ]
    },
    {
      "cell_type": "markdown",
      "source": [
        "**Remember**:\n",
        "\n",
        "On this improvement process, we use:\n",
        "\n",
        "- X_train data for Training\n",
        "- X_valid data for model testing\n",
        "- X_test for model Evaluation"
      ],
      "metadata": {
        "id": "2koEOcfHCyDR"
      }
    },
    {
      "cell_type": "markdown",
      "source": [
        "**Make predictions using `X_valid` data**"
      ],
      "metadata": {
        "id": "bqBjtAG4_ikA"
      }
    },
    {
      "cell_type": "code",
      "source": [
        "#score\n",
        "a=rf.score(X_valid, y_valid)\n",
        "print(f\"Score: {a*100:.4f}%\")\n",
        "\n",
        "ac = accuracy_score(y_valid,y_preds)\n",
        "ac"
      ],
      "metadata": {
        "id": "RhsZysw8JY-W",
        "colab": {
          "base_uri": "https://localhost:8080/"
        },
        "outputId": "47e96c2b-d938-4d73-ad34-e23eb1293ec8"
      },
      "execution_count": 27,
      "outputs": [
        {
          "output_type": "stream",
          "name": "stdout",
          "text": [
            "Score: 97.7778%\n"
          ]
        },
        {
          "output_type": "execute_result",
          "data": {
            "text/plain": [
              "0.8"
            ]
          },
          "metadata": {},
          "execution_count": 27
        }
      ]
    },
    {
      "cell_type": "markdown",
      "source": [
        "**Evaluate the model**\n",
        "\n",
        "The first evaluation is with default parameters"
      ],
      "metadata": {
        "id": "AL90g1M8KgwE"
      }
    },
    {
      "cell_type": "code",
      "source": [
        "# Evaluate the 1st classifier\n",
        "baseline_metrics = evaluate_preds(y_valid, y_preds)\n"
      ],
      "metadata": {
        "id": "VDAUXHFd_E2Q",
        "colab": {
          "base_uri": "https://localhost:8080/"
        },
        "outputId": "ae2d02da-f440-423d-fed0-b53fb8d20756"
      },
      "execution_count": 28,
      "outputs": [
        {
          "output_type": "stream",
          "name": "stdout",
          "text": [
            "Acc: 80.00%\n",
            "Precision: 0.78\n",
            "Recall: 0.88\n",
            "F1 score: 0.82\n"
          ]
        }
      ]
    },
    {
      "cell_type": "markdown",
      "source": [
        "**Lets try to improve the model, manually**\n",
        "\n",
        "Changing the hyperparameters `n_estimators=100` (default) to `n_estimators=200` and see if it improves on the validation set."
      ],
      "metadata": {
        "id": "Kok2daQVKs1K"
      }
    },
    {
      "cell_type": "code",
      "source": [
        "#new instance\n",
        "rf2 = RandomForestClassifier(n_estimators=200)\n",
        "rf2.fit(X_train,y_train)"
      ],
      "metadata": {
        "id": "6hlRCmDaLDqD",
        "colab": {
          "base_uri": "https://localhost:8080/",
          "height": 75
        },
        "outputId": "526bcd1c-2010-40b7-c933-013ae55e736c"
      },
      "execution_count": 29,
      "outputs": [
        {
          "output_type": "execute_result",
          "data": {
            "text/plain": [
              "RandomForestClassifier(n_estimators=200)"
            ],
            "text/html": [
              "<style>#sk-container-id-2 {color: black;background-color: white;}#sk-container-id-2 pre{padding: 0;}#sk-container-id-2 div.sk-toggleable {background-color: white;}#sk-container-id-2 label.sk-toggleable__label {cursor: pointer;display: block;width: 100%;margin-bottom: 0;padding: 0.3em;box-sizing: border-box;text-align: center;}#sk-container-id-2 label.sk-toggleable__label-arrow:before {content: \"▸\";float: left;margin-right: 0.25em;color: #696969;}#sk-container-id-2 label.sk-toggleable__label-arrow:hover:before {color: black;}#sk-container-id-2 div.sk-estimator:hover label.sk-toggleable__label-arrow:before {color: black;}#sk-container-id-2 div.sk-toggleable__content {max-height: 0;max-width: 0;overflow: hidden;text-align: left;background-color: #f0f8ff;}#sk-container-id-2 div.sk-toggleable__content pre {margin: 0.2em;color: black;border-radius: 0.25em;background-color: #f0f8ff;}#sk-container-id-2 input.sk-toggleable__control:checked~div.sk-toggleable__content {max-height: 200px;max-width: 100%;overflow: auto;}#sk-container-id-2 input.sk-toggleable__control:checked~label.sk-toggleable__label-arrow:before {content: \"▾\";}#sk-container-id-2 div.sk-estimator input.sk-toggleable__control:checked~label.sk-toggleable__label {background-color: #d4ebff;}#sk-container-id-2 div.sk-label input.sk-toggleable__control:checked~label.sk-toggleable__label {background-color: #d4ebff;}#sk-container-id-2 input.sk-hidden--visually {border: 0;clip: rect(1px 1px 1px 1px);clip: rect(1px, 1px, 1px, 1px);height: 1px;margin: -1px;overflow: hidden;padding: 0;position: absolute;width: 1px;}#sk-container-id-2 div.sk-estimator {font-family: monospace;background-color: #f0f8ff;border: 1px dotted black;border-radius: 0.25em;box-sizing: border-box;margin-bottom: 0.5em;}#sk-container-id-2 div.sk-estimator:hover {background-color: #d4ebff;}#sk-container-id-2 div.sk-parallel-item::after {content: \"\";width: 100%;border-bottom: 1px solid gray;flex-grow: 1;}#sk-container-id-2 div.sk-label:hover label.sk-toggleable__label {background-color: #d4ebff;}#sk-container-id-2 div.sk-serial::before {content: \"\";position: absolute;border-left: 1px solid gray;box-sizing: border-box;top: 0;bottom: 0;left: 50%;z-index: 0;}#sk-container-id-2 div.sk-serial {display: flex;flex-direction: column;align-items: center;background-color: white;padding-right: 0.2em;padding-left: 0.2em;position: relative;}#sk-container-id-2 div.sk-item {position: relative;z-index: 1;}#sk-container-id-2 div.sk-parallel {display: flex;align-items: stretch;justify-content: center;background-color: white;position: relative;}#sk-container-id-2 div.sk-item::before, #sk-container-id-2 div.sk-parallel-item::before {content: \"\";position: absolute;border-left: 1px solid gray;box-sizing: border-box;top: 0;bottom: 0;left: 50%;z-index: -1;}#sk-container-id-2 div.sk-parallel-item {display: flex;flex-direction: column;z-index: 1;position: relative;background-color: white;}#sk-container-id-2 div.sk-parallel-item:first-child::after {align-self: flex-end;width: 50%;}#sk-container-id-2 div.sk-parallel-item:last-child::after {align-self: flex-start;width: 50%;}#sk-container-id-2 div.sk-parallel-item:only-child::after {width: 0;}#sk-container-id-2 div.sk-dashed-wrapped {border: 1px dashed gray;margin: 0 0.4em 0.5em 0.4em;box-sizing: border-box;padding-bottom: 0.4em;background-color: white;}#sk-container-id-2 div.sk-label label {font-family: monospace;font-weight: bold;display: inline-block;line-height: 1.2em;}#sk-container-id-2 div.sk-label-container {text-align: center;}#sk-container-id-2 div.sk-container {/* jupyter's `normalize.less` sets `[hidden] { display: none; }` but bootstrap.min.css set `[hidden] { display: none !important; }` so we also need the `!important` here to be able to override the default hidden behavior on the sphinx rendered scikit-learn.org. See: https://github.com/scikit-learn/scikit-learn/issues/21755 */display: inline-block !important;position: relative;}#sk-container-id-2 div.sk-text-repr-fallback {display: none;}</style><div id=\"sk-container-id-2\" class=\"sk-top-container\"><div class=\"sk-text-repr-fallback\"><pre>RandomForestClassifier(n_estimators=200)</pre><b>In a Jupyter environment, please rerun this cell to show the HTML representation or trust the notebook. <br />On GitHub, the HTML representation is unable to render, please try loading this page with nbviewer.org.</b></div><div class=\"sk-container\" hidden><div class=\"sk-item\"><div class=\"sk-estimator sk-toggleable\"><input class=\"sk-toggleable__control sk-hidden--visually\" id=\"sk-estimator-id-2\" type=\"checkbox\" checked><label for=\"sk-estimator-id-2\" class=\"sk-toggleable__label sk-toggleable__label-arrow\">RandomForestClassifier</label><div class=\"sk-toggleable__content\"><pre>RandomForestClassifier(n_estimators=200)</pre></div></div></div></div></div>"
            ]
          },
          "metadata": {},
          "execution_count": 29
        }
      ]
    },
    {
      "cell_type": "code",
      "source": [
        "#make predictions wityh different hyperparameter\n",
        "y_preds2 = rf2.predict(X_valid)\n"
      ],
      "metadata": {
        "id": "kdO9AsERLKa2"
      },
      "execution_count": 30,
      "outputs": []
    },
    {
      "cell_type": "code",
      "source": [
        "# Evaluate the 2nd classifier\n",
        "rf2_metrics = evaluate_preds(y_valid, y_preds2)"
      ],
      "metadata": {
        "id": "oLbXvRv7KwPy",
        "colab": {
          "base_uri": "https://localhost:8080/"
        },
        "outputId": "972e84eb-5859-4d03-8aef-0733952aa650"
      },
      "execution_count": 31,
      "outputs": [
        {
          "output_type": "stream",
          "name": "stdout",
          "text": [
            "Acc: 80.00%\n",
            "Precision: 0.78\n",
            "Recall: 0.88\n",
            "F1 score: 0.82\n"
          ]
        }
      ]
    },
    {
      "cell_type": "markdown",
      "source": [
        "**Without cross-validation**\n"
      ],
      "metadata": {
        "id": "L2kGl9FDxban"
      }
    },
    {
      "cell_type": "code",
      "source": [
        "# Try different numbers of estimators (trees)... (no cross-validation)\n",
        "np.random.seed(42)\n",
        "for i in range(100, 200, 10):\n",
        "    print(f\"->Trying model with {i} estimators...\")\n",
        "    model = RandomForestClassifier(n_estimators=i).fit(X_train, y_train)\n",
        "    print(f\"Model accuracy on test set: {model.score(X_test, y_test) * 100:.2f}%\")\n",
        "    print(\"\")"
      ],
      "metadata": {
        "id": "3RHY7Hglwv2X",
        "colab": {
          "base_uri": "https://localhost:8080/"
        },
        "outputId": "ff62ccb3-8675-4634-fe8e-7f6e0ea01e9f"
      },
      "execution_count": 32,
      "outputs": [
        {
          "output_type": "stream",
          "name": "stdout",
          "text": [
            "->Trying model with 100 estimators...\n",
            "Model accuracy on test set: 84.78%\n",
            "\n",
            "->Trying model with 110 estimators...\n",
            "Model accuracy on test set: 82.61%\n",
            "\n",
            "->Trying model with 120 estimators...\n",
            "Model accuracy on test set: 82.61%\n",
            "\n",
            "->Trying model with 130 estimators...\n",
            "Model accuracy on test set: 82.61%\n",
            "\n",
            "->Trying model with 140 estimators...\n",
            "Model accuracy on test set: 80.43%\n",
            "\n",
            "->Trying model with 150 estimators...\n",
            "Model accuracy on test set: 84.78%\n",
            "\n",
            "->Trying model with 160 estimators...\n",
            "Model accuracy on test set: 84.78%\n",
            "\n",
            "->Trying model with 170 estimators...\n",
            "Model accuracy on test set: 84.78%\n",
            "\n",
            "->Trying model with 180 estimators...\n",
            "Model accuracy on test set: 80.43%\n",
            "\n",
            "->Trying model with 190 estimators...\n",
            "Model accuracy on test set: 80.43%\n",
            "\n"
          ]
        }
      ]
    },
    {
      "cell_type": "markdown",
      "source": [
        "**With cross-validation**\n",
        "\n",
        "\\\n",
        "*Remember:*\n",
        "\n",
        "[Cross-validation](http://scikit-learn.org/stable/modules/cross_validation.html) is a way of making sure the results you're getting are more consistent across your training and test datasets (because it uses multiple versions of training and test sets) .\n",
        "\n",
        "- We can achieve this by setting `cross_val_score(X, y, cv=5)`.\n",
        "\n",
        "- `X` is the full feature set;\n",
        "- `y` is the full label set;\n",
        "- `cv` is the number of train and test splits\n",
        "\n",
        "\\\n",
        "`cross_val_score` will automatically create from the data (in this case, 5 different splits, this is known as 5-fold cross-validation).\n",
        "\n",
        "It is usually a better indicator of a quality model than a single split accuracy score."
      ],
      "metadata": {
        "id": "H1Ml0QBuxhN6"
      }
    },
    {
      "cell_type": "code",
      "source": [
        "from sklearn.model_selection import cross_val_score\n",
        "\n",
        "# With cross-validation\n",
        "np.random.seed(42)\n",
        "for i in range(100, 200, 10):\n",
        "    print(f\"-> Trying model with [{i}] estimators...\")\n",
        "    model = RandomForestClassifier(n_estimators=i)\n",
        "    model.fit(X_train, y_train)\n",
        "\n",
        "    # Measure the model score on a single train/test split\n",
        "    model_score = model.score(X_test, y_test)\n",
        "    print(f\"Model accuracy on single test set split: {model_score * 100:.2f}%\")\n",
        "\n",
        "    # Measure the mean cross-validation score across 5 different train and test splits\n",
        "    cross_val_mean = np.mean(cross_val_score(model, X, y, cv=5))\n",
        "    print(f\"5-fold cross-validation score: {cross_val_mean * 100:.2f}%\")\n",
        "\n",
        "    print(\"-------------------\")"
      ],
      "metadata": {
        "id": "fxfQupU-xjHX",
        "colab": {
          "base_uri": "https://localhost:8080/"
        },
        "outputId": "eaddeaea-e1f9-4753-9160-2ad751492bed"
      },
      "execution_count": 33,
      "outputs": [
        {
          "output_type": "stream",
          "name": "stdout",
          "text": [
            "-> Trying model with [100] estimators...\n",
            "Model accuracy on single test set split: 84.78%\n",
            "5-fold cross-validation score: 82.15%\n",
            "-------------------\n",
            "-> Trying model with [110] estimators...\n",
            "Model accuracy on single test set split: 84.78%\n",
            "5-fold cross-validation score: 81.17%\n",
            "-------------------\n",
            "-> Trying model with [120] estimators...\n",
            "Model accuracy on single test set split: 82.61%\n",
            "5-fold cross-validation score: 83.16%\n",
            "-------------------\n",
            "-> Trying model with [130] estimators...\n",
            "Model accuracy on single test set split: 82.61%\n",
            "5-fold cross-validation score: 83.14%\n",
            "-------------------\n",
            "-> Trying model with [140] estimators...\n",
            "Model accuracy on single test set split: 82.61%\n",
            "5-fold cross-validation score: 82.48%\n",
            "-------------------\n",
            "-> Trying model with [150] estimators...\n",
            "Model accuracy on single test set split: 82.61%\n",
            "5-fold cross-validation score: 80.17%\n",
            "-------------------\n",
            "-> Trying model with [160] estimators...\n",
            "Model accuracy on single test set split: 82.61%\n",
            "5-fold cross-validation score: 80.83%\n",
            "-------------------\n",
            "-> Trying model with [170] estimators...\n",
            "Model accuracy on single test set split: 82.61%\n",
            "5-fold cross-validation score: 81.83%\n",
            "-------------------\n",
            "-> Trying model with [180] estimators...\n",
            "Model accuracy on single test set split: 84.78%\n",
            "5-fold cross-validation score: 81.50%\n",
            "-------------------\n",
            "-> Trying model with [190] estimators...\n",
            "Model accuracy on single test set split: 82.61%\n",
            "5-fold cross-validation score: 81.83%\n",
            "-------------------\n"
          ]
        }
      ]
    },
    {
      "cell_type": "markdown",
      "source": [
        "After getting the best performance (score with n_estimator=120, and cv=5) we can try adjust another hyperparameter."
      ],
      "metadata": {
        "id": "aka50uJaWoYQ"
      }
    },
    {
      "cell_type": "code",
      "source": [
        "#try max_depth hyperparameter\n",
        "\n",
        "model = RandomForestClassifier(\n",
        "                                n_estimators=120,\n",
        "                                max_depth=10)\n",
        "model.fit(X_train, y_train)\n",
        "\n",
        "# Measure the model score on a single train/test split\n",
        "model_score = model.score(X_test, y_test)\n",
        "print(f\"Model accuracy on single test set split: {model_score * 100:.2f}%\")\n",
        "\n",
        "# Measure the mean cross-validation score across 5 different train and test splits\n",
        "cross_val_mean = np.mean(cross_val_score(model, X, y, cv=5))\n",
        "print(f\"5-fold cross-validation score; n_estimator=160; max_depth=10: {cross_val_mean * 100:.2f}%\")\n",
        "#answer: worst or better?"
      ],
      "metadata": {
        "id": "oWoSTyXLfAdB",
        "colab": {
          "base_uri": "https://localhost:8080/"
        },
        "outputId": "85fd0130-a7e7-4b03-f3fc-e4bf15d741cb"
      },
      "execution_count": 34,
      "outputs": [
        {
          "output_type": "stream",
          "name": "stdout",
          "text": [
            "Model accuracy on single test set split: 84.78%\n",
            "5-fold cross-validation score; n_estimator=160; max_depth=10: 82.48%\n"
          ]
        }
      ]
    },
    {
      "cell_type": "markdown",
      "source": [
        "And so on...continue \"trying and evaluate for each hyperparameter combination\"...a very hard work!"
      ],
      "metadata": {
        "id": "1KUKQlWjjdri"
      }
    },
    {
      "cell_type": "markdown",
      "source": [
        "### **Exploring *RandomizedSearchCV***\n",
        "\n",
        "\\\n",
        "First, it is necesssaary to create a *dictionary* of parameter distributions (collections of different values for specific hyperparamters) we'd like to analyse.\n",
        "\n",
        "```\n",
        "param_values = {\"hyperparameter_name\": [values_to_randomly_try]}\n",
        "\n",
        "```"
      ],
      "metadata": {
        "id": "mdvTSYfD6N0o"
      }
    },
    {
      "cell_type": "code",
      "source": [
        "# Hyperparameter grid for RandomizedSearchCV\n",
        "param_values = {\"n_estimators\": [10, 100, 200, 500, 1000, 1200],\n",
        "                       \"max_depth\": [None, 5, 10, 20, 30],\n",
        "                       \"max_features\": [\"sqrt\", \"log2\", None],\n",
        "                       \"min_samples_split\": [2, 4, 6, 8],\n",
        "                       \"min_samples_leaf\": [1, 2, 4, 8]}"
      ],
      "metadata": {
        "id": "FOauRvdVoShE"
      },
      "execution_count": 45,
      "outputs": []
    },
    {
      "cell_type": "code",
      "source": [
        "#check\n",
        "param_values.values()"
      ],
      "metadata": {
        "id": "2n-NXPbNt8rp",
        "colab": {
          "base_uri": "https://localhost:8080/"
        },
        "outputId": "c1cd7416-b6ea-4921-ad09-350c329422d1"
      },
      "execution_count": 46,
      "outputs": [
        {
          "output_type": "execute_result",
          "data": {
            "text/plain": [
              "dict_values([[10, 100, 200, 500, 1000, 1200], [None, 5, 10, 20, 30], ['sqrt', 'log2', None], [2, 4, 6, 8], [1, 2, 4, 8]])"
            ]
          },
          "metadata": {},
          "execution_count": 46
        }
      ]
    },
    {
      "cell_type": "code",
      "source": [
        "# Curiosity\n",
        "# Count the total number of hyperparameter combinations to test\n",
        "total_combinations = np.prod([len(value) for value in param_values.values()])\n",
        "# 6 * 5 * 3 * 4 * 4 = 1440\n",
        "#if we consider cv=5 then it will be necessary 1440*5...a lot!\n",
        "print(f\"Just to have an idea...there are {total_combinations} potential combinations of hyperparameters to test.\")"
      ],
      "metadata": {
        "id": "dFVjT53jpE9C",
        "colab": {
          "base_uri": "https://localhost:8080/"
        },
        "outputId": "41e2edca-5881-41c2-a222-c80f43d72202"
      },
      "execution_count": 47,
      "outputs": [
        {
          "output_type": "stream",
          "name": "stdout",
          "text": [
            "Just to have an idea...there are 1440 potential combinations of hyperparameters to test.\n"
          ]
        }
      ]
    },
    {
      "cell_type": "code",
      "source": [
        "# Start the timer\n",
        "import time\n",
        "start_time = time.time()\n",
        "\n",
        "from sklearn.model_selection import RandomizedSearchCV, train_test_split\n",
        "\n",
        "np.random.seed(42)\n",
        "\n",
        "# Split into X & y\n",
        "X = hd.drop(\"target\", axis=1)\n",
        "y = hd[\"target\"]\n",
        "\n",
        "# Split into train and test sets\n",
        "X_train, X_test, y_train, y_test = train_test_split(X, y, test_size=0.2)\n",
        "\n",
        "# Set n_jobs to -1 to use all available cores on your machine (if this causes errors, try n_jobs=1)\n",
        "rfc = RandomForestClassifier(n_jobs=1)  #-1 means using all processing capacity (cores)\n",
        "\n",
        "# Setup RandomizedSearchCV\n",
        "n_iter = 5 # try 5 models total\n",
        "rfc = RandomizedSearchCV(estimator=rfc,\n",
        "                            param_distributions=param_values,\n",
        "                            n_iter=n_iter,                          # how many models to try\n",
        "                            cv=5,                                   # 5-fold cross-validation\n",
        "                            verbose=2)                              # print out results\n",
        "\n",
        "# Fit the RandomizedSearchCV version of clf (does cross-validation for us, so no need to use a validation set)\n",
        "rfc.fit(X_train, y_train);\n",
        "\n",
        "# Finish the timer\n",
        "end_time = time.time()\n",
        "print(f\"[INFO] Total time taken for {n_iter} random combinations of hyperparameters: {end_time - start_time:.2f} seconds.\")"
      ],
      "metadata": {
        "id": "_yUyNyWAtli6",
        "colab": {
          "base_uri": "https://localhost:8080/"
        },
        "outputId": "df47592c-969e-4257-9c24-d069520f327b"
      },
      "execution_count": 48,
      "outputs": [
        {
          "output_type": "stream",
          "name": "stdout",
          "text": [
            "Fitting 5 folds for each of 5 candidates, totalling 25 fits\n",
            "[CV] END max_depth=30, max_features=log2, min_samples_leaf=4, min_samples_split=4, n_estimators=1000; total time=   1.6s\n",
            "[CV] END max_depth=30, max_features=log2, min_samples_leaf=4, min_samples_split=4, n_estimators=1000; total time=   1.5s\n",
            "[CV] END max_depth=30, max_features=log2, min_samples_leaf=4, min_samples_split=4, n_estimators=1000; total time=   1.5s\n",
            "[CV] END max_depth=30, max_features=log2, min_samples_leaf=4, min_samples_split=4, n_estimators=1000; total time=   1.5s\n",
            "[CV] END max_depth=30, max_features=log2, min_samples_leaf=4, min_samples_split=4, n_estimators=1000; total time=   1.7s\n",
            "[CV] END max_depth=None, max_features=sqrt, min_samples_leaf=2, min_samples_split=2, n_estimators=200; total time=   0.5s\n",
            "[CV] END max_depth=None, max_features=sqrt, min_samples_leaf=2, min_samples_split=2, n_estimators=200; total time=   0.5s\n",
            "[CV] END max_depth=None, max_features=sqrt, min_samples_leaf=2, min_samples_split=2, n_estimators=200; total time=   0.5s\n",
            "[CV] END max_depth=None, max_features=sqrt, min_samples_leaf=2, min_samples_split=2, n_estimators=200; total time=   0.5s\n",
            "[CV] END max_depth=None, max_features=sqrt, min_samples_leaf=2, min_samples_split=2, n_estimators=200; total time=   0.5s\n",
            "[CV] END max_depth=None, max_features=None, min_samples_leaf=2, min_samples_split=4, n_estimators=500; total time=   1.1s\n",
            "[CV] END max_depth=None, max_features=None, min_samples_leaf=2, min_samples_split=4, n_estimators=500; total time=   0.9s\n",
            "[CV] END max_depth=None, max_features=None, min_samples_leaf=2, min_samples_split=4, n_estimators=500; total time=   0.9s\n",
            "[CV] END max_depth=None, max_features=None, min_samples_leaf=2, min_samples_split=4, n_estimators=500; total time=   0.9s\n",
            "[CV] END max_depth=None, max_features=None, min_samples_leaf=2, min_samples_split=4, n_estimators=500; total time=   0.9s\n",
            "[CV] END max_depth=30, max_features=log2, min_samples_leaf=4, min_samples_split=2, n_estimators=1000; total time=   1.5s\n",
            "[CV] END max_depth=30, max_features=log2, min_samples_leaf=4, min_samples_split=2, n_estimators=1000; total time=   1.5s\n",
            "[CV] END max_depth=30, max_features=log2, min_samples_leaf=4, min_samples_split=2, n_estimators=1000; total time=   1.5s\n",
            "[CV] END max_depth=30, max_features=log2, min_samples_leaf=4, min_samples_split=2, n_estimators=1000; total time=   1.6s\n",
            "[CV] END max_depth=30, max_features=log2, min_samples_leaf=4, min_samples_split=2, n_estimators=1000; total time=   2.4s\n",
            "[CV] END max_depth=10, max_features=None, min_samples_leaf=2, min_samples_split=2, n_estimators=1200; total time=   2.4s\n",
            "[CV] END max_depth=10, max_features=None, min_samples_leaf=2, min_samples_split=2, n_estimators=1200; total time=   2.1s\n",
            "[CV] END max_depth=10, max_features=None, min_samples_leaf=2, min_samples_split=2, n_estimators=1200; total time=   2.1s\n",
            "[CV] END max_depth=10, max_features=None, min_samples_leaf=2, min_samples_split=2, n_estimators=1200; total time=   2.1s\n",
            "[CV] END max_depth=10, max_features=None, min_samples_leaf=2, min_samples_split=2, n_estimators=1200; total time=   2.1s\n",
            "[INFO] Total time taken for 5 random combinations of hyperparameters: 36.57 seconds.\n"
          ]
        }
      ]
    },
    {
      "cell_type": "markdown",
      "source": [
        "**Chech all the results and get the best combination**"
      ],
      "metadata": {
        "id": "EcALFtT3w2jy"
      }
    },
    {
      "cell_type": "code",
      "source": [
        "# Find the best hyperparameters found by RandomizedSearchCV\n",
        "rfc.best_params_"
      ],
      "metadata": {
        "id": "Ys8YUZl9w2L6",
        "colab": {
          "base_uri": "https://localhost:8080/"
        },
        "outputId": "5b152d65-b45f-4db6-c8d9-d3bf569c9917"
      },
      "execution_count": 49,
      "outputs": [
        {
          "output_type": "execute_result",
          "data": {
            "text/plain": [
              "{'n_estimators': 1000,\n",
              " 'min_samples_split': 2,\n",
              " 'min_samples_leaf': 4,\n",
              " 'max_features': 'log2',\n",
              " 'max_depth': 30}"
            ]
          },
          "metadata": {},
          "execution_count": 49
        }
      ]
    },
    {
      "cell_type": "markdown",
      "source": [
        "After this process, each time we call `predict()` on `rs_clf` (our `RandomizedSearchCV` version of our classifier), it'll use the best hyperparameters it found."
      ],
      "metadata": {
        "id": "61Wwhuc7xrMl"
      }
    },
    {
      "cell_type": "markdown",
      "source": [
        "Make predictions with the best hyperparameters"
      ],
      "metadata": {
        "id": "ufdlBeHx5wJZ"
      }
    },
    {
      "cell_type": "code",
      "source": [
        "# Make predictions with the best hyperparameters\n",
        "rfc_y_preds = rfc.predict(X_test)\n",
        "\n",
        "# Evaluate the predictions\n",
        "rscv_metrics = evaluate_preds(y_test, rfc_y_preds)"
      ],
      "metadata": {
        "id": "AhAyrvpSx0al",
        "colab": {
          "base_uri": "https://localhost:8080/"
        },
        "outputId": "357246e3-29df-4259-91ca-04a8a4a57d74"
      },
      "execution_count": 50,
      "outputs": [
        {
          "output_type": "stream",
          "name": "stdout",
          "text": [
            "Acc: 86.89%\n",
            "Precision: 0.85\n",
            "Recall: 0.91\n",
            "F1 score: 0.88\n"
          ]
        }
      ]
    },
    {
      "cell_type": "markdown",
      "source": [
        "### **Exploring GridSearchCV**\n",
        "\n",
        "Since we've already tried to find some ideal hyperparameters using `RandomizedSearchCV`, we'll create another hyperparameter grid based on the `best_params_` of `rfc` with less options and then try to use `GridSearchCV` to find a more ideal set"
      ],
      "metadata": {
        "id": "MISQBdNt69M-"
      }
    },
    {
      "cell_type": "code",
      "source": [
        "# Create hyperparameter grid similar to rfc.best_params_\n",
        "grid2 = {\"n_estimators\": [1000, 200],\n",
        "              \"max_depth\": [30,40],\n",
        "              \"max_features\": [\"log2\"],\n",
        "              \"min_samples_split\": [2, 4, 6],\n",
        "              \"min_samples_leaf\": [4]}\n",
        "grid2.values()"
      ],
      "metadata": {
        "id": "4HfpzpStAt1x",
        "colab": {
          "base_uri": "https://localhost:8080/"
        },
        "outputId": "87f40eef-e064-4dfb-aca9-72c9de5f5cdf"
      },
      "execution_count": 51,
      "outputs": [
        {
          "output_type": "execute_result",
          "data": {
            "text/plain": [
              "dict_values([[1000, 200], [30, 40], ['log2'], [2, 4, 6], [4]])"
            ]
          },
          "metadata": {},
          "execution_count": 51
        }
      ]
    },
    {
      "cell_type": "code",
      "source": [
        "#2*2*1*3*1\n",
        "np.prod([len(value) for value in grid2.values()])\n",
        "# considering cv will explore 60 models!"
      ],
      "metadata": {
        "id": "qQpWnorxBcLx",
        "colab": {
          "base_uri": "https://localhost:8080/"
        },
        "outputId": "03db4690-3553-4964-b70e-39df0cfc0b7b"
      },
      "execution_count": 42,
      "outputs": [
        {
          "output_type": "execute_result",
          "data": {
            "text/plain": [
              "12"
            ]
          },
          "metadata": {},
          "execution_count": 42
        }
      ]
    },
    {
      "cell_type": "code",
      "source": [
        "# Start the timer\n",
        "import time\n",
        "start_time = time.time()\n",
        "\n",
        "from sklearn.model_selection import GridSearchCV, train_test_split\n",
        "\n",
        "np.random.seed(42)\n",
        "\n",
        "# Split into X & y\n",
        "X = hd.drop(\"target\", axis=1)\n",
        "y = hd[\"target\"]\n",
        "\n",
        "# Split into train and test sets\n",
        "X_train, X_test, y_train, y_test = train_test_split(X, y, test_size=0.2)\n",
        "\n",
        "# Set n_jobs to -1 to use all available machine cores (if this produces errors, try n_jobs=1)\n",
        "clf = RandomForestClassifier(n_jobs=-1)\n",
        "\n",
        "# Setup GridSearchCV\n",
        "gs_clf = GridSearchCV(estimator=clf,\n",
        "                      param_grid=grid2,\n",
        "                      cv=5,         # 5-fold cross-validation\n",
        "                      verbose=2)    # print out progress\n",
        "\n",
        "# Fit the RandomizedSearchCV version of clf\n",
        "#gs_clf.fit(X_train, y_train);\n",
        "\n",
        "# Find the running time\n",
        "end_time = time.time()"
      ],
      "metadata": {
        "id": "vn2XDsApCUy8"
      },
      "execution_count": 43,
      "outputs": []
    },
    {
      "cell_type": "markdown",
      "source": [
        "*Check the best parameters*"
      ],
      "metadata": {
        "id": "2J-XmPChxqlI"
      }
    },
    {
      "cell_type": "code",
      "source": [
        "# Check the best hyperparameters found with GridSearchCV\n",
        "gs_clf.best_params_"
      ],
      "metadata": {
        "id": "-fyoZF8SA_TO",
        "colab": {
          "base_uri": "https://localhost:8080/",
          "height": 159
        },
        "outputId": "c41223c8-291b-49aa-fd12-2362662e81cc"
      },
      "execution_count": 45,
      "outputs": [
        {
          "output_type": "error",
          "ename": "AttributeError",
          "evalue": "'GridSearchCV' object has no attribute 'best_params_'",
          "traceback": [
            "\u001b[0;31m---------------------------------------------------------------------------\u001b[0m",
            "\u001b[0;31mAttributeError\u001b[0m                            Traceback (most recent call last)",
            "\u001b[0;32m<ipython-input-45-f22aa1f45d75>\u001b[0m in \u001b[0;36m<cell line: 2>\u001b[0;34m()\u001b[0m\n\u001b[1;32m      1\u001b[0m \u001b[0;31m# Check the best hyperparameters found with GridSearchCV\u001b[0m\u001b[0;34m\u001b[0m\u001b[0;34m\u001b[0m\u001b[0m\n\u001b[0;32m----> 2\u001b[0;31m \u001b[0mgs_clf\u001b[0m\u001b[0;34m.\u001b[0m\u001b[0mbest_params_\u001b[0m\u001b[0;34m\u001b[0m\u001b[0;34m\u001b[0m\u001b[0m\n\u001b[0m",
            "\u001b[0;31mAttributeError\u001b[0m: 'GridSearchCV' object has no attribute 'best_params_'"
          ]
        }
      ]
    },
    {
      "cell_type": "markdown",
      "source": [
        "*Predicting*"
      ],
      "metadata": {
        "id": "gvaYFLxhDBct"
      }
    },
    {
      "cell_type": "code",
      "source": [
        "# Max predictions with the GridSearchCV classifier\n",
        "gs_y_preds = gs_clf.predict(X_test)\n",
        "\n",
        "# Evaluate the predictions\n",
        "gs_metrics = evaluate_preds(y_test, gs_y_preds)\n",
        "gs_metrics"
      ],
      "metadata": {
        "id": "7irWpSFOA_RZ"
      },
      "execution_count": null,
      "outputs": []
    },
    {
      "cell_type": "markdown",
      "source": [
        "Visualizing the results better"
      ],
      "metadata": {
        "id": "DJrhKmN4DKLo"
      }
    },
    {
      "cell_type": "code",
      "source": [
        "df = pd.DataFrame({\"Baseline\":bs_metrics,\n",
        "                  \"By Hand\":baseline_metrics,\n",
        "                   \"RandomSearchCV\":rscv_metrics,\n",
        "                   \"GridSearchCV\":gs_metrics})"
      ],
      "metadata": {
        "id": "bdDi-brWA_O5"
      },
      "execution_count": null,
      "outputs": []
    },
    {
      "cell_type": "code",
      "source": [
        "df"
      ],
      "metadata": {
        "id": "NEI7dL9EA_MB"
      },
      "execution_count": null,
      "outputs": []
    },
    {
      "cell_type": "markdown",
      "source": [
        "### ***Comparing performances***"
      ],
      "metadata": {
        "id": "rXDBTyjgpJA-"
      }
    },
    {
      "cell_type": "code",
      "source": [
        "df.plot.bar(figsize=(10, 8));"
      ],
      "metadata": {
        "id": "kQrLTZDgA_Jv"
      },
      "execution_count": null,
      "outputs": []
    },
    {
      "cell_type": "markdown",
      "source": [],
      "metadata": {
        "id": "WxI2P49g5a37"
      }
    },
    {
      "cell_type": "markdown",
      "source": [
        "There are many other techniques to explore:\n",
        "\n",
        "- **Collecting more data** - Based on the results our models are getting now, it seems like they're very capable of finding patterns. Collecting more data may improve a models ability to find patterns.\n",
        "\n",
        "- Try a more advanced model - more advanced ensemble methods can be explored (XGBoost, CatBoost, etc)."
      ],
      "metadata": {
        "id": "KE4Yxkt4tPLr"
      }
    },
    {
      "cell_type": "markdown",
      "source": [
        "### Preserve the model\n",
        "\n",
        "The GridSearchCV model (gs_clf) looks be the better model. Lets preserve it to share or to continue working on it, later. Lets export it and save it to file.\n",
        "\n",
        "Lets serialize the model to file using the [pickle python](https://docs.python.org/3/library/pickle.html)."
      ],
      "metadata": {
        "id": "dpC7A-qJtzB8"
      }
    },
    {
      "cell_type": "code",
      "source": [
        "#Preserve the model\n",
        "import pickle\n",
        "\n",
        "# Save an existing model to file\n",
        "#fileName = \"/content/gDrive/MyDrive/MIA/ColabNotebooks/Models/gs_random_forest_model_1.pkl\" # .pkl extension stands for \"pickle\"\n",
        "#gs_clf was the last model\n",
        "#pickle.dump(gs_clf, open(fileName, \"wb\"))\n",
        "#rfc\n",
        "fileName = \"/content/gDrive/MyDrive/MIA/ColabNotebooks/Models/rfc_1.pkl\" # .pkl extension stands for \"pickle\"\n",
        "pickle.dump(rfc, open(fileName, \"wb\"))"
      ],
      "metadata": {
        "id": "bXogpDt-u-3-"
      },
      "execution_count": 52,
      "outputs": []
    },
    {
      "cell_type": "markdown",
      "source": [
        "### Download the model"
      ],
      "metadata": {
        "id": "H-5MPWsjvs0f"
      }
    },
    {
      "cell_type": "code",
      "source": [
        "# Load a saved model\n",
        "loaded_model = pickle.load(open(fileName, \"rb\"))"
      ],
      "metadata": {
        "id": "yd3TZb3evp4d"
      },
      "execution_count": null,
      "outputs": []
    },
    {
      "cell_type": "markdown",
      "source": [
        "Use the downloaded model:"
      ],
      "metadata": {
        "id": "LSR2NRC5v8yT"
      }
    },
    {
      "cell_type": "code",
      "source": [
        "# Make predictions and evaluate the loaded model\n",
        "new_y_preds = loaded_model.predict(X_test)\n",
        "new_model_metrics = evaluate_preds(y_test, new_y_preds)\n",
        "new_model_metrics"
      ],
      "metadata": {
        "id": "kJN0cI7itvGm"
      },
      "execution_count": null,
      "outputs": []
    },
    {
      "cell_type": "code",
      "source": [
        "df = pd.DataFrame({\"Original GS\":gs_metrics,\n",
        "                  \"Downloade One\":new_model_metrics})\n",
        "df"
      ],
      "metadata": {
        "id": "bYAeWMcpw_9j"
      },
      "execution_count": null,
      "outputs": []
    },
    {
      "cell_type": "markdown",
      "source": [
        "### Export to ONNX Format\n",
        "\n",
        "ONNX (Open Neural Network Exchange)\n",
        "\n",
        "See https://neptune.ai/blog/saving-trained-model-in-python"
      ],
      "metadata": {
        "id": "QtGPHyhYVJZR"
      }
    },
    {
      "cell_type": "code",
      "source": [
        "!pip install onnxmltools\n",
        "!pip install onnxruntime\n",
        "!pip install skl2onnx"
      ],
      "metadata": {
        "id": "_CX8HF9YFxHk"
      },
      "execution_count": null,
      "outputs": []
    },
    {
      "cell_type": "code",
      "source": [
        "from skl2onnx import __max_supported_opset__, __version__\n",
        "\n",
        "print(\"documentation for version:\", __version__)\n",
        "print(\"Last supported opset:\", __max_supported_opset__)"
      ],
      "metadata": {
        "colab": {
          "base_uri": "https://localhost:8080/"
        },
        "id": "DWy0IC2PWiLK",
        "outputId": "4be964a7-0c46-4a42-d07e-2150883dbec1"
      },
      "execution_count": 54,
      "outputs": [
        {
          "output_type": "stream",
          "name": "stdout",
          "text": [
            "documentation for version: 1.16.0\n",
            "Last supported opset: 19\n"
          ]
        }
      ]
    },
    {
      "cell_type": "code",
      "source": [
        "#ONNX (Open Neural Network Exchange)\n",
        "# load dependencies\n",
        "import onnxmltools\n",
        "\n",
        "from skl2onnx import convert_sklearn\n",
        "from skl2onnx.common.data_types import FloatTensorType\n",
        "\n",
        "\n",
        "#export the baseline model (clf) to ONMX format\n",
        "initial_type = [('float_input', FloatTensorType([None, X.shape[1]]))]\n",
        "onnx_file = \"/content/gDrive/MyDrive/MIA/ColabNotebooks/Models/clf_1.onnx\"\n",
        "# Zipmap should be always turned off as it's not implemented in TF3800\n",
        "onnx_model = convert_sklearn(clf, initial_types=initial_type, options={type(clf): {'zipmap':False}})\n",
        "onnxmltools.utils.save_model(onnx_model, onnx_file)\n",
        "#or\n",
        "#with open(onnx_file, \"wb\") as f:\n",
        "#    f.write( onnx_model.SerializeToString())\n",
        "#exit()"
      ],
      "metadata": {
        "id": "1zOuGl2ZVHr5"
      },
      "execution_count": 80,
      "outputs": []
    },
    {
      "cell_type": "code",
      "source": [
        "#X.shape[1]\n"
      ],
      "metadata": {
        "colab": {
          "base_uri": "https://localhost:8080/"
        },
        "id": "YFSeISc8OPhN",
        "outputId": "f74dcd83-a8bd-4463-c4f9-ad50e3d9bcf7"
      },
      "execution_count": 103,
      "outputs": [
        {
          "output_type": "execute_result",
          "data": {
            "text/plain": [
              "4"
            ]
          },
          "metadata": {},
          "execution_count": 103
        }
      ]
    },
    {
      "cell_type": "code",
      "source": [
        "#End!"
      ],
      "metadata": {
        "id": "RnDmi1PoA_HA"
      },
      "execution_count": null,
      "outputs": []
    }
  ]
}